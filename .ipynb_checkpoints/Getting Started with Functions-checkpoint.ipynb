{
 "cells": [
  {
   "cell_type": "markdown",
   "metadata": {},
   "source": [
    "# This Notebook enables you to call every Function in the MTurk Functions catalog"
   ]
  },
  {
   "cell_type": "markdown",
   "metadata": {},
   "source": [
    "### Prerequisites:\n",
    "* You have an MTurk Requester account and linked AWS account\n",
    "* You have completed the account set up steps to call AmazonMechanicalTurk and AmazonMechanicalTurkCrowd\n",
    "* You have installed Python, and the mturk-crowd-beta-client\n",
    "* You have configured a local AWS profile to call MTurk\n",
    "* You have prepaid for HITs in your MTurk Requester account to cover paying for Worker rewards\n",
    "\n",
    "\n",
    "## First we will import the packages we need to use the API\n",
    "You'll need to do this before calling any Function API"
   ]
  },
  {
   "cell_type": "code",
   "execution_count": 1,
   "metadata": {
    "collapsed": true
   },
   "outputs": [],
   "source": [
    "from mturk_crowd_beta_client import MTurkCrowdClient\n",
    "from boto3.session import Session\n",
    "import uuid"
   ]
  },
  {
   "cell_type": "markdown",
   "metadata": {},
   "source": [
    "## Next we set up a session\n",
    "\n",
    "This examples assume you have a local AWS profile called __'mturk-crowd-caller'__, but you can authenticate however you like, including by directly passing in your access key and secret key."
   ]
  },
  {
   "cell_type": "code",
   "execution_count": 2,
   "metadata": {
    "collapsed": true
   },
   "outputs": [],
   "source": [
    "# my profile name happens to be mtf-caller\n",
    "session = Session(profile_name='mtf-caller')\n",
    "\n",
    "crowd_client = MTurkCrowdClient(session)"
   ]
  },
  {
   "cell_type": "markdown",
   "metadata": {},
   "source": [
    "## Available APIs:\n",
    "\n",
    "* [sentiment-analysis](#sentiment-analysis)\n",
    "* [image-contains](#image-contains)\n",
    "* [emotion-detection](#emotion-detection)\n",
    "* [semantic-similarity](#semantic-similarity)\n",
    "* [collect-utterance-text](#collect-utterance-text)\n",
    "* [image-categorization](#image-categorization)\n",
    "* [text-intent-detection](#text-intent-detection)\n",
    "* [text-categorization](#text-categorization)\n",
    "* [named-entity-recognition](#named-entity-recognition)\n",
    "* [bounding-box](#bounding-box)"
   ]
  },
  {
   "cell_type": "markdown",
   "metadata": {},
   "source": [
    "## <a id='sentiment-analysis'>sentiment-analysis</a>"
   ]
  },
  {
   "cell_type": "markdown",
   "metadata": {},
   "source": [
    "Input:\n",
    "{\n",
    " \"text\": \"Everything is wonderful!\"\n",
    "}\n",
    "\n",
    "Result: {\n",
    "  \"taskName\": \"my-task-name\",\n",
    "  \"input\": {\n",
    "    \"text\": \"Everything is wonderful!\"\n",
    "  },\n",
    "  \"problemDetails\": null,\n",
    "  \"state\": \"processing\",\n",
    "  \"result\": null\n",
    "}"
   ]
  },
  {
   "cell_type": "markdown",
   "metadata": {},
   "source": [
    "When you create a Task using the sentiment-analysis API, you're automatically creating a Human Intelligence Task (HIT) on worker.mturk.com.  Here's an example of a sentiment analysis HIT."
   ]
  },
  {
   "cell_type": "markdown",
   "metadata": {},
   "source": [
    "![sentiment-analysis-HIT-example](https://s3-us-west-2.amazonaws.com/mturk-sample-tasks/sentiment-analysis-HIT-example.png)"
   ]
  },
  {
   "cell_type": "markdown",
   "metadata": {},
   "source": [
    "### Create a Task"
   ]
  },
  {
   "cell_type": "code",
   "execution_count": 3,
   "metadata": {
    "collapsed": true
   },
   "outputs": [],
   "source": [
    "#set the function_name to the name of the API\n",
    "function_name = 'sentiment-analysis'"
   ]
  },
  {
   "cell_type": "code",
   "execution_count": 4,
   "metadata": {},
   "outputs": [
    {
     "name": "stdout",
     "output_type": "stream",
     "text": [
      "my-test-task-a3c0e82c7b0e422893b052b2bcbfc4ae\n"
     ]
    }
   ],
   "source": [
    "# automatically generate a random task ID\n",
    "task_name = 'my-test-task-' + uuid.uuid4().hex\n",
    "print(task_name)"
   ]
  },
  {
   "cell_type": "code",
   "execution_count": 5,
   "metadata": {
    "collapsed": true
   },
   "outputs": [],
   "source": [
    "# define the text that you want analyzed, up to 16k\n",
    "text = 'The trip by @VP Pence was long planned. He is receiving great praise for leaving game after the players showed such disrespect for country!'"
   ]
  },
  {
   "cell_type": "code",
   "execution_count": 6,
   "metadata": {},
   "outputs": [
    {
     "name": "stdout",
     "output_type": "stream",
     "text": [
      "PUT response: {'status_code': 201, 'task': {'input': {'text': 'The trip by @VP Pence was long planned. He is receiving great praise for leaving game after the players showed such disrespect for country!'}, 'problemDetails': None, 'result': None, 'state': 'processing', 'taskName': 'my-test-task-a3c0e82c7b0e422893b052b2bcbfc4ae'}}\n"
     ]
    }
   ],
   "source": [
    "# create a single task with the input you specified above\n",
    "put_result = crowd_client.put_task(function_name,\n",
    "                             task_name,\n",
    "                             {'text': text})\n",
    "print('PUT response: {}'.format(\n",
    "    {'status_code': put_result.status_code, 'task': put_result.json()}))"
   ]
  },
  {
   "cell_type": "markdown",
   "metadata": {},
   "source": [
    "### Get the result\n",
    "\n",
    "Wait a few minutes before calling get_task to give Workers a chance to submit answers"
   ]
  },
  {
   "cell_type": "code",
   "execution_count": 11,
   "metadata": {},
   "outputs": [
    {
     "name": "stdout",
     "output_type": "stream",
     "text": [
      "GET response: {'status_code': 200, 'task': {'input': {'text': 'The trip by @VP Pence was long planned. He is receiving great praise for leaving game after the players showed such disrespect for country!'}, 'problemDetails': None, 'result': {'sentiment': 'positive'}, 'state': 'completed', 'taskName': 'my-test-task-a3c0e82c7b0e422893b052b2bcbfc4ae'}}\n"
     ]
    }
   ],
   "source": [
    "get_result = crowd_client.get_task(function_name, task_name)\n",
    "\n",
    "print('GET response: {}'.format(                     \n",
    "    {'status_code': get_result.status_code, 'task': get_result.json()}))"
   ]
  },
  {
   "cell_type": "markdown",
   "metadata": {},
   "source": [
    "### Creating multiple Tasks and Processing Results \n",
    "\n",
    "Next, we'll read from a CSV file that has multiple rows of text that needs to be analyzed for sentiment using the pandas library.  As a prerequisite you need to have installed the pandas library."
   ]
  },
  {
   "cell_type": "code",
   "execution_count": 8,
   "metadata": {
    "collapsed": true
   },
   "outputs": [],
   "source": [
    "import pandas as pd"
   ]
  },
  {
   "cell_type": "code",
   "execution_count": 9,
   "metadata": {
    "collapsed": true
   },
   "outputs": [],
   "source": [
    "#read the input data from csv into a pandas DataFrame\n",
    "data = pd.read_csv('https://s3-us-west-2.amazonaws.com/mturk-sample-datasets/sentiment-analysis-example-inputs.csv')"
   ]
  },
  {
   "cell_type": "code",
   "execution_count": 10,
   "metadata": {},
   "outputs": [
    {
     "data": {
      "text/html": [
       "<div>\n",
       "<style>\n",
       "    .dataframe thead tr:only-child th {\n",
       "        text-align: right;\n",
       "    }\n",
       "\n",
       "    .dataframe thead th {\n",
       "        text-align: left;\n",
       "    }\n",
       "\n",
       "    .dataframe tbody tr th {\n",
       "        vertical-align: top;\n",
       "    }\n",
       "</style>\n",
       "<table border=\"1\" class=\"dataframe\">\n",
       "  <thead>\n",
       "    <tr style=\"text-align: right;\">\n",
       "      <th></th>\n",
       "      <th>task_id</th>\n",
       "      <th>review_text</th>\n",
       "    </tr>\n",
       "  </thead>\n",
       "  <tbody>\n",
       "    <tr>\n",
       "      <th>0</th>\n",
       "      <td>customer_review_1</td>\n",
       "      <td>I'll give it 3 stars only because they were on...</td>\n",
       "    </tr>\n",
       "    <tr>\n",
       "      <th>1</th>\n",
       "      <td>customer_review_2</td>\n",
       "      <td>I love these boots and these are my 2nd pair. ...</td>\n",
       "    </tr>\n",
       "    <tr>\n",
       "      <th>2</th>\n",
       "      <td>customer_review_3</td>\n",
       "      <td>I read many reviews regarding the brown ones a...</td>\n",
       "    </tr>\n",
       "  </tbody>\n",
       "</table>\n",
       "</div>"
      ],
      "text/plain": [
       "             task_id                                        review_text\n",
       "0  customer_review_1  I'll give it 3 stars only because they were on...\n",
       "1  customer_review_2  I love these boots and these are my 2nd pair. ...\n",
       "2  customer_review_3  I read many reviews regarding the brown ones a..."
      ]
     },
     "execution_count": 10,
     "metadata": {},
     "output_type": "execute_result"
    }
   ],
   "source": [
    "# column 1 is the Task ID and column2 is the input data\n",
    "data"
   ]
  },
  {
   "cell_type": "code",
   "execution_count": null,
   "metadata": {
    "collapsed": true
   },
   "outputs": [],
   "source": [
    "#loop through the rows and create a Task per row, write the put_task status in a new column\n",
    "status_codes = []\n",
    "for index, row in data.iterrows():\n",
    "    put_result = crowd_client.put_task(function_name, row.task_id,{'text': row.review_text})\n",
    "    status_codes.append(put_result.status_code)\n",
    "data['status_codes'] = status_codes"
   ]
  },
  {
   "cell_type": "code",
   "execution_count": null,
   "metadata": {
    "collapsed": true
   },
   "outputs": [],
   "source": [
    "data"
   ]
  },
  {
   "cell_type": "markdown",
   "metadata": {},
   "source": [
    "We'll call get_task periodically until all of the Tasks reach the \"completed\" state."
   ]
  },
  {
   "cell_type": "code",
   "execution_count": null,
   "metadata": {
    "collapsed": true
   },
   "outputs": [],
   "source": [
    "# loop through the rows and get results, store the state and results in new columns\n",
    "\n",
    "status_codes = []\n",
    "responses = []\n",
    "for index, row in data.iterrows():\n",
    "    get_result = crowd_client.get_task(function_name, row.task_id)\n",
    "    status_codes.append(get_result.status_code)\n",
    "    responses.append(get_result.json())"
   ]
  },
  {
   "cell_type": "code",
   "execution_count": null,
   "metadata": {
    "collapsed": true
   },
   "outputs": [],
   "source": [
    "data['status_codes'] = status_codes\n",
    "data['state'] = [r['state'] for r in responses]\n",
    "data['problem_details'] = [r['problemDetails'] for r in responses]\n",
    "data['sentiment'] = [r['result']['sentiment'] for r in responses]"
   ]
  },
  {
   "cell_type": "code",
   "execution_count": null,
   "metadata": {
    "collapsed": true
   },
   "outputs": [],
   "source": [
    "data"
   ]
  },
  {
   "cell_type": "markdown",
   "metadata": {},
   "source": [
    "## <a id='image-contains'>image-contains</a>"
   ]
  },
  {
   "cell_type": "markdown",
   "metadata": {},
   "source": [
    "Input: `{\"image\": {\"url\": \"https://www.mturk.com/media/butterbean.jpg\"}, \"target\": {\"label\": \"dog\"} }`\n",
    "\n",
    "Result: `{\"containsTarget\": true}`"
   ]
  },
  {
   "cell_type": "markdown",
   "metadata": {},
   "source": [
    "Internal Only: we ask 2 - 5 Workers to get agreement."
   ]
  },
  {
   "cell_type": "code",
   "execution_count": null,
   "metadata": {
    "collapsed": true
   },
   "outputs": [],
   "source": [
    "function_name = 'image-contains'"
   ]
  },
  {
   "cell_type": "markdown",
   "metadata": {},
   "source": [
    "### Create a Task"
   ]
  },
  {
   "cell_type": "code",
   "execution_count": null,
   "metadata": {
    "collapsed": true
   },
   "outputs": [],
   "source": [
    "# automatically generate a random task ID\n",
    "task_name = 'my-test-task-' + uuid.uuid4().hex\n",
    "print(task_name)"
   ]
  },
  {
   "cell_type": "code",
   "execution_count": null,
   "metadata": {
    "collapsed": true
   },
   "outputs": [],
   "source": [
    "# the URL of the image that you want annotated\n",
    "image_url = 'https://urbanedge.blogs.rice.edu/files/2016/02/midtown-15wd4ck.jpg'"
   ]
  },
  {
   "cell_type": "markdown",
   "metadata": {},
   "source": [
    "### The type of thing we're looking for"
   ]
  },
  {
   "cell_type": "code",
   "execution_count": null,
   "metadata": {
    "collapsed": true
   },
   "outputs": [],
   "source": [
    "label = 'Pedestrians'"
   ]
  },
  {
   "cell_type": "code",
   "execution_count": null,
   "metadata": {
    "collapsed": true
   },
   "outputs": [],
   "source": [
    "# create a single task with the input you specified above\n",
    "put_result = crowd_client.put_task(function_name,task_name,{'image': {'url': image_url}, 'target': {'label': label} })\n",
    "\n",
    "print('PUT response: {}'.format(\n",
    "    {'status_code': put_result.status_code, 'task': put_result.json()}))        "
   ]
  },
  {
   "cell_type": "markdown",
   "metadata": {},
   "source": [
    "### Get the result\n",
    "\n",
    "Wait a few minutes before calling get_task to give Workers a chance to submit answers"
   ]
  },
  {
   "cell_type": "code",
   "execution_count": null,
   "metadata": {
    "collapsed": true
   },
   "outputs": [],
   "source": [
    "get_result = crowd_client.get_task(function_name, task_name)\n",
    "\n",
    "print('GET response: {}'.format(\n",
    "{'status_code': get_result.status_code, 'task': get_result.json()}))"
   ]
  },
  {
   "cell_type": "markdown",
   "metadata": {},
   "source": [
    "## <a id='emotion-detection'>emotion-detection</a>\n",
    "\n",
    "This API determines the emotion of text.\n",
    "\n",
    "Input:{\"text\": \"First time ever winning all three fantasy leagues AND @Seahawks win!\"}\n",
    "Result: {\"emotion\": \"joy\"}\n",
    "\n",
    "emotion is one of Joy, Anger, Fear, Sadness, Surprise, Disgust, or Neutral\n",
    "\n",
    "Internal only: we ask up to 9 Workers to get agreement."
   ]
  },
  {
   "cell_type": "code",
   "execution_count": null,
   "metadata": {
    "collapsed": true
   },
   "outputs": [],
   "source": [
    "function_name = 'emotion-detection'"
   ]
  },
  {
   "cell_type": "markdown",
   "metadata": {},
   "source": [
    "### Create a Task"
   ]
  },
  {
   "cell_type": "code",
   "execution_count": null,
   "metadata": {
    "collapsed": true
   },
   "outputs": [],
   "source": [
    "# automatically generate a random task ID\n",
    "task_name = 'my-test-task-' + uuid.uuid4().hex\n",
    "print(task_name)"
   ]
  },
  {
   "cell_type": "code",
   "execution_count": null,
   "metadata": {
    "collapsed": true
   },
   "outputs": [],
   "source": [
    "# define the text that you want analyzed, up to 16k\n",
    "text = 'Just realised that I have #280characters so now I can finally tweet this: \"Daenerys Stormborn of the House Targaryen, First of Her Name, the Unburnt, Queen of the Andals and the First Men, Khaleesi of the Great Grass Sea, Breaker of Chains, and Mother of Dragons'"
   ]
  },
  {
   "cell_type": "code",
   "execution_count": null,
   "metadata": {
    "collapsed": true
   },
   "outputs": [],
   "source": [
    "# create a single task with the input you specified above\n",
    "put_result = crowd_client.put_task(function_name,\n",
    "                             task_name,\n",
    "                             {'text': text})\n",
    "print('PUT response: {}'.format(\n",
    "    {'status_code': put_result.status_code, 'task': put_result.json()}))"
   ]
  },
  {
   "cell_type": "markdown",
   "metadata": {},
   "source": [
    "### Get the result\n",
    "\n",
    "Wait a few minutes before calling get_task to give Workers a chance to submit answers"
   ]
  },
  {
   "cell_type": "code",
   "execution_count": null,
   "metadata": {
    "collapsed": true
   },
   "outputs": [],
   "source": [
    "get_result = crowd_client.get_task(function_name, task_name)\n",
    "\n",
    "print('GET response: {}'.format(                     \n",
    "    {'status_code': get_result.status_code, 'task': get_result.json()}))"
   ]
  },
  {
   "cell_type": "markdown",
   "metadata": {},
   "source": [
    "## <a id=semantic-similarity>semantic-similarity</a>\n",
    "\n",
    "Compare two text documents and rate them on how similar they are, on a scale between 0 and 1 where 1 is very similar.\n",
    "\n",
    "Input: {\"text1\": \"The sky is blue.\", \"text2\": \"The sky was the color of blue.\"}\n",
    "Result: {\"similarityScore\": 0.75}"
   ]
  },
  {
   "cell_type": "code",
   "execution_count": null,
   "metadata": {
    "collapsed": true
   },
   "outputs": [],
   "source": [
    "function_name = 'semantic-similarity'"
   ]
  },
  {
   "cell_type": "markdown",
   "metadata": {},
   "source": [
    "### Create a Task"
   ]
  },
  {
   "cell_type": "code",
   "execution_count": null,
   "metadata": {
    "collapsed": true
   },
   "outputs": [],
   "source": [
    "# automatically generate a random task ID\n",
    "task_name = 'my-test-task-' + uuid.uuid4().hex\n",
    "print(task_name)"
   ]
  },
  {
   "cell_type": "code",
   "execution_count": null,
   "metadata": {
    "collapsed": true
   },
   "outputs": [],
   "source": [
    "# define the text that you want analyzed, up to 16k\n",
    "text1 = 'I\\'m so hungry I could eat a horse'\n",
    "text2 = 'I\\'m hangry'"
   ]
  },
  {
   "cell_type": "code",
   "execution_count": null,
   "metadata": {
    "collapsed": true
   },
   "outputs": [],
   "source": [
    "#create a single task with the input you specified above\n",
    "put_result = crowd_client.put_task(function_name,\n",
    "                             task_name,\n",
    "                             {'text1': text1, 'text2': text2})\n",
    "print('PUT response: {}'.format(\n",
    "    {'status_code': put_result.status_code, 'task': put_result.json()}))"
   ]
  },
  {
   "cell_type": "markdown",
   "metadata": {},
   "source": [
    "### Get the result\n",
    "\n",
    "Wait a few minutes before calling get_task to give Workers a chance to submit answers"
   ]
  },
  {
   "cell_type": "code",
   "execution_count": null,
   "metadata": {
    "collapsed": true
   },
   "outputs": [],
   "source": [
    "get_result = crowd_client.get_task(function_name, task_name)\n",
    "\n",
    "print('GET response: {}'.format(                     \n",
    "    {'status_code': get_result.status_code, 'task': get_result.json()}))"
   ]
  },
  {
   "cell_type": "markdown",
   "metadata": {},
   "source": [
    "## <a id='collect-utterance-text'>collect-utterance-text</a>\n",
    "\n",
    "Given a context and an intention, provide what you would say, in text, in that situation.\n",
    "\n",
    "input: {\"context\": \"Someone recently bought a phone and it doesn't work\", \"intent\": \"They want to return a phone\"}'\n",
    "result: {\"utterance\": \"The phone that I just bought stopped working.  I want to get a refund\"}\n",
    "\n",
    "Internal only: We ask only 1 Worker for each task.\n"
   ]
  },
  {
   "cell_type": "code",
   "execution_count": null,
   "metadata": {
    "collapsed": true
   },
   "outputs": [],
   "source": [
    "function_name = 'collect-utterance-text'"
   ]
  },
  {
   "cell_type": "markdown",
   "metadata": {},
   "source": [
    "### Create a Task"
   ]
  },
  {
   "cell_type": "code",
   "execution_count": null,
   "metadata": {
    "collapsed": true
   },
   "outputs": [],
   "source": [
    "# automatically generate a random task ID\n",
    "task_name = 'my-test-task-' + uuid.uuid4().hex\n",
    "print(task_name)"
   ]
  },
  {
   "cell_type": "code",
   "execution_count": null,
   "metadata": {
    "collapsed": true
   },
   "outputs": [],
   "source": [
    "# provide the context and the intent\n",
    "context = 'Someone is calling their doctor\\'s office'\n",
    "intent = 'I want to change an existing appointment'"
   ]
  },
  {
   "cell_type": "code",
   "execution_count": null,
   "metadata": {
    "collapsed": true
   },
   "outputs": [],
   "source": [
    "#create a single task with the input you specified above\n",
    "put_result = crowd_client.put_task(function_name,\n",
    "                             task_name,\n",
    "                             {'context': context, 'intent': intent})\n",
    "print('PUT response: {}'.format(\n",
    "    {'status_code': put_result.status_code, 'task': put_result.json()}))"
   ]
  },
  {
   "cell_type": "markdown",
   "metadata": {},
   "source": [
    "### Get the result\n",
    "\n",
    "Wait a few minutes before calling get_task to give Workers a chance to submit answers"
   ]
  },
  {
   "cell_type": "code",
   "execution_count": null,
   "metadata": {
    "collapsed": true
   },
   "outputs": [],
   "source": [
    "get_result = crowd_client.get_task(function_name, task_name)\n",
    "\n",
    "print('GET response: {}'.format(                     \n",
    "    {'status_code': get_result.status_code, 'task': get_result.json()}))"
   ]
  },
  {
   "cell_type": "markdown",
   "metadata": {},
   "source": [
    "## <a id='image-categorization'>image-categorization</a>\n",
    "\n",
    "Given an image URL and a list of categories, determine which category the image best belongs to.\n",
    "\n",
    "Input: {\"image\":{\"url\": \"https://requester.mturk.com/assets/simon.jpg\"},\"categories\": “categories”: [{“label”: “Plant”}, {“label”:”Animal”}, {“label”:”Bacteria”}, {“label”:”Fungi”}, {“label”:”Protists”}]\n",
    "\n",
    "Result: {\"category\":\"Animal\"} "
   ]
  },
  {
   "cell_type": "markdown",
   "metadata": {},
   "source": [
    "![image-categorization-HIT-example](https://s3-us-west-2.amazonaws.com/mturk-sample-tasks/image-categorization-HIT-example.png)"
   ]
  },
  {
   "cell_type": "code",
   "execution_count": 49,
   "metadata": {
    "collapsed": true
   },
   "outputs": [],
   "source": [
    "function_name = 'image-categorization'"
   ]
  },
  {
   "cell_type": "markdown",
   "metadata": {},
   "source": [
    "### Create a Task"
   ]
  },
  {
   "cell_type": "code",
   "execution_count": 50,
   "metadata": {},
   "outputs": [
    {
     "name": "stdout",
     "output_type": "stream",
     "text": [
      "my-test-task-2a71b5aba8704f9ea6f0281d920d7217\n"
     ]
    }
   ],
   "source": [
    "# automatically generate a random task ID\n",
    "task_name = 'my-test-task-' + uuid.uuid4().hex\n",
    "print(task_name)"
   ]
  },
  {
   "cell_type": "code",
   "execution_count": 52,
   "metadata": {
    "collapsed": true
   },
   "outputs": [],
   "source": [
    "# provide the context and the intent\n",
    "image_url = 'https://www.abebooks.com/images/books/harry-potter/sorcerers-stone.jpg'\n",
    "categories =  [{'label': 'Hardcover', 'description': 'hardcover version'}, {'label':'Paperback', 'description': 'paperback version'}, {'label':'eBook', 'description': 'digital text version, including PDF, Kindle'}, {'label':'Audio Book', 'description': 'any audio version, including CD, mp3, streaming'}]"
   ]
  },
  {
   "cell_type": "code",
   "execution_count": 54,
   "metadata": {},
   "outputs": [
    {
     "name": "stdout",
     "output_type": "stream",
     "text": [
      "PUT response: {'status_code': 200, 'task': {'input': {'categories': [{'description': 'hardcover version', 'label': 'Hardcover'}, {'description': 'paperback version', 'label': 'Paperback'}, {'description': 'digital text version, including PDF, Kindle', 'label': 'eBook'}, {'description': 'any audio version, including CD, mp3, streaming', 'label': 'Audio Book'}], 'image': {'url': 'https://www.abebooks.com/images/books/harry-potter/sorcerers-stone.jpg'}}, 'problemDetails': None, 'result': None, 'state': 'processing', 'taskName': 'my-test-task-2a71b5aba8704f9ea6f0281d920d7217'}}\n"
     ]
    }
   ],
   "source": [
    "#create a single task with the input you specified above\n",
    "put_result = crowd_client.put_task(function_name,\n",
    "                             task_name,\n",
    "                            {'image': {'url': image_url},\n",
    "                            'categories': categories})\n",
    "print('PUT response: {}'.format(\n",
    "    {'status_code': put_result.status_code, 'task': put_result.json()}))"
   ]
  },
  {
   "cell_type": "markdown",
   "metadata": {},
   "source": [
    "### Get the result\n",
    "\n",
    "Wait a few minutes before calling get_task to give Workers a chance to submit answers"
   ]
  },
  {
   "cell_type": "code",
   "execution_count": 55,
   "metadata": {},
   "outputs": [
    {
     "name": "stdout",
     "output_type": "stream",
     "text": [
      "GET response: {'status_code': 200, 'task': {'input': {'categories': [{'description': 'hardcover version', 'label': 'Hardcover'}, {'description': 'paperback version', 'label': 'Paperback'}, {'description': 'digital text version, including PDF, Kindle', 'label': 'eBook'}, {'description': 'any audio version, including CD, mp3, streaming', 'label': 'Audio Book'}], 'image': {'url': 'https://www.abebooks.com/images/books/harry-potter/sorcerers-stone.jpg'}}, 'problemDetails': None, 'result': {'applicableCategories': [{'label': 'Hardcover'}]}, 'state': 'completed', 'taskName': 'my-test-task-2a71b5aba8704f9ea6f0281d920d7217'}}\n"
     ]
    }
   ],
   "source": [
    "get_result = crowd_client.get_task(function_name, task_name)\n",
    "\n",
    "print('GET response: {}'.format(                     \n",
    "    {'status_code': get_result.status_code, 'task': get_result.json()}))"
   ]
  },
  {
   "cell_type": "markdown",
   "metadata": {},
   "source": [
    "## <a id='text-intent-detection'>text-intent-detection</a>"
   ]
  },
  {
   "cell_type": "markdown",
   "metadata": {},
   "source": [
    "Given a list of intentions, categorize the best intention that matches the text given.\n",
    "\n",
    "input: {\"text\": \"foo\", \"intents\": [{\"label\": \"Schedule an appointment\", \"description\": \"example: I need to make an appointment with Dr. Smith\"}, {\"label\": \"Medical Record Request\", \"description\": \"I need a copy of my kids&#39; immunication records\"}]}\n",
    "\n",
    "resut:TK"
   ]
  },
  {
   "cell_type": "markdown",
   "metadata": {},
   "source": [
    "TK: include a screenshot of the HIT, once it's finalized.\n"
   ]
  },
  {
   "cell_type": "code",
   "execution_count": 12,
   "metadata": {
    "collapsed": true
   },
   "outputs": [],
   "source": [
    "function_name = 'text-intent-detection'"
   ]
  },
  {
   "cell_type": "markdown",
   "metadata": {},
   "source": [
    "### Create a Task"
   ]
  },
  {
   "cell_type": "code",
   "execution_count": 13,
   "metadata": {},
   "outputs": [
    {
     "name": "stdout",
     "output_type": "stream",
     "text": [
      "my-test-task-c0d9fea4b43944869fda6ec825583f57\n"
     ]
    }
   ],
   "source": [
    "# automatically generate a random task ID\n",
    "task_name = 'my-test-task-' + uuid.uuid4().hex\n",
    "print(task_name)\n",
    "# task_name = 'my-test-task-c0d9fea4b43944869fda6ec825583f57'"
   ]
  },
  {
   "cell_type": "code",
   "execution_count": 23,
   "metadata": {
    "collapsed": true
   },
   "outputs": [],
   "source": [
    "# define the text to be analysed and a list of intentions to categorize the text for\n",
    "text = 'my son was stung by bees and I need to know if I need to go to the ER'\n",
    "intents =  [{'label': 'Schedule an appointment', 'description': 'e.g. I need to make an appointment with Dr. Smith'}, {'label': 'Medical Record Request', 'description': 'e.g. I need a copy of my kids immunization records'}]"
   ]
  },
  {
   "cell_type": "code",
   "execution_count": 26,
   "metadata": {},
   "outputs": [
    {
     "name": "stdout",
     "output_type": "stream",
     "text": [
      "PUT response: {'status_code': 201, 'task': {'input': {'intents': [{'description': 'e.g. I need to make an appointment with Dr. Smith', 'label': 'Schedule an appointment'}, {'description': 'e.g. I need a copy of my kids immunication records', 'label': 'Medical Record Request'}], 'text': 'my son was stung by bees and I need to know if I need to go to the ER'}, 'problemDetails': None, 'result': None, 'state': 'processing', 'taskName': 'my-test-task-c0d9fea4b43944869fda6ec825583f57'}}\n"
     ]
    }
   ],
   "source": [
    "# create a single task with the input you specified above\n",
    "put_result = crowd_client.put_task(function_name,\n",
    "                                   task_name,\n",
    "                                  {'text': text,\n",
    "                                  'intents': intents})\n",
    "print('PUT response: {}'.format(\n",
    "    {'status_code': put_result.status_code, 'task': put_result.json()}))"
   ]
  },
  {
   "cell_type": "markdown",
   "metadata": {},
   "source": [
    "### Get the result\n",
    "\n",
    "Wait a few minutes before calling get_task to give Workers a chance to submit answers"
   ]
  },
  {
   "cell_type": "code",
   "execution_count": 32,
   "metadata": {},
   "outputs": [
    {
     "name": "stdout",
     "output_type": "stream",
     "text": [
      "GET response: {'status_code': 490, 'task': {'message': 'Internal Server Error'}}\n"
     ]
    }
   ],
   "source": [
    "get_result = crowd_client.get_task(function_name, task_name)\n",
    "\n",
    "print('GET response: {}'.format(                     \n",
    "    {'status_code': get_result.status_code, 'task': get_result.json()}))"
   ]
  },
  {
   "cell_type": "markdown",
   "metadata": {},
   "source": [
    "## <a id=text-categorization>text-categorization</a>\n",
    "\n",
    "Given a piece of text and a list of categories, choose the best cateogry that fits the text.\n",
    "\n",
    "input: {\"text\": \"The Baltimore Ravens beat the Seattle Seahawks 24-7\", \"categories\": [{\"label\": \"sports\", \"description\": \"talks about sports\"}, {\"label\": \"food\", \"description\": \"talks about food\"}]}\n",
    "\n",
    "result: {'applicableCategories': [{'label': 'sports'}]}"
   ]
  },
  {
   "cell_type": "markdown",
   "metadata": {},
   "source": [
    "Here's an example of a HIT to MTurk Workers generated by calling this API\n",
    "![text-categorization-HIT-example](https://s3-us-west-2.amazonaws.com/mturk-sample-tasks/text-categorization-HIT-example.png)"
   ]
  },
  {
   "cell_type": "code",
   "execution_count": 33,
   "metadata": {
    "collapsed": true
   },
   "outputs": [],
   "source": [
    "function_name = 'text-categorization'"
   ]
  },
  {
   "cell_type": "markdown",
   "metadata": {},
   "source": [
    "### Create a Task"
   ]
  },
  {
   "cell_type": "code",
   "execution_count": 34,
   "metadata": {},
   "outputs": [
    {
     "name": "stdout",
     "output_type": "stream",
     "text": [
      "my-test-task-0aa967996e3149a2834924f06266b583\n"
     ]
    }
   ],
   "source": [
    "# automatically generate a random task ID\n",
    "task_name = 'my-test-task-' + uuid.uuid4().hex\n",
    "print(task_name)"
   ]
  },
  {
   "cell_type": "code",
   "execution_count": 35,
   "metadata": {
    "collapsed": true
   },
   "outputs": [],
   "source": [
    "# define the text to be analysed and a list of categories to assess for\n",
    "text = 'These are great. They do run a touch small. I almost could go a half size up from my normal size.'\n",
    "categories =  [{'label': 'style', 'description': 'related to the look of the product'}, {'label': 'fit', 'description': 'related to the sizing or how it fits'}, {'label': 'quality', 'description': 'related to how well made the product is'}, {'label': 'price', 'description': 'related to cost or value of the product'}]"
   ]
  },
  {
   "cell_type": "code",
   "execution_count": 36,
   "metadata": {},
   "outputs": [
    {
     "name": "stdout",
     "output_type": "stream",
     "text": [
      "PUT response: {'status_code': 201, 'task': {'input': {'categories': [{'description': 'related to the look of the product', 'label': 'style'}, {'description': 'related to the sizing or how it fits', 'label': 'fit'}, {'description': 'related to how well made the product is', 'label': 'quality'}, {'description': 'related to cost or value of the product', 'label': 'price'}], 'text': 'These are great. They do run a touch small. I almost could go a half size up from my normal size.'}, 'problemDetails': None, 'result': None, 'state': 'processing', 'taskName': 'my-test-task-0aa967996e3149a2834924f06266b583'}}\n"
     ]
    }
   ],
   "source": [
    "# create a single task with the input you specified above\n",
    "put_result = crowd_client.put_task(function_name,\n",
    "                                   task_name,\n",
    "                                  {'text': text,\n",
    "                                  'categories': categories})\n",
    "print('PUT response: {}'.format(\n",
    "    {'status_code': put_result.status_code, 'task': put_result.json()}))"
   ]
  },
  {
   "cell_type": "markdown",
   "metadata": {},
   "source": [
    "### Get the result\n",
    "\n",
    "Wait a few minutes before calling get_task to give Workers a chance to submit answers"
   ]
  },
  {
   "cell_type": "code",
   "execution_count": 38,
   "metadata": {},
   "outputs": [
    {
     "name": "stdout",
     "output_type": "stream",
     "text": [
      "GET response: {'status_code': 200, 'task': {'input': {'categories': [{'description': 'related to the look of the product', 'label': 'style'}, {'description': 'related to the sizing or how it fits', 'label': 'fit'}, {'description': 'related to how well made the product is', 'label': 'quality'}, {'description': 'related to cost or value of the product', 'label': 'price'}], 'text': 'These are great. They do run a touch small. I almost could go a half size up from my normal size.'}, 'problemDetails': None, 'result': {'applicableCategories': [{'label': 'fit'}]}, 'state': 'completed', 'taskName': 'my-test-task-0aa967996e3149a2834924f06266b583'}}\n"
     ]
    }
   ],
   "source": [
    "get_result = crowd_client.get_task(function_name, task_name)\n",
    "\n",
    "print('GET response: {}'.format(                     \n",
    "    {'status_code': get_result.status_code, 'task': get_result.json()}))"
   ]
  },
  {
   "cell_type": "markdown",
   "metadata": {},
   "source": [
    "## <a id=named-entity-recognition>named-entity-recognition</a>\n",
    "\n",
    "Given a paragraph of text, label the span of text that represent entities of various categories, such as person and location.\n",
    "\n",
    "input: {'text': 'Harry Potter is midway through his training as a wizard and his coming of age. Harry wants to get away from the pernicious Dursleys and go to the International Quidditch Cup. He wants to find out about the mysterious event that's supposed to take place at Hogwarts this year, an event involving two other rival schools of magic, and a competition that hasn't happened for a hundred years. He wants to be a normal, fourteen-year-old wizard. But unfortunately for Harry Potter, he's not normal - even by wizarding standards. And in his case, different can be deadly.'}\n",
    "\n",
    "result: TK"
   ]
  },
  {
   "cell_type": "markdown",
   "metadata": {},
   "source": [
    "![NER-HIT-example](https://s3-us-west-2.amazonaws.com/mturk-sample-tasks/ner-HIT-example.png)"
   ]
  },
  {
   "cell_type": "markdown",
   "metadata": {},
   "source": [
    "### Create a Task"
   ]
  },
  {
   "cell_type": "code",
   "execution_count": 39,
   "metadata": {
    "collapsed": true
   },
   "outputs": [],
   "source": [
    "#set the function_name to the name of the API\n",
    "function_name = 'named-entity-recognition'"
   ]
  },
  {
   "cell_type": "code",
   "execution_count": 40,
   "metadata": {},
   "outputs": [
    {
     "name": "stdout",
     "output_type": "stream",
     "text": [
      "my-test-task-9f5ce561fb6441c88065104f0b8344f8\n"
     ]
    }
   ],
   "source": [
    "# automatically generate a random task ID\n",
    "task_name = 'my-test-task-' + uuid.uuid4().hex\n",
    "print(task_name)"
   ]
  },
  {
   "cell_type": "code",
   "execution_count": 44,
   "metadata": {
    "collapsed": true
   },
   "outputs": [],
   "source": [
    "# define the text that you want analyzed, up to 16k\n",
    "text = 'Harry Potter is midway through his training as a wizard and his coming of age. Harry wants to get away from the pernicious Dursleys and go to the International Quidditch Cup. He wants to find out about the mysterious event that\\'s supposed to take place at Hogwarts this year, an event involving two other rival schools of magic, and a competition that hasn\\'t happened for a hundred years.'"
   ]
  },
  {
   "cell_type": "code",
   "execution_count": 45,
   "metadata": {},
   "outputs": [
    {
     "name": "stdout",
     "output_type": "stream",
     "text": [
      "PUT response: {'status_code': 201, 'task': {'input': {'text': \"Harry Potter is midway through his training as a wizard and his coming of age. Harry wants to get away from the pernicious Dursleys and go to the International Quidditch Cup. He wants to find out about the mysterious event that's supposed to take place at Hogwarts this year, an event involving two other rival schools of magic, and a competition that hasn't happened for a hundred years.\"}, 'problemDetails': None, 'result': None, 'state': 'processing', 'taskName': 'my-test-task-9f5ce561fb6441c88065104f0b8344f8'}}\n"
     ]
    }
   ],
   "source": [
    "# create a single task with the input you specified above\n",
    "put_result = crowd_client.put_task(function_name,\n",
    "                             task_name,\n",
    "                             {'text': text})\n",
    "print('PUT response: {}'.format(\n",
    "    {'status_code': put_result.status_code, 'task': put_result.json()}))"
   ]
  },
  {
   "cell_type": "markdown",
   "metadata": {},
   "source": [
    "### Get the result\n",
    "\n",
    "Wait a few minutes before calling get_task to give Workers a chance to submit answers"
   ]
  },
  {
   "cell_type": "code",
   "execution_count": 48,
   "metadata": {},
   "outputs": [
    {
     "name": "stdout",
     "output_type": "stream",
     "text": [
      "GET response: {'status_code': 200, 'task': {'input': {'text': \"Harry Potter is midway through his training as a wizard and his coming of age. Harry wants to get away from the pernicious Dursleys and go to the International Quidditch Cup. He wants to find out about the mysterious event that's supposed to take place at Hogwarts this year, an event involving two other rival schools of magic, and a competition that hasn't happened for a hundred years.\"}, 'problemDetails': None, 'result': None, 'state': 'processing', 'taskName': 'my-test-task-9f5ce561fb6441c88065104f0b8344f8'}}\n"
     ]
    }
   ],
   "source": [
    "get_result = crowd_client.get_task(function_name, task_name)\n",
    "\n",
    "print('GET response: {}'.format(                     \n",
    "    {'status_code': get_result.status_code, 'task': get_result.json()}))"
   ]
  },
  {
   "cell_type": "markdown",
   "metadata": {},
   "source": [
    "## <a id='bounding-box'> bounding-box </a> (not ready)"
   ]
  },
  {
   "cell_type": "markdown",
   "metadata": {},
   "source": [
    "Given an image, draw a box around particular objects, specified by labels.\n",
    "\n",
    "input: {\"image\": {\"url\": \"https://sierra-videos.s3.amazonaws.com/2017_0521/DJI_0001_frames_720h/1495411174030000000.jpg\"}, \"labels\": [{\"label\": \"car\"}, {\"label\": \"pedestrians\"}]}\n",
    "\n",
    "result: "
   ]
  },
  {
   "cell_type": "code",
   "execution_count": null,
   "metadata": {
    "collapsed": true
   },
   "outputs": [],
   "source": [
    "function_name = 'bounding-box'"
   ]
  },
  {
   "cell_type": "markdown",
   "metadata": {},
   "source": [
    "### Create a Task"
   ]
  },
  {
   "cell_type": "code",
   "execution_count": null,
   "metadata": {
    "collapsed": true
   },
   "outputs": [],
   "source": [
    "# automatically generate a random task ID\n",
    "task_name = 'my-test-task-' + uuid.uuid4().hex\n",
    "print(task_name)"
   ]
  },
  {
   "cell_type": "code",
   "execution_count": null,
   "metadata": {
    "collapsed": true
   },
   "outputs": [],
   "source": [
    "# provide the context and the intent\n",
    "image_url = 'https://sierra-videos.s3.amazonaws.com/2017_0521/DJI_0001_frames_720h/1495411174030000000.jpg'\n",
    "labels =  [{\"label\": \"car\"}, {\"label\": \"pedestrians\"}]"
   ]
  },
  {
   "cell_type": "code",
   "execution_count": null,
   "metadata": {
    "collapsed": true
   },
   "outputs": [],
   "source": [
    "#create a single task with the input you specified above\n",
    "put_result = crowd_client.put_task(function_name,\n",
    "                             task_name,\n",
    "                            {'image': {'url': image_url},\n",
    "                            'labels': labels})\n",
    "print('PUT response: {}'.format(\n",
    "    {'status_code': put_result.status_code, 'task': put_result.json()}))"
   ]
  },
  {
   "cell_type": "markdown",
   "metadata": {},
   "source": [
    "### Get the result\n",
    "\n",
    "Wait a few minutes before calling get_task to give Workers a chance to submit answers"
   ]
  },
  {
   "cell_type": "code",
   "execution_count": null,
   "metadata": {
    "collapsed": true
   },
   "outputs": [],
   "source": [
    "get_result = crowd_client.get_task(function_name, task_name)\n",
    "\n",
    "print('GET response: {}'.format(                     \n",
    "    {'status_code': get_result.status_code, 'task': get_result.json()}))"
   ]
  }
 ],
 "metadata": {
  "kernelspec": {
   "display_name": "Python 3",
   "language": "python",
   "name": "python3"
  },
  "language_info": {
   "codemirror_mode": {
    "name": "ipython",
    "version": 3
   },
   "file_extension": ".py",
   "mimetype": "text/x-python",
   "name": "python",
   "nbconvert_exporter": "python",
   "pygments_lexer": "ipython3",
   "version": "3.6.3"
  }
 },
 "nbformat": 4,
 "nbformat_minor": 2
}
