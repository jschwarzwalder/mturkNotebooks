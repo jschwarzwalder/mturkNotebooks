{
 "cells": [
  {
   "cell_type": "markdown",
   "metadata": {},
   "source": [
    "# This Notebook enables you to call every single use API in the MTurk single use API catalog"
   ]
  },
  {
   "cell_type": "markdown",
   "metadata": {},
   "source": [
    "### Prerequisites:\n",
    "1. You have [an MTurk Requester account and linked AWS account](https://medium.com/@mechanicalturk/setting-up-your-amazon-mechanical-turk-mturk-requester-account-and-aws-account-a316e2f6a156)\n",
    "2. You have [completed the account set up steps to call AmazonMechanicalTurk and AmazonMechanicalTurkCrowd](https://medium.com/@mechanicalturk/setting-up-your-amazon-mechanical-turk-and-aws-accounts-to-call-a-preview-api-59ade8beafd1)\n",
    "3. You have configured a local AWS profile to call MTurk with the user you set up in step 2\n",
    "4. You have [prepaid for HITs in your MTurk Requester account](https://requester.mturk.com/prepayments/new) to cover paying for Worker rewards (suggested amount to start is $5.00)"
   ]
  },
  {
   "cell_type": "markdown",
   "metadata": {},
   "source": [
    "### If you haven't done so, install the mturk-crowd-beta Python client"
   ]
  },
  {
   "cell_type": "code",
   "execution_count": null,
   "metadata": {
    "collapsed": true
   },
   "outputs": [],
   "source": [
    "!pip install --upgrade mturk-crowd-beta-client --ignore-installed six"
   ]
  },
  {
   "cell_type": "markdown",
   "metadata": {},
   "source": [
    "## Next we will import the packages we need to use the API\n",
    "You'll need to do this before calling any API"
   ]
  },
  {
   "cell_type": "code",
   "execution_count": 3,
   "metadata": {},
   "outputs": [],
   "source": [
    "from mturk_crowd_beta_client import MTurkCrowdClient\n",
    "from boto3.session import Session\n",
    "import uuid"
   ]
  },
  {
   "cell_type": "markdown",
   "metadata": {},
   "source": [
    "## Next we set up a session\n",
    "\n",
    "This examples assume you have a local AWS profile named __'mturk-crowd-caller'__, but you can authenticate however you like, including by directly passing in your access key and secret key.  The access key and secret key are for the User you created during setup with the policies AmazonMechanicalTurkFullAccess and AmazonMechanicalTurkCrowdFullAccess."
   ]
  },
  {
   "cell_type": "code",
   "execution_count": 4,
   "metadata": {},
   "outputs": [],
   "source": [
    "session = Session(profile_name='mturk-crowd-caller')\n",
    "#session = Session(profile_name='mtf-caller')\n",
    "\n",
    "crowd_client = MTurkCrowdClient(session)"
   ]
  },
  {
   "cell_type": "markdown",
   "metadata": {},
   "source": [
    "## Available single use APIs:\n",
    "\n",
    "### Natural Language Processing\n",
    "\n",
    "* [sentiment-analysis](#sentiment-analysis)\n",
    "* [emotion-detection](#emotion-detection)\n",
    "* [semantic-similarity](#semantic-similarity)\n",
    "* [collect-utterance-for-intent](#collect-utterance-for-intent)\n",
    "* [intent-detection](#intent-detection)\n",
    "* [text-categorization](#text-categorization)\n",
    "* [named-entity-recognition](#named-entity-recognition)\n",
    "* [coreference-resolution](#coreference-resolution)\n",
    "* [key-phrase-extraction](#key-phrase-extraction)\n",
    "\n",
    "### Computer Vision\n",
    "* [image-contains](#image-contains)\n",
    "* [image-categorization](#image-categorization)\n",
    "* [image-similarity](#image-similarity)\n",
    "* [bounding-box](#bounding-box)\n",
    "\n"
   ]
  },
  {
   "cell_type": "markdown",
   "metadata": {},
   "source": [
    "## <a id='sentiment-analysis'>sentiment-analysis</a>"
   ]
  },
  {
   "cell_type": "markdown",
   "metadata": {},
   "source": [
    "Input: `{ \"text\": \"Everything is wonderful!\" }`\n",
    "\n",
    "Result: `{'sentiment': 'positive'}`\n",
    "\n",
    "Max length of the input text is 400 characters.  Sentiment is one of positive, negative, neutral or cannot determine.  We ask up to 5 Workers until 2 of them agree on the answer.\n"
   ]
  },
  {
   "cell_type": "markdown",
   "metadata": {},
   "source": [
    "When you create a Task using the sentiment-analysis API, you're automatically creating a Human Intelligence Task (HIT) on worker.mturk.com.  Here's an example of a sentiment analysis HIT."
   ]
  },
  {
   "cell_type": "markdown",
   "metadata": {},
   "source": [
    "![sentiment-analysis-HIT-example](https://s3-us-west-2.amazonaws.com/mturk-sample-tasks/sentiment-analysis-HIT-example.png)"
   ]
  },
  {
   "cell_type": "markdown",
   "metadata": {},
   "source": [
    "### Create a Task"
   ]
  },
  {
   "cell_type": "code",
   "execution_count": 170,
   "metadata": {},
   "outputs": [],
   "source": [
    "#set the function_name to the name of the single use API\n",
    "function_name = 'sentiment-analysis'"
   ]
  },
  {
   "cell_type": "code",
   "execution_count": 77,
   "metadata": {},
   "outputs": [
    {
     "name": "stdout",
     "output_type": "stream",
     "text": [
      "my-test-task-0a21e7ff15df45df909d00812ef514da\n"
     ]
    }
   ],
   "source": [
    "# automatically generate a random task ID\n",
    "task_name = 'my-test-task-' + uuid.uuid4().hex\n",
    "print(task_name)"
   ]
  },
  {
   "cell_type": "code",
   "execution_count": 78,
   "metadata": {},
   "outputs": [],
   "source": [
    "# define the text that you want analyzed, up to 16k\n",
    "text = 'The trip by @VP Pence was long planned. He is receiving great praise for leaving game after the players showed such disrespect for country!'"
   ]
  },
  {
   "cell_type": "code",
   "execution_count": 79,
   "metadata": {},
   "outputs": [
    {
     "name": "stdout",
     "output_type": "stream",
     "text": [
      "PUT response: {'status_code': 201, 'task': {'input': {'text': 'The trip by @VP Pence was long planned. He is receiving great praise for leaving game after the players showed such disrespect for country!'}, 'problemDetails': None, 'result': None, 'state': 'processing', 'taskName': 'my-test-task-0a21e7ff15df45df909d00812ef514da'}}\n"
     ]
    }
   ],
   "source": [
    "# create a single task with the input you specified above\n",
    "put_result = crowd_client.put_task(function_name,\n",
    "                             task_name,\n",
    "                             {'text': text})\n",
    "print('PUT response: {}'.format(\n",
    "    {'status_code': put_result.status_code, 'task': put_result.json()}))"
   ]
  },
  {
   "cell_type": "markdown",
   "metadata": {},
   "source": [
    "### Get the result\n",
    "\n",
    "Wait a few minutes before calling get_task to give Workers a chance to submit answers"
   ]
  },
  {
   "cell_type": "code",
   "execution_count": 80,
   "metadata": {},
   "outputs": [
    {
     "name": "stdout",
     "output_type": "stream",
     "text": [
      "GET response: {'status_code': 200, 'task': {'input': {'text': 'The trip by @VP Pence was long planned. He is receiving great praise for leaving game after the players showed such disrespect for country!'}, 'problemDetails': None, 'result': None, 'state': 'processing', 'taskName': 'my-test-task-0a21e7ff15df45df909d00812ef514da'}}\n"
     ]
    }
   ],
   "source": [
    "get_result = crowd_client.get_task(function_name, task_name)\n",
    "\n",
    "print('GET response: {}'.format(                     \n",
    "    {'status_code': get_result.status_code, 'task': get_result.json()}))"
   ]
  },
  {
   "cell_type": "markdown",
   "metadata": {},
   "source": [
    "### Creating multiple Tasks and Processing Results \n",
    "\n",
    "Next, we'll read from a CSV file that has multiple rows of text that needs to be analyzed for sentiment using the pandas library.  As a prerequisite you need to have installed the pandas library."
   ]
  },
  {
   "cell_type": "code",
   "execution_count": 81,
   "metadata": {},
   "outputs": [],
   "source": [
    "import pandas as pd"
   ]
  },
  {
   "cell_type": "code",
   "execution_count": 173,
   "metadata": {},
   "outputs": [],
   "source": [
    "#read the input data from csv into a pandas DataFrame\n",
    "data = pd.read_csv('https://s3-us-west-2.amazonaws.com/mturk-sample-datasets/sentiment-analysis-example-inputs.csv')"
   ]
  },
  {
   "cell_type": "code",
   "execution_count": 174,
   "metadata": {},
   "outputs": [
    {
     "data": {
      "text/html": [
       "<div>\n",
       "<style scoped>\n",
       "    .dataframe tbody tr th:only-of-type {\n",
       "        vertical-align: middle;\n",
       "    }\n",
       "\n",
       "    .dataframe tbody tr th {\n",
       "        vertical-align: top;\n",
       "    }\n",
       "\n",
       "    .dataframe thead th {\n",
       "        text-align: right;\n",
       "    }\n",
       "</style>\n",
       "<table border=\"1\" class=\"dataframe\">\n",
       "  <thead>\n",
       "    <tr style=\"text-align: right;\">\n",
       "      <th></th>\n",
       "      <th>task_id</th>\n",
       "      <th>review_text</th>\n",
       "    </tr>\n",
       "  </thead>\n",
       "  <tbody>\n",
       "    <tr>\n",
       "      <th>0</th>\n",
       "      <td>customer_review_1</td>\n",
       "      <td>I'll give it 3 stars only because they were on...</td>\n",
       "    </tr>\n",
       "    <tr>\n",
       "      <th>1</th>\n",
       "      <td>customer_review_2</td>\n",
       "      <td>I love these boots and these are my 2nd pair. ...</td>\n",
       "    </tr>\n",
       "    <tr>\n",
       "      <th>2</th>\n",
       "      <td>customer_review_3</td>\n",
       "      <td>I read many reviews regarding the brown ones a...</td>\n",
       "    </tr>\n",
       "  </tbody>\n",
       "</table>\n",
       "</div>"
      ],
      "text/plain": [
       "             task_id                                        review_text\n",
       "0  customer_review_1  I'll give it 3 stars only because they were on...\n",
       "1  customer_review_2  I love these boots and these are my 2nd pair. ...\n",
       "2  customer_review_3  I read many reviews regarding the brown ones a..."
      ]
     },
     "execution_count": 174,
     "metadata": {},
     "output_type": "execute_result"
    }
   ],
   "source": [
    "# column 1 is the Task ID and column2 is the input data\n",
    "data"
   ]
  },
  {
   "cell_type": "code",
   "execution_count": 175,
   "metadata": {},
   "outputs": [],
   "source": [
    "#loop through the rows and create a Task per row, write the put_task status in a new column\n",
    "status_codes = []\n",
    "for index, row in data.iterrows():\n",
    "    put_result = crowd_client.put_task(function_name, row.task_id,{'text': row.review_text})\n",
    "    status_codes.append(put_result.status_code)\n",
    "data['status_codes'] = status_codes"
   ]
  },
  {
   "cell_type": "code",
   "execution_count": null,
   "metadata": {},
   "outputs": [],
   "source": [
    "data"
   ]
  },
  {
   "cell_type": "markdown",
   "metadata": {},
   "source": [
    "We'll call get_task periodically until all of the Tasks reach the \"completed\" state."
   ]
  },
  {
   "cell_type": "code",
   "execution_count": 84,
   "metadata": {},
   "outputs": [],
   "source": [
    "# loop through the rows and get results, store the state and results in new columns\n",
    "\n",
    "status_codes = []\n",
    "responses = []\n",
    "for index, row in data.iterrows():\n",
    "    get_result = crowd_client.get_task(function_name, row.task_id)\n",
    "    status_codes.append(get_result.status_code)\n",
    "    responses.append(get_result.json())"
   ]
  },
  {
   "cell_type": "code",
   "execution_count": 85,
   "metadata": {},
   "outputs": [],
   "source": [
    "data['status_codes'] = status_codes\n",
    "data['state'] = [r['state'] for r in responses]\n",
    "data['problem_details'] = [r['problemDetails'] for r in responses]\n",
    "#need to handle the case when not all tasks are in completed state\n",
    "if 'processing' in data['state'].unique():\n",
    "    data['sentiment'] = 'data still pending'    \n",
    "else:\n",
    "    data['sentiment'] = [r['result']['sentiment'] for r in responses]"
   ]
  },
  {
   "cell_type": "code",
   "execution_count": null,
   "metadata": {},
   "outputs": [],
   "source": [
    "data"
   ]
  },
  {
   "cell_type": "markdown",
   "metadata": {},
   "source": [
    "## <a id='image-contains'>image-contains</a>"
   ]
  },
  {
   "cell_type": "markdown",
   "metadata": {},
   "source": [
    "Given an image and a type of object to look for, this API returns true or false.\n",
    "\n",
    "Input: `{\"image\": {\"url\": \"https://www.mturk.com/media/butterbean.jpg\"}, \"target\": {\"label\": \"dog\"} }`\n",
    "\n",
    "Result: `{\"containsTarget\": true}`"
   ]
  },
  {
   "cell_type": "markdown",
   "metadata": {},
   "source": []
  },
  {
   "cell_type": "markdown",
   "metadata": {},
   "source": [
    "![image-contains-HIT-example](https://s3-us-west-2.amazonaws.com/mturk-sample-tasks/image-contains-HIT-example.jpeg)"
   ]
  },
  {
   "cell_type": "code",
   "execution_count": 56,
   "metadata": {},
   "outputs": [],
   "source": [
    "function_name = 'image-contains-test'"
   ]
  },
  {
   "cell_type": "markdown",
   "metadata": {},
   "source": [
    "### Create a Task"
   ]
  },
  {
   "cell_type": "code",
   "execution_count": 57,
   "metadata": {},
   "outputs": [
    {
     "name": "stdout",
     "output_type": "stream",
     "text": [
      "my-test-task-49377fbe8b764da3a4f2896fbcba23d7\n"
     ]
    }
   ],
   "source": [
    "# automatically generate a random task ID\n",
    "task_name = 'my-test-task-' + uuid.uuid4().hex\n",
    "print(task_name)"
   ]
  },
  {
   "cell_type": "code",
   "execution_count": 58,
   "metadata": {},
   "outputs": [],
   "source": [
    "# the URL of the image that you want annotated\n",
    "image_url = 'https://urbanedge.blogs.rice.edu/files/2016/02/midtown-15wd4ck.jpg'"
   ]
  },
  {
   "cell_type": "markdown",
   "metadata": {},
   "source": [
    "### The type of thing we're looking for"
   ]
  },
  {
   "cell_type": "code",
   "execution_count": null,
   "metadata": {
    "collapsed": true
   },
   "outputs": [],
   "source": [
    "label = 'Pedestrians'"
   ]
  },
  {
   "cell_type": "code",
   "execution_count": null,
   "metadata": {
    "collapsed": true
   },
   "outputs": [],
   "source": [
    "# create a single task with the input you specified above\n",
    "put_result = crowd_client.put_task(function_name,\n",
    "                                   task_name,\n",
    "                                   {'image': {'url': image_url}, 'target': {'label': label}})\n",
    "\n",
    "print('PUT response: {}'.format(\n",
    "    {'status_code': put_result.status_code, 'task': put_result.json()}))        "
   ]
  },
  {
   "cell_type": "markdown",
   "metadata": {},
   "source": [
    "### Get the result\n",
    "\n",
    "Wait a few minutes before calling get_task to give Workers a chance to submit answers"
   ]
  },
  {
   "cell_type": "code",
   "execution_count": null,
   "metadata": {
    "collapsed": true
   },
   "outputs": [],
   "source": [
    "get_result = crowd_client.get_task(function_name, task_name)\n",
    "\n",
    "print('GET response: {}'.format(\n",
    "{'status_code': get_result.status_code, 'task': get_result.json()}))"
   ]
  },
  {
   "cell_type": "markdown",
   "metadata": {},
   "source": [
    "### Creating multiple Tasks and Processing Results \n",
    "\n",
    "Next, we'll read from a CSV file that has multiple rows of text that needs to be analyzed for sentiment using the pandas library.  As a prerequisite you need to have installed the pandas library."
   ]
  },
  {
   "cell_type": "code",
   "execution_count": 59,
   "metadata": {},
   "outputs": [],
   "source": [
    "import pandas as pd"
   ]
  },
  {
   "cell_type": "code",
   "execution_count": 60,
   "metadata": {},
   "outputs": [],
   "source": [
    "#read the input data from csv into a pandas DataFrame\n",
    "data = pd.read_csv('https://s3-us-west-2.amazonaws.com/mturk-sample-datasets/image-contains-example-inputs.csv')"
   ]
  },
  {
   "cell_type": "code",
   "execution_count": 61,
   "metadata": {},
   "outputs": [
    {
     "data": {
      "text/html": [
       "<div>\n",
       "<style scoped>\n",
       "    .dataframe tbody tr th:only-of-type {\n",
       "        vertical-align: middle;\n",
       "    }\n",
       "\n",
       "    .dataframe tbody tr th {\n",
       "        vertical-align: top;\n",
       "    }\n",
       "\n",
       "    .dataframe thead th {\n",
       "        text-align: right;\n",
       "    }\n",
       "</style>\n",
       "<table border=\"1\" class=\"dataframe\">\n",
       "  <thead>\n",
       "    <tr style=\"text-align: right;\">\n",
       "      <th></th>\n",
       "      <th>task_id</th>\n",
       "      <th>image_url</th>\n",
       "      <th>Label</th>\n",
       "    </tr>\n",
       "  </thead>\n",
       "  <tbody>\n",
       "    <tr>\n",
       "      <th>0</th>\n",
       "      <td>image-contains-1</td>\n",
       "      <td>https://s3-us-west-2.amazonaws.com/mturk-sampl...</td>\n",
       "      <td>womens satchel</td>\n",
       "    </tr>\n",
       "    <tr>\n",
       "      <th>1</th>\n",
       "      <td>image-contains-2</td>\n",
       "      <td>https://s3-us-west-2.amazonaws.com/mturk-sampl...</td>\n",
       "      <td>womens flip flops</td>\n",
       "    </tr>\n",
       "    <tr>\n",
       "      <th>2</th>\n",
       "      <td>image-contains-3</td>\n",
       "      <td>https://s3-us-west-2.amazonaws.com/mturk-sampl...</td>\n",
       "      <td>womens ballet flats</td>\n",
       "    </tr>\n",
       "    <tr>\n",
       "      <th>3</th>\n",
       "      <td>image-contains-4</td>\n",
       "      <td>https://s3-us-west-2.amazonaws.com/mturk-sampl...</td>\n",
       "      <td>womens wedge shoes</td>\n",
       "    </tr>\n",
       "    <tr>\n",
       "      <th>4</th>\n",
       "      <td>image-contains-5</td>\n",
       "      <td>https://s3-us-west-2.amazonaws.com/mturk-sampl...</td>\n",
       "      <td>womens flip flops</td>\n",
       "    </tr>\n",
       "    <tr>\n",
       "      <th>5</th>\n",
       "      <td>image-contains-6</td>\n",
       "      <td>https://s3-us-west-2.amazonaws.com/mturk-sampl...</td>\n",
       "      <td>womens wedge shoes</td>\n",
       "    </tr>\n",
       "    <tr>\n",
       "      <th>6</th>\n",
       "      <td>image-contains-7</td>\n",
       "      <td>https://s3-us-west-2.amazonaws.com/mturk-sampl...</td>\n",
       "      <td>womens mules</td>\n",
       "    </tr>\n",
       "    <tr>\n",
       "      <th>7</th>\n",
       "      <td>image-contains-8</td>\n",
       "      <td>https://s3-us-west-2.amazonaws.com/mturk-sampl...</td>\n",
       "      <td>womens mules</td>\n",
       "    </tr>\n",
       "    <tr>\n",
       "      <th>8</th>\n",
       "      <td>image-contains-9</td>\n",
       "      <td>https://s3-us-west-2.amazonaws.com/mturk-sampl...</td>\n",
       "      <td>womens ankle boots</td>\n",
       "    </tr>\n",
       "    <tr>\n",
       "      <th>9</th>\n",
       "      <td>image-contains-10</td>\n",
       "      <td>https://s3-us-west-2.amazonaws.com/mturk-sampl...</td>\n",
       "      <td>womens wedge shoes</td>\n",
       "    </tr>\n",
       "  </tbody>\n",
       "</table>\n",
       "</div>"
      ],
      "text/plain": [
       "             task_id                                          image_url  \\\n",
       "0   image-contains-1  https://s3-us-west-2.amazonaws.com/mturk-sampl...   \n",
       "1   image-contains-2  https://s3-us-west-2.amazonaws.com/mturk-sampl...   \n",
       "2   image-contains-3  https://s3-us-west-2.amazonaws.com/mturk-sampl...   \n",
       "3   image-contains-4  https://s3-us-west-2.amazonaws.com/mturk-sampl...   \n",
       "4   image-contains-5  https://s3-us-west-2.amazonaws.com/mturk-sampl...   \n",
       "5   image-contains-6  https://s3-us-west-2.amazonaws.com/mturk-sampl...   \n",
       "6   image-contains-7  https://s3-us-west-2.amazonaws.com/mturk-sampl...   \n",
       "7   image-contains-8  https://s3-us-west-2.amazonaws.com/mturk-sampl...   \n",
       "8   image-contains-9  https://s3-us-west-2.amazonaws.com/mturk-sampl...   \n",
       "9  image-contains-10  https://s3-us-west-2.amazonaws.com/mturk-sampl...   \n",
       "\n",
       "                 Label  \n",
       "0       womens satchel  \n",
       "1    womens flip flops  \n",
       "2  womens ballet flats  \n",
       "3   womens wedge shoes  \n",
       "4    womens flip flops  \n",
       "5   womens wedge shoes  \n",
       "6         womens mules  \n",
       "7         womens mules  \n",
       "8   womens ankle boots  \n",
       "9   womens wedge shoes  "
      ]
     },
     "execution_count": 61,
     "metadata": {},
     "output_type": "execute_result"
    }
   ],
   "source": [
    "# column 1 is the Task ID and column2 amd 3 are the input data\n",
    "data"
   ]
  },
  {
   "cell_type": "code",
   "execution_count": 62,
   "metadata": {},
   "outputs": [],
   "source": [
    "#loop through the rows and create a Task per row, write the put_task status in a new column\n",
    "status_codes = []\n",
    "for index, row in data.iterrows():\n",
    "    put_result = crowd_client.put_task(function_name, \n",
    "                                       row.task_id,\n",
    "                                       {'image': {'url': row.image_url},\n",
    "                                        'target': {'label': row.Label} })\n",
    "    status_codes.append(put_result.status_code)\n",
    "data['status_codes'] = status_codes"
   ]
  },
  {
   "cell_type": "code",
   "execution_count": 63,
   "metadata": {},
   "outputs": [
    {
     "data": {
      "text/html": [
       "<div>\n",
       "<style scoped>\n",
       "    .dataframe tbody tr th:only-of-type {\n",
       "        vertical-align: middle;\n",
       "    }\n",
       "\n",
       "    .dataframe tbody tr th {\n",
       "        vertical-align: top;\n",
       "    }\n",
       "\n",
       "    .dataframe thead th {\n",
       "        text-align: right;\n",
       "    }\n",
       "</style>\n",
       "<table border=\"1\" class=\"dataframe\">\n",
       "  <thead>\n",
       "    <tr style=\"text-align: right;\">\n",
       "      <th></th>\n",
       "      <th>task_id</th>\n",
       "      <th>image_url</th>\n",
       "      <th>Label</th>\n",
       "      <th>status_codes</th>\n",
       "    </tr>\n",
       "  </thead>\n",
       "  <tbody>\n",
       "    <tr>\n",
       "      <th>0</th>\n",
       "      <td>image-contains-1</td>\n",
       "      <td>https://s3-us-west-2.amazonaws.com/mturk-sampl...</td>\n",
       "      <td>womens satchel</td>\n",
       "      <td>201</td>\n",
       "    </tr>\n",
       "    <tr>\n",
       "      <th>1</th>\n",
       "      <td>image-contains-2</td>\n",
       "      <td>https://s3-us-west-2.amazonaws.com/mturk-sampl...</td>\n",
       "      <td>womens flip flops</td>\n",
       "      <td>201</td>\n",
       "    </tr>\n",
       "    <tr>\n",
       "      <th>2</th>\n",
       "      <td>image-contains-3</td>\n",
       "      <td>https://s3-us-west-2.amazonaws.com/mturk-sampl...</td>\n",
       "      <td>womens ballet flats</td>\n",
       "      <td>201</td>\n",
       "    </tr>\n",
       "    <tr>\n",
       "      <th>3</th>\n",
       "      <td>image-contains-4</td>\n",
       "      <td>https://s3-us-west-2.amazonaws.com/mturk-sampl...</td>\n",
       "      <td>womens wedge shoes</td>\n",
       "      <td>201</td>\n",
       "    </tr>\n",
       "    <tr>\n",
       "      <th>4</th>\n",
       "      <td>image-contains-5</td>\n",
       "      <td>https://s3-us-west-2.amazonaws.com/mturk-sampl...</td>\n",
       "      <td>womens flip flops</td>\n",
       "      <td>201</td>\n",
       "    </tr>\n",
       "    <tr>\n",
       "      <th>5</th>\n",
       "      <td>image-contains-6</td>\n",
       "      <td>https://s3-us-west-2.amazonaws.com/mturk-sampl...</td>\n",
       "      <td>womens wedge shoes</td>\n",
       "      <td>201</td>\n",
       "    </tr>\n",
       "    <tr>\n",
       "      <th>6</th>\n",
       "      <td>image-contains-7</td>\n",
       "      <td>https://s3-us-west-2.amazonaws.com/mturk-sampl...</td>\n",
       "      <td>womens mules</td>\n",
       "      <td>201</td>\n",
       "    </tr>\n",
       "    <tr>\n",
       "      <th>7</th>\n",
       "      <td>image-contains-8</td>\n",
       "      <td>https://s3-us-west-2.amazonaws.com/mturk-sampl...</td>\n",
       "      <td>womens mules</td>\n",
       "      <td>201</td>\n",
       "    </tr>\n",
       "    <tr>\n",
       "      <th>8</th>\n",
       "      <td>image-contains-9</td>\n",
       "      <td>https://s3-us-west-2.amazonaws.com/mturk-sampl...</td>\n",
       "      <td>womens ankle boots</td>\n",
       "      <td>201</td>\n",
       "    </tr>\n",
       "    <tr>\n",
       "      <th>9</th>\n",
       "      <td>image-contains-10</td>\n",
       "      <td>https://s3-us-west-2.amazonaws.com/mturk-sampl...</td>\n",
       "      <td>womens wedge shoes</td>\n",
       "      <td>201</td>\n",
       "    </tr>\n",
       "  </tbody>\n",
       "</table>\n",
       "</div>"
      ],
      "text/plain": [
       "             task_id                                          image_url  \\\n",
       "0   image-contains-1  https://s3-us-west-2.amazonaws.com/mturk-sampl...   \n",
       "1   image-contains-2  https://s3-us-west-2.amazonaws.com/mturk-sampl...   \n",
       "2   image-contains-3  https://s3-us-west-2.amazonaws.com/mturk-sampl...   \n",
       "3   image-contains-4  https://s3-us-west-2.amazonaws.com/mturk-sampl...   \n",
       "4   image-contains-5  https://s3-us-west-2.amazonaws.com/mturk-sampl...   \n",
       "5   image-contains-6  https://s3-us-west-2.amazonaws.com/mturk-sampl...   \n",
       "6   image-contains-7  https://s3-us-west-2.amazonaws.com/mturk-sampl...   \n",
       "7   image-contains-8  https://s3-us-west-2.amazonaws.com/mturk-sampl...   \n",
       "8   image-contains-9  https://s3-us-west-2.amazonaws.com/mturk-sampl...   \n",
       "9  image-contains-10  https://s3-us-west-2.amazonaws.com/mturk-sampl...   \n",
       "\n",
       "                 Label  status_codes  \n",
       "0       womens satchel           201  \n",
       "1    womens flip flops           201  \n",
       "2  womens ballet flats           201  \n",
       "3   womens wedge shoes           201  \n",
       "4    womens flip flops           201  \n",
       "5   womens wedge shoes           201  \n",
       "6         womens mules           201  \n",
       "7         womens mules           201  \n",
       "8   womens ankle boots           201  \n",
       "9   womens wedge shoes           201  "
      ]
     },
     "execution_count": 63,
     "metadata": {},
     "output_type": "execute_result"
    }
   ],
   "source": [
    "data"
   ]
  },
  {
   "cell_type": "markdown",
   "metadata": {},
   "source": [
    "We'll call get_task periodically until all of the Tasks reach the \"completed\" state."
   ]
  },
  {
   "cell_type": "code",
   "execution_count": 67,
   "metadata": {},
   "outputs": [],
   "source": [
    "# loop through the rows and get results, store the state and results in new columns\n",
    "\n",
    "status_codes = []\n",
    "responses = []\n",
    "for index, row in data.iterrows():\n",
    "    get_result = crowd_client.get_task(function_name, row.task_id)\n",
    "    status_codes.append(get_result.status_code)\n",
    "    responses.append(get_result.json())"
   ]
  },
  {
   "cell_type": "code",
   "execution_count": 165,
   "metadata": {},
   "outputs": [],
   "source": [
    "data['status_codes'] = status_codes\n",
    "data['state'] = [r['state'] for r in responses]\n",
    "data['problem_details'] = [r['problemDetails'] for r in responses]\n",
    "#need to handle the case when not all tasks are in completed state\n",
    "if 'processing' in data['state'].unique():\n",
    "    data['containsTarget'] = 'data still pending'\n",
    "else:\n",
    "    data['containsTarget'] = [r['result']['containsTarget'] for r in responses]\n",
    "    "
   ]
  },
  {
   "cell_type": "code",
   "execution_count": null,
   "metadata": {
    "scrolled": true
   },
   "outputs": [],
   "source": [
    "data"
   ]
  },
  {
   "cell_type": "code",
   "execution_count": 57,
   "metadata": {
    "collapsed": true
   },
   "outputs": [],
   "source": [
    "data.to_csv('image-contains-results.csv')"
   ]
  },
  {
   "cell_type": "markdown",
   "metadata": {},
   "source": [
    "## <a id='emotion-detection'>emotion-detection</a>\n",
    "\n",
    "This API determines the emotion of text.\n",
    "\n",
    "Input:`{\"text\": \"First time ever winning all three fantasy leagues AND @Seahawks win!\"}`\n",
    "\n",
    "Result: `{\"emotion\": \"joy\"}`\n",
    "\n",
    "Emotion is one of Joy, Anger, Fear, Sadness, Surprise, Disgust, or Neutral.  Internal only: we ask up to 9 Workers to get agreement.\n",
    "\n",
    "![emotion-detection-HIT-example](https://s3-us-west-2.amazonaws.com/mturk-sample-tasks/emotion-detection-HIT-example.png)"
   ]
  },
  {
   "cell_type": "code",
   "execution_count": null,
   "metadata": {
    "collapsed": true
   },
   "outputs": [],
   "source": [
    "function_name = 'emotion-detection'"
   ]
  },
  {
   "cell_type": "markdown",
   "metadata": {},
   "source": [
    "### Create a Task"
   ]
  },
  {
   "cell_type": "code",
   "execution_count": null,
   "metadata": {
    "collapsed": true
   },
   "outputs": [],
   "source": [
    "# automatically generate a random task ID\n",
    "task_name = 'my-test-task-' + uuid.uuid4().hex\n",
    "print(task_name)"
   ]
  },
  {
   "cell_type": "code",
   "execution_count": null,
   "metadata": {
    "collapsed": true
   },
   "outputs": [],
   "source": [
    "# define the text that you want analyzed, up to 16k\n",
    "text = 'Just realised that I have #280characters so now I can finally tweet this: \"Daenerys Stormborn of the House Targaryen, First of Her Name, the Unburnt, Queen of the Andals and the First Men, Khaleesi of the Great Grass Sea, Breaker of Chains, and Mother of Dragons'"
   ]
  },
  {
   "cell_type": "code",
   "execution_count": null,
   "metadata": {
    "collapsed": true
   },
   "outputs": [],
   "source": [
    "# create a single task with the input you specified above\n",
    "put_result = crowd_client.put_task(function_name,\n",
    "                             task_name,\n",
    "                             {'text': text})\n",
    "print('PUT response: {}'.format(\n",
    "    {'status_code': put_result.status_code, 'task': put_result.json()}))"
   ]
  },
  {
   "cell_type": "markdown",
   "metadata": {},
   "source": [
    "### Get the result\n",
    "\n",
    "Wait a few minutes before calling get_task to give Workers a chance to submit answers"
   ]
  },
  {
   "cell_type": "code",
   "execution_count": null,
   "metadata": {
    "collapsed": true
   },
   "outputs": [],
   "source": [
    "get_result = crowd_client.get_task(function_name, task_name)\n",
    "\n",
    "print('GET response: {}'.format(                     \n",
    "    {'status_code': get_result.status_code, 'task': get_result.json()}))"
   ]
  },
  {
   "cell_type": "markdown",
   "metadata": {},
   "source": [
    "## <a id=semantic-similarity>semantic-similarity</a>\n",
    "\n",
    "Compare two text documents and rate them on how similar they are, on a scale between 0 and 1 where 1 is very similar.\n",
    "\n",
    "Input: `{\"text1\": \"The sky is blue.\", \"text2\": \"The sky was the color of blue.\"}`\n",
    "\n",
    "Result: `{\"similarityScore\": 0.75}`\n",
    "\n",
    "![semantic-similarity-HIT-example](https://s3-us-west-2.amazonaws.com/mturk-sample-tasks/semantic-similarity-HIT-example.jpeg)\n"
   ]
  },
  {
   "cell_type": "code",
   "execution_count": 106,
   "metadata": {},
   "outputs": [],
   "source": [
    "function_name = 'semantic-similarity'"
   ]
  },
  {
   "cell_type": "markdown",
   "metadata": {},
   "source": [
    "### Create a Task"
   ]
  },
  {
   "cell_type": "code",
   "execution_count": null,
   "metadata": {
    "collapsed": true
   },
   "outputs": [],
   "source": [
    "# automatically generate a random task ID\n",
    "task_name = 'my-test-task-' + uuid.uuid4().hex\n",
    "print(task_name)"
   ]
  },
  {
   "cell_type": "code",
   "execution_count": null,
   "metadata": {
    "collapsed": true
   },
   "outputs": [],
   "source": [
    "# define the text that you want analyzed, up to 16k\n",
    "text1 = 'I\\'m so hungry I could eat a horse'\n",
    "text2 = 'I\\'m hangry'"
   ]
  },
  {
   "cell_type": "code",
   "execution_count": null,
   "metadata": {
    "collapsed": true
   },
   "outputs": [],
   "source": [
    "#create a single task with the input you specified above\n",
    "put_result = crowd_client.put_task(function_name,\n",
    "                             task_name,\n",
    "                             {'text1': text1, 'text2': text2})\n",
    "print('PUT response: {}'.format(\n",
    "    {'status_code': put_result.status_code, 'task': put_result.json()}))"
   ]
  },
  {
   "cell_type": "markdown",
   "metadata": {},
   "source": [
    "### Get the result\n",
    "\n",
    "Wait a few minutes before calling get_task to give Workers a chance to submit answers"
   ]
  },
  {
   "cell_type": "code",
   "execution_count": null,
   "metadata": {
    "collapsed": true
   },
   "outputs": [],
   "source": [
    "get_result = crowd_client.get_task(function_name, task_name)\n",
    "\n",
    "print('GET response: {}'.format(                     \n",
    "    {'status_code': get_result.status_code, 'task': get_result.json()}))"
   ]
  },
  {
   "cell_type": "markdown",
   "metadata": {},
   "source": [
    "### Creating multiple Tasks and Processing Results \n",
    "\n",
    "Next, we'll read from a CSV file that has multiple rows of text that needs to be analyzed for sentiment using the pandas library.  As a prerequisite you need to have installed the pandas library."
   ]
  },
  {
   "cell_type": "code",
   "execution_count": 107,
   "metadata": {},
   "outputs": [],
   "source": [
    "import pandas as pd"
   ]
  },
  {
   "cell_type": "code",
   "execution_count": 108,
   "metadata": {},
   "outputs": [],
   "source": [
    "#read the input data from csv into a pandas DataFrame\n",
    "data = pd.read_csv('https://s3-us-west-2.amazonaws.com/mturk-sample-datasets/semantic-similarity-example-inputs.csv')"
   ]
  },
  {
   "cell_type": "code",
   "execution_count": 109,
   "metadata": {},
   "outputs": [
    {
     "data": {
      "text/html": [
       "<div>\n",
       "<style scoped>\n",
       "    .dataframe tbody tr th:only-of-type {\n",
       "        vertical-align: middle;\n",
       "    }\n",
       "\n",
       "    .dataframe tbody tr th {\n",
       "        vertical-align: top;\n",
       "    }\n",
       "\n",
       "    .dataframe thead th {\n",
       "        text-align: right;\n",
       "    }\n",
       "</style>\n",
       "<table border=\"1\" class=\"dataframe\">\n",
       "  <thead>\n",
       "    <tr style=\"text-align: right;\">\n",
       "      <th></th>\n",
       "      <th>task_id</th>\n",
       "      <th>review1</th>\n",
       "      <th>review2</th>\n",
       "    </tr>\n",
       "  </thead>\n",
       "  <tbody>\n",
       "    <tr>\n",
       "      <th>0</th>\n",
       "      <td>semantic-sim-1</td>\n",
       "      <td>This is a nice portable DVD player with 7.5\" s...</td>\n",
       "      <td>I bought this DBPOWER DVD player for my son si...</td>\n",
       "    </tr>\n",
       "    <tr>\n",
       "      <th>1</th>\n",
       "      <td>semantic-sim-2</td>\n",
       "      <td>Nice product with easily adjustable bright LED...</td>\n",
       "      <td>This is exactly what I was looking for! The ad...</td>\n",
       "    </tr>\n",
       "    <tr>\n",
       "      <th>2</th>\n",
       "      <td>semantic-sim-3</td>\n",
       "      <td>I am thrilled to see this series make it to Bl...</td>\n",
       "      <td>I absolutely adore this series. I grew up with...</td>\n",
       "    </tr>\n",
       "    <tr>\n",
       "      <th>3</th>\n",
       "      <td>semantic-sim-4</td>\n",
       "      <td>5.0 out of 5 starsWorks great, made of stainle...</td>\n",
       "      <td>3.0 out of 5 starsStainless Steel BBQ griller\\...</td>\n",
       "    </tr>\n",
       "    <tr>\n",
       "      <th>4</th>\n",
       "      <td>semantic-sim-5</td>\n",
       "      <td>I initially gave this review 1 star because li...</td>\n",
       "      <td>This is a VERY dark turn for an already pretty...</td>\n",
       "    </tr>\n",
       "    <tr>\n",
       "      <th>5</th>\n",
       "      <td>semantic-sim-6</td>\n",
       "      <td>While the book, at its heart, about writing ma...</td>\n",
       "      <td>I think this was a great book to add to any Ma...</td>\n",
       "    </tr>\n",
       "    <tr>\n",
       "      <th>6</th>\n",
       "      <td>semantic-sim-7</td>\n",
       "      <td>Quite nice update to the original book. Positi...</td>\n",
       "      <td>If you are like me and you do not like Heisig\\...</td>\n",
       "    </tr>\n",
       "    <tr>\n",
       "      <th>7</th>\n",
       "      <td>semantic-sim-8</td>\n",
       "      <td>Just ordered two more sets of these. We\\'ve us...</td>\n",
       "      <td>Great product! The eggs come out perfect, it\\'...</td>\n",
       "    </tr>\n",
       "    <tr>\n",
       "      <th>8</th>\n",
       "      <td>semantic-sim-9</td>\n",
       "      <td>5.0 out of 5 starsFive Stars\\r\\nBydkuon Septem...</td>\n",
       "      <td>5.0 out of 5 starsUseful!\\r\\nByG Ortizon Octob...</td>\n",
       "    </tr>\n",
       "    <tr>\n",
       "      <th>9</th>\n",
       "      <td>semantic-sim-10</td>\n",
       "      <td>So far I am very happy with these pencils. The...</td>\n",
       "      <td>Very smooth, crisp color if not turning them i...</td>\n",
       "    </tr>\n",
       "  </tbody>\n",
       "</table>\n",
       "</div>"
      ],
      "text/plain": [
       "           task_id                                            review1  \\\n",
       "0   semantic-sim-1  This is a nice portable DVD player with 7.5\" s...   \n",
       "1   semantic-sim-2  Nice product with easily adjustable bright LED...   \n",
       "2   semantic-sim-3  I am thrilled to see this series make it to Bl...   \n",
       "3   semantic-sim-4  5.0 out of 5 starsWorks great, made of stainle...   \n",
       "4   semantic-sim-5  I initially gave this review 1 star because li...   \n",
       "5   semantic-sim-6  While the book, at its heart, about writing ma...   \n",
       "6   semantic-sim-7  Quite nice update to the original book. Positi...   \n",
       "7   semantic-sim-8  Just ordered two more sets of these. We\\'ve us...   \n",
       "8   semantic-sim-9  5.0 out of 5 starsFive Stars\\r\\nBydkuon Septem...   \n",
       "9  semantic-sim-10  So far I am very happy with these pencils. The...   \n",
       "\n",
       "                                             review2  \n",
       "0  I bought this DBPOWER DVD player for my son si...  \n",
       "1  This is exactly what I was looking for! The ad...  \n",
       "2  I absolutely adore this series. I grew up with...  \n",
       "3  3.0 out of 5 starsStainless Steel BBQ griller\\...  \n",
       "4  This is a VERY dark turn for an already pretty...  \n",
       "5  I think this was a great book to add to any Ma...  \n",
       "6  If you are like me and you do not like Heisig\\...  \n",
       "7  Great product! The eggs come out perfect, it\\'...  \n",
       "8  5.0 out of 5 starsUseful!\\r\\nByG Ortizon Octob...  \n",
       "9  Very smooth, crisp color if not turning them i...  "
      ]
     },
     "execution_count": 109,
     "metadata": {},
     "output_type": "execute_result"
    }
   ],
   "source": [
    "# column 1 is the Task ID and column2 is the input data\n",
    "data"
   ]
  },
  {
   "cell_type": "code",
   "execution_count": 110,
   "metadata": {},
   "outputs": [],
   "source": [
    "#loop through the rows and create a Task per row, write the put_task status in a new column\n",
    "status_codes = []\n",
    "for index, row in data.iterrows():\n",
    "    put_result = crowd_client.put_task(function_name, \n",
    "                                       row.task_id,\n",
    "                                        {'text1': row.review1, 'text2': row.review2})\n",
    "    status_codes.append(put_result.status_code)\n",
    "data['status_codes'] = status_codes"
   ]
  },
  {
   "cell_type": "code",
   "execution_count": 111,
   "metadata": {},
   "outputs": [
    {
     "data": {
      "text/html": [
       "<div>\n",
       "<style scoped>\n",
       "    .dataframe tbody tr th:only-of-type {\n",
       "        vertical-align: middle;\n",
       "    }\n",
       "\n",
       "    .dataframe tbody tr th {\n",
       "        vertical-align: top;\n",
       "    }\n",
       "\n",
       "    .dataframe thead th {\n",
       "        text-align: right;\n",
       "    }\n",
       "</style>\n",
       "<table border=\"1\" class=\"dataframe\">\n",
       "  <thead>\n",
       "    <tr style=\"text-align: right;\">\n",
       "      <th></th>\n",
       "      <th>task_id</th>\n",
       "      <th>review1</th>\n",
       "      <th>review2</th>\n",
       "      <th>status_codes</th>\n",
       "    </tr>\n",
       "  </thead>\n",
       "  <tbody>\n",
       "    <tr>\n",
       "      <th>0</th>\n",
       "      <td>semantic-sim-1</td>\n",
       "      <td>This is a nice portable DVD player with 7.5\" s...</td>\n",
       "      <td>I bought this DBPOWER DVD player for my son si...</td>\n",
       "      <td>201</td>\n",
       "    </tr>\n",
       "    <tr>\n",
       "      <th>1</th>\n",
       "      <td>semantic-sim-2</td>\n",
       "      <td>Nice product with easily adjustable bright LED...</td>\n",
       "      <td>This is exactly what I was looking for! The ad...</td>\n",
       "      <td>201</td>\n",
       "    </tr>\n",
       "    <tr>\n",
       "      <th>2</th>\n",
       "      <td>semantic-sim-3</td>\n",
       "      <td>I am thrilled to see this series make it to Bl...</td>\n",
       "      <td>I absolutely adore this series. I grew up with...</td>\n",
       "      <td>201</td>\n",
       "    </tr>\n",
       "    <tr>\n",
       "      <th>3</th>\n",
       "      <td>semantic-sim-4</td>\n",
       "      <td>5.0 out of 5 starsWorks great, made of stainle...</td>\n",
       "      <td>3.0 out of 5 starsStainless Steel BBQ griller\\...</td>\n",
       "      <td>201</td>\n",
       "    </tr>\n",
       "    <tr>\n",
       "      <th>4</th>\n",
       "      <td>semantic-sim-5</td>\n",
       "      <td>I initially gave this review 1 star because li...</td>\n",
       "      <td>This is a VERY dark turn for an already pretty...</td>\n",
       "      <td>201</td>\n",
       "    </tr>\n",
       "    <tr>\n",
       "      <th>5</th>\n",
       "      <td>semantic-sim-6</td>\n",
       "      <td>While the book, at its heart, about writing ma...</td>\n",
       "      <td>I think this was a great book to add to any Ma...</td>\n",
       "      <td>201</td>\n",
       "    </tr>\n",
       "    <tr>\n",
       "      <th>6</th>\n",
       "      <td>semantic-sim-7</td>\n",
       "      <td>Quite nice update to the original book. Positi...</td>\n",
       "      <td>If you are like me and you do not like Heisig\\...</td>\n",
       "      <td>201</td>\n",
       "    </tr>\n",
       "    <tr>\n",
       "      <th>7</th>\n",
       "      <td>semantic-sim-8</td>\n",
       "      <td>Just ordered two more sets of these. We\\'ve us...</td>\n",
       "      <td>Great product! The eggs come out perfect, it\\'...</td>\n",
       "      <td>201</td>\n",
       "    </tr>\n",
       "    <tr>\n",
       "      <th>8</th>\n",
       "      <td>semantic-sim-9</td>\n",
       "      <td>5.0 out of 5 starsFive Stars\\r\\nBydkuon Septem...</td>\n",
       "      <td>5.0 out of 5 starsUseful!\\r\\nByG Ortizon Octob...</td>\n",
       "      <td>201</td>\n",
       "    </tr>\n",
       "    <tr>\n",
       "      <th>9</th>\n",
       "      <td>semantic-sim-10</td>\n",
       "      <td>So far I am very happy with these pencils. The...</td>\n",
       "      <td>Very smooth, crisp color if not turning them i...</td>\n",
       "      <td>201</td>\n",
       "    </tr>\n",
       "  </tbody>\n",
       "</table>\n",
       "</div>"
      ],
      "text/plain": [
       "           task_id                                            review1  \\\n",
       "0   semantic-sim-1  This is a nice portable DVD player with 7.5\" s...   \n",
       "1   semantic-sim-2  Nice product with easily adjustable bright LED...   \n",
       "2   semantic-sim-3  I am thrilled to see this series make it to Bl...   \n",
       "3   semantic-sim-4  5.0 out of 5 starsWorks great, made of stainle...   \n",
       "4   semantic-sim-5  I initially gave this review 1 star because li...   \n",
       "5   semantic-sim-6  While the book, at its heart, about writing ma...   \n",
       "6   semantic-sim-7  Quite nice update to the original book. Positi...   \n",
       "7   semantic-sim-8  Just ordered two more sets of these. We\\'ve us...   \n",
       "8   semantic-sim-9  5.0 out of 5 starsFive Stars\\r\\nBydkuon Septem...   \n",
       "9  semantic-sim-10  So far I am very happy with these pencils. The...   \n",
       "\n",
       "                                             review2  status_codes  \n",
       "0  I bought this DBPOWER DVD player for my son si...           201  \n",
       "1  This is exactly what I was looking for! The ad...           201  \n",
       "2  I absolutely adore this series. I grew up with...           201  \n",
       "3  3.0 out of 5 starsStainless Steel BBQ griller\\...           201  \n",
       "4  This is a VERY dark turn for an already pretty...           201  \n",
       "5  I think this was a great book to add to any Ma...           201  \n",
       "6  If you are like me and you do not like Heisig\\...           201  \n",
       "7  Great product! The eggs come out perfect, it\\'...           201  \n",
       "8  5.0 out of 5 starsUseful!\\r\\nByG Ortizon Octob...           201  \n",
       "9  Very smooth, crisp color if not turning them i...           201  "
      ]
     },
     "execution_count": 111,
     "metadata": {},
     "output_type": "execute_result"
    }
   ],
   "source": [
    "data"
   ]
  },
  {
   "cell_type": "markdown",
   "metadata": {},
   "source": [
    "We'll call get_task periodically until all of the Tasks reach the \"completed\" state."
   ]
  },
  {
   "cell_type": "code",
   "execution_count": 143,
   "metadata": {},
   "outputs": [],
   "source": [
    "# loop through the rows and get results, store the state and results in new columns\n",
    "\n",
    "status_codes = []\n",
    "responses = []\n",
    "for index, row in data.iterrows():\n",
    "    get_result = crowd_client.get_task(function_name, row.task_id)\n",
    "    status_codes.append(get_result.status_code)\n",
    "    responses.append(get_result.json())"
   ]
  },
  {
   "cell_type": "code",
   "execution_count": 163,
   "metadata": {},
   "outputs": [],
   "source": [
    "data['status_codes'] = status_codes\n",
    "data['state'] = [r['state'] for r in responses]\n",
    "data['problem_details'] = [r['problemDetails'] for r in responses]\n",
    "#need to handle the case when not all tasks are in completed state\n",
    "if 'processing' in data['state'].unique():\n",
    "    data['result'] = [r['result'] for r in responses]\n",
    "else:\n",
    "    data['similarityScore'] = [r['result']['similarityScore'] for r in responses]"
   ]
  },
  {
   "cell_type": "code",
   "execution_count": 164,
   "metadata": {},
   "outputs": [
    {
     "data": {
      "text/html": [
       "<div>\n",
       "<style scoped>\n",
       "    .dataframe tbody tr th:only-of-type {\n",
       "        vertical-align: middle;\n",
       "    }\n",
       "\n",
       "    .dataframe tbody tr th {\n",
       "        vertical-align: top;\n",
       "    }\n",
       "\n",
       "    .dataframe thead th {\n",
       "        text-align: right;\n",
       "    }\n",
       "</style>\n",
       "<table border=\"1\" class=\"dataframe\">\n",
       "  <thead>\n",
       "    <tr style=\"text-align: right;\">\n",
       "      <th></th>\n",
       "      <th>task_id</th>\n",
       "      <th>review1</th>\n",
       "      <th>review2</th>\n",
       "      <th>status_codes</th>\n",
       "      <th>state</th>\n",
       "      <th>problem_details</th>\n",
       "      <th>similarityScore</th>\n",
       "      <th>result</th>\n",
       "    </tr>\n",
       "  </thead>\n",
       "  <tbody>\n",
       "    <tr>\n",
       "      <th>0</th>\n",
       "      <td>semantic-sim-1</td>\n",
       "      <td>This is a nice portable DVD player with 7.5\" s...</td>\n",
       "      <td>I bought this DBPOWER DVD player for my son si...</td>\n",
       "      <td>200</td>\n",
       "      <td>completed</td>\n",
       "      <td>None</td>\n",
       "      <td>{'similarityScore': 0.25}</td>\n",
       "      <td>{'similarityScore': 0.25}</td>\n",
       "    </tr>\n",
       "    <tr>\n",
       "      <th>1</th>\n",
       "      <td>semantic-sim-2</td>\n",
       "      <td>Nice product with easily adjustable bright LED...</td>\n",
       "      <td>This is exactly what I was looking for! The ad...</td>\n",
       "      <td>200</td>\n",
       "      <td>completed</td>\n",
       "      <td>None</td>\n",
       "      <td>{'similarityScore': 0.75}</td>\n",
       "      <td>{'similarityScore': 0.75}</td>\n",
       "    </tr>\n",
       "    <tr>\n",
       "      <th>2</th>\n",
       "      <td>semantic-sim-3</td>\n",
       "      <td>I am thrilled to see this series make it to Bl...</td>\n",
       "      <td>I absolutely adore this series. I grew up with...</td>\n",
       "      <td>200</td>\n",
       "      <td>completed</td>\n",
       "      <td>None</td>\n",
       "      <td>{'similarityScore': 0.75}</td>\n",
       "      <td>{'similarityScore': 0.75}</td>\n",
       "    </tr>\n",
       "    <tr>\n",
       "      <th>3</th>\n",
       "      <td>semantic-sim-4</td>\n",
       "      <td>5.0 out of 5 starsWorks great, made of stainle...</td>\n",
       "      <td>3.0 out of 5 starsStainless Steel BBQ griller\\...</td>\n",
       "      <td>200</td>\n",
       "      <td>completed</td>\n",
       "      <td>None</td>\n",
       "      <td>{'similarityScore': 0.0}</td>\n",
       "      <td>{'similarityScore': 0.0}</td>\n",
       "    </tr>\n",
       "    <tr>\n",
       "      <th>4</th>\n",
       "      <td>semantic-sim-5</td>\n",
       "      <td>I initially gave this review 1 star because li...</td>\n",
       "      <td>This is a VERY dark turn for an already pretty...</td>\n",
       "      <td>200</td>\n",
       "      <td>completed</td>\n",
       "      <td>None</td>\n",
       "      <td>{'similarityScore': 0.0}</td>\n",
       "      <td>{'similarityScore': 0.0}</td>\n",
       "    </tr>\n",
       "    <tr>\n",
       "      <th>5</th>\n",
       "      <td>semantic-sim-6</td>\n",
       "      <td>While the book, at its heart, about writing ma...</td>\n",
       "      <td>I think this was a great book to add to any Ma...</td>\n",
       "      <td>200</td>\n",
       "      <td>completed</td>\n",
       "      <td>None</td>\n",
       "      <td>{'similarityScore': 0.5}</td>\n",
       "      <td>{'similarityScore': 0.5}</td>\n",
       "    </tr>\n",
       "    <tr>\n",
       "      <th>6</th>\n",
       "      <td>semantic-sim-7</td>\n",
       "      <td>Quite nice update to the original book. Positi...</td>\n",
       "      <td>If you are like me and you do not like Heisig\\...</td>\n",
       "      <td>200</td>\n",
       "      <td>completed</td>\n",
       "      <td>None</td>\n",
       "      <td>{'similarityScore': 0.25}</td>\n",
       "      <td>{'similarityScore': 0.25}</td>\n",
       "    </tr>\n",
       "    <tr>\n",
       "      <th>7</th>\n",
       "      <td>semantic-sim-8</td>\n",
       "      <td>Just ordered two more sets of these. We\\'ve us...</td>\n",
       "      <td>Great product! The eggs come out perfect, it\\'...</td>\n",
       "      <td>200</td>\n",
       "      <td>completed</td>\n",
       "      <td>None</td>\n",
       "      <td>{'similarityScore': 0.75}</td>\n",
       "      <td>{'similarityScore': 0.75}</td>\n",
       "    </tr>\n",
       "    <tr>\n",
       "      <th>8</th>\n",
       "      <td>semantic-sim-9</td>\n",
       "      <td>5.0 out of 5 starsFive Stars\\r\\nBydkuon Septem...</td>\n",
       "      <td>5.0 out of 5 starsUseful!\\r\\nByG Ortizon Octob...</td>\n",
       "      <td>200</td>\n",
       "      <td>processing</td>\n",
       "      <td>None</td>\n",
       "      <td>None</td>\n",
       "      <td>None</td>\n",
       "    </tr>\n",
       "    <tr>\n",
       "      <th>9</th>\n",
       "      <td>semantic-sim-10</td>\n",
       "      <td>So far I am very happy with these pencils. The...</td>\n",
       "      <td>Very smooth, crisp color if not turning them i...</td>\n",
       "      <td>200</td>\n",
       "      <td>completed</td>\n",
       "      <td>None</td>\n",
       "      <td>{'similarityScore': 0.0}</td>\n",
       "      <td>{'similarityScore': 0.0}</td>\n",
       "    </tr>\n",
       "  </tbody>\n",
       "</table>\n",
       "</div>"
      ],
      "text/plain": [
       "           task_id                                            review1  \\\n",
       "0   semantic-sim-1  This is a nice portable DVD player with 7.5\" s...   \n",
       "1   semantic-sim-2  Nice product with easily adjustable bright LED...   \n",
       "2   semantic-sim-3  I am thrilled to see this series make it to Bl...   \n",
       "3   semantic-sim-4  5.0 out of 5 starsWorks great, made of stainle...   \n",
       "4   semantic-sim-5  I initially gave this review 1 star because li...   \n",
       "5   semantic-sim-6  While the book, at its heart, about writing ma...   \n",
       "6   semantic-sim-7  Quite nice update to the original book. Positi...   \n",
       "7   semantic-sim-8  Just ordered two more sets of these. We\\'ve us...   \n",
       "8   semantic-sim-9  5.0 out of 5 starsFive Stars\\r\\nBydkuon Septem...   \n",
       "9  semantic-sim-10  So far I am very happy with these pencils. The...   \n",
       "\n",
       "                                             review2  status_codes  \\\n",
       "0  I bought this DBPOWER DVD player for my son si...           200   \n",
       "1  This is exactly what I was looking for! The ad...           200   \n",
       "2  I absolutely adore this series. I grew up with...           200   \n",
       "3  3.0 out of 5 starsStainless Steel BBQ griller\\...           200   \n",
       "4  This is a VERY dark turn for an already pretty...           200   \n",
       "5  I think this was a great book to add to any Ma...           200   \n",
       "6  If you are like me and you do not like Heisig\\...           200   \n",
       "7  Great product! The eggs come out perfect, it\\'...           200   \n",
       "8  5.0 out of 5 starsUseful!\\r\\nByG Ortizon Octob...           200   \n",
       "9  Very smooth, crisp color if not turning them i...           200   \n",
       "\n",
       "        state problem_details            similarityScore  \\\n",
       "0   completed            None  {'similarityScore': 0.25}   \n",
       "1   completed            None  {'similarityScore': 0.75}   \n",
       "2   completed            None  {'similarityScore': 0.75}   \n",
       "3   completed            None   {'similarityScore': 0.0}   \n",
       "4   completed            None   {'similarityScore': 0.0}   \n",
       "5   completed            None   {'similarityScore': 0.5}   \n",
       "6   completed            None  {'similarityScore': 0.25}   \n",
       "7   completed            None  {'similarityScore': 0.75}   \n",
       "8  processing            None                       None   \n",
       "9   completed            None   {'similarityScore': 0.0}   \n",
       "\n",
       "                      result  \n",
       "0  {'similarityScore': 0.25}  \n",
       "1  {'similarityScore': 0.75}  \n",
       "2  {'similarityScore': 0.75}  \n",
       "3   {'similarityScore': 0.0}  \n",
       "4   {'similarityScore': 0.0}  \n",
       "5   {'similarityScore': 0.5}  \n",
       "6  {'similarityScore': 0.25}  \n",
       "7  {'similarityScore': 0.75}  \n",
       "8                       None  \n",
       "9   {'similarityScore': 0.0}  "
      ]
     },
     "execution_count": 164,
     "metadata": {},
     "output_type": "execute_result"
    }
   ],
   "source": [
    "data"
   ]
  },
  {
   "cell_type": "markdown",
   "metadata": {},
   "source": [
    "## <a id='collect-utterance-for-intent'>collect-utterance-for-intent</a>\n",
    "\n",
    "Given a context and an intention, provide what you would say, in text, in that situation.\n",
    "\n",
    "input: `{\"context\": \"Someone recently bought a phone and it doesn't work\", \"intent\": \"They want to return a phone\"}'`\n",
    "\n",
    "result: `{'utterances': [{'text': 'The phone that I just bought stopped working.  I want to get a refund'}]}`\n",
    "\n"
   ]
  },
  {
   "cell_type": "markdown",
   "metadata": {},
   "source": [
    "Here's an example of what the HIT might look like to Workers:\n",
    "![collect-utterance-text-HIT-example](https://s3-us-west-2.amazonaws.com/mturk-sample-tasks/collect-utterance-text-HIT-example.png)"
   ]
  },
  {
   "cell_type": "code",
   "execution_count": 96,
   "metadata": {
    "collapsed": true
   },
   "outputs": [],
   "source": [
    "function_name = 'collect-utterance-for-intent'"
   ]
  },
  {
   "cell_type": "markdown",
   "metadata": {},
   "source": [
    "### Create a Task"
   ]
  },
  {
   "cell_type": "code",
   "execution_count": 97,
   "metadata": {},
   "outputs": [
    {
     "name": "stdout",
     "output_type": "stream",
     "text": [
      "my-test-task-97823be23096400f8a9744de15d0308d\n"
     ]
    }
   ],
   "source": [
    "# automatically generate a random task ID\n",
    "task_name = 'my-test-task-' + uuid.uuid4().hex\n",
    "print(task_name)"
   ]
  },
  {
   "cell_type": "code",
   "execution_count": 98,
   "metadata": {
    "collapsed": true
   },
   "outputs": [],
   "source": [
    "# provide the context and the intent\n",
    "context = 'Someone is calling their doctor\\'s office'\n",
    "intent = 'I want to change an existing appointment'"
   ]
  },
  {
   "cell_type": "code",
   "execution_count": 99,
   "metadata": {},
   "outputs": [
    {
     "name": "stdout",
     "output_type": "stream",
     "text": [
      "PUT response: {'status_code': 201, 'task': {'input': {'context': \"Someone is calling their doctor's office\", 'intent': 'I want to change an existing appointment'}, 'problemDetails': None, 'result': None, 'state': 'processing', 'taskName': 'my-test-task-97823be23096400f8a9744de15d0308d'}}\n"
     ]
    }
   ],
   "source": [
    "#create a single task with the input you specified above\n",
    "put_result = crowd_client.put_task(function_name,\n",
    "                             task_name,\n",
    "                             {'context': context, 'intent': intent})\n",
    "print('PUT response: {}'.format(\n",
    "    {'status_code': put_result.status_code, 'task': put_result.json()}))"
   ]
  },
  {
   "cell_type": "markdown",
   "metadata": {},
   "source": [
    "### Get the result\n",
    "\n",
    "Wait a few minutes before calling get_task to give Workers a chance to submit answers"
   ]
  },
  {
   "cell_type": "code",
   "execution_count": 100,
   "metadata": {},
   "outputs": [
    {
     "name": "stdout",
     "output_type": "stream",
     "text": [
      "GET response: {'status_code': 200, 'task': {'input': {'context': \"Someone is calling their doctor's office\", 'intent': 'I want to change an existing appointment'}, 'problemDetails': None, 'result': None, 'state': 'processing', 'taskName': 'my-test-task-97823be23096400f8a9744de15d0308d'}}\n"
     ]
    }
   ],
   "source": [
    "get_result = crowd_client.get_task(function_name, task_name)\n",
    "\n",
    "print('GET response: {}'.format(                     \n",
    "    {'status_code': get_result.status_code, 'task': get_result.json()}))"
   ]
  },
  {
   "cell_type": "markdown",
   "metadata": {},
   "source": [
    "## <a id='image-categorization'>image-categorization</a>\n",
    "\n",
    "Given an image URL and a list of categories, determine which category the image best belongs to.  You can optionally provide a description for each category to provide more guidance on what each category includes.\n",
    "\n",
    "\n",
    "Input: \n",
    "```\n",
    "{\n",
    "  \"input\": {\n",
    "    \"image\":{\"url\": \"https://s3-us-west-2.amazonaws.com/...1m.png\"},\n",
    "    \"categories\": [ \n",
    "        {'label': 'Ankle Boot', \n",
    "           'description':  'description1' ,\n",
    "           'positiveExamples': [\n",
    "                {'image': {'url':'https://s3-...1d.jpg'}}\n",
    "            ] ,\n",
    "           'negativeExamples': [\n",
    "                {'image': {'url':'https://s3-...1i.jpg'}}\n",
    "            ] \n",
    "         },\n",
    "         {'label': 'Wedge', \n",
    "           'description':  'description2 ',\n",
    "           'positiveExamples': [\n",
    "                {'image': {'url':'https://s3-...1l.png'}}\n",
    "            ] ,\n",
    "           'negativeExamples': [\n",
    "                {'image': {'url':'https://s3-...1i.png'}}\n",
    "            ] \n",
    "         },\n",
    "     ]\n",
    "   }\n",
    "}\n",
    "```\n",
    "\n",
    "Result: `{\"matches\": [{\"label\":\"Wedge\"}]} `"
   ]
  },
  {
   "cell_type": "markdown",
   "metadata": {},
   "source": [
    "![image-categorization-HIT-example](https://s3-us-west-2.amazonaws.com/mturk-sample-tasks/image-categorization-HIT-example.png)"
   ]
  },
  {
   "cell_type": "code",
   "execution_count": null,
   "metadata": {
    "collapsed": true
   },
   "outputs": [],
   "source": [
    "function_name = 'image-categorization'"
   ]
  },
  {
   "cell_type": "markdown",
   "metadata": {},
   "source": [
    "### Create a Task"
   ]
  },
  {
   "cell_type": "code",
   "execution_count": null,
   "metadata": {
    "collapsed": true
   },
   "outputs": [],
   "source": [
    "# automatically generate a random task ID\n",
    "task_name = 'my-test-task-' + uuid.uuid4().hex\n",
    "print(task_name)"
   ]
  },
  {
   "cell_type": "code",
   "execution_count": null,
   "metadata": {
    "collapsed": true
   },
   "outputs": [],
   "source": [
    "# provide the context and the intent\n",
    "image_url = 'https://s3-us-west-2.amazonaws.com/mturk-sample-media/images-to-compare/image-similarity-1m.png'\n",
    "\n",
    "label1 = 'Ankle Boot'\n",
    "label2 = 'Knee High Boot'\n",
    "label3 = 'Ballet Flats'\n",
    "label4 = 'Flip Flops'\n",
    "label5 = 'Sandal'\n",
    "label6 = 'Mule'\n",
    "label7 = 'Wedge'\n",
    "\n",
    "# Descriptions amd example images are optional, but help guide the worker.\n",
    "description1 = 'Closed toe shoe that covers entire foot up to ankle'\n",
    "description2 = 'Closed toe shoe that covers entire foot and leg up to knee'\n",
    "description3 = 'Closed toe shoe that covers foot and has no heel'\n",
    "description4 = 'Open toe shoe that connects to foot through a single strap'\n",
    "description5 = 'Open toe shoe that connects to foot through straps'\n",
    "description6 = 'Closed toe shoe with no back on the heel of wear\\'s foot'\n",
    "description7 = 'Heeled shoe where sole is in the form of a wedge'\n",
    "example1_image_url = 'https://s3-us-west-2.amazonaws.com/mturk-sample-media/images-to-compare/image-similarity-1d.jpg'\n",
    "example2_image_url = 'https://s3-us-west-2.amazonaws.com/mturk-sample-media/images-to-compare/image-similarity-1z.jpg'\n",
    "example3_image_url = 'https://s3-us-west-2.amazonaws.com/mturk-sample-media/images-to-compare/image-similarity-1dd.png'\n",
    "example4_image_url = 'https://s3-us-west-2.amazonaws.com/mturk-sample-media/images-to-compare/image-similarity-1b.png'\n",
    "example5_image_url = 'https://s3-us-west-2.amazonaws.com/mturk-sample-media/images-to-compare/image-similarity-1r.png'\n",
    "example6_image_url = 'https://s3-us-west-2.amazonaws.com/mturk-sample-media/images-to-compare/image-similarity-1x.png'\n",
    "example7_image_url = 'https://s3-us-west-2.amazonaws.com/mturk-sample-media/images-to-compare/image-similarity-1l.png'\n",
    "example1b_image_url = 'https://s3-us-west-2.amazonaws.com/mturk-sample-media/images-to-compare/image-similarity-1i.jpg'\n",
    "example2b_image_url = 'https://s3-us-west-2.amazonaws.com/mturk-sample-media/images-to-compare/image-similarity-1f.jpg'\n",
    "example3b_image_url = 'https://s3-us-west-2.amazonaws.com/mturk-sample-media/images-to-compare/image-similarity-1y.png'\n",
    "example4b_image_url = 'https://s3-us-west-2.amazonaws.com/mturk-sample-media/images-to-compare/image-similarity-1l.jpg'\n",
    "example5b_image_url = 'https://s3-us-west-2.amazonaws.com/mturk-sample-media/images-to-compare/image-similarity-1q.jpg'\n",
    "example6b_image_url = 'https://s3-us-west-2.amazonaws.com/mturk-sample-media/images-to-compare/image-similarity-1t.png'\n",
    "example7b_image_url = 'https://s3-us-west-2.amazonaws.com/mturk-sample-media/images-to-compare/image-similarity-1i.png'\n",
    "\n",
    "\n"
   ]
  },
  {
   "cell_type": "code",
   "execution_count": null,
   "metadata": {
    "collapsed": true
   },
   "outputs": [],
   "source": [
    "# Create the task\n",
    "put_result = crowd_client.put_task(function_name,\n",
    "                                   task_name,\n",
    "                                   {'image': {'url': image_url},\n",
    "                                   'categories': [ {'label': label1,  'description':  description1 ,\n",
    "                                                    'positiveExamples': [{'image': {'url': example1_image_url}}] ,\n",
    "                                                    'negativeExamples': [{'image': {'url': example1b_image_url}}] },\n",
    "                                                   {'label': label2,  'description':  description2,\n",
    "                                                    'positiveExamples': [{'image': {'url': example2_image_url}}] ,\n",
    "                                                    'negativeExamples': [{'image': {'url': example2b_image_url}}]  },\n",
    "                                                   {'label': label3,  'description':  description3,\n",
    "                                                    'positiveExamples': [{'image': {'url': example3_image_url}}] ,\n",
    "                                                    'negativeExamples': [{'image': {'url': example3b_image_url}}]  },\n",
    "                                                   {'label': label4,  'description':  description4,\n",
    "                                                    'positiveExamples': [{'image': {'url': example4_image_url}}] ,\n",
    "                                                    'negativeExamples': [{'image': {'url': example4b_image_url}}]  },\n",
    "                                                   {'label': label5,  'description':  description5,\n",
    "                                                      'positiveExamples': [{'image': {'url': example5_image_url}}] ,\n",
    "                                                      'negativeExamples': [{'image': {'url': example5b_image_url}}]  },\n",
    "                                                   {'label': label6,  'description':  description6,\n",
    "                                                      'positiveExamples': [{'image': {'url': example6_image_url}}] ,\n",
    "                                                      'negativeExamples': [{'image': {'url': example6b_image_url}}]  },\n",
    "                                                   {'label': label7,  'description':  description7,\n",
    "                                                    'positiveExamples': [{'image': {'url': example7_image_url}}] ,\n",
    "                                                    'negativeExamples': [{'image': {'url': example7b_image_url}}]  }] })\n",
    "\n",
    "print('PUT response: {}'.format(\n",
    "    {'status_code': put_result.status_code, 'task': put_result.json()}))"
   ]
  },
  {
   "cell_type": "markdown",
   "metadata": {},
   "source": [
    "### Get the result\n",
    "\n",
    "Wait a few minutes before calling get_task to give Workers a chance to submit answers"
   ]
  },
  {
   "cell_type": "code",
   "execution_count": null,
   "metadata": {
    "collapsed": true
   },
   "outputs": [],
   "source": [
    "get_result = crowd_client.get_task(function_name, task_name)\n",
    "\n",
    "print('GET response: {}'.format(                     \n",
    "    {'status_code': get_result.status_code, 'task': get_result.json()}))"
   ]
  },
  {
   "cell_type": "markdown",
   "metadata": {},
   "source": [
    "## <a id='intent-detection'>intent-detection</a>"
   ]
  },
  {
   "cell_type": "markdown",
   "metadata": {},
   "source": [
    "Given a list of intentions, categorize the best intention that matches the text given.\n",
    "\n",
    "input: \n",
    "```\n",
    "{\n",
    "  \"input\": {\n",
    "     \"text\": \"my son was stung by bees and I need to know if I need to go to the ER\",\n",
    "     \"intents\":[\n",
    "                 {\"label\": \"Schedule an appointment\", \n",
    "                  \"description\": \"Caller expresses an intent to visit with health care professional\"\n",
    "                  \"positiveExamples\":  [\n",
    "                        {\"text\": \"I need to make an appointment with Dr. Smith\" },\n",
    "                        {\"text\": \"Can the doctor see me today?\"}], \n",
    "                  \"negativeExamples\":  [\n",
    "                        {\"text\": \"Do you sell burritos?\" },\n",
    "                        {\"text\": \"Do you accept credit cards?\"}] },\n",
    "                 {\"label\": \"Medical Record Request\", \n",
    "                  \"description\": \"Caller expresses a desire to obtain copies of their medical history\"\n",
    "                  \"positiveExamples\":  [\n",
    "                        {\"text\": \"I need a copy of my kids’ immunization records\" },\n",
    "                        {\"text\": \"Can you fax my test results to my surgeon\"}], \n",
    "                  \"negativeExamples\":  [\n",
    "                       {\"text\": \"I need to refill my prescription\"},\n",
    "                        {\"text\": \"Do you have my test results?\"}] }]\n",
    "   }\n",
    "}\n",
    "```\n",
    "\n",
    "result:`{\"matches\": [{\"label\": \"Schedule an appointment\"}]}`"
   ]
  },
  {
   "cell_type": "markdown",
   "metadata": {},
   "source": [
    "Here's an example of what the task might look like for Workers.\n",
    "![text-intent-detection-HIT-example](https://s3-us-west-2.amazonaws.com/mturk-sample-tasks/text-intent-detection-HIT-example.png)"
   ]
  },
  {
   "cell_type": "code",
   "execution_count": 101,
   "metadata": {
    "collapsed": true
   },
   "outputs": [],
   "source": [
    "function_name = 'intent-detection'"
   ]
  },
  {
   "cell_type": "markdown",
   "metadata": {},
   "source": [
    "### Create a Task"
   ]
  },
  {
   "cell_type": "code",
   "execution_count": 102,
   "metadata": {},
   "outputs": [
    {
     "name": "stdout",
     "output_type": "stream",
     "text": [
      "my-test-task-5bb6b000030947b9a56b7821ae181a1a\n"
     ]
    }
   ],
   "source": [
    "# automatically generate a random task ID\n",
    "task_name = 'my-test-task-' + uuid.uuid4().hex\n",
    "print(task_name)"
   ]
  },
  {
   "cell_type": "code",
   "execution_count": 103,
   "metadata": {
    "collapsed": true
   },
   "outputs": [],
   "source": [
    "# define the text to be analysed and a list of intentions to categorize the text for\n",
    "text = 'my son was stung by bees and I need to know if I need to go to the ER'\n",
    "intents =  [{'label': 'Schedule an appointment', 'description': 'e.g. I need to make an appointment with Dr. Smith'}, {'label': 'Medical Record Request', 'description': 'e.g. I need a copy of my kids immunization records'}]"
   ]
  },
  {
   "cell_type": "code",
   "execution_count": 104,
   "metadata": {},
   "outputs": [
    {
     "name": "stdout",
     "output_type": "stream",
     "text": [
      "PUT response: {'status_code': 201, 'task': {'input': {'intents': [{'description': 'e.g. I need to make an appointment with Dr. Smith', 'label': 'Schedule an appointment'}, {'description': 'e.g. I need a copy of my kids immunization records', 'label': 'Medical Record Request'}], 'text': 'my son was stung by bees and I need to know if I need to go to the ER'}, 'problemDetails': None, 'result': None, 'state': 'processing', 'taskName': 'my-test-task-5bb6b000030947b9a56b7821ae181a1a'}}\n"
     ]
    }
   ],
   "source": [
    "# create a single task with the input you specified above\n",
    "put_result = crowd_client.put_task(function_name,\n",
    "                                   task_name,\n",
    "                                  {'text': text,\n",
    "                                  'intents': intents})\n",
    "print('PUT response: {}'.format(\n",
    "    {'status_code': put_result.status_code, 'task': put_result.json()}))"
   ]
  },
  {
   "cell_type": "markdown",
   "metadata": {},
   "source": [
    "### Get the result\n",
    "\n",
    "Wait a few minutes before calling get_task to give Workers a chance to submit answers"
   ]
  },
  {
   "cell_type": "code",
   "execution_count": 105,
   "metadata": {},
   "outputs": [
    {
     "name": "stdout",
     "output_type": "stream",
     "text": [
      "GET response: {'status_code': 200, 'task': {'input': {'intents': [{'description': 'e.g. I need to make an appointment with Dr. Smith', 'label': 'Schedule an appointment'}, {'description': 'e.g. I need a copy of my kids immunization records', 'label': 'Medical Record Request'}], 'text': 'my son was stung by bees and I need to know if I need to go to the ER'}, 'problemDetails': None, 'result': None, 'state': 'processing', 'taskName': 'my-test-task-5bb6b000030947b9a56b7821ae181a1a'}}\n"
     ]
    }
   ],
   "source": [
    "get_result = crowd_client.get_task(function_name, task_name)\n",
    "\n",
    "print('GET response: {}'.format(                     \n",
    "    {'status_code': get_result.status_code, 'task': get_result.json()}))"
   ]
  },
  {
   "cell_type": "markdown",
   "metadata": {},
   "source": [
    "## <a id=text-categorization>text-categorization</a>\n",
    "\n",
    "Given a piece of text and a list of categories, choose the best cateogry that fits the text.\n",
    "\n",
    "input: \n",
    "```\n",
    "{\n",
    "  \"input\": {\n",
    "    \"text\": \"These are great. They do run a touch small. \n",
    "           I almost could go a half size up from my normal size.\" , \n",
    "    \"description\": \"Customer mentions appearance or style of item.',\n",
    "    \"categories\": [ \n",
    "         {\"label\": \"Style\", \n",
    "          \"description\":  \"Customer mentions appearance or\n",
    "                             style of item.\" ,\n",
    "          \"positiveExamples\": [\n",
    "               {\"text\": \"Not the color I ordered\"},\n",
    "               {\"text\": \"No longer in season\"} \n",
    "           ] ,\n",
    "          \"negativeExamples\": [\n",
    "               {\"text\": \"Too large\"},\n",
    "               {\"text\": \"Fabric was too thin\"}\n",
    "           ] \n",
    "         },\n",
    "         {\"label\": \"Fit\", \n",
    "          \"description\":  \"Customer mentions the cut or\n",
    "                            fit of item.\" ,\n",
    "          \"positiveExamples\": [\n",
    "               {\"text\": \"This was too short.\"},\n",
    "               {\"text\": \"Doesn't work for my body type.\"} \n",
    "           ] ,\n",
    "          \"negativeExamples\": [\n",
    "               {\"text\": \"I don't like the baggy look\"},\n",
    "               {\"text\": \"Neckline is too low cut\"}\n",
    "           ] \n",
    "         }\n",
    "      ]\n",
    "   }\n",
    "}\n",
    "```\n",
    "\n",
    "result: `{\"matches\": [{\"label\" : \"Fit\"}] }`"
   ]
  },
  {
   "cell_type": "markdown",
   "metadata": {},
   "source": [
    "Here's an example of a HIT to MTurk Workers generated by calling this API\n",
    "![text-categorization-HIT-example](https://s3-us-west-2.amazonaws.com/mturk-sample-tasks/text-categorization-HIT-example.png)"
   ]
  },
  {
   "cell_type": "code",
   "execution_count": null,
   "metadata": {
    "collapsed": true
   },
   "outputs": [],
   "source": [
    "function_name = 'text-categorization'"
   ]
  },
  {
   "cell_type": "markdown",
   "metadata": {},
   "source": [
    "### Create a Task"
   ]
  },
  {
   "cell_type": "code",
   "execution_count": null,
   "metadata": {
    "collapsed": true
   },
   "outputs": [],
   "source": [
    "# automatically generate a random task ID\n",
    "task_name = 'my-test-task-' + uuid.uuid4().hex\n",
    "print(task_name)"
   ]
  },
  {
   "cell_type": "code",
   "execution_count": null,
   "metadata": {
    "collapsed": true
   },
   "outputs": [],
   "source": [
    "# define the text to be analysed and a list of categories to assess for\n",
    "text = 'These are great. They do run a touch small. I almost could go a half size up from my normal size.'\n",
    "categories =  [{'label': 'style', 'description': 'related to the look of the product'}, {'label': 'fit', 'description': 'related to the sizing or how it fits'}, {'label': 'quality', 'description': 'related to how well made the product is'}, {'label': 'price', 'description': 'related to cost or value of the product'}]"
   ]
  },
  {
   "cell_type": "code",
   "execution_count": null,
   "metadata": {
    "collapsed": true
   },
   "outputs": [],
   "source": [
    "# create a single task with the input you specified above\n",
    "put_result = crowd_client.put_task(function_name,\n",
    "                                   task_name,\n",
    "                                  {'text': text,\n",
    "                                  'categories': categories})\n",
    "print('PUT response: {}'.format(\n",
    "    {'status_code': put_result.status_code, 'task': put_result.json()}))"
   ]
  },
  {
   "cell_type": "markdown",
   "metadata": {},
   "source": [
    "### Get the result\n",
    "\n",
    "Wait a few minutes before calling get_task to give Workers a chance to submit answers"
   ]
  },
  {
   "cell_type": "code",
   "execution_count": null,
   "metadata": {
    "collapsed": true
   },
   "outputs": [],
   "source": [
    "get_result = crowd_client.get_task(function_name, task_name)\n",
    "\n",
    "print('GET response: {}'.format(                     \n",
    "    {'status_code': get_result.status_code, 'task': get_result.json()}))"
   ]
  },
  {
   "cell_type": "markdown",
   "metadata": {},
   "source": [
    "## <a id=named-entity-recognition>named-entity-recognition</a>\n",
    "\n",
    "Given a paragraph of text, label the span of text that represent entities of various categories, such as person and location.\n",
    "\n",
    "input: `{'text': 'Harry Potter is midway through his training as a wizard and his coming of age. Harry wants to get away from the pernicious Dursleys and go to the International Quidditch Cup. He wants to find out about the mysterious event that's supposed to take place at Hogwarts this year, an event involving two other rival schools of magic, and a competition that hasn't happened for a hundred years. He wants to be a normal, fourteen-year-old wizard. But unfortunately for Harry Potter, he's not normal - even by wizarding standards. And in his case, different can be deadly.'}`\n",
    "\n",
    "\n",
    "result: `{'entities': [{'span': {'endIndex': 12, 'startIndex': 0, 'text': 'Harry Potter', 'type': 'person'}}, {'span': {'endIndex': 84, 'startIndex': 79, 'text': 'Harry', 'type': 'person'}}, {'span': {'endIndex': 131, 'startIndex': 123, 'text': 'Dursleys', 'type': 'person'} }, {'span': {'endIndex': 77, 'startIndex': 60, 'text': 'his coming of age', 'type': 'date'} }, {'span': {'endIndex': 173, 'startIndex': 146, 'text': 'International Quidditch Cup', 'type': 'event'}}, {'span': {'endIndex': 222, 'startIndex': 217, 'text': 'event', 'type': 'event'}}, {'span': {'endIndex': 284, 'startIndex': 279, 'text': 'event', 'type': 'event'} }, {'span': {'endIndex': 346, 'startIndex': 335, 'text': 'competition', 'type': 'event'} }, {'span': {'endIndex': 264, 'startIndex': 256, 'text': 'Hogwarts', 'type': 'organization'} }, {'span': {'endIndex': 318, 'startIndex': 311, 'text': 'schools', 'type': 'organization'} }, {'span': {'endIndex': 264, 'startIndex': 256, 'text': 'Hogwarts', 'type': 'organization'}}]}`"
   ]
  },
  {
   "cell_type": "markdown",
   "metadata": {},
   "source": [
    "![NER-HIT-example](https://s3-us-west-2.amazonaws.com/mturk-sample-tasks/ner-HIT-example.png)"
   ]
  },
  {
   "cell_type": "markdown",
   "metadata": {},
   "source": [
    "### Create a Task"
   ]
  },
  {
   "cell_type": "code",
   "execution_count": 87,
   "metadata": {},
   "outputs": [],
   "source": [
    "#set the function_name to the name of the single use API\n",
    "function_name = 'named-entity-recognition'"
   ]
  },
  {
   "cell_type": "code",
   "execution_count": 88,
   "metadata": {},
   "outputs": [
    {
     "name": "stdout",
     "output_type": "stream",
     "text": [
      "my-test-task-5161f8ef447b4742896ec97597084862\n"
     ]
    }
   ],
   "source": [
    "# automatically generate a random task ID\n",
    "task_name = 'my-test-task-' + uuid.uuid4().hex\n",
    "print(task_name)"
   ]
  },
  {
   "cell_type": "code",
   "execution_count": 89,
   "metadata": {},
   "outputs": [],
   "source": [
    "# define the text that you want analyzed, up to 16k\n",
    "text = 'Harry Potter is midway through his training as a wizard and his coming of age. Harry wants to get away from the pernicious Dursleys and go to the International Quidditch Cup. He wants to find out about the mysterious event that\\'s supposed to take place at Hogwarts this year, an event involving two other rival schools of magic, and a competition that hasn\\'t happened for a hundred years.'"
   ]
  },
  {
   "cell_type": "code",
   "execution_count": 84,
   "metadata": {},
   "outputs": [
    {
     "name": "stdout",
     "output_type": "stream",
     "text": [
      "PUT response: {'status_code': 201, 'task': {'input': {'text': \"Harry Potter is midway through his training as a wizard and his coming of age. Harry wants to get away from the pernicious Dursleys and go to the International Quidditch Cup. He wants to find out about the mysterious event that's supposed to take place at Hogwarts this year, an event involving two other rival schools of magic, and a competition that hasn't happened for a hundred years.\"}, 'problemDetails': None, 'result': None, 'state': 'processing', 'taskName': 'my-test-task-8157aa6957f94628b7c31788a18d6ff0'}}\n"
     ]
    }
   ],
   "source": [
    "# create a single task with the input you specified above\n",
    "put_result = crowd_client.put_task(function_name,\n",
    "                             task_name,\n",
    "                             {'text': text})\n",
    "print('PUT response: {}'.format(\n",
    "    {'status_code': put_result.status_code, 'task': put_result.json()}))"
   ]
  },
  {
   "cell_type": "markdown",
   "metadata": {},
   "source": [
    "### Get the result\n",
    "\n",
    "Wait a few minutes before calling get_task to give Workers a chance to submit answers"
   ]
  },
  {
   "cell_type": "code",
   "execution_count": 85,
   "metadata": {},
   "outputs": [
    {
     "name": "stdout",
     "output_type": "stream",
     "text": [
      "GET response: {'status_code': 200, 'task': {'input': {'text': \"Harry Potter is midway through his training as a wizard and his coming of age. Harry wants to get away from the pernicious Dursleys and go to the International Quidditch Cup. He wants to find out about the mysterious event that's supposed to take place at Hogwarts this year, an event involving two other rival schools of magic, and a competition that hasn't happened for a hundred years.\"}, 'problemDetails': None, 'result': None, 'state': 'processing', 'taskName': 'my-test-task-8157aa6957f94628b7c31788a18d6ff0'}}\n"
     ]
    }
   ],
   "source": [
    "get_result = crowd_client.get_task(function_name, task_name)\n",
    "\n",
    "print('GET response: {}'.format(                     \n",
    "    {'status_code': get_result.status_code, 'task': get_result.json()}))"
   ]
  },
  {
   "cell_type": "markdown",
   "metadata": {},
   "source": [
    "### Creating multiple Tasks and Processing Results \n",
    "\n",
    "Next, we'll read from a CSV file that has multiple rows of text that needs to be analyzed for sentiment using the pandas library.  As a prerequisite you need to have installed the pandas library."
   ]
  },
  {
   "cell_type": "code",
   "execution_count": 90,
   "metadata": {},
   "outputs": [],
   "source": [
    "import pandas as pd"
   ]
  },
  {
   "cell_type": "code",
   "execution_count": 92,
   "metadata": {
    "scrolled": true
   },
   "outputs": [],
   "source": [
    "#read the input data from csv into a pandas DataFrame\n",
    "data = pd.read_csv('https://s3-us-west-2.amazonaws.com/mturk-sample-datasets/named-entity-recognition-inputs.csv')\n",
    "#data = pd.read_csv('named-entity-recognition-inputs.csv')"
   ]
  },
  {
   "cell_type": "code",
   "execution_count": 93,
   "metadata": {},
   "outputs": [
    {
     "data": {
      "text/html": [
       "<div>\n",
       "<style scoped>\n",
       "    .dataframe tbody tr th:only-of-type {\n",
       "        vertical-align: middle;\n",
       "    }\n",
       "\n",
       "    .dataframe tbody tr th {\n",
       "        vertical-align: top;\n",
       "    }\n",
       "\n",
       "    .dataframe thead th {\n",
       "        text-align: right;\n",
       "    }\n",
       "</style>\n",
       "<table border=\"1\" class=\"dataframe\">\n",
       "  <thead>\n",
       "    <tr style=\"text-align: right;\">\n",
       "      <th></th>\n",
       "      <th>task_id</th>\n",
       "      <th>review_text</th>\n",
       "    </tr>\n",
       "  </thead>\n",
       "  <tbody>\n",
       "    <tr>\n",
       "      <th>0</th>\n",
       "      <td>customer_review_1</td>\n",
       "      <td>I generally use Pampers Sensitive baby wipes, ...</td>\n",
       "    </tr>\n",
       "    <tr>\n",
       "      <th>1</th>\n",
       "      <td>customer_review_2</td>\n",
       "      <td>I ordered this toilet paper thinking it was co...</td>\n",
       "    </tr>\n",
       "    <tr>\n",
       "      <th>2</th>\n",
       "      <td>customer_review_3</td>\n",
       "      <td>Excellent, solid built cable with compact head...</td>\n",
       "    </tr>\n",
       "    <tr>\n",
       "      <th>3</th>\n",
       "      <td>customer_review_4</td>\n",
       "      <td>And finally: Samsung\\'s Gear Fit Pro fitness t...</td>\n",
       "    </tr>\n",
       "    <tr>\n",
       "      <th>4</th>\n",
       "      <td>customer_review_5</td>\n",
       "      <td>I purchased these Towbows and Copic Markers an...</td>\n",
       "    </tr>\n",
       "    <tr>\n",
       "      <th>5</th>\n",
       "      <td>customer_review_6</td>\n",
       "      <td>Bring your photographic subjects closer with t...</td>\n",
       "    </tr>\n",
       "    <tr>\n",
       "      <th>6</th>\n",
       "      <td>customer_review_7</td>\n",
       "      <td>FCC Chairman Newton Minow termed television a ...</td>\n",
       "    </tr>\n",
       "    <tr>\n",
       "      <th>7</th>\n",
       "      <td>customer_review_8</td>\n",
       "      <td>The Grammys nominated The Chainsmokers for Bes...</td>\n",
       "    </tr>\n",
       "    <tr>\n",
       "      <th>8</th>\n",
       "      <td>customer_review_9</td>\n",
       "      <td>We were recommended this restaurant by our ric...</td>\n",
       "    </tr>\n",
       "    <tr>\n",
       "      <th>9</th>\n",
       "      <td>customer_review_10</td>\n",
       "      <td>Found this Hotel on Trip Advisor. Excellent va...</td>\n",
       "    </tr>\n",
       "  </tbody>\n",
       "</table>\n",
       "</div>"
      ],
      "text/plain": [
       "              task_id                                        review_text\n",
       "0   customer_review_1  I generally use Pampers Sensitive baby wipes, ...\n",
       "1   customer_review_2  I ordered this toilet paper thinking it was co...\n",
       "2   customer_review_3  Excellent, solid built cable with compact head...\n",
       "3   customer_review_4  And finally: Samsung\\'s Gear Fit Pro fitness t...\n",
       "4   customer_review_5  I purchased these Towbows and Copic Markers an...\n",
       "5   customer_review_6  Bring your photographic subjects closer with t...\n",
       "6   customer_review_7  FCC Chairman Newton Minow termed television a ...\n",
       "7   customer_review_8  The Grammys nominated The Chainsmokers for Bes...\n",
       "8   customer_review_9  We were recommended this restaurant by our ric...\n",
       "9  customer_review_10  Found this Hotel on Trip Advisor. Excellent va..."
      ]
     },
     "execution_count": 93,
     "metadata": {},
     "output_type": "execute_result"
    }
   ],
   "source": [
    "# column 1 is the Task ID and column2 is the input data\n",
    "data"
   ]
  },
  {
   "cell_type": "code",
   "execution_count": 94,
   "metadata": {},
   "outputs": [],
   "source": [
    "#loop through the rows and create a Task per row, write the put_task status in a new column\n",
    "status_codes = []\n",
    "for index, row in data.iterrows():\n",
    "    put_result = crowd_client.put_task(function_name, row.task_id,{'text': row.review_text})\n",
    "    status_codes.append(put_result.status_code)\n",
    "data['status_codes'] = status_codes"
   ]
  },
  {
   "cell_type": "code",
   "execution_count": 95,
   "metadata": {},
   "outputs": [
    {
     "data": {
      "text/html": [
       "<div>\n",
       "<style scoped>\n",
       "    .dataframe tbody tr th:only-of-type {\n",
       "        vertical-align: middle;\n",
       "    }\n",
       "\n",
       "    .dataframe tbody tr th {\n",
       "        vertical-align: top;\n",
       "    }\n",
       "\n",
       "    .dataframe thead th {\n",
       "        text-align: right;\n",
       "    }\n",
       "</style>\n",
       "<table border=\"1\" class=\"dataframe\">\n",
       "  <thead>\n",
       "    <tr style=\"text-align: right;\">\n",
       "      <th></th>\n",
       "      <th>task_id</th>\n",
       "      <th>review_text</th>\n",
       "      <th>status_codes</th>\n",
       "    </tr>\n",
       "  </thead>\n",
       "  <tbody>\n",
       "    <tr>\n",
       "      <th>0</th>\n",
       "      <td>customer_review_1</td>\n",
       "      <td>I generally use Pampers Sensitive baby wipes, ...</td>\n",
       "      <td>200</td>\n",
       "    </tr>\n",
       "    <tr>\n",
       "      <th>1</th>\n",
       "      <td>customer_review_2</td>\n",
       "      <td>I ordered this toilet paper thinking it was co...</td>\n",
       "      <td>200</td>\n",
       "    </tr>\n",
       "    <tr>\n",
       "      <th>2</th>\n",
       "      <td>customer_review_3</td>\n",
       "      <td>Excellent, solid built cable with compact head...</td>\n",
       "      <td>200</td>\n",
       "    </tr>\n",
       "    <tr>\n",
       "      <th>3</th>\n",
       "      <td>customer_review_4</td>\n",
       "      <td>And finally: Samsung\\'s Gear Fit Pro fitness t...</td>\n",
       "      <td>400</td>\n",
       "    </tr>\n",
       "    <tr>\n",
       "      <th>4</th>\n",
       "      <td>customer_review_5</td>\n",
       "      <td>I purchased these Towbows and Copic Markers an...</td>\n",
       "      <td>200</td>\n",
       "    </tr>\n",
       "    <tr>\n",
       "      <th>5</th>\n",
       "      <td>customer_review_6</td>\n",
       "      <td>Bring your photographic subjects closer with t...</td>\n",
       "      <td>200</td>\n",
       "    </tr>\n",
       "    <tr>\n",
       "      <th>6</th>\n",
       "      <td>customer_review_7</td>\n",
       "      <td>FCC Chairman Newton Minow termed television a ...</td>\n",
       "      <td>200</td>\n",
       "    </tr>\n",
       "    <tr>\n",
       "      <th>7</th>\n",
       "      <td>customer_review_8</td>\n",
       "      <td>The Grammys nominated The Chainsmokers for Bes...</td>\n",
       "      <td>200</td>\n",
       "    </tr>\n",
       "    <tr>\n",
       "      <th>8</th>\n",
       "      <td>customer_review_9</td>\n",
       "      <td>We were recommended this restaurant by our ric...</td>\n",
       "      <td>200</td>\n",
       "    </tr>\n",
       "    <tr>\n",
       "      <th>9</th>\n",
       "      <td>customer_review_10</td>\n",
       "      <td>Found this Hotel on Trip Advisor. Excellent va...</td>\n",
       "      <td>200</td>\n",
       "    </tr>\n",
       "  </tbody>\n",
       "</table>\n",
       "</div>"
      ],
      "text/plain": [
       "              task_id                                        review_text  \\\n",
       "0   customer_review_1  I generally use Pampers Sensitive baby wipes, ...   \n",
       "1   customer_review_2  I ordered this toilet paper thinking it was co...   \n",
       "2   customer_review_3  Excellent, solid built cable with compact head...   \n",
       "3   customer_review_4  And finally: Samsung\\'s Gear Fit Pro fitness t...   \n",
       "4   customer_review_5  I purchased these Towbows and Copic Markers an...   \n",
       "5   customer_review_6  Bring your photographic subjects closer with t...   \n",
       "6   customer_review_7  FCC Chairman Newton Minow termed television a ...   \n",
       "7   customer_review_8  The Grammys nominated The Chainsmokers for Bes...   \n",
       "8   customer_review_9  We were recommended this restaurant by our ric...   \n",
       "9  customer_review_10  Found this Hotel on Trip Advisor. Excellent va...   \n",
       "\n",
       "   status_codes  \n",
       "0           200  \n",
       "1           200  \n",
       "2           200  \n",
       "3           400  \n",
       "4           200  \n",
       "5           200  \n",
       "6           200  \n",
       "7           200  \n",
       "8           200  \n",
       "9           200  "
      ]
     },
     "execution_count": 95,
     "metadata": {},
     "output_type": "execute_result"
    }
   ],
   "source": [
    "data"
   ]
  },
  {
   "cell_type": "markdown",
   "metadata": {},
   "source": [
    "We'll call get_task periodically until all of the Tasks reach the \"completed\" state."
   ]
  },
  {
   "cell_type": "code",
   "execution_count": 100,
   "metadata": {},
   "outputs": [],
   "source": [
    "# loop through the rows and get results, store the state and results in new columns\n",
    "\n",
    "status_codes = []\n",
    "responses = []\n",
    "for index, row in data.iterrows():\n",
    "    get_result = crowd_client.get_task(function_name, row.task_id)\n",
    "    status_codes.append(get_result.status_code)\n",
    "    responses.append(get_result.json())"
   ]
  },
  {
   "cell_type": "code",
   "execution_count": 167,
   "metadata": {},
   "outputs": [],
   "source": [
    "data['status_codes'] = status_codes\n",
    "data['state'] = [r['state'] for r in responses]\n",
    "data['problem_details'] = [r['problemDetails'] for r in responses]\n",
    "#need to handle the case when not all tasks are in completed state\n",
    "#data['result'] = [r['result'] for r in responses]\n",
    "if 'processing' in data['state'].unique():\n",
    "    data['result'] = 'data still pending'    \n",
    "else:\n",
    "    data['result'] = [r['result'] for r in responses]\n"
   ]
  },
  {
   "cell_type": "code",
   "execution_count": null,
   "metadata": {},
   "outputs": [],
   "source": [
    "data"
   ]
  },
  {
   "cell_type": "code",
   "execution_count": 31,
   "metadata": {
    "collapsed": true
   },
   "outputs": [],
   "source": [
    "#write results to csv\n",
    "data.to_csv('NER-results-sample.csv')"
   ]
  },
  {
   "cell_type": "markdown",
   "metadata": {},
   "source": [
    "## <a id='bounding-box'> bounding-box </a>"
   ]
  },
  {
   "cell_type": "markdown",
   "metadata": {},
   "source": [
    "Given an image, draw a box around particular objects, specified by labels.  This API returns the coordinates of labeled objects in the image.\n",
    "\n",
    "input: `{\"image\": {\"url\": \"https://sierra-videos.s3.amazonaws.com/2017_0521/DJI_0001_frames_720h/1495411174030000000.jpg\"}, \"labels\": [{\"label\": \"car\"}, {\"label\": \"pedestrians\"}]}`\n",
    "\n",
    "result: `{'annotations': [{'boundingBox': {'height': 55, 'left': 896, 'top': 665, 'width': 51}, 'label': 'car'}, {'boundingBox': {'height': 50, 'left': 555, 'top': 515, 'width': 63}, 'label': 'car'}, {'boundingBox': {'height': 51, 'left': 539, 'top': 590, 'width': 58}, 'label': 'car'}, {'boundingBox': {'height': 44, 'left': 216, 'top': 512, 'width': 55}, 'label': 'car'}, {'boundingBox': {'height': 54, 'left': 873, 'top': 475, 'width': 53}, 'label': 'car'}, {'boundingBox': {'height': 56, 'left': 1083, 'top': 490, 'width': 47}, 'label': 'car'}, {'boundingBox': {'height': 42, 'left': 164, 'top': 659, 'width': 66}, 'label': 'car'}, {'boundingBox': {'height': 46, 'left': 524, 'top': 213, 'width': 50}, 'label': 'car'}, {'boundingBox': {'height': 48, 'left': 814, 'top': 311, 'width': 53}, 'label': 'car'}]}`\n",
    "\n",
    "This API currently only supports upright bounding boxes.  "
   ]
  },
  {
   "cell_type": "markdown",
   "metadata": {},
   "source": [
    "Here's an example of what the Worker sees:\n",
    "![bound-box-HIT-example](https://s3-us-west-2.amazonaws.com/mturk-sample-tasks/bound-box-HIT-example.png)"
   ]
  },
  {
   "cell_type": "code",
   "execution_count": 8,
   "metadata": {
    "collapsed": true
   },
   "outputs": [],
   "source": [
    "function_name = 'bounding-box'"
   ]
  },
  {
   "cell_type": "markdown",
   "metadata": {},
   "source": [
    "### Create a Task"
   ]
  },
  {
   "cell_type": "code",
   "execution_count": 9,
   "metadata": {},
   "outputs": [
    {
     "name": "stdout",
     "output_type": "stream",
     "text": [
      "my-test-task-52162080f2964bbeafc7a1b3e42dc78e\n"
     ]
    }
   ],
   "source": [
    "# automatically generate a random task ID\n",
    "task_name = 'my-test-task-' + uuid.uuid4().hex\n",
    "print(task_name)"
   ]
  },
  {
   "cell_type": "code",
   "execution_count": 10,
   "metadata": {
    "collapsed": true
   },
   "outputs": [],
   "source": [
    "# provide the context and the intent\n",
    "image_url = 'https://sierra-videos.s3.amazonaws.com/2017_0521/DJI_0001_frames_720h/1495411174030000000.jpg'\n",
    "labels =  [{\"label\": \"car\"}, {\"label\": \"pedestrians\"}]"
   ]
  },
  {
   "cell_type": "code",
   "execution_count": 11,
   "metadata": {},
   "outputs": [
    {
     "name": "stdout",
     "output_type": "stream",
     "text": [
      "PUT response: {'status_code': 201, 'task': {'input': {'image': {'url': 'https://sierra-videos.s3.amazonaws.com/2017_0521/DJI_0001_frames_720h/1495411174030000000.jpg'}, 'labels': [{'label': 'car'}, {'label': 'pedestrians'}]}, 'problemDetails': None, 'result': None, 'state': 'processing', 'taskName': 'my-test-task-52162080f2964bbeafc7a1b3e42dc78e'}}\n"
     ]
    }
   ],
   "source": [
    "#create a single task with the input you specified above\n",
    "put_result = crowd_client.put_task(function_name,\n",
    "                             task_name,\n",
    "                            {'image': {'url': image_url},\n",
    "                            'labels': labels})\n",
    "\n",
    "print('PUT response: {}'.format(\n",
    "    {'status_code': put_result.status_code, 'task': put_result.json()}))"
   ]
  },
  {
   "cell_type": "markdown",
   "metadata": {},
   "source": [
    "### Get the result\n",
    "\n",
    "Wait a few minutes before calling get_task to give Workers a chance to submit answers"
   ]
  },
  {
   "cell_type": "code",
   "execution_count": 12,
   "metadata": {},
   "outputs": [
    {
     "name": "stdout",
     "output_type": "stream",
     "text": [
      "GET response: {'status_code': 200, 'task': {'input': {'image': {'url': 'https://sierra-videos.s3.amazonaws.com/2017_0521/DJI_0001_frames_720h/1495411174030000000.jpg'}, 'labels': [{'label': 'car'}, {'label': 'pedestrians'}]}, 'problemDetails': None, 'result': None, 'state': 'processing', 'taskName': 'my-test-task-52162080f2964bbeafc7a1b3e42dc78e'}}\n"
     ]
    }
   ],
   "source": [
    "get_result = crowd_client.get_task(function_name, task_name)\n",
    "\n",
    "print('GET response: {}'.format(                     \n",
    "    {'status_code': get_result.status_code, 'task': get_result.json()}))"
   ]
  },
  {
   "cell_type": "markdown",
   "metadata": {},
   "source": [
    "## <a id=image-similarity>image-similarity</a>\n",
    "This API takes in two images, specified by URL, and returns a score for how similar those two images are.  \n",
    "\n",
    "input: `{'input': {'image1': {'url': 'https://s3-us-west-2.amazonaws.com/mturk-sample-media/images-to-compare/image-similarity-1a.png'}, 'image2': {'url': 'https://s3-us-west-2.amazonaws.com/mturk-sample-media/images-to-compare/image-similarity-1b.png'}}`\n",
    "\n",
    "result: `{'similarityScore': 0.75}`"
   ]
  },
  {
   "cell_type": "markdown",
   "metadata": {},
   "source": [
    "Here's an example of a HIT that's shown to Workers:\n",
    "![image-similarity-HIT-example](https://s3-us-west-2.amazonaws.com/mturk-sample-tasks/image-similarity-HIT-example.png)"
   ]
  },
  {
   "cell_type": "code",
   "execution_count": 18,
   "metadata": {
    "collapsed": true
   },
   "outputs": [],
   "source": [
    "function_name = 'image-similarity'"
   ]
  },
  {
   "cell_type": "markdown",
   "metadata": {},
   "source": [
    "### Create a Task"
   ]
  },
  {
   "cell_type": "code",
   "execution_count": 19,
   "metadata": {},
   "outputs": [
    {
     "name": "stdout",
     "output_type": "stream",
     "text": [
      "my-test-task-847ac56e049249228283881984914ebb\n"
     ]
    }
   ],
   "source": [
    "# automatically generate a random task ID\n",
    "task_name = 'my-test-task-' + uuid.uuid4().hex\n",
    "print(task_name)"
   ]
  },
  {
   "cell_type": "code",
   "execution_count": 20,
   "metadata": {
    "collapsed": true
   },
   "outputs": [],
   "source": [
    "# the URLs of the images that you want to compare\n",
    "image_url_1 = 'https://s3-us-west-2.amazonaws.com/mturk-sample-media/images-to-compare/image-similarity-1a.png'\n",
    "image_url_2 = 'https://s3-us-west-2.amazonaws.com/mturk-sample-media/images-to-compare/image-similarity-1b.png'"
   ]
  },
  {
   "cell_type": "code",
   "execution_count": 21,
   "metadata": {},
   "outputs": [
    {
     "name": "stdout",
     "output_type": "stream",
     "text": [
      "PUT response: {'status_code': 201, 'task': {'input': {'image1': {'url': 'https://s3-us-west-2.amazonaws.com/mturk-sample-media/images-to-compare/image-similarity-1a.png'}, 'image2': {'url': 'https://s3-us-west-2.amazonaws.com/mturk-sample-media/images-to-compare/image-similarity-1b.png'}}, 'problemDetails': None, 'result': None, 'state': 'processing', 'taskName': 'my-test-task-847ac56e049249228283881984914ebb'}}\n"
     ]
    }
   ],
   "source": [
    "# create a single task with the input you specified above\n",
    "put_result = crowd_client.put_task(function_name,task_name,\n",
    "                                   {'image1': {'url': image_url_1},\n",
    "                                    'image2': {'url': image_url_2}})\n",
    "\n",
    "print('PUT response: {}'.format(\n",
    "    {'status_code': put_result.status_code, 'task': put_result.json()}))        "
   ]
  },
  {
   "cell_type": "markdown",
   "metadata": {},
   "source": [
    "### Get the result\n",
    "\n",
    "Wait a few minutes before calling get_task to give Workers a chance to submit answers"
   ]
  },
  {
   "cell_type": "code",
   "execution_count": 22,
   "metadata": {},
   "outputs": [
    {
     "name": "stdout",
     "output_type": "stream",
     "text": [
      "GET response: {'status_code': 200, 'task': {'input': {'image1': {'url': 'https://s3-us-west-2.amazonaws.com/mturk-sample-media/images-to-compare/image-similarity-1a.png'}, 'image2': {'url': 'https://s3-us-west-2.amazonaws.com/mturk-sample-media/images-to-compare/image-similarity-1b.png'}}, 'problemDetails': None, 'result': None, 'state': 'processing', 'taskName': 'my-test-task-847ac56e049249228283881984914ebb'}}\n"
     ]
    }
   ],
   "source": [
    "get_result = crowd_client.get_task(function_name, task_name)\n",
    "\n",
    "print('GET response: {}'.format(                     \n",
    "    {'status_code': get_result.status_code, 'task': get_result.json()}))"
   ]
  },
  {
   "cell_type": "markdown",
   "metadata": {},
   "source": [
    "## <a id=coreference-resolution>coreference-resolution</a>\n",
    "\n",
    "Coreference resolution is the task of finding all expressions that refer to the same entity in a text. This API returns references and the position of the start and end of each reference.\n",
    "\n",
    "input: `{ \"text\": \"Megan said \"I voted for Hilary because she better aligns with my values\"\" }`\n",
    "\n",
    "result:  `{'coreferences': {'references': {'ref-1': [{'endIndex': 6, 'startIndex': 0, 'text': 'Megan ', 'type': 'ref-1'}, {'endIndex': 14, 'startIndex': 12, 'text': 'I ', 'type': 'ref-1'}, {'endIndex': 64, 'startIndex': 62, 'text': 'my', 'type': 'ref-1'}], 'ref-2': [{'endIndex': 30, 'startIndex': 24, 'text': 'Hilary', 'type': 'ref-2'}, {'endIndex': 42, 'startIndex': 39, 'text': 'she', 'type': 'ref-2'}]}}}`\n",
    "\n"
   ]
  },
  {
   "cell_type": "markdown",
   "metadata": {},
   "source": [
    "Here's an example of a HIT that's shown to Workers:\n",
    "![co-reference-resolution-HIT-example](https://s3-us-west-2.amazonaws.com/mturk-sample-tasks/co-reference-resolution-HIT-example.png)"
   ]
  },
  {
   "cell_type": "markdown",
   "metadata": {},
   "source": [
    "### Create a Task"
   ]
  },
  {
   "cell_type": "code",
   "execution_count": 76,
   "metadata": {
    "collapsed": true
   },
   "outputs": [],
   "source": [
    "#set the function_name to the name of the single use API\n",
    "function_name = 'coreference-resolution'"
   ]
  },
  {
   "cell_type": "code",
   "execution_count": 77,
   "metadata": {},
   "outputs": [
    {
     "name": "stdout",
     "output_type": "stream",
     "text": [
      "my-test-task-656e8384878a40d59f55289a48085d0d\n"
     ]
    }
   ],
   "source": [
    "# automatically generate a random task ID\n",
    "#task_name = 'my-test-task-' + uuid.uuid4().hex\n",
    "task_name = 'my-test-task-656e8384878a40d59f55289a48085d0d'\n",
    "print(task_name)"
   ]
  },
  {
   "cell_type": "code",
   "execution_count": 78,
   "metadata": {
    "collapsed": true
   },
   "outputs": [],
   "source": [
    "# define the text that you want analyzed, up to 16k\n",
    "text = 'Megan said \\\"I voted for Hilary because she better aligns with my values\\\"'"
   ]
  },
  {
   "cell_type": "code",
   "execution_count": 79,
   "metadata": {},
   "outputs": [
    {
     "name": "stdout",
     "output_type": "stream",
     "text": [
      "PUT response: {'status_code': 201, 'task': {'input': {'text': 'Megan said \"I voted for Hilary because she better aligns with my values\"'}, 'problemDetails': None, 'result': None, 'state': 'processing', 'taskName': 'my-test-task-656e8384878a40d59f55289a48085d0d'}}\n"
     ]
    }
   ],
   "source": [
    "# create a single task with the input you specified above\n",
    "put_result = crowd_client.put_task(function_name,\n",
    "                             task_name,\n",
    "                             {'text': text})\n",
    "print('PUT response: {}'.format(\n",
    "    {'status_code': put_result.status_code, 'task': put_result.json()}))"
   ]
  },
  {
   "cell_type": "markdown",
   "metadata": {},
   "source": [
    "### Get the result\n",
    "\n",
    "Wait a few minutes before calling get_task to give Workers a chance to submit answers"
   ]
  },
  {
   "cell_type": "code",
   "execution_count": 80,
   "metadata": {},
   "outputs": [
    {
     "name": "stdout",
     "output_type": "stream",
     "text": [
      "GET response: {'status_code': 200, 'task': {'input': {'text': 'Megan said \"I voted for Hilary because she better aligns with my values\"'}, 'problemDetails': None, 'result': None, 'state': 'processing', 'taskName': 'my-test-task-656e8384878a40d59f55289a48085d0d'}}\n"
     ]
    }
   ],
   "source": [
    "get_result = crowd_client.get_task(function_name, task_name)\n",
    "\n",
    "print('GET response: {}'.format(                     \n",
    "    {'status_code': get_result.status_code, 'task': get_result.json()}))"
   ]
  },
  {
   "cell_type": "markdown",
   "metadata": {},
   "source": [
    "## <a id=keyphrase-extraction>key-phrase-extraction</a> \n",
    "\n",
    "Key phrases provide a concise description of a document’s content; they are useful for document categorization, clustering, indexing, search, and summarization; quantifying semantic similarity with other documents; as well as conceptualizing particular knowledge domains.  Key phrase extraction is the process of extracting the important and topic words in a document.\n",
    "\n",
    "input: `{ \"text\": \"This is the second Boots I brought from this brand, the material they are used to make these boots are quite decent, it’s not real leather though, but once you get it on hand you can tell that it is definitely high quality material, the last boots I brought cost me 45 bucks, it lasted about 1 year and half, very remarkable durability I got to say, beside this the interior is super soft and very comfortable to wear. If you are looking for mid-range priced boots with high quality this is the best shot for you.\" }`\n",
    "\n",
    "result: `{'keyPhrases': [{'endIndex': 25, 'startIndex': 19, 'text': 'Boots '}, {'endIndex': 115, 'startIndex': 103, 'text': 'quite decent'}, {'endIndex': 138, 'startIndex': 122, 'text': 'not real leather'}, {'endIndex': 231, 'startIndex': 210, 'text': 'high quality material'}, {'endIndex': 307, 'startIndex': 292, 'text': '1 year and half'}, {'endIndex': 335, 'startIndex': 309, 'text': 'very remarkable durability'}, {'endIndex': 388, 'startIndex': 378, 'text': 'super soft'}, {'endIndex': 409, 'startIndex': 393, 'text': 'very comfortable'}, {'endIndex': 458, 'startIndex': 442, 'text': 'mid-range priced'}, {'endIndex': 482, 'startIndex': 470, 'text': 'high quality'}]}`\n",
    "\n"
   ]
  },
  {
   "cell_type": "markdown",
   "metadata": {},
   "source": [
    "Here's an example of a HIT that's shown to Workers: \n",
    "![key-phrase-extraction-HIT-example](https://s3-us-west-2.amazonaws.com/mturk-sample-tasks/key-phrase-extraction-HIT-example.png)"
   ]
  },
  {
   "cell_type": "markdown",
   "metadata": {},
   "source": [
    "### Create a Task"
   ]
  },
  {
   "cell_type": "code",
   "execution_count": null,
   "metadata": {
    "collapsed": true
   },
   "outputs": [],
   "source": [
    "#set the function_name to the name of the single use API\n",
    "function_name = 'key-phrase-extraction'"
   ]
  },
  {
   "cell_type": "code",
   "execution_count": null,
   "metadata": {
    "collapsed": true
   },
   "outputs": [],
   "source": [
    "# automatically generate a random task ID\n",
    "task_name = 'my-test-task-' + uuid.uuid4().hex\n",
    "print(task_name)"
   ]
  },
  {
   "cell_type": "code",
   "execution_count": null,
   "metadata": {
    "collapsed": true
   },
   "outputs": [],
   "source": [
    "# define the text that you want analyzed, up to 16k\n",
    "text = 'This is the second Boots I brought from this brand, the material they are used to make these boots are quite decent, it’s not real leather though, but once you get it on hand you can tell that it is definitely high quality material, the last boots I brought cost me 45 bucks, it lasted about 1 year and half, very remarkable durability I got to say, beside this the interior is super soft and very comfortable to wear. If you are looking for mid-range priced boots with high quality this is the best shot for you.'"
   ]
  },
  {
   "cell_type": "code",
   "execution_count": null,
   "metadata": {
    "collapsed": true
   },
   "outputs": [],
   "source": [
    "# create a single task with the input you specified above\n",
    "put_result = crowd_client.put_task(function_name,\n",
    "                             task_name,\n",
    "                             {'text': text})\n",
    "print('PUT response: {}'.format(\n",
    "    {'status_code': put_result.status_code, 'task': put_result.json()}))"
   ]
  },
  {
   "cell_type": "markdown",
   "metadata": {},
   "source": [
    "### Get the result\n",
    "\n",
    "Wait a few minutes before calling get_task to give Workers a chance to submit answers"
   ]
  },
  {
   "cell_type": "code",
   "execution_count": null,
   "metadata": {
    "collapsed": true
   },
   "outputs": [],
   "source": [
    "get_result = crowd_client.get_task(function_name, task_name)\n",
    "\n",
    "print('GET response: {}'.format(                     \n",
    "    {'status_code': get_result.status_code, 'task': get_result.json()}))"
   ]
  }
 ],
 "metadata": {
  "kernelspec": {
   "display_name": "Python 3",
   "language": "python",
   "name": "python3"
  },
  "language_info": {
   "codemirror_mode": {
    "name": "ipython",
    "version": 3
   },
   "file_extension": ".py",
   "mimetype": "text/x-python",
   "name": "python",
   "nbconvert_exporter": "python",
   "pygments_lexer": "ipython3",
   "version": "3.6.3"
  }
 },
 "nbformat": 4,
 "nbformat_minor": 2
}
