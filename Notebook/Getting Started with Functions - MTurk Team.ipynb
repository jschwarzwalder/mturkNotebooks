{
 "cells": [
  {
   "cell_type": "markdown",
   "metadata": {},
   "source": [
    "# This Notebook enables you to call every Function in the MTurk Functions catalog"
   ]
  },
  {
   "cell_type": "markdown",
   "metadata": {},
   "source": [
    "### Prerequisites:\n",
    "1. You have [an MTurk Requester account and linked AWS account](https://medium.com/@mechanicalturk/setting-up-your-amazon-mechanical-turk-mturk-requester-account-and-aws-account-a316e2f6a156)\n",
    "2. You have [completed the account set up steps to call AmazonMechanicalTurk and AmazonMechanicalTurkCrowd](https://medium.com/@mechanicalturk/setting-up-your-amazon-mechanical-turk-and-aws-accounts-to-call-a-preview-api-59ade8beafd1)\n",
    "3. You have configured a local AWS profile to call MTurk with the user you set up in step 2\n",
    "4. You have [prepaid for HITs in your MTurk Requester account](https://requester.mturk.com/prepayments/new) to cover paying for Worker rewards (suggested amount to start is $5.00)"
   ]
  },
  {
   "cell_type": "markdown",
   "metadata": {},
   "source": [
    "### If you haven't done so, install the mturk-crowd-beta Python client"
   ]
  },
  {
   "cell_type": "code",
   "execution_count": null,
   "metadata": {
    "collapsed": true
   },
   "outputs": [],
   "source": [
    "!pip install --upgrade mturk-crowd-beta-client --ignore-installed six"
   ]
  },
  {
   "cell_type": "markdown",
   "metadata": {},
   "source": [
    "## Next we will import the packages we need to use the API\n",
    "You'll need to do this before calling any API"
   ]
  },
  {
   "cell_type": "code",
   "execution_count": 1,
   "metadata": {
    "collapsed": true
   },
   "outputs": [],
   "source": [
    "from mturk_crowd_beta_client import MTurkCrowdClient\n",
    "from boto3.session import Session\n",
    "import uuid"
   ]
  },
  {
   "cell_type": "markdown",
   "metadata": {},
   "source": [
    "## Next we set up a session\n",
    "\n",
    "This examples assume you have a local AWS profile named __'mturk-crowd-caller'__, but you can authenticate however you like, including by directly passing in your access key and secret key.  The access key and secret key are for the User you created during setup with the policies AmazonMechanicalTurkFullAccess and AmazonMechanicalTurkCrowdFullAccess."
   ]
  },
  {
   "cell_type": "code",
   "execution_count": 2,
   "metadata": {
    "collapsed": true
   },
   "outputs": [],
   "source": [
    "#session = Session(profile_name='mturk-crowd-caller')\n",
    "session = Session(profile_name='mtf-caller')\n",
    "\n",
    "crowd_client = MTurkCrowdClient(session)"
   ]
  },
  {
   "cell_type": "markdown",
   "metadata": {},
   "source": [
    "## Available APIs:\n",
    "\n",
    "### Natural Language Processing\n",
    "\n",
    "* [sentiment-analysis](#sentiment-analysis)\n",
    "* [emotion-detection](#emotion-detection)\n",
    "* [semantic-similarity](#semantic-similarity)\n",
    "* [collect-utterance-text](#collect-utterance-text)\n",
    "* [text-intent-detection](#text-intent-detection)\n",
    "* [text-categorization](#text-categorization)\n",
    "* [named-entity-recognition](#named-entity-recognition)\n",
    "* [co-reference-resolution](#co-reference-resolution)\n",
    "* [key-phrase-extraction](#key-phrase-extraction)\n",
    "\n",
    "### Computer Vision\n",
    "* [image-contains](#image-contains)\n",
    "* [image-categorization](#image-categorization)\n",
    "* [image-similarity](#image-similarity)\n",
    "* [bounding-box](#bounding-box)\n",
    "* [face-detection](#face-detection) (not public)\n",
    "* [text-recognition](#text-recognition) (not public)\n",
    "* [logo-recognition](#logo-recognition) (not public)\n"
   ]
  },
  {
   "cell_type": "markdown",
   "metadata": {},
   "source": [
    "## <a id='sentiment-analysis'>sentiment-analysis</a>"
   ]
  },
  {
   "cell_type": "markdown",
   "metadata": {},
   "source": [
    "Input:\n",
    "{\n",
    " \"text\": \"Everything is wonderful!\"\n",
    "}\n",
    "\n",
    "Result: {'sentiment': 'positive'}\n",
    "\n",
    "Max length of the input text is 400 characters.  Sentiment is one of positive, negative, neutral or cannot determine.  We ask up to 5 Workers until 2 of them agree on the answer.\n"
   ]
  },
  {
   "cell_type": "markdown",
   "metadata": {},
   "source": [
    "When you create a Task using the sentiment-analysis API, you're automatically creating a Human Intelligence Task (HIT) on worker.mturk.com.  Here's an example of a sentiment analysis HIT."
   ]
  },
  {
   "cell_type": "markdown",
   "metadata": {},
   "source": [
    "![sentiment-analysis-HIT-example](https://s3-us-west-2.amazonaws.com/mturk-sample-tasks/sentiment-analysis-HIT-example.png)"
   ]
  },
  {
   "cell_type": "markdown",
   "metadata": {},
   "source": [
    "### Create a Task"
   ]
  },
  {
   "cell_type": "code",
   "execution_count": null,
   "metadata": {
    "collapsed": true
   },
   "outputs": [],
   "source": [
    "#set the function_name to the name of the API\n",
    "function_name = 'sentiment-analysis'"
   ]
  },
  {
   "cell_type": "code",
   "execution_count": null,
   "metadata": {
    "collapsed": true
   },
   "outputs": [],
   "source": [
    "# automatically generate a random task ID\n",
    "task_name = 'my-test-task-' + uuid.uuid4().hex\n",
    "print(task_name)"
   ]
  },
  {
   "cell_type": "code",
   "execution_count": null,
   "metadata": {
    "collapsed": true
   },
   "outputs": [],
   "source": [
    "# define the text that you want analyzed, up to 16k\n",
    "text = 'The trip by @VP Pence was long planned. He is receiving great praise for leaving game after the players showed such disrespect for country!'"
   ]
  },
  {
   "cell_type": "code",
   "execution_count": null,
   "metadata": {
    "collapsed": true
   },
   "outputs": [],
   "source": [
    "# create a single task with the input you specified above\n",
    "put_result = crowd_client.put_task(function_name,\n",
    "                             task_name,\n",
    "                             {'text': text})\n",
    "print('PUT response: {}'.format(\n",
    "    {'status_code': put_result.status_code, 'task': put_result.json()}))"
   ]
  },
  {
   "cell_type": "markdown",
   "metadata": {},
   "source": [
    "### Get the result\n",
    "\n",
    "Wait a few minutes before calling get_task to give Workers a chance to submit answers"
   ]
  },
  {
   "cell_type": "code",
   "execution_count": null,
   "metadata": {
    "collapsed": true
   },
   "outputs": [],
   "source": [
    "get_result = crowd_client.get_task(function_name, task_name)\n",
    "\n",
    "print('GET response: {}'.format(                     \n",
    "    {'status_code': get_result.status_code, 'task': get_result.json()}))"
   ]
  },
  {
   "cell_type": "markdown",
   "metadata": {},
   "source": [
    "### Creating multiple Tasks and Processing Results \n",
    "\n",
    "Next, we'll read from a CSV file that has multiple rows of text that needs to be analyzed for sentiment using the pandas library.  As a prerequisite you need to have installed the pandas library."
   ]
  },
  {
   "cell_type": "code",
   "execution_count": null,
   "metadata": {
    "collapsed": true
   },
   "outputs": [],
   "source": [
    "import pandas as pd"
   ]
  },
  {
   "cell_type": "code",
   "execution_count": null,
   "metadata": {
    "collapsed": true
   },
   "outputs": [],
   "source": [
    "#read the input data from csv into a pandas DataFrame\n",
    "data = pd.read_csv('https://s3-us-west-2.amazonaws.com/mturk-sample-datasets/sentiment-analysis-example-inputs.csv')"
   ]
  },
  {
   "cell_type": "code",
   "execution_count": null,
   "metadata": {
    "collapsed": true
   },
   "outputs": [],
   "source": [
    "# column 1 is the Task ID and column2 is the input data\n",
    "data"
   ]
  },
  {
   "cell_type": "code",
   "execution_count": null,
   "metadata": {
    "collapsed": true
   },
   "outputs": [],
   "source": [
    "#loop through the rows and create a Task per row, write the put_task status in a new column\n",
    "status_codes = []\n",
    "for index, row in data.iterrows():\n",
    "    put_result = crowd_client.put_task(function_name, row.task_id,{'text': row.review_text})\n",
    "    status_codes.append(put_result.status_code)\n",
    "data['status_codes'] = status_codes"
   ]
  },
  {
   "cell_type": "code",
   "execution_count": null,
   "metadata": {
    "collapsed": true
   },
   "outputs": [],
   "source": [
    "data"
   ]
  },
  {
   "cell_type": "markdown",
   "metadata": {},
   "source": [
    "We'll call get_task periodically until all of the Tasks reach the \"completed\" state."
   ]
  },
  {
   "cell_type": "code",
   "execution_count": null,
   "metadata": {
    "collapsed": true
   },
   "outputs": [],
   "source": [
    "# loop through the rows and get results, store the state and results in new columns\n",
    "\n",
    "status_codes = []\n",
    "responses = []\n",
    "for index, row in data.iterrows():\n",
    "    get_result = crowd_client.get_task(function_name, row.task_id)\n",
    "    status_codes.append(get_result.status_code)\n",
    "    responses.append(get_result.json())"
   ]
  },
  {
   "cell_type": "code",
   "execution_count": null,
   "metadata": {
    "collapsed": true
   },
   "outputs": [],
   "source": [
    "data['status_codes'] = status_codes\n",
    "data['state'] = [r['state'] for r in responses]\n",
    "data['problem_details'] = [r['problemDetails'] for r in responses]\n",
    "#need to handle the case when not all tasks are in completed state\n",
    "data['sentiment'] = [r['result']['sentiment'] for r in responses]"
   ]
  },
  {
   "cell_type": "code",
   "execution_count": null,
   "metadata": {
    "collapsed": true
   },
   "outputs": [],
   "source": [
    "data"
   ]
  },
  {
   "cell_type": "markdown",
   "metadata": {},
   "source": [
    "## <a id='image-contains'>image-contains</a>"
   ]
  },
  {
   "cell_type": "markdown",
   "metadata": {},
   "source": [
    "Given an image and a type of object to look for, this API returns true or false.\n",
    "\n",
    "Input: `{\"image\": {\"url\": \"https://www.mturk.com/media/butterbean.jpg\"}, \"target\": {\"label\": \"dog\"} }`\n",
    "\n",
    "Result: `{\"containsTarget\": true}`"
   ]
  },
  {
   "cell_type": "markdown",
   "metadata": {},
   "source": [
    "Internal Only: we ask 2 - 5 Workers to get agreement."
   ]
  },
  {
   "cell_type": "code",
   "execution_count": 48,
   "metadata": {
    "collapsed": true
   },
   "outputs": [],
   "source": [
    "function_name = 'image-contains'"
   ]
  },
  {
   "cell_type": "markdown",
   "metadata": {},
   "source": [
    "### Create a Task"
   ]
  },
  {
   "cell_type": "code",
   "execution_count": null,
   "metadata": {
    "collapsed": true
   },
   "outputs": [],
   "source": [
    "# automatically generate a random task ID\n",
    "task_name = 'my-test-task-' + uuid.uuid4().hex\n",
    "print(task_name)"
   ]
  },
  {
   "cell_type": "code",
   "execution_count": null,
   "metadata": {
    "collapsed": true
   },
   "outputs": [],
   "source": [
    "# the URL of the image that you want annotated\n",
    "image_url = 'https://urbanedge.blogs.rice.edu/files/2016/02/midtown-15wd4ck.jpg'"
   ]
  },
  {
   "cell_type": "markdown",
   "metadata": {},
   "source": [
    "### The type of thing we're looking for"
   ]
  },
  {
   "cell_type": "code",
   "execution_count": null,
   "metadata": {
    "collapsed": true
   },
   "outputs": [],
   "source": [
    "label = 'Pedestrians'"
   ]
  },
  {
   "cell_type": "code",
   "execution_count": null,
   "metadata": {
    "collapsed": true
   },
   "outputs": [],
   "source": [
    "# create a single task with the input you specified above\n",
    "put_result = crowd_client.put_task(function_name,\n",
    "                                   task_name,\n",
    "                                   {'image': {'url': image_url}, 'target': {'label': label}})\n",
    "\n",
    "print('PUT response: {}'.format(\n",
    "    {'status_code': put_result.status_code, 'task': put_result.json()}))        "
   ]
  },
  {
   "cell_type": "markdown",
   "metadata": {},
   "source": [
    "### Get the result\n",
    "\n",
    "Wait a few minutes before calling get_task to give Workers a chance to submit answers"
   ]
  },
  {
   "cell_type": "code",
   "execution_count": null,
   "metadata": {
    "collapsed": true
   },
   "outputs": [],
   "source": [
    "get_result = crowd_client.get_task(function_name, task_name)\n",
    "\n",
    "print('GET response: {}'.format(\n",
    "{'status_code': get_result.status_code, 'task': get_result.json()}))"
   ]
  },
  {
   "cell_type": "markdown",
   "metadata": {},
   "source": [
    "### Creating multiple Tasks and Processing Results \n",
    "\n",
    "Next, we'll read from a CSV file that has multiple rows of text that needs to be analyzed for sentiment using the pandas library.  As a prerequisite you need to have installed the pandas library."
   ]
  },
  {
   "cell_type": "code",
   "execution_count": null,
   "metadata": {
    "collapsed": true
   },
   "outputs": [],
   "source": [
    "import pandas as pd"
   ]
  },
  {
   "cell_type": "code",
   "execution_count": 49,
   "metadata": {
    "collapsed": true
   },
   "outputs": [],
   "source": [
    "#read the input data from csv into a pandas DataFrame\n",
    "data = pd.read_csv('https://s3-us-west-2.amazonaws.com/mturk-sample-datasets/image-contains-example-inputs.csv')"
   ]
  },
  {
   "cell_type": "code",
   "execution_count": 50,
   "metadata": {},
   "outputs": [
    {
     "data": {
      "text/html": [
       "<div>\n",
       "<style>\n",
       "    .dataframe thead tr:only-child th {\n",
       "        text-align: right;\n",
       "    }\n",
       "\n",
       "    .dataframe thead th {\n",
       "        text-align: left;\n",
       "    }\n",
       "\n",
       "    .dataframe tbody tr th {\n",
       "        vertical-align: top;\n",
       "    }\n",
       "</style>\n",
       "<table border=\"1\" class=\"dataframe\">\n",
       "  <thead>\n",
       "    <tr style=\"text-align: right;\">\n",
       "      <th></th>\n",
       "      <th>task_id</th>\n",
       "      <th>image_url</th>\n",
       "      <th>Label</th>\n",
       "    </tr>\n",
       "  </thead>\n",
       "  <tbody>\n",
       "    <tr>\n",
       "      <th>0</th>\n",
       "      <td>image-contains-1</td>\n",
       "      <td>https://s3-us-west-2.amazonaws.com/mturk-sampl...</td>\n",
       "      <td>womens satchel</td>\n",
       "    </tr>\n",
       "    <tr>\n",
       "      <th>1</th>\n",
       "      <td>image-contains-2</td>\n",
       "      <td>https://s3-us-west-2.amazonaws.com/mturk-sampl...</td>\n",
       "      <td>womens flip flops</td>\n",
       "    </tr>\n",
       "    <tr>\n",
       "      <th>2</th>\n",
       "      <td>image-contains-3</td>\n",
       "      <td>https://s3-us-west-2.amazonaws.com/mturk-sampl...</td>\n",
       "      <td>womens ballet flats</td>\n",
       "    </tr>\n",
       "    <tr>\n",
       "      <th>3</th>\n",
       "      <td>image-contains-4</td>\n",
       "      <td>https://s3-us-west-2.amazonaws.com/mturk-sampl...</td>\n",
       "      <td>womens wedge shoes</td>\n",
       "    </tr>\n",
       "    <tr>\n",
       "      <th>4</th>\n",
       "      <td>image-contains-5</td>\n",
       "      <td>https://s3-us-west-2.amazonaws.com/mturk-sampl...</td>\n",
       "      <td>womens flip flops</td>\n",
       "    </tr>\n",
       "    <tr>\n",
       "      <th>5</th>\n",
       "      <td>image-contains-6</td>\n",
       "      <td>https://s3-us-west-2.amazonaws.com/mturk-sampl...</td>\n",
       "      <td>womens wedge shoes</td>\n",
       "    </tr>\n",
       "    <tr>\n",
       "      <th>6</th>\n",
       "      <td>image-contains-7</td>\n",
       "      <td>https://s3-us-west-2.amazonaws.com/mturk-sampl...</td>\n",
       "      <td>womens mules</td>\n",
       "    </tr>\n",
       "    <tr>\n",
       "      <th>7</th>\n",
       "      <td>image-contains-8</td>\n",
       "      <td>https://s3-us-west-2.amazonaws.com/mturk-sampl...</td>\n",
       "      <td>womens mules</td>\n",
       "    </tr>\n",
       "    <tr>\n",
       "      <th>8</th>\n",
       "      <td>image-contains-9</td>\n",
       "      <td>https://s3-us-west-2.amazonaws.com/mturk-sampl...</td>\n",
       "      <td>womens ankle boots</td>\n",
       "    </tr>\n",
       "    <tr>\n",
       "      <th>9</th>\n",
       "      <td>image-contains-10</td>\n",
       "      <td>https://s3-us-west-2.amazonaws.com/mturk-sampl...</td>\n",
       "      <td>womens wedge shoes</td>\n",
       "    </tr>\n",
       "  </tbody>\n",
       "</table>\n",
       "</div>"
      ],
      "text/plain": [
       "             task_id                                          image_url  \\\n",
       "0   image-contains-1  https://s3-us-west-2.amazonaws.com/mturk-sampl...   \n",
       "1   image-contains-2  https://s3-us-west-2.amazonaws.com/mturk-sampl...   \n",
       "2   image-contains-3  https://s3-us-west-2.amazonaws.com/mturk-sampl...   \n",
       "3   image-contains-4  https://s3-us-west-2.amazonaws.com/mturk-sampl...   \n",
       "4   image-contains-5  https://s3-us-west-2.amazonaws.com/mturk-sampl...   \n",
       "5   image-contains-6  https://s3-us-west-2.amazonaws.com/mturk-sampl...   \n",
       "6   image-contains-7  https://s3-us-west-2.amazonaws.com/mturk-sampl...   \n",
       "7   image-contains-8  https://s3-us-west-2.amazonaws.com/mturk-sampl...   \n",
       "8   image-contains-9  https://s3-us-west-2.amazonaws.com/mturk-sampl...   \n",
       "9  image-contains-10  https://s3-us-west-2.amazonaws.com/mturk-sampl...   \n",
       "\n",
       "                 Label  \n",
       "0       womens satchel  \n",
       "1    womens flip flops  \n",
       "2  womens ballet flats  \n",
       "3   womens wedge shoes  \n",
       "4    womens flip flops  \n",
       "5   womens wedge shoes  \n",
       "6         womens mules  \n",
       "7         womens mules  \n",
       "8   womens ankle boots  \n",
       "9   womens wedge shoes  "
      ]
     },
     "execution_count": 50,
     "metadata": {},
     "output_type": "execute_result"
    }
   ],
   "source": [
    "# column 1 is the Task ID and column2 amd 3 are the input data\n",
    "data"
   ]
  },
  {
   "cell_type": "code",
   "execution_count": 51,
   "metadata": {
    "collapsed": true
   },
   "outputs": [],
   "source": [
    "#loop through the rows and create a Task per row, write the put_task status in a new column\n",
    "status_codes = []\n",
    "for index, row in data.iterrows():\n",
    "    put_result = crowd_client.put_task(function_name, \n",
    "                                       row.task_id,\n",
    "                                       {'image': {'url': row.image_url},\n",
    "                                        'target': {'label': row.Label} })\n",
    "    status_codes.append(put_result.status_code)\n",
    "data['status_codes'] = status_codes"
   ]
  },
  {
   "cell_type": "code",
   "execution_count": 52,
   "metadata": {},
   "outputs": [
    {
     "data": {
      "text/html": [
       "<div>\n",
       "<style>\n",
       "    .dataframe thead tr:only-child th {\n",
       "        text-align: right;\n",
       "    }\n",
       "\n",
       "    .dataframe thead th {\n",
       "        text-align: left;\n",
       "    }\n",
       "\n",
       "    .dataframe tbody tr th {\n",
       "        vertical-align: top;\n",
       "    }\n",
       "</style>\n",
       "<table border=\"1\" class=\"dataframe\">\n",
       "  <thead>\n",
       "    <tr style=\"text-align: right;\">\n",
       "      <th></th>\n",
       "      <th>task_id</th>\n",
       "      <th>image_url</th>\n",
       "      <th>Label</th>\n",
       "      <th>status_codes</th>\n",
       "    </tr>\n",
       "  </thead>\n",
       "  <tbody>\n",
       "    <tr>\n",
       "      <th>0</th>\n",
       "      <td>image-contains-1</td>\n",
       "      <td>https://s3-us-west-2.amazonaws.com/mturk-sampl...</td>\n",
       "      <td>womens satchel</td>\n",
       "      <td>200</td>\n",
       "    </tr>\n",
       "    <tr>\n",
       "      <th>1</th>\n",
       "      <td>image-contains-2</td>\n",
       "      <td>https://s3-us-west-2.amazonaws.com/mturk-sampl...</td>\n",
       "      <td>womens flip flops</td>\n",
       "      <td>200</td>\n",
       "    </tr>\n",
       "    <tr>\n",
       "      <th>2</th>\n",
       "      <td>image-contains-3</td>\n",
       "      <td>https://s3-us-west-2.amazonaws.com/mturk-sampl...</td>\n",
       "      <td>womens ballet flats</td>\n",
       "      <td>200</td>\n",
       "    </tr>\n",
       "    <tr>\n",
       "      <th>3</th>\n",
       "      <td>image-contains-4</td>\n",
       "      <td>https://s3-us-west-2.amazonaws.com/mturk-sampl...</td>\n",
       "      <td>womens wedge shoes</td>\n",
       "      <td>200</td>\n",
       "    </tr>\n",
       "    <tr>\n",
       "      <th>4</th>\n",
       "      <td>image-contains-5</td>\n",
       "      <td>https://s3-us-west-2.amazonaws.com/mturk-sampl...</td>\n",
       "      <td>womens flip flops</td>\n",
       "      <td>200</td>\n",
       "    </tr>\n",
       "    <tr>\n",
       "      <th>5</th>\n",
       "      <td>image-contains-6</td>\n",
       "      <td>https://s3-us-west-2.amazonaws.com/mturk-sampl...</td>\n",
       "      <td>womens wedge shoes</td>\n",
       "      <td>200</td>\n",
       "    </tr>\n",
       "    <tr>\n",
       "      <th>6</th>\n",
       "      <td>image-contains-7</td>\n",
       "      <td>https://s3-us-west-2.amazonaws.com/mturk-sampl...</td>\n",
       "      <td>womens mules</td>\n",
       "      <td>200</td>\n",
       "    </tr>\n",
       "    <tr>\n",
       "      <th>7</th>\n",
       "      <td>image-contains-8</td>\n",
       "      <td>https://s3-us-west-2.amazonaws.com/mturk-sampl...</td>\n",
       "      <td>womens mules</td>\n",
       "      <td>200</td>\n",
       "    </tr>\n",
       "    <tr>\n",
       "      <th>8</th>\n",
       "      <td>image-contains-9</td>\n",
       "      <td>https://s3-us-west-2.amazonaws.com/mturk-sampl...</td>\n",
       "      <td>womens ankle boots</td>\n",
       "      <td>200</td>\n",
       "    </tr>\n",
       "    <tr>\n",
       "      <th>9</th>\n",
       "      <td>image-contains-10</td>\n",
       "      <td>https://s3-us-west-2.amazonaws.com/mturk-sampl...</td>\n",
       "      <td>womens wedge shoes</td>\n",
       "      <td>200</td>\n",
       "    </tr>\n",
       "  </tbody>\n",
       "</table>\n",
       "</div>"
      ],
      "text/plain": [
       "             task_id                                          image_url  \\\n",
       "0   image-contains-1  https://s3-us-west-2.amazonaws.com/mturk-sampl...   \n",
       "1   image-contains-2  https://s3-us-west-2.amazonaws.com/mturk-sampl...   \n",
       "2   image-contains-3  https://s3-us-west-2.amazonaws.com/mturk-sampl...   \n",
       "3   image-contains-4  https://s3-us-west-2.amazonaws.com/mturk-sampl...   \n",
       "4   image-contains-5  https://s3-us-west-2.amazonaws.com/mturk-sampl...   \n",
       "5   image-contains-6  https://s3-us-west-2.amazonaws.com/mturk-sampl...   \n",
       "6   image-contains-7  https://s3-us-west-2.amazonaws.com/mturk-sampl...   \n",
       "7   image-contains-8  https://s3-us-west-2.amazonaws.com/mturk-sampl...   \n",
       "8   image-contains-9  https://s3-us-west-2.amazonaws.com/mturk-sampl...   \n",
       "9  image-contains-10  https://s3-us-west-2.amazonaws.com/mturk-sampl...   \n",
       "\n",
       "                 Label  status_codes  \n",
       "0       womens satchel           200  \n",
       "1    womens flip flops           200  \n",
       "2  womens ballet flats           200  \n",
       "3   womens wedge shoes           200  \n",
       "4    womens flip flops           200  \n",
       "5   womens wedge shoes           200  \n",
       "6         womens mules           200  \n",
       "7         womens mules           200  \n",
       "8   womens ankle boots           200  \n",
       "9   womens wedge shoes           200  "
      ]
     },
     "execution_count": 52,
     "metadata": {},
     "output_type": "execute_result"
    }
   ],
   "source": [
    "data"
   ]
  },
  {
   "cell_type": "markdown",
   "metadata": {},
   "source": [
    "We'll call get_task periodically until all of the Tasks reach the \"completed\" state."
   ]
  },
  {
   "cell_type": "code",
   "execution_count": 53,
   "metadata": {
    "collapsed": true
   },
   "outputs": [],
   "source": [
    "# loop through the rows and get results, store the state and results in new columns\n",
    "\n",
    "status_codes = []\n",
    "responses = []\n",
    "for index, row in data.iterrows():\n",
    "    get_result = crowd_client.get_task(function_name, row.task_id)\n",
    "    status_codes.append(get_result.status_code)\n",
    "    responses.append(get_result.json())"
   ]
  },
  {
   "cell_type": "code",
   "execution_count": 54,
   "metadata": {
    "collapsed": true
   },
   "outputs": [],
   "source": [
    "data['status_codes'] = status_codes\n",
    "data['state'] = [r['state'] for r in responses]\n",
    "data['problem_details'] = [r['problemDetails'] for r in responses]\n",
    "#need to handle the case when not all tasks are in completed state\n",
    "data['containsTarget'] = [r['result']['containsTarget'] for r in responses]"
   ]
  },
  {
   "cell_type": "code",
   "execution_count": 55,
   "metadata": {},
   "outputs": [
    {
     "data": {
      "text/html": [
       "<div>\n",
       "<style>\n",
       "    .dataframe thead tr:only-child th {\n",
       "        text-align: right;\n",
       "    }\n",
       "\n",
       "    .dataframe thead th {\n",
       "        text-align: left;\n",
       "    }\n",
       "\n",
       "    .dataframe tbody tr th {\n",
       "        vertical-align: top;\n",
       "    }\n",
       "</style>\n",
       "<table border=\"1\" class=\"dataframe\">\n",
       "  <thead>\n",
       "    <tr style=\"text-align: right;\">\n",
       "      <th></th>\n",
       "      <th>task_id</th>\n",
       "      <th>image_url</th>\n",
       "      <th>Label</th>\n",
       "      <th>status_codes</th>\n",
       "      <th>state</th>\n",
       "      <th>problem_details</th>\n",
       "      <th>containsTarget</th>\n",
       "    </tr>\n",
       "  </thead>\n",
       "  <tbody>\n",
       "    <tr>\n",
       "      <th>0</th>\n",
       "      <td>image-contains-1</td>\n",
       "      <td>https://s3-us-west-2.amazonaws.com/mturk-sampl...</td>\n",
       "      <td>womens satchel</td>\n",
       "      <td>200</td>\n",
       "      <td>completed</td>\n",
       "      <td>None</td>\n",
       "      <td>False</td>\n",
       "    </tr>\n",
       "    <tr>\n",
       "      <th>1</th>\n",
       "      <td>image-contains-2</td>\n",
       "      <td>https://s3-us-west-2.amazonaws.com/mturk-sampl...</td>\n",
       "      <td>womens flip flops</td>\n",
       "      <td>200</td>\n",
       "      <td>completed</td>\n",
       "      <td>None</td>\n",
       "      <td>False</td>\n",
       "    </tr>\n",
       "    <tr>\n",
       "      <th>2</th>\n",
       "      <td>image-contains-3</td>\n",
       "      <td>https://s3-us-west-2.amazonaws.com/mturk-sampl...</td>\n",
       "      <td>womens ballet flats</td>\n",
       "      <td>200</td>\n",
       "      <td>completed</td>\n",
       "      <td>None</td>\n",
       "      <td>True</td>\n",
       "    </tr>\n",
       "    <tr>\n",
       "      <th>3</th>\n",
       "      <td>image-contains-4</td>\n",
       "      <td>https://s3-us-west-2.amazonaws.com/mturk-sampl...</td>\n",
       "      <td>womens wedge shoes</td>\n",
       "      <td>200</td>\n",
       "      <td>completed</td>\n",
       "      <td>None</td>\n",
       "      <td>False</td>\n",
       "    </tr>\n",
       "    <tr>\n",
       "      <th>4</th>\n",
       "      <td>image-contains-5</td>\n",
       "      <td>https://s3-us-west-2.amazonaws.com/mturk-sampl...</td>\n",
       "      <td>womens flip flops</td>\n",
       "      <td>200</td>\n",
       "      <td>completed</td>\n",
       "      <td>None</td>\n",
       "      <td>False</td>\n",
       "    </tr>\n",
       "    <tr>\n",
       "      <th>5</th>\n",
       "      <td>image-contains-6</td>\n",
       "      <td>https://s3-us-west-2.amazonaws.com/mturk-sampl...</td>\n",
       "      <td>womens wedge shoes</td>\n",
       "      <td>200</td>\n",
       "      <td>completed</td>\n",
       "      <td>None</td>\n",
       "      <td>True</td>\n",
       "    </tr>\n",
       "    <tr>\n",
       "      <th>6</th>\n",
       "      <td>image-contains-7</td>\n",
       "      <td>https://s3-us-west-2.amazonaws.com/mturk-sampl...</td>\n",
       "      <td>womens mules</td>\n",
       "      <td>200</td>\n",
       "      <td>completed</td>\n",
       "      <td>None</td>\n",
       "      <td>True</td>\n",
       "    </tr>\n",
       "    <tr>\n",
       "      <th>7</th>\n",
       "      <td>image-contains-8</td>\n",
       "      <td>https://s3-us-west-2.amazonaws.com/mturk-sampl...</td>\n",
       "      <td>womens mules</td>\n",
       "      <td>200</td>\n",
       "      <td>completed</td>\n",
       "      <td>None</td>\n",
       "      <td>True</td>\n",
       "    </tr>\n",
       "    <tr>\n",
       "      <th>8</th>\n",
       "      <td>image-contains-9</td>\n",
       "      <td>https://s3-us-west-2.amazonaws.com/mturk-sampl...</td>\n",
       "      <td>womens ankle boots</td>\n",
       "      <td>200</td>\n",
       "      <td>completed</td>\n",
       "      <td>None</td>\n",
       "      <td>True</td>\n",
       "    </tr>\n",
       "    <tr>\n",
       "      <th>9</th>\n",
       "      <td>image-contains-10</td>\n",
       "      <td>https://s3-us-west-2.amazonaws.com/mturk-sampl...</td>\n",
       "      <td>womens wedge shoes</td>\n",
       "      <td>200</td>\n",
       "      <td>completed</td>\n",
       "      <td>None</td>\n",
       "      <td>True</td>\n",
       "    </tr>\n",
       "  </tbody>\n",
       "</table>\n",
       "</div>"
      ],
      "text/plain": [
       "             task_id                                          image_url  \\\n",
       "0   image-contains-1  https://s3-us-west-2.amazonaws.com/mturk-sampl...   \n",
       "1   image-contains-2  https://s3-us-west-2.amazonaws.com/mturk-sampl...   \n",
       "2   image-contains-3  https://s3-us-west-2.amazonaws.com/mturk-sampl...   \n",
       "3   image-contains-4  https://s3-us-west-2.amazonaws.com/mturk-sampl...   \n",
       "4   image-contains-5  https://s3-us-west-2.amazonaws.com/mturk-sampl...   \n",
       "5   image-contains-6  https://s3-us-west-2.amazonaws.com/mturk-sampl...   \n",
       "6   image-contains-7  https://s3-us-west-2.amazonaws.com/mturk-sampl...   \n",
       "7   image-contains-8  https://s3-us-west-2.amazonaws.com/mturk-sampl...   \n",
       "8   image-contains-9  https://s3-us-west-2.amazonaws.com/mturk-sampl...   \n",
       "9  image-contains-10  https://s3-us-west-2.amazonaws.com/mturk-sampl...   \n",
       "\n",
       "                 Label  status_codes      state problem_details  \\\n",
       "0       womens satchel           200  completed            None   \n",
       "1    womens flip flops           200  completed            None   \n",
       "2  womens ballet flats           200  completed            None   \n",
       "3   womens wedge shoes           200  completed            None   \n",
       "4    womens flip flops           200  completed            None   \n",
       "5   womens wedge shoes           200  completed            None   \n",
       "6         womens mules           200  completed            None   \n",
       "7         womens mules           200  completed            None   \n",
       "8   womens ankle boots           200  completed            None   \n",
       "9   womens wedge shoes           200  completed            None   \n",
       "\n",
       "   containsTarget  \n",
       "0           False  \n",
       "1           False  \n",
       "2            True  \n",
       "3           False  \n",
       "4           False  \n",
       "5            True  \n",
       "6            True  \n",
       "7            True  \n",
       "8            True  \n",
       "9            True  "
      ]
     },
     "execution_count": 55,
     "metadata": {},
     "output_type": "execute_result"
    }
   ],
   "source": [
    "data"
   ]
  },
  {
   "cell_type": "code",
   "execution_count": 57,
   "metadata": {
    "collapsed": true
   },
   "outputs": [],
   "source": [
    "data.to_csv('image-contains-results.csv')"
   ]
  },
  {
   "cell_type": "markdown",
   "metadata": {},
   "source": [
    "## <a id='emotion-detection'>emotion-detection</a>\n",
    "\n",
    "This API determines the emotion of text.\n",
    "\n",
    "Input:{\"text\": \"First time ever winning all three fantasy leagues AND @Seahawks win!\"}\n",
    "Result: {\"emotion\": \"joy\"}\n",
    "\n",
    "Emotion is one of Joy, Anger, Fear, Sadness, Surprise, Disgust, or Neutral.  Internal only: we ask up to 9 Workers to get agreement.\n",
    "\n",
    "![emotion-detection-HIT-example](https://s3-us-west-2.amazonaws.com/mturk-sample-tasks/emotion-detection-HIT-example.png)"
   ]
  },
  {
   "cell_type": "code",
   "execution_count": null,
   "metadata": {
    "collapsed": true
   },
   "outputs": [],
   "source": [
    "function_name = 'emotion-detection'"
   ]
  },
  {
   "cell_type": "markdown",
   "metadata": {},
   "source": [
    "### Create a Task"
   ]
  },
  {
   "cell_type": "code",
   "execution_count": null,
   "metadata": {
    "collapsed": true
   },
   "outputs": [],
   "source": [
    "# automatically generate a random task ID\n",
    "task_name = 'my-test-task-' + uuid.uuid4().hex\n",
    "print(task_name)"
   ]
  },
  {
   "cell_type": "code",
   "execution_count": null,
   "metadata": {
    "collapsed": true
   },
   "outputs": [],
   "source": [
    "# define the text that you want analyzed, up to 16k\n",
    "text = 'Just realised that I have #280characters so now I can finally tweet this: \"Daenerys Stormborn of the House Targaryen, First of Her Name, the Unburnt, Queen of the Andals and the First Men, Khaleesi of the Great Grass Sea, Breaker of Chains, and Mother of Dragons'"
   ]
  },
  {
   "cell_type": "code",
   "execution_count": null,
   "metadata": {
    "collapsed": true
   },
   "outputs": [],
   "source": [
    "# create a single task with the input you specified above\n",
    "put_result = crowd_client.put_task(function_name,\n",
    "                             task_name,\n",
    "                             {'text': text})\n",
    "print('PUT response: {}'.format(\n",
    "    {'status_code': put_result.status_code, 'task': put_result.json()}))"
   ]
  },
  {
   "cell_type": "markdown",
   "metadata": {},
   "source": [
    "### Get the result\n",
    "\n",
    "Wait a few minutes before calling get_task to give Workers a chance to submit answers"
   ]
  },
  {
   "cell_type": "code",
   "execution_count": null,
   "metadata": {
    "collapsed": true
   },
   "outputs": [],
   "source": [
    "get_result = crowd_client.get_task(function_name, task_name)\n",
    "\n",
    "print('GET response: {}'.format(                     \n",
    "    {'status_code': get_result.status_code, 'task': get_result.json()}))"
   ]
  },
  {
   "cell_type": "markdown",
   "metadata": {},
   "source": [
    "## <a id=semantic-similarity>semantic-similarity</a>\n",
    "\n",
    "Compare two text documents and rate them on how similar they are, on a scale between 0 and 1 where 1 is very similar.\n",
    "\n",
    "Input: {\"text1\": \"The sky is blue.\", \"text2\": \"The sky was the color of blue.\"}\n",
    "\n",
    "Result: {\"similarityScore\": 0.75}"
   ]
  },
  {
   "cell_type": "code",
   "execution_count": null,
   "metadata": {
    "collapsed": true
   },
   "outputs": [],
   "source": [
    "function_name = 'semantic-similarity'"
   ]
  },
  {
   "cell_type": "markdown",
   "metadata": {},
   "source": [
    "### Create a Task"
   ]
  },
  {
   "cell_type": "code",
   "execution_count": null,
   "metadata": {
    "collapsed": true
   },
   "outputs": [],
   "source": [
    "# automatically generate a random task ID\n",
    "task_name = 'my-test-task-' + uuid.uuid4().hex\n",
    "print(task_name)"
   ]
  },
  {
   "cell_type": "code",
   "execution_count": null,
   "metadata": {
    "collapsed": true
   },
   "outputs": [],
   "source": [
    "# define the text that you want analyzed, up to 16k\n",
    "text1 = 'I\\'m so hungry I could eat a horse'\n",
    "text2 = 'I\\'m hangry'"
   ]
  },
  {
   "cell_type": "code",
   "execution_count": null,
   "metadata": {
    "collapsed": true
   },
   "outputs": [],
   "source": [
    "#create a single task with the input you specified above\n",
    "put_result = crowd_client.put_task(function_name,\n",
    "                             task_name,\n",
    "                             {'text1': text1, 'text2': text2})\n",
    "print('PUT response: {}'.format(\n",
    "    {'status_code': put_result.status_code, 'task': put_result.json()}))"
   ]
  },
  {
   "cell_type": "markdown",
   "metadata": {},
   "source": [
    "### Get the result\n",
    "\n",
    "Wait a few minutes before calling get_task to give Workers a chance to submit answers"
   ]
  },
  {
   "cell_type": "code",
   "execution_count": null,
   "metadata": {
    "collapsed": true
   },
   "outputs": [],
   "source": [
    "get_result = crowd_client.get_task(function_name, task_name)\n",
    "\n",
    "print('GET response: {}'.format(                     \n",
    "    {'status_code': get_result.status_code, 'task': get_result.json()}))"
   ]
  },
  {
   "cell_type": "markdown",
   "metadata": {},
   "source": [
    "### Creating multiple Tasks and Processing Results \n",
    "\n",
    "Next, we'll read from a CSV file that has multiple rows of text that needs to be analyzed for sentiment using the pandas library.  As a prerequisite you need to have installed the pandas library."
   ]
  },
  {
   "cell_type": "code",
   "execution_count": null,
   "metadata": {
    "collapsed": true
   },
   "outputs": [],
   "source": [
    "import pandas as pd"
   ]
  },
  {
   "cell_type": "code",
   "execution_count": null,
   "metadata": {
    "collapsed": true
   },
   "outputs": [],
   "source": [
    "#read the input data from csv into a pandas DataFrame\n",
    "data = pd.read_csv('https://s3-us-west-2.amazonaws.com/mturk-sample-datasets/semantic-similarity-example-inputs.csv')"
   ]
  },
  {
   "cell_type": "code",
   "execution_count": null,
   "metadata": {
    "collapsed": true
   },
   "outputs": [],
   "source": [
    "# column 1 is the Task ID and column2 is the input data\n",
    "data"
   ]
  },
  {
   "cell_type": "code",
   "execution_count": null,
   "metadata": {
    "collapsed": true
   },
   "outputs": [],
   "source": [
    "#loop through the rows and create a Task per row, write the put_task status in a new column\n",
    "status_codes = []\n",
    "for index, row in data.iterrows():\n",
    "    put_result = crowd_client.put_task(function_name, \n",
    "                                       row.task_id,\n",
    "                                        {'text1': row.review1, 'text2': row.review2})\n",
    "    status_codes.append(put_result.status_code)\n",
    "data['status_codes'] = status_codes"
   ]
  },
  {
   "cell_type": "code",
   "execution_count": null,
   "metadata": {
    "collapsed": true
   },
   "outputs": [],
   "source": [
    "data"
   ]
  },
  {
   "cell_type": "markdown",
   "metadata": {},
   "source": [
    "We'll call get_task periodically until all of the Tasks reach the \"completed\" state."
   ]
  },
  {
   "cell_type": "code",
   "execution_count": null,
   "metadata": {
    "collapsed": true
   },
   "outputs": [],
   "source": [
    "# loop through the rows and get results, store the state and results in new columns\n",
    "\n",
    "status_codes = []\n",
    "responses = []\n",
    "for index, row in data.iterrows():\n",
    "    get_result = crowd_client.get_task(function_name, row.task_id)\n",
    "    status_codes.append(get_result.status_code)\n",
    "    responses.append(get_result.json())"
   ]
  },
  {
   "cell_type": "code",
   "execution_count": null,
   "metadata": {
    "collapsed": true
   },
   "outputs": [],
   "source": [
    "data['status_codes'] = status_codes\n",
    "data['state'] = [r['state'] for r in responses]\n",
    "data['problem_details'] = [r['problemDetails'] for r in responses]\n",
    "#need to handle the case when not all tasks are in completed state\n",
    "data['similarityScore'] = [r['result']['similarityScore'] for r in responses]"
   ]
  },
  {
   "cell_type": "code",
   "execution_count": null,
   "metadata": {
    "collapsed": true
   },
   "outputs": [],
   "source": [
    "data"
   ]
  },
  {
   "cell_type": "markdown",
   "metadata": {},
   "source": [
    "## <a id='collect-utterance-text'>collect-utterance-text</a>\n",
    "\n",
    "Given a context and an intention, provide what you would say, in text, in that situation.\n",
    "\n",
    "input: {\"context\": \"Someone recently bought a phone and it doesn't work\", \"intent\": \"They want to return a phone\"}'\n",
    "\n",
    "result: {'utterances': [{'text': \"result: {\"utterance\": \"The phone that I just bought stopped working.  I want to get a refund\"}\n",
    "\"}]}\n",
    "\n",
    "Internal only: We ask only 1 Worker for each task."
   ]
  },
  {
   "cell_type": "markdown",
   "metadata": {},
   "source": [
    "Here's an example of what the HIT might look like to Workers:\n",
    "![collect-utterance-text-HIT-example](https://s3-us-west-2.amazonaws.com/mturk-sample-tasks/collect-utterance-text-HIT-example.png)"
   ]
  },
  {
   "cell_type": "code",
   "execution_count": null,
   "metadata": {
    "collapsed": true
   },
   "outputs": [],
   "source": [
    "function_name = 'collect-utterance-text'"
   ]
  },
  {
   "cell_type": "markdown",
   "metadata": {},
   "source": [
    "### Create a Task"
   ]
  },
  {
   "cell_type": "code",
   "execution_count": null,
   "metadata": {
    "collapsed": true
   },
   "outputs": [],
   "source": [
    "# automatically generate a random task ID\n",
    "task_name = 'my-test-task-' + uuid.uuid4().hex\n",
    "print(task_name)"
   ]
  },
  {
   "cell_type": "code",
   "execution_count": null,
   "metadata": {
    "collapsed": true
   },
   "outputs": [],
   "source": [
    "# provide the context and the intent\n",
    "context = 'Someone is calling their doctor\\'s office'\n",
    "intent = 'I want to change an existing appointment'"
   ]
  },
  {
   "cell_type": "code",
   "execution_count": null,
   "metadata": {
    "collapsed": true
   },
   "outputs": [],
   "source": [
    "#create a single task with the input you specified above\n",
    "put_result = crowd_client.put_task(function_name,\n",
    "                             task_name,\n",
    "                             {'context': context, 'intent': intent})\n",
    "print('PUT response: {}'.format(\n",
    "    {'status_code': put_result.status_code, 'task': put_result.json()}))"
   ]
  },
  {
   "cell_type": "markdown",
   "metadata": {},
   "source": [
    "### Get the result\n",
    "\n",
    "Wait a few minutes before calling get_task to give Workers a chance to submit answers"
   ]
  },
  {
   "cell_type": "code",
   "execution_count": null,
   "metadata": {
    "collapsed": true
   },
   "outputs": [],
   "source": [
    "get_result = crowd_client.get_task(function_name, task_name)\n",
    "\n",
    "print('GET response: {}'.format(                     \n",
    "    {'status_code': get_result.status_code, 'task': get_result.json()}))"
   ]
  },
  {
   "cell_type": "markdown",
   "metadata": {},
   "source": [
    "## <a id='image-categorization'>image-categorization</a>\n",
    "\n",
    "Given an image URL and a list of categories, determine which category the image best belongs to.  You can optionally provide a description for each category to provide more guidance on what each category includes.\n",
    "\n",
    "Input: {\"image\":{\"url\": \"https://requester.mturk.com/assets/simon.jpg\"},\"categories\": “categories”: [{“label”: “Plant”}, {“label”:”Animal”}, {“label”:”Bacteria”}, {“label”:”Fungi”}, {“label”:”Protists”}]\n",
    "\n",
    "Result: {\"category\":\"Animal\"} "
   ]
  },
  {
   "cell_type": "markdown",
   "metadata": {},
   "source": [
    "![image-categorization-HIT-example](https://s3-us-west-2.amazonaws.com/mturk-sample-tasks/image-categorization-HIT-example.png)"
   ]
  },
  {
   "cell_type": "code",
   "execution_count": null,
   "metadata": {
    "collapsed": true
   },
   "outputs": [],
   "source": [
    "function_name = 'image-categorization'"
   ]
  },
  {
   "cell_type": "markdown",
   "metadata": {},
   "source": [
    "### Create a Task"
   ]
  },
  {
   "cell_type": "code",
   "execution_count": null,
   "metadata": {
    "collapsed": true
   },
   "outputs": [],
   "source": [
    "# automatically generate a random task ID\n",
    "task_name = 'my-test-task-' + uuid.uuid4().hex\n",
    "print(task_name)"
   ]
  },
  {
   "cell_type": "code",
   "execution_count": null,
   "metadata": {
    "collapsed": true
   },
   "outputs": [],
   "source": [
    "# provide the context and the intent\n",
    "image_url = 'https://www.abebooks.com/images/books/harry-potter/sorcerers-stone.jpg'\n",
    "categories =  [{'label': 'Hardcover', 'description': 'hardcover version'}, {'label':'Paperback', 'description': 'paperback version'}, {'label':'eBook', 'description': 'digital text version, including PDF, Kindle'}, {'label':'Audio Book', 'description': 'any audio version, including CD, mp3, streaming'}]"
   ]
  },
  {
   "cell_type": "code",
   "execution_count": null,
   "metadata": {
    "collapsed": true
   },
   "outputs": [],
   "source": [
    "#create a single task with the input you specified above\n",
    "put_result = crowd_client.put_task(function_name,\n",
    "                             task_name,\n",
    "                            {'image': {'url': image_url},\n",
    "                            'categories': categories})\n",
    "print('PUT response: {}'.format(\n",
    "    {'status_code': put_result.status_code, 'task': put_result.json()}))"
   ]
  },
  {
   "cell_type": "markdown",
   "metadata": {},
   "source": [
    "### Get the result\n",
    "\n",
    "Wait a few minutes before calling get_task to give Workers a chance to submit answers"
   ]
  },
  {
   "cell_type": "code",
   "execution_count": null,
   "metadata": {
    "collapsed": true
   },
   "outputs": [],
   "source": [
    "get_result = crowd_client.get_task(function_name, task_name)\n",
    "\n",
    "print('GET response: {}'.format(                     \n",
    "    {'status_code': get_result.status_code, 'task': get_result.json()}))"
   ]
  },
  {
   "cell_type": "markdown",
   "metadata": {},
   "source": [
    "## <a id='text-intent-detection'>text-intent-detection</a>"
   ]
  },
  {
   "cell_type": "markdown",
   "metadata": {},
   "source": [
    "Given a list of intentions, categorize the best intention that matches the text given.\n",
    "\n",
    "input: {\"text\": \"foo\", \"intents\": [{\"label\": \"Schedule an appointment\", \"description\": \"example: I need to make an appointment with Dr. Smith\"}, {\"label\": \"Medical Record Request\", \"description\": \"I need a copy of my kids&#39; immunication records\"}]}\n",
    "\n",
    "result:{'applicableIntents': [{'label': 'Schedule an appointment'}]}"
   ]
  },
  {
   "cell_type": "markdown",
   "metadata": {},
   "source": [
    "Here's an example of what the task might look like for Workers.\n",
    "![text-intent-detection-HIT-example](https://s3-us-west-2.amazonaws.com/mturk-sample-tasks/text-intent-detection-HIT-example.png)"
   ]
  },
  {
   "cell_type": "code",
   "execution_count": null,
   "metadata": {
    "collapsed": true
   },
   "outputs": [],
   "source": [
    "function_name = 'text-intent-detection'"
   ]
  },
  {
   "cell_type": "markdown",
   "metadata": {},
   "source": [
    "### Create a Task"
   ]
  },
  {
   "cell_type": "code",
   "execution_count": null,
   "metadata": {
    "collapsed": true
   },
   "outputs": [],
   "source": [
    "# automatically generate a random task ID\n",
    "task_name = 'my-test-task-' + uuid.uuid4().hex\n",
    "print(task_name)"
   ]
  },
  {
   "cell_type": "code",
   "execution_count": null,
   "metadata": {
    "collapsed": true
   },
   "outputs": [],
   "source": [
    "# define the text to be analysed and a list of intentions to categorize the text for\n",
    "text = 'my son was stung by bees and I need to know if I need to go to the ER'\n",
    "intents =  [{'label': 'Schedule an appointment', 'description': 'e.g. I need to make an appointment with Dr. Smith'}, {'label': 'Medical Record Request', 'description': 'e.g. I need a copy of my kids immunization records'}]"
   ]
  },
  {
   "cell_type": "code",
   "execution_count": null,
   "metadata": {
    "collapsed": true
   },
   "outputs": [],
   "source": [
    "# create a single task with the input you specified above\n",
    "put_result = crowd_client.put_task(function_name,\n",
    "                                   task_name,\n",
    "                                  {'text': text,\n",
    "                                  'intents': intents})\n",
    "print('PUT response: {}'.format(\n",
    "    {'status_code': put_result.status_code, 'task': put_result.json()}))"
   ]
  },
  {
   "cell_type": "markdown",
   "metadata": {},
   "source": [
    "### Get the result\n",
    "\n",
    "Wait a few minutes before calling get_task to give Workers a chance to submit answers"
   ]
  },
  {
   "cell_type": "code",
   "execution_count": null,
   "metadata": {
    "collapsed": true
   },
   "outputs": [],
   "source": [
    "get_result = crowd_client.get_task(function_name, task_name)\n",
    "\n",
    "print('GET response: {}'.format(                     \n",
    "    {'status_code': get_result.status_code, 'task': get_result.json()}))"
   ]
  },
  {
   "cell_type": "markdown",
   "metadata": {},
   "source": [
    "## <a id=text-categorization>text-categorization</a>\n",
    "\n",
    "Given a piece of text and a list of categories, choose the best cateogry that fits the text.\n",
    "\n",
    "input: {\"text\": \"The Baltimore Ravens beat the Seattle Seahawks 24-7\", \"categories\": [{\"label\": \"sports\", \"description\": \"talks about sports\"}, {\"label\": \"food\", \"description\": \"talks about food\"}]}\n",
    "\n",
    "result: {'applicableCategories': [{'label': 'sports'}]}"
   ]
  },
  {
   "cell_type": "markdown",
   "metadata": {},
   "source": [
    "Here's an example of a HIT to MTurk Workers generated by calling this API\n",
    "![text-categorization-HIT-example](https://s3-us-west-2.amazonaws.com/mturk-sample-tasks/text-categorization-HIT-example.png)"
   ]
  },
  {
   "cell_type": "code",
   "execution_count": null,
   "metadata": {
    "collapsed": true
   },
   "outputs": [],
   "source": [
    "function_name = 'text-categorization'"
   ]
  },
  {
   "cell_type": "markdown",
   "metadata": {},
   "source": [
    "### Create a Task"
   ]
  },
  {
   "cell_type": "code",
   "execution_count": null,
   "metadata": {
    "collapsed": true
   },
   "outputs": [],
   "source": [
    "# automatically generate a random task ID\n",
    "task_name = 'my-test-task-' + uuid.uuid4().hex\n",
    "print(task_name)"
   ]
  },
  {
   "cell_type": "code",
   "execution_count": null,
   "metadata": {
    "collapsed": true
   },
   "outputs": [],
   "source": [
    "# define the text to be analysed and a list of categories to assess for\n",
    "text = 'These are great. They do run a touch small. I almost could go a half size up from my normal size.'\n",
    "categories =  [{'label': 'style', 'description': 'related to the look of the product'}, {'label': 'fit', 'description': 'related to the sizing or how it fits'}, {'label': 'quality', 'description': 'related to how well made the product is'}, {'label': 'price', 'description': 'related to cost or value of the product'}]"
   ]
  },
  {
   "cell_type": "code",
   "execution_count": null,
   "metadata": {
    "collapsed": true
   },
   "outputs": [],
   "source": [
    "# create a single task with the input you specified above\n",
    "put_result = crowd_client.put_task(function_name,\n",
    "                                   task_name,\n",
    "                                  {'text': text,\n",
    "                                  'categories': categories})\n",
    "print('PUT response: {}'.format(\n",
    "    {'status_code': put_result.status_code, 'task': put_result.json()}))"
   ]
  },
  {
   "cell_type": "markdown",
   "metadata": {},
   "source": [
    "### Get the result\n",
    "\n",
    "Wait a few minutes before calling get_task to give Workers a chance to submit answers"
   ]
  },
  {
   "cell_type": "code",
   "execution_count": null,
   "metadata": {
    "collapsed": true
   },
   "outputs": [],
   "source": [
    "get_result = crowd_client.get_task(function_name, task_name)\n",
    "\n",
    "print('GET response: {}'.format(                     \n",
    "    {'status_code': get_result.status_code, 'task': get_result.json()}))"
   ]
  },
  {
   "cell_type": "markdown",
   "metadata": {},
   "source": [
    "## <a id=named-entity-recognition>named-entity-recognition</a>\n",
    "\n",
    "Given a paragraph of text, label the span of text that represent entities of various categories, such as person and location.\n",
    "\n",
    "input: {'text': 'Harry Potter is midway through his training as a wizard and his coming of age. Harry wants to get away from the pernicious Dursleys and go to the International Quidditch Cup. He wants to find out about the mysterious event that's supposed to take place at Hogwarts this year, an event involving two other rival schools of magic, and a competition that hasn't happened for a hundred years. He wants to be a normal, fourteen-year-old wizard. But unfortunately for Harry Potter, he's not normal - even by wizarding standards. And in his case, different can be deadly.'}\n",
    "\n",
    "result: {'entities': [{'end': 12, 'start': 0, 'text': 'Harry Potter', 'type': 'person'}, {'end': 84, 'start': 79, 'text': 'Harry', 'type': 'person'}, {'end': 131, 'start': 123, 'text': 'Dursleys', 'type': 'person'}, {'end': 77, 'start': 60, 'text': 'his coming of age', 'type': 'date'}, {'end': 173, 'start': 146, 'text': 'International Quidditch Cup', 'type': 'event'}, {'end': 222, 'start': 217, 'text': 'event', 'type': 'event'}, {'end': 284, 'start': 279, 'text': 'event', 'type': 'event'}, {'end': 346, 'start': 335, 'text': 'competition', 'type': 'event'}, {'end': 264, 'start': 256, 'text': 'Hogwarts', 'type': 'organization'}, {'end': 318, 'start': 311, 'text': 'schools', 'type': 'organization'}, {'end': 264, 'start': 256, 'text': 'Hogwarts', 'type': 'organization'}]}"
   ]
  },
  {
   "cell_type": "markdown",
   "metadata": {},
   "source": [
    "![NER-HIT-example](https://s3-us-west-2.amazonaws.com/mturk-sample-tasks/ner-HIT-example.png)"
   ]
  },
  {
   "cell_type": "markdown",
   "metadata": {},
   "source": [
    "### Create a Task"
   ]
  },
  {
   "cell_type": "code",
   "execution_count": null,
   "metadata": {
    "collapsed": true
   },
   "outputs": [],
   "source": [
    "#set the function_name to the name of the API\n",
    "function_name = 'named-entity-recognition'"
   ]
  },
  {
   "cell_type": "code",
   "execution_count": null,
   "metadata": {
    "collapsed": true
   },
   "outputs": [],
   "source": [
    "# automatically generate a random task ID\n",
    "# task_name = 'my-test-task-' + uuid.uuid4().hex\n",
    "task_name='my-test-task-ff7d0b50791a43cc819b60b7b568c422'\n",
    "print(task_name)"
   ]
  },
  {
   "cell_type": "code",
   "execution_count": null,
   "metadata": {
    "collapsed": true
   },
   "outputs": [],
   "source": [
    "# define the text that you want analyzed, up to 16k\n",
    "text = 'Harry Potter is midway through his training as a wizard and his coming of age. Harry wants to get away from the pernicious Dursleys and go to the International Quidditch Cup. He wants to find out about the mysterious event that\\'s supposed to take place at Hogwarts this year, an event involving two other rival schools of magic, and a competition that hasn\\'t happened for a hundred years.'"
   ]
  },
  {
   "cell_type": "code",
   "execution_count": null,
   "metadata": {
    "collapsed": true
   },
   "outputs": [],
   "source": [
    "# create a single task with the input you specified above\n",
    "put_result = crowd_client.put_task(function_name,\n",
    "                             task_name,\n",
    "                             {'text': text})\n",
    "print('PUT response: {}'.format(\n",
    "    {'status_code': put_result.status_code, 'task': put_result.json()}))"
   ]
  },
  {
   "cell_type": "markdown",
   "metadata": {},
   "source": [
    "### Get the result\n",
    "\n",
    "Wait a few minutes before calling get_task to give Workers a chance to submit answers"
   ]
  },
  {
   "cell_type": "code",
   "execution_count": null,
   "metadata": {
    "collapsed": true
   },
   "outputs": [],
   "source": [
    "get_result = crowd_client.get_task(function_name, task_name)\n",
    "\n",
    "print('GET response: {}'.format(                     \n",
    "    {'status_code': get_result.status_code, 'task': get_result.json()}))"
   ]
  },
  {
   "cell_type": "markdown",
   "metadata": {},
   "source": [
    "## <a id='bounding-box'> bounding-box </a>"
   ]
  },
  {
   "cell_type": "markdown",
   "metadata": {},
   "source": [
    "Given an image, draw a box around particular objects, specified by labels.  This API returns the coordinates of labeled objects in the image.\n",
    "\n",
    "input: {\"image\": {\"url\": \"https://sierra-videos.s3.amazonaws.com/2017_0521/DJI_0001_frames_720h/1495411174030000000.jpg\"}, \"labels\": [{\"label\": \"car\"}, {\"label\": \"pedestrians\"}]}\n",
    "\n",
    "result: {'labels': [{'boundingBox': {'height': 55, 'left': 896, 'top': 665, 'width': 51}, 'label': 'car'}, {'boundingBox': {'height': 50, 'left': 555, 'top': 515, 'width': 63}, 'label': 'car'}, {'boundingBox': {'height': 51, 'left': 539, 'top': 590, 'width': 58}, 'label': 'car'}, {'boundingBox': {'height': 44, 'left': 216, 'top': 512, 'width': 55}, 'label': 'car'}, {'boundingBox': {'height': 54, 'left': 873, 'top': 475, 'width': 53}, 'label': 'car'}, {'boundingBox': {'height': 56, 'left': 1083, 'top': 490, 'width': 47}, 'label': 'car'}, {'boundingBox': {'height': 42, 'left': 164, 'top': 659, 'width': 66}, 'label': 'car'}, {'boundingBox': {'height': 46, 'left': 524, 'top': 213, 'width': 50}, 'label': 'car'}, {'boundingBox': {'height': 48, 'left': 814, 'top': 311, 'width': 53}, 'label': 'car'}]}\n",
    "\n",
    "This API currently only supports upright bounding boxes.  "
   ]
  },
  {
   "cell_type": "markdown",
   "metadata": {},
   "source": [
    "Here's an example of what the Worker sees:\n",
    "![bound-box-HIT-example](https://s3-us-west-2.amazonaws.com/mturk-sample-tasks/bound-box-HIT-example.png)"
   ]
  },
  {
   "cell_type": "code",
   "execution_count": 8,
   "metadata": {
    "collapsed": true
   },
   "outputs": [],
   "source": [
    "function_name = 'bounding-box'"
   ]
  },
  {
   "cell_type": "markdown",
   "metadata": {},
   "source": [
    "### Create a Task"
   ]
  },
  {
   "cell_type": "code",
   "execution_count": 9,
   "metadata": {},
   "outputs": [
    {
     "name": "stdout",
     "output_type": "stream",
     "text": [
      "my-test-task-52162080f2964bbeafc7a1b3e42dc78e\n"
     ]
    }
   ],
   "source": [
    "# automatically generate a random task ID\n",
    "task_name = 'my-test-task-' + uuid.uuid4().hex\n",
    "print(task_name)"
   ]
  },
  {
   "cell_type": "code",
   "execution_count": 10,
   "metadata": {
    "collapsed": true
   },
   "outputs": [],
   "source": [
    "# provide the context and the intent\n",
    "image_url = 'https://sierra-videos.s3.amazonaws.com/2017_0521/DJI_0001_frames_720h/1495411174030000000.jpg'\n",
    "labels =  [{\"label\": \"car\"}, {\"label\": \"pedestrians\"}]"
   ]
  },
  {
   "cell_type": "code",
   "execution_count": 11,
   "metadata": {},
   "outputs": [
    {
     "name": "stdout",
     "output_type": "stream",
     "text": [
      "PUT response: {'status_code': 201, 'task': {'input': {'image': {'url': 'https://sierra-videos.s3.amazonaws.com/2017_0521/DJI_0001_frames_720h/1495411174030000000.jpg'}, 'labels': [{'label': 'car'}, {'label': 'pedestrians'}]}, 'problemDetails': None, 'result': None, 'state': 'processing', 'taskName': 'my-test-task-52162080f2964bbeafc7a1b3e42dc78e'}}\n"
     ]
    }
   ],
   "source": [
    "#create a single task with the input you specified above\n",
    "put_result = crowd_client.put_task(function_name,\n",
    "                             task_name,\n",
    "                            {'image': {'url': image_url},\n",
    "                            'labels': labels})\n",
    "\n",
    "print('PUT response: {}'.format(\n",
    "    {'status_code': put_result.status_code, 'task': put_result.json()}))"
   ]
  },
  {
   "cell_type": "markdown",
   "metadata": {},
   "source": [
    "### Get the result\n",
    "\n",
    "Wait a few minutes before calling get_task to give Workers a chance to submit answers"
   ]
  },
  {
   "cell_type": "code",
   "execution_count": 12,
   "metadata": {},
   "outputs": [
    {
     "name": "stdout",
     "output_type": "stream",
     "text": [
      "GET response: {'status_code': 200, 'task': {'input': {'image': {'url': 'https://sierra-videos.s3.amazonaws.com/2017_0521/DJI_0001_frames_720h/1495411174030000000.jpg'}, 'labels': [{'label': 'car'}, {'label': 'pedestrians'}]}, 'problemDetails': None, 'result': None, 'state': 'processing', 'taskName': 'my-test-task-52162080f2964bbeafc7a1b3e42dc78e'}}\n"
     ]
    }
   ],
   "source": [
    "get_result = crowd_client.get_task(function_name, task_name)\n",
    "\n",
    "print('GET response: {}'.format(                     \n",
    "    {'status_code': get_result.status_code, 'task': get_result.json()}))"
   ]
  },
  {
   "cell_type": "markdown",
   "metadata": {},
   "source": [
    "### Creating multiple Tasks and Processing Results \n",
    "\n",
    "Next, we'll read from a CSV file that has multiple rows of text that needs to be analyzed for sentiment using the pandas library.  As a prerequisite you need to have installed the pandas library."
   ]
  },
  {
   "cell_type": "code",
   "execution_count": 13,
   "metadata": {
    "collapsed": true
   },
   "outputs": [],
   "source": [
    "import pandas as pd"
   ]
  },
  {
   "cell_type": "code",
   "execution_count": 14,
   "metadata": {
    "collapsed": true
   },
   "outputs": [],
   "source": [
    "#read the input data from csv into a pandas DataFrame\n",
    "data = pd.read_csv('https://s3-us-west-2.amazonaws.com/mturk-sample-datasets/vehicle_box_annotation_images-input-sample.csv')"
   ]
  },
  {
   "cell_type": "code",
   "execution_count": 15,
   "metadata": {},
   "outputs": [
    {
     "data": {
      "text/html": [
       "<div>\n",
       "<style>\n",
       "    .dataframe thead tr:only-child th {\n",
       "        text-align: right;\n",
       "    }\n",
       "\n",
       "    .dataframe thead th {\n",
       "        text-align: left;\n",
       "    }\n",
       "\n",
       "    .dataframe tbody tr th {\n",
       "        vertical-align: top;\n",
       "    }\n",
       "</style>\n",
       "<table border=\"1\" class=\"dataframe\">\n",
       "  <thead>\n",
       "    <tr style=\"text-align: right;\">\n",
       "      <th></th>\n",
       "      <th>task_id</th>\n",
       "      <th>image_url</th>\n",
       "      <th>label</th>\n",
       "    </tr>\n",
       "  </thead>\n",
       "  <tbody>\n",
       "    <tr>\n",
       "      <th>0</th>\n",
       "      <td>bounding-box-10</td>\n",
       "      <td>https://sierra-videos.s3.amazonaws.com/2017_05...</td>\n",
       "      <td>car</td>\n",
       "    </tr>\n",
       "    <tr>\n",
       "      <th>1</th>\n",
       "      <td>bounding-box-20</td>\n",
       "      <td>https://sierra-videos.s3.amazonaws.com/2017_05...</td>\n",
       "      <td>car</td>\n",
       "    </tr>\n",
       "    <tr>\n",
       "      <th>2</th>\n",
       "      <td>bounding-box-30</td>\n",
       "      <td>https://sierra-videos.s3.amazonaws.com/2017_05...</td>\n",
       "      <td>car</td>\n",
       "    </tr>\n",
       "    <tr>\n",
       "      <th>3</th>\n",
       "      <td>bounding-box-40</td>\n",
       "      <td>https://sierra-videos.s3.amazonaws.com/2017_05...</td>\n",
       "      <td>car</td>\n",
       "    </tr>\n",
       "    <tr>\n",
       "      <th>4</th>\n",
       "      <td>bounding-box-50</td>\n",
       "      <td>https://sierra-videos.s3.amazonaws.com/2017_05...</td>\n",
       "      <td>car</td>\n",
       "    </tr>\n",
       "    <tr>\n",
       "      <th>5</th>\n",
       "      <td>bounding-box-60</td>\n",
       "      <td>https://sierra-videos.s3.amazonaws.com/2017_05...</td>\n",
       "      <td>car</td>\n",
       "    </tr>\n",
       "    <tr>\n",
       "      <th>6</th>\n",
       "      <td>bounding-box-70</td>\n",
       "      <td>https://sierra-videos.s3.amazonaws.com/2017_05...</td>\n",
       "      <td>car</td>\n",
       "    </tr>\n",
       "    <tr>\n",
       "      <th>7</th>\n",
       "      <td>bounding-box-80</td>\n",
       "      <td>https://sierra-videos.s3.amazonaws.com/2017_05...</td>\n",
       "      <td>car</td>\n",
       "    </tr>\n",
       "    <tr>\n",
       "      <th>8</th>\n",
       "      <td>bounding-box-90</td>\n",
       "      <td>https://sierra-videos.s3.amazonaws.com/2017_05...</td>\n",
       "      <td>car</td>\n",
       "    </tr>\n",
       "    <tr>\n",
       "      <th>9</th>\n",
       "      <td>bounding-box-100</td>\n",
       "      <td>https://sierra-videos.s3.amazonaws.com/2017_05...</td>\n",
       "      <td>car</td>\n",
       "    </tr>\n",
       "    <tr>\n",
       "      <th>10</th>\n",
       "      <td>bounding-box-110</td>\n",
       "      <td>https://sierra-videos.s3.amazonaws.com/2017_05...</td>\n",
       "      <td>car</td>\n",
       "    </tr>\n",
       "    <tr>\n",
       "      <th>11</th>\n",
       "      <td>bounding-box-120</td>\n",
       "      <td>https://sierra-videos.s3.amazonaws.com/2017_05...</td>\n",
       "      <td>car</td>\n",
       "    </tr>\n",
       "    <tr>\n",
       "      <th>12</th>\n",
       "      <td>bounding-box-130</td>\n",
       "      <td>https://sierra-videos.s3.amazonaws.com/2017_05...</td>\n",
       "      <td>car</td>\n",
       "    </tr>\n",
       "    <tr>\n",
       "      <th>13</th>\n",
       "      <td>bounding-box-140</td>\n",
       "      <td>https://sierra-videos.s3.amazonaws.com/2017_05...</td>\n",
       "      <td>car</td>\n",
       "    </tr>\n",
       "    <tr>\n",
       "      <th>14</th>\n",
       "      <td>bounding-box-150</td>\n",
       "      <td>https://sierra-videos.s3.amazonaws.com/2017_05...</td>\n",
       "      <td>car</td>\n",
       "    </tr>\n",
       "    <tr>\n",
       "      <th>15</th>\n",
       "      <td>bounding-box-160</td>\n",
       "      <td>https://sierra-videos.s3.amazonaws.com/2017_05...</td>\n",
       "      <td>car</td>\n",
       "    </tr>\n",
       "    <tr>\n",
       "      <th>16</th>\n",
       "      <td>bounding-box-170</td>\n",
       "      <td>https://sierra-videos.s3.amazonaws.com/2017_05...</td>\n",
       "      <td>car</td>\n",
       "    </tr>\n",
       "    <tr>\n",
       "      <th>17</th>\n",
       "      <td>bounding-box-180</td>\n",
       "      <td>https://sierra-videos.s3.amazonaws.com/2017_05...</td>\n",
       "      <td>car</td>\n",
       "    </tr>\n",
       "    <tr>\n",
       "      <th>18</th>\n",
       "      <td>bounding-box-190</td>\n",
       "      <td>https://sierra-videos.s3.amazonaws.com/2017_05...</td>\n",
       "      <td>car</td>\n",
       "    </tr>\n",
       "    <tr>\n",
       "      <th>19</th>\n",
       "      <td>bounding-box-200</td>\n",
       "      <td>https://sierra-videos.s3.amazonaws.com/2017_05...</td>\n",
       "      <td>car</td>\n",
       "    </tr>\n",
       "    <tr>\n",
       "      <th>20</th>\n",
       "      <td>bounding-box-210</td>\n",
       "      <td>https://sierra-videos.s3.amazonaws.com/2017_05...</td>\n",
       "      <td>car</td>\n",
       "    </tr>\n",
       "    <tr>\n",
       "      <th>21</th>\n",
       "      <td>bounding-box-220</td>\n",
       "      <td>https://sierra-videos.s3.amazonaws.com/2017_05...</td>\n",
       "      <td>car</td>\n",
       "    </tr>\n",
       "    <tr>\n",
       "      <th>22</th>\n",
       "      <td>bounding-box-230</td>\n",
       "      <td>https://sierra-videos.s3.amazonaws.com/2017_05...</td>\n",
       "      <td>car</td>\n",
       "    </tr>\n",
       "    <tr>\n",
       "      <th>23</th>\n",
       "      <td>bounding-box-240</td>\n",
       "      <td>https://sierra-videos.s3.amazonaws.com/2017_05...</td>\n",
       "      <td>car</td>\n",
       "    </tr>\n",
       "    <tr>\n",
       "      <th>24</th>\n",
       "      <td>bounding-box-250</td>\n",
       "      <td>https://sierra-videos.s3.amazonaws.com/2017_05...</td>\n",
       "      <td>car</td>\n",
       "    </tr>\n",
       "    <tr>\n",
       "      <th>25</th>\n",
       "      <td>bounding-box-260</td>\n",
       "      <td>https://sierra-videos.s3.amazonaws.com/2017_05...</td>\n",
       "      <td>car</td>\n",
       "    </tr>\n",
       "    <tr>\n",
       "      <th>26</th>\n",
       "      <td>bounding-box-270</td>\n",
       "      <td>https://sierra-videos.s3.amazonaws.com/2017_05...</td>\n",
       "      <td>car</td>\n",
       "    </tr>\n",
       "    <tr>\n",
       "      <th>27</th>\n",
       "      <td>bounding-box-280</td>\n",
       "      <td>https://sierra-videos.s3.amazonaws.com/2017_05...</td>\n",
       "      <td>car</td>\n",
       "    </tr>\n",
       "    <tr>\n",
       "      <th>28</th>\n",
       "      <td>bounding-box-290</td>\n",
       "      <td>https://sierra-videos.s3.amazonaws.com/2017_05...</td>\n",
       "      <td>car</td>\n",
       "    </tr>\n",
       "    <tr>\n",
       "      <th>29</th>\n",
       "      <td>bounding-box-300</td>\n",
       "      <td>https://sierra-videos.s3.amazonaws.com/2017_05...</td>\n",
       "      <td>car</td>\n",
       "    </tr>\n",
       "    <tr>\n",
       "      <th>...</th>\n",
       "      <td>...</td>\n",
       "      <td>...</td>\n",
       "      <td>...</td>\n",
       "    </tr>\n",
       "    <tr>\n",
       "      <th>62</th>\n",
       "      <td>bounding-box-630</td>\n",
       "      <td>https://sierra-videos.s3.amazonaws.com/2017_05...</td>\n",
       "      <td>car</td>\n",
       "    </tr>\n",
       "    <tr>\n",
       "      <th>63</th>\n",
       "      <td>bounding-box-640</td>\n",
       "      <td>https://sierra-videos.s3.amazonaws.com/2017_05...</td>\n",
       "      <td>car</td>\n",
       "    </tr>\n",
       "    <tr>\n",
       "      <th>64</th>\n",
       "      <td>bounding-box-650</td>\n",
       "      <td>https://sierra-videos.s3.amazonaws.com/2017_05...</td>\n",
       "      <td>car</td>\n",
       "    </tr>\n",
       "    <tr>\n",
       "      <th>65</th>\n",
       "      <td>bounding-box-660</td>\n",
       "      <td>https://sierra-videos.s3.amazonaws.com/2017_05...</td>\n",
       "      <td>car</td>\n",
       "    </tr>\n",
       "    <tr>\n",
       "      <th>66</th>\n",
       "      <td>bounding-box-670</td>\n",
       "      <td>https://sierra-videos.s3.amazonaws.com/2017_05...</td>\n",
       "      <td>car</td>\n",
       "    </tr>\n",
       "    <tr>\n",
       "      <th>67</th>\n",
       "      <td>bounding-box-680</td>\n",
       "      <td>https://sierra-videos.s3.amazonaws.com/2017_05...</td>\n",
       "      <td>car</td>\n",
       "    </tr>\n",
       "    <tr>\n",
       "      <th>68</th>\n",
       "      <td>bounding-box-690</td>\n",
       "      <td>https://sierra-videos.s3.amazonaws.com/2017_05...</td>\n",
       "      <td>car</td>\n",
       "    </tr>\n",
       "    <tr>\n",
       "      <th>69</th>\n",
       "      <td>bounding-box-700</td>\n",
       "      <td>https://sierra-videos.s3.amazonaws.com/2017_05...</td>\n",
       "      <td>car</td>\n",
       "    </tr>\n",
       "    <tr>\n",
       "      <th>70</th>\n",
       "      <td>bounding-box-710</td>\n",
       "      <td>https://sierra-videos.s3.amazonaws.com/2017_05...</td>\n",
       "      <td>car</td>\n",
       "    </tr>\n",
       "    <tr>\n",
       "      <th>71</th>\n",
       "      <td>bounding-box-720</td>\n",
       "      <td>https://sierra-videos.s3.amazonaws.com/2017_05...</td>\n",
       "      <td>car</td>\n",
       "    </tr>\n",
       "    <tr>\n",
       "      <th>72</th>\n",
       "      <td>bounding-box-730</td>\n",
       "      <td>https://sierra-videos.s3.amazonaws.com/2017_05...</td>\n",
       "      <td>car</td>\n",
       "    </tr>\n",
       "    <tr>\n",
       "      <th>73</th>\n",
       "      <td>bounding-box-740</td>\n",
       "      <td>https://sierra-videos.s3.amazonaws.com/2017_05...</td>\n",
       "      <td>car</td>\n",
       "    </tr>\n",
       "    <tr>\n",
       "      <th>74</th>\n",
       "      <td>bounding-box-750</td>\n",
       "      <td>https://sierra-videos.s3.amazonaws.com/2017_05...</td>\n",
       "      <td>car</td>\n",
       "    </tr>\n",
       "    <tr>\n",
       "      <th>75</th>\n",
       "      <td>bounding-box-760</td>\n",
       "      <td>https://sierra-videos.s3.amazonaws.com/2017_05...</td>\n",
       "      <td>car</td>\n",
       "    </tr>\n",
       "    <tr>\n",
       "      <th>76</th>\n",
       "      <td>bounding-box-770</td>\n",
       "      <td>https://sierra-videos.s3.amazonaws.com/2017_05...</td>\n",
       "      <td>car</td>\n",
       "    </tr>\n",
       "    <tr>\n",
       "      <th>77</th>\n",
       "      <td>bounding-box-780</td>\n",
       "      <td>https://sierra-videos.s3.amazonaws.com/2017_05...</td>\n",
       "      <td>car</td>\n",
       "    </tr>\n",
       "    <tr>\n",
       "      <th>78</th>\n",
       "      <td>bounding-box-790</td>\n",
       "      <td>https://sierra-videos.s3.amazonaws.com/2017_05...</td>\n",
       "      <td>car</td>\n",
       "    </tr>\n",
       "    <tr>\n",
       "      <th>79</th>\n",
       "      <td>bounding-box-800</td>\n",
       "      <td>https://sierra-videos.s3.amazonaws.com/2017_05...</td>\n",
       "      <td>car</td>\n",
       "    </tr>\n",
       "    <tr>\n",
       "      <th>80</th>\n",
       "      <td>bounding-box-810</td>\n",
       "      <td>https://sierra-videos.s3.amazonaws.com/2017_05...</td>\n",
       "      <td>car</td>\n",
       "    </tr>\n",
       "    <tr>\n",
       "      <th>81</th>\n",
       "      <td>bounding-box-820</td>\n",
       "      <td>https://sierra-videos.s3.amazonaws.com/2017_05...</td>\n",
       "      <td>car</td>\n",
       "    </tr>\n",
       "    <tr>\n",
       "      <th>82</th>\n",
       "      <td>bounding-box-830</td>\n",
       "      <td>https://sierra-videos.s3.amazonaws.com/2017_05...</td>\n",
       "      <td>car</td>\n",
       "    </tr>\n",
       "    <tr>\n",
       "      <th>83</th>\n",
       "      <td>bounding-box-840</td>\n",
       "      <td>https://sierra-videos.s3.amazonaws.com/2017_05...</td>\n",
       "      <td>car</td>\n",
       "    </tr>\n",
       "    <tr>\n",
       "      <th>84</th>\n",
       "      <td>bounding-box-850</td>\n",
       "      <td>https://sierra-videos.s3.amazonaws.com/2017_05...</td>\n",
       "      <td>car</td>\n",
       "    </tr>\n",
       "    <tr>\n",
       "      <th>85</th>\n",
       "      <td>bounding-box-860</td>\n",
       "      <td>https://sierra-videos.s3.amazonaws.com/2017_05...</td>\n",
       "      <td>car</td>\n",
       "    </tr>\n",
       "    <tr>\n",
       "      <th>86</th>\n",
       "      <td>bounding-box-870</td>\n",
       "      <td>https://sierra-videos.s3.amazonaws.com/2017_05...</td>\n",
       "      <td>car</td>\n",
       "    </tr>\n",
       "    <tr>\n",
       "      <th>87</th>\n",
       "      <td>bounding-box-880</td>\n",
       "      <td>https://sierra-videos.s3.amazonaws.com/2017_05...</td>\n",
       "      <td>car</td>\n",
       "    </tr>\n",
       "    <tr>\n",
       "      <th>88</th>\n",
       "      <td>bounding-box-890</td>\n",
       "      <td>https://sierra-videos.s3.amazonaws.com/2017_05...</td>\n",
       "      <td>car</td>\n",
       "    </tr>\n",
       "    <tr>\n",
       "      <th>89</th>\n",
       "      <td>bounding-box-900</td>\n",
       "      <td>https://sierra-videos.s3.amazonaws.com/2017_05...</td>\n",
       "      <td>car</td>\n",
       "    </tr>\n",
       "    <tr>\n",
       "      <th>90</th>\n",
       "      <td>bounding-box-910</td>\n",
       "      <td>https://sierra-videos.s3.amazonaws.com/2017_05...</td>\n",
       "      <td>car</td>\n",
       "    </tr>\n",
       "    <tr>\n",
       "      <th>91</th>\n",
       "      <td>bounding-box-920</td>\n",
       "      <td>https://sierra-videos.s3.amazonaws.com/2017_05...</td>\n",
       "      <td>car</td>\n",
       "    </tr>\n",
       "  </tbody>\n",
       "</table>\n",
       "<p>92 rows × 3 columns</p>\n",
       "</div>"
      ],
      "text/plain": [
       "             task_id                                          image_url label\n",
       "0    bounding-box-10  https://sierra-videos.s3.amazonaws.com/2017_05...   car\n",
       "1    bounding-box-20  https://sierra-videos.s3.amazonaws.com/2017_05...   car\n",
       "2    bounding-box-30  https://sierra-videos.s3.amazonaws.com/2017_05...   car\n",
       "3    bounding-box-40  https://sierra-videos.s3.amazonaws.com/2017_05...   car\n",
       "4    bounding-box-50  https://sierra-videos.s3.amazonaws.com/2017_05...   car\n",
       "5    bounding-box-60  https://sierra-videos.s3.amazonaws.com/2017_05...   car\n",
       "6    bounding-box-70  https://sierra-videos.s3.amazonaws.com/2017_05...   car\n",
       "7    bounding-box-80  https://sierra-videos.s3.amazonaws.com/2017_05...   car\n",
       "8    bounding-box-90  https://sierra-videos.s3.amazonaws.com/2017_05...   car\n",
       "9   bounding-box-100  https://sierra-videos.s3.amazonaws.com/2017_05...   car\n",
       "10  bounding-box-110  https://sierra-videos.s3.amazonaws.com/2017_05...   car\n",
       "11  bounding-box-120  https://sierra-videos.s3.amazonaws.com/2017_05...   car\n",
       "12  bounding-box-130  https://sierra-videos.s3.amazonaws.com/2017_05...   car\n",
       "13  bounding-box-140  https://sierra-videos.s3.amazonaws.com/2017_05...   car\n",
       "14  bounding-box-150  https://sierra-videos.s3.amazonaws.com/2017_05...   car\n",
       "15  bounding-box-160  https://sierra-videos.s3.amazonaws.com/2017_05...   car\n",
       "16  bounding-box-170  https://sierra-videos.s3.amazonaws.com/2017_05...   car\n",
       "17  bounding-box-180  https://sierra-videos.s3.amazonaws.com/2017_05...   car\n",
       "18  bounding-box-190  https://sierra-videos.s3.amazonaws.com/2017_05...   car\n",
       "19  bounding-box-200  https://sierra-videos.s3.amazonaws.com/2017_05...   car\n",
       "20  bounding-box-210  https://sierra-videos.s3.amazonaws.com/2017_05...   car\n",
       "21  bounding-box-220  https://sierra-videos.s3.amazonaws.com/2017_05...   car\n",
       "22  bounding-box-230  https://sierra-videos.s3.amazonaws.com/2017_05...   car\n",
       "23  bounding-box-240  https://sierra-videos.s3.amazonaws.com/2017_05...   car\n",
       "24  bounding-box-250  https://sierra-videos.s3.amazonaws.com/2017_05...   car\n",
       "25  bounding-box-260  https://sierra-videos.s3.amazonaws.com/2017_05...   car\n",
       "26  bounding-box-270  https://sierra-videos.s3.amazonaws.com/2017_05...   car\n",
       "27  bounding-box-280  https://sierra-videos.s3.amazonaws.com/2017_05...   car\n",
       "28  bounding-box-290  https://sierra-videos.s3.amazonaws.com/2017_05...   car\n",
       "29  bounding-box-300  https://sierra-videos.s3.amazonaws.com/2017_05...   car\n",
       "..               ...                                                ...   ...\n",
       "62  bounding-box-630  https://sierra-videos.s3.amazonaws.com/2017_05...   car\n",
       "63  bounding-box-640  https://sierra-videos.s3.amazonaws.com/2017_05...   car\n",
       "64  bounding-box-650  https://sierra-videos.s3.amazonaws.com/2017_05...   car\n",
       "65  bounding-box-660  https://sierra-videos.s3.amazonaws.com/2017_05...   car\n",
       "66  bounding-box-670  https://sierra-videos.s3.amazonaws.com/2017_05...   car\n",
       "67  bounding-box-680  https://sierra-videos.s3.amazonaws.com/2017_05...   car\n",
       "68  bounding-box-690  https://sierra-videos.s3.amazonaws.com/2017_05...   car\n",
       "69  bounding-box-700  https://sierra-videos.s3.amazonaws.com/2017_05...   car\n",
       "70  bounding-box-710  https://sierra-videos.s3.amazonaws.com/2017_05...   car\n",
       "71  bounding-box-720  https://sierra-videos.s3.amazonaws.com/2017_05...   car\n",
       "72  bounding-box-730  https://sierra-videos.s3.amazonaws.com/2017_05...   car\n",
       "73  bounding-box-740  https://sierra-videos.s3.amazonaws.com/2017_05...   car\n",
       "74  bounding-box-750  https://sierra-videos.s3.amazonaws.com/2017_05...   car\n",
       "75  bounding-box-760  https://sierra-videos.s3.amazonaws.com/2017_05...   car\n",
       "76  bounding-box-770  https://sierra-videos.s3.amazonaws.com/2017_05...   car\n",
       "77  bounding-box-780  https://sierra-videos.s3.amazonaws.com/2017_05...   car\n",
       "78  bounding-box-790  https://sierra-videos.s3.amazonaws.com/2017_05...   car\n",
       "79  bounding-box-800  https://sierra-videos.s3.amazonaws.com/2017_05...   car\n",
       "80  bounding-box-810  https://sierra-videos.s3.amazonaws.com/2017_05...   car\n",
       "81  bounding-box-820  https://sierra-videos.s3.amazonaws.com/2017_05...   car\n",
       "82  bounding-box-830  https://sierra-videos.s3.amazonaws.com/2017_05...   car\n",
       "83  bounding-box-840  https://sierra-videos.s3.amazonaws.com/2017_05...   car\n",
       "84  bounding-box-850  https://sierra-videos.s3.amazonaws.com/2017_05...   car\n",
       "85  bounding-box-860  https://sierra-videos.s3.amazonaws.com/2017_05...   car\n",
       "86  bounding-box-870  https://sierra-videos.s3.amazonaws.com/2017_05...   car\n",
       "87  bounding-box-880  https://sierra-videos.s3.amazonaws.com/2017_05...   car\n",
       "88  bounding-box-890  https://sierra-videos.s3.amazonaws.com/2017_05...   car\n",
       "89  bounding-box-900  https://sierra-videos.s3.amazonaws.com/2017_05...   car\n",
       "90  bounding-box-910  https://sierra-videos.s3.amazonaws.com/2017_05...   car\n",
       "91  bounding-box-920  https://sierra-videos.s3.amazonaws.com/2017_05...   car\n",
       "\n",
       "[92 rows x 3 columns]"
      ]
     },
     "execution_count": 15,
     "metadata": {},
     "output_type": "execute_result"
    }
   ],
   "source": [
    "# column 1 is the Task ID and column2 is the image_url and column3 is the item to draw\n",
    "data"
   ]
  },
  {
   "cell_type": "code",
   "execution_count": 16,
   "metadata": {},
   "outputs": [],
   "source": [
    "#loop through the rows and create a Task per row, write the put_task status in a new column\n",
    "status_codes = []\n",
    "for index, row in data.iterrows():\n",
    "    put_result = crowd_client.put_task(function_name, \n",
    "                                       row.task_id,\n",
    "                                       {'image': {'url': row.image_url},\n",
    "                                        'labels' : [{\"label\": row.label}]})\n",
    "#    print('PUT response: {}'.format(\n",
    "#    {'status_code': put_result.status_code, 'task': put_result.json()}))\n",
    "    status_codes.append(put_result.status_code)\n",
    "data['status_codes'] = status_codes"
   ]
  },
  {
   "cell_type": "code",
   "execution_count": 19,
   "metadata": {},
   "outputs": [
    {
     "data": {
      "text/html": [
       "<div>\n",
       "<style>\n",
       "    .dataframe thead tr:only-child th {\n",
       "        text-align: right;\n",
       "    }\n",
       "\n",
       "    .dataframe thead th {\n",
       "        text-align: left;\n",
       "    }\n",
       "\n",
       "    .dataframe tbody tr th {\n",
       "        vertical-align: top;\n",
       "    }\n",
       "</style>\n",
       "<table border=\"1\" class=\"dataframe\">\n",
       "  <thead>\n",
       "    <tr style=\"text-align: right;\">\n",
       "      <th></th>\n",
       "      <th>task_id</th>\n",
       "      <th>image_url</th>\n",
       "      <th>label</th>\n",
       "      <th>status_codes</th>\n",
       "    </tr>\n",
       "  </thead>\n",
       "  <tbody>\n",
       "    <tr>\n",
       "      <th>0</th>\n",
       "      <td>bounding-box-10</td>\n",
       "      <td>https://sierra-videos.s3.amazonaws.com/2017_05...</td>\n",
       "      <td>car</td>\n",
       "      <td>200</td>\n",
       "    </tr>\n",
       "    <tr>\n",
       "      <th>1</th>\n",
       "      <td>bounding-box-20</td>\n",
       "      <td>https://sierra-videos.s3.amazonaws.com/2017_05...</td>\n",
       "      <td>car</td>\n",
       "      <td>200</td>\n",
       "    </tr>\n",
       "    <tr>\n",
       "      <th>2</th>\n",
       "      <td>bounding-box-30</td>\n",
       "      <td>https://sierra-videos.s3.amazonaws.com/2017_05...</td>\n",
       "      <td>car</td>\n",
       "      <td>200</td>\n",
       "    </tr>\n",
       "    <tr>\n",
       "      <th>3</th>\n",
       "      <td>bounding-box-40</td>\n",
       "      <td>https://sierra-videos.s3.amazonaws.com/2017_05...</td>\n",
       "      <td>car</td>\n",
       "      <td>200</td>\n",
       "    </tr>\n",
       "    <tr>\n",
       "      <th>4</th>\n",
       "      <td>bounding-box-50</td>\n",
       "      <td>https://sierra-videos.s3.amazonaws.com/2017_05...</td>\n",
       "      <td>car</td>\n",
       "      <td>200</td>\n",
       "    </tr>\n",
       "    <tr>\n",
       "      <th>5</th>\n",
       "      <td>bounding-box-60</td>\n",
       "      <td>https://sierra-videos.s3.amazonaws.com/2017_05...</td>\n",
       "      <td>car</td>\n",
       "      <td>200</td>\n",
       "    </tr>\n",
       "    <tr>\n",
       "      <th>6</th>\n",
       "      <td>bounding-box-70</td>\n",
       "      <td>https://sierra-videos.s3.amazonaws.com/2017_05...</td>\n",
       "      <td>car</td>\n",
       "      <td>200</td>\n",
       "    </tr>\n",
       "    <tr>\n",
       "      <th>7</th>\n",
       "      <td>bounding-box-80</td>\n",
       "      <td>https://sierra-videos.s3.amazonaws.com/2017_05...</td>\n",
       "      <td>car</td>\n",
       "      <td>200</td>\n",
       "    </tr>\n",
       "    <tr>\n",
       "      <th>8</th>\n",
       "      <td>bounding-box-90</td>\n",
       "      <td>https://sierra-videos.s3.amazonaws.com/2017_05...</td>\n",
       "      <td>car</td>\n",
       "      <td>200</td>\n",
       "    </tr>\n",
       "    <tr>\n",
       "      <th>9</th>\n",
       "      <td>bounding-box-100</td>\n",
       "      <td>https://sierra-videos.s3.amazonaws.com/2017_05...</td>\n",
       "      <td>car</td>\n",
       "      <td>200</td>\n",
       "    </tr>\n",
       "    <tr>\n",
       "      <th>10</th>\n",
       "      <td>bounding-box-110</td>\n",
       "      <td>https://sierra-videos.s3.amazonaws.com/2017_05...</td>\n",
       "      <td>car</td>\n",
       "      <td>201</td>\n",
       "    </tr>\n",
       "    <tr>\n",
       "      <th>11</th>\n",
       "      <td>bounding-box-120</td>\n",
       "      <td>https://sierra-videos.s3.amazonaws.com/2017_05...</td>\n",
       "      <td>car</td>\n",
       "      <td>201</td>\n",
       "    </tr>\n",
       "    <tr>\n",
       "      <th>12</th>\n",
       "      <td>bounding-box-130</td>\n",
       "      <td>https://sierra-videos.s3.amazonaws.com/2017_05...</td>\n",
       "      <td>car</td>\n",
       "      <td>201</td>\n",
       "    </tr>\n",
       "    <tr>\n",
       "      <th>13</th>\n",
       "      <td>bounding-box-140</td>\n",
       "      <td>https://sierra-videos.s3.amazonaws.com/2017_05...</td>\n",
       "      <td>car</td>\n",
       "      <td>201</td>\n",
       "    </tr>\n",
       "    <tr>\n",
       "      <th>14</th>\n",
       "      <td>bounding-box-150</td>\n",
       "      <td>https://sierra-videos.s3.amazonaws.com/2017_05...</td>\n",
       "      <td>car</td>\n",
       "      <td>201</td>\n",
       "    </tr>\n",
       "    <tr>\n",
       "      <th>15</th>\n",
       "      <td>bounding-box-160</td>\n",
       "      <td>https://sierra-videos.s3.amazonaws.com/2017_05...</td>\n",
       "      <td>car</td>\n",
       "      <td>201</td>\n",
       "    </tr>\n",
       "    <tr>\n",
       "      <th>16</th>\n",
       "      <td>bounding-box-170</td>\n",
       "      <td>https://sierra-videos.s3.amazonaws.com/2017_05...</td>\n",
       "      <td>car</td>\n",
       "      <td>201</td>\n",
       "    </tr>\n",
       "    <tr>\n",
       "      <th>17</th>\n",
       "      <td>bounding-box-180</td>\n",
       "      <td>https://sierra-videos.s3.amazonaws.com/2017_05...</td>\n",
       "      <td>car</td>\n",
       "      <td>201</td>\n",
       "    </tr>\n",
       "    <tr>\n",
       "      <th>18</th>\n",
       "      <td>bounding-box-190</td>\n",
       "      <td>https://sierra-videos.s3.amazonaws.com/2017_05...</td>\n",
       "      <td>car</td>\n",
       "      <td>201</td>\n",
       "    </tr>\n",
       "    <tr>\n",
       "      <th>19</th>\n",
       "      <td>bounding-box-200</td>\n",
       "      <td>https://sierra-videos.s3.amazonaws.com/2017_05...</td>\n",
       "      <td>car</td>\n",
       "      <td>201</td>\n",
       "    </tr>\n",
       "    <tr>\n",
       "      <th>20</th>\n",
       "      <td>bounding-box-210</td>\n",
       "      <td>https://sierra-videos.s3.amazonaws.com/2017_05...</td>\n",
       "      <td>car</td>\n",
       "      <td>201</td>\n",
       "    </tr>\n",
       "    <tr>\n",
       "      <th>21</th>\n",
       "      <td>bounding-box-220</td>\n",
       "      <td>https://sierra-videos.s3.amazonaws.com/2017_05...</td>\n",
       "      <td>car</td>\n",
       "      <td>201</td>\n",
       "    </tr>\n",
       "    <tr>\n",
       "      <th>22</th>\n",
       "      <td>bounding-box-230</td>\n",
       "      <td>https://sierra-videos.s3.amazonaws.com/2017_05...</td>\n",
       "      <td>car</td>\n",
       "      <td>201</td>\n",
       "    </tr>\n",
       "    <tr>\n",
       "      <th>23</th>\n",
       "      <td>bounding-box-240</td>\n",
       "      <td>https://sierra-videos.s3.amazonaws.com/2017_05...</td>\n",
       "      <td>car</td>\n",
       "      <td>201</td>\n",
       "    </tr>\n",
       "    <tr>\n",
       "      <th>24</th>\n",
       "      <td>bounding-box-250</td>\n",
       "      <td>https://sierra-videos.s3.amazonaws.com/2017_05...</td>\n",
       "      <td>car</td>\n",
       "      <td>201</td>\n",
       "    </tr>\n",
       "    <tr>\n",
       "      <th>25</th>\n",
       "      <td>bounding-box-260</td>\n",
       "      <td>https://sierra-videos.s3.amazonaws.com/2017_05...</td>\n",
       "      <td>car</td>\n",
       "      <td>201</td>\n",
       "    </tr>\n",
       "    <tr>\n",
       "      <th>26</th>\n",
       "      <td>bounding-box-270</td>\n",
       "      <td>https://sierra-videos.s3.amazonaws.com/2017_05...</td>\n",
       "      <td>car</td>\n",
       "      <td>201</td>\n",
       "    </tr>\n",
       "    <tr>\n",
       "      <th>27</th>\n",
       "      <td>bounding-box-280</td>\n",
       "      <td>https://sierra-videos.s3.amazonaws.com/2017_05...</td>\n",
       "      <td>car</td>\n",
       "      <td>201</td>\n",
       "    </tr>\n",
       "    <tr>\n",
       "      <th>28</th>\n",
       "      <td>bounding-box-290</td>\n",
       "      <td>https://sierra-videos.s3.amazonaws.com/2017_05...</td>\n",
       "      <td>car</td>\n",
       "      <td>201</td>\n",
       "    </tr>\n",
       "    <tr>\n",
       "      <th>29</th>\n",
       "      <td>bounding-box-300</td>\n",
       "      <td>https://sierra-videos.s3.amazonaws.com/2017_05...</td>\n",
       "      <td>car</td>\n",
       "      <td>201</td>\n",
       "    </tr>\n",
       "    <tr>\n",
       "      <th>...</th>\n",
       "      <td>...</td>\n",
       "      <td>...</td>\n",
       "      <td>...</td>\n",
       "      <td>...</td>\n",
       "    </tr>\n",
       "    <tr>\n",
       "      <th>62</th>\n",
       "      <td>bounding-box-630</td>\n",
       "      <td>https://sierra-videos.s3.amazonaws.com/2017_05...</td>\n",
       "      <td>car</td>\n",
       "      <td>201</td>\n",
       "    </tr>\n",
       "    <tr>\n",
       "      <th>63</th>\n",
       "      <td>bounding-box-640</td>\n",
       "      <td>https://sierra-videos.s3.amazonaws.com/2017_05...</td>\n",
       "      <td>car</td>\n",
       "      <td>201</td>\n",
       "    </tr>\n",
       "    <tr>\n",
       "      <th>64</th>\n",
       "      <td>bounding-box-650</td>\n",
       "      <td>https://sierra-videos.s3.amazonaws.com/2017_05...</td>\n",
       "      <td>car</td>\n",
       "      <td>201</td>\n",
       "    </tr>\n",
       "    <tr>\n",
       "      <th>65</th>\n",
       "      <td>bounding-box-660</td>\n",
       "      <td>https://sierra-videos.s3.amazonaws.com/2017_05...</td>\n",
       "      <td>car</td>\n",
       "      <td>201</td>\n",
       "    </tr>\n",
       "    <tr>\n",
       "      <th>66</th>\n",
       "      <td>bounding-box-670</td>\n",
       "      <td>https://sierra-videos.s3.amazonaws.com/2017_05...</td>\n",
       "      <td>car</td>\n",
       "      <td>201</td>\n",
       "    </tr>\n",
       "    <tr>\n",
       "      <th>67</th>\n",
       "      <td>bounding-box-680</td>\n",
       "      <td>https://sierra-videos.s3.amazonaws.com/2017_05...</td>\n",
       "      <td>car</td>\n",
       "      <td>201</td>\n",
       "    </tr>\n",
       "    <tr>\n",
       "      <th>68</th>\n",
       "      <td>bounding-box-690</td>\n",
       "      <td>https://sierra-videos.s3.amazonaws.com/2017_05...</td>\n",
       "      <td>car</td>\n",
       "      <td>201</td>\n",
       "    </tr>\n",
       "    <tr>\n",
       "      <th>69</th>\n",
       "      <td>bounding-box-700</td>\n",
       "      <td>https://sierra-videos.s3.amazonaws.com/2017_05...</td>\n",
       "      <td>car</td>\n",
       "      <td>201</td>\n",
       "    </tr>\n",
       "    <tr>\n",
       "      <th>70</th>\n",
       "      <td>bounding-box-710</td>\n",
       "      <td>https://sierra-videos.s3.amazonaws.com/2017_05...</td>\n",
       "      <td>car</td>\n",
       "      <td>201</td>\n",
       "    </tr>\n",
       "    <tr>\n",
       "      <th>71</th>\n",
       "      <td>bounding-box-720</td>\n",
       "      <td>https://sierra-videos.s3.amazonaws.com/2017_05...</td>\n",
       "      <td>car</td>\n",
       "      <td>201</td>\n",
       "    </tr>\n",
       "    <tr>\n",
       "      <th>72</th>\n",
       "      <td>bounding-box-730</td>\n",
       "      <td>https://sierra-videos.s3.amazonaws.com/2017_05...</td>\n",
       "      <td>car</td>\n",
       "      <td>201</td>\n",
       "    </tr>\n",
       "    <tr>\n",
       "      <th>73</th>\n",
       "      <td>bounding-box-740</td>\n",
       "      <td>https://sierra-videos.s3.amazonaws.com/2017_05...</td>\n",
       "      <td>car</td>\n",
       "      <td>201</td>\n",
       "    </tr>\n",
       "    <tr>\n",
       "      <th>74</th>\n",
       "      <td>bounding-box-750</td>\n",
       "      <td>https://sierra-videos.s3.amazonaws.com/2017_05...</td>\n",
       "      <td>car</td>\n",
       "      <td>201</td>\n",
       "    </tr>\n",
       "    <tr>\n",
       "      <th>75</th>\n",
       "      <td>bounding-box-760</td>\n",
       "      <td>https://sierra-videos.s3.amazonaws.com/2017_05...</td>\n",
       "      <td>car</td>\n",
       "      <td>201</td>\n",
       "    </tr>\n",
       "    <tr>\n",
       "      <th>76</th>\n",
       "      <td>bounding-box-770</td>\n",
       "      <td>https://sierra-videos.s3.amazonaws.com/2017_05...</td>\n",
       "      <td>car</td>\n",
       "      <td>201</td>\n",
       "    </tr>\n",
       "    <tr>\n",
       "      <th>77</th>\n",
       "      <td>bounding-box-780</td>\n",
       "      <td>https://sierra-videos.s3.amazonaws.com/2017_05...</td>\n",
       "      <td>car</td>\n",
       "      <td>201</td>\n",
       "    </tr>\n",
       "    <tr>\n",
       "      <th>78</th>\n",
       "      <td>bounding-box-790</td>\n",
       "      <td>https://sierra-videos.s3.amazonaws.com/2017_05...</td>\n",
       "      <td>car</td>\n",
       "      <td>201</td>\n",
       "    </tr>\n",
       "    <tr>\n",
       "      <th>79</th>\n",
       "      <td>bounding-box-800</td>\n",
       "      <td>https://sierra-videos.s3.amazonaws.com/2017_05...</td>\n",
       "      <td>car</td>\n",
       "      <td>201</td>\n",
       "    </tr>\n",
       "    <tr>\n",
       "      <th>80</th>\n",
       "      <td>bounding-box-810</td>\n",
       "      <td>https://sierra-videos.s3.amazonaws.com/2017_05...</td>\n",
       "      <td>car</td>\n",
       "      <td>201</td>\n",
       "    </tr>\n",
       "    <tr>\n",
       "      <th>81</th>\n",
       "      <td>bounding-box-820</td>\n",
       "      <td>https://sierra-videos.s3.amazonaws.com/2017_05...</td>\n",
       "      <td>car</td>\n",
       "      <td>201</td>\n",
       "    </tr>\n",
       "    <tr>\n",
       "      <th>82</th>\n",
       "      <td>bounding-box-830</td>\n",
       "      <td>https://sierra-videos.s3.amazonaws.com/2017_05...</td>\n",
       "      <td>car</td>\n",
       "      <td>201</td>\n",
       "    </tr>\n",
       "    <tr>\n",
       "      <th>83</th>\n",
       "      <td>bounding-box-840</td>\n",
       "      <td>https://sierra-videos.s3.amazonaws.com/2017_05...</td>\n",
       "      <td>car</td>\n",
       "      <td>201</td>\n",
       "    </tr>\n",
       "    <tr>\n",
       "      <th>84</th>\n",
       "      <td>bounding-box-850</td>\n",
       "      <td>https://sierra-videos.s3.amazonaws.com/2017_05...</td>\n",
       "      <td>car</td>\n",
       "      <td>201</td>\n",
       "    </tr>\n",
       "    <tr>\n",
       "      <th>85</th>\n",
       "      <td>bounding-box-860</td>\n",
       "      <td>https://sierra-videos.s3.amazonaws.com/2017_05...</td>\n",
       "      <td>car</td>\n",
       "      <td>201</td>\n",
       "    </tr>\n",
       "    <tr>\n",
       "      <th>86</th>\n",
       "      <td>bounding-box-870</td>\n",
       "      <td>https://sierra-videos.s3.amazonaws.com/2017_05...</td>\n",
       "      <td>car</td>\n",
       "      <td>201</td>\n",
       "    </tr>\n",
       "    <tr>\n",
       "      <th>87</th>\n",
       "      <td>bounding-box-880</td>\n",
       "      <td>https://sierra-videos.s3.amazonaws.com/2017_05...</td>\n",
       "      <td>car</td>\n",
       "      <td>201</td>\n",
       "    </tr>\n",
       "    <tr>\n",
       "      <th>88</th>\n",
       "      <td>bounding-box-890</td>\n",
       "      <td>https://sierra-videos.s3.amazonaws.com/2017_05...</td>\n",
       "      <td>car</td>\n",
       "      <td>201</td>\n",
       "    </tr>\n",
       "    <tr>\n",
       "      <th>89</th>\n",
       "      <td>bounding-box-900</td>\n",
       "      <td>https://sierra-videos.s3.amazonaws.com/2017_05...</td>\n",
       "      <td>car</td>\n",
       "      <td>201</td>\n",
       "    </tr>\n",
       "    <tr>\n",
       "      <th>90</th>\n",
       "      <td>bounding-box-910</td>\n",
       "      <td>https://sierra-videos.s3.amazonaws.com/2017_05...</td>\n",
       "      <td>car</td>\n",
       "      <td>201</td>\n",
       "    </tr>\n",
       "    <tr>\n",
       "      <th>91</th>\n",
       "      <td>bounding-box-920</td>\n",
       "      <td>https://sierra-videos.s3.amazonaws.com/2017_05...</td>\n",
       "      <td>car</td>\n",
       "      <td>201</td>\n",
       "    </tr>\n",
       "  </tbody>\n",
       "</table>\n",
       "<p>92 rows × 4 columns</p>\n",
       "</div>"
      ],
      "text/plain": [
       "             task_id                                          image_url label  \\\n",
       "0    bounding-box-10  https://sierra-videos.s3.amazonaws.com/2017_05...   car   \n",
       "1    bounding-box-20  https://sierra-videos.s3.amazonaws.com/2017_05...   car   \n",
       "2    bounding-box-30  https://sierra-videos.s3.amazonaws.com/2017_05...   car   \n",
       "3    bounding-box-40  https://sierra-videos.s3.amazonaws.com/2017_05...   car   \n",
       "4    bounding-box-50  https://sierra-videos.s3.amazonaws.com/2017_05...   car   \n",
       "5    bounding-box-60  https://sierra-videos.s3.amazonaws.com/2017_05...   car   \n",
       "6    bounding-box-70  https://sierra-videos.s3.amazonaws.com/2017_05...   car   \n",
       "7    bounding-box-80  https://sierra-videos.s3.amazonaws.com/2017_05...   car   \n",
       "8    bounding-box-90  https://sierra-videos.s3.amazonaws.com/2017_05...   car   \n",
       "9   bounding-box-100  https://sierra-videos.s3.amazonaws.com/2017_05...   car   \n",
       "10  bounding-box-110  https://sierra-videos.s3.amazonaws.com/2017_05...   car   \n",
       "11  bounding-box-120  https://sierra-videos.s3.amazonaws.com/2017_05...   car   \n",
       "12  bounding-box-130  https://sierra-videos.s3.amazonaws.com/2017_05...   car   \n",
       "13  bounding-box-140  https://sierra-videos.s3.amazonaws.com/2017_05...   car   \n",
       "14  bounding-box-150  https://sierra-videos.s3.amazonaws.com/2017_05...   car   \n",
       "15  bounding-box-160  https://sierra-videos.s3.amazonaws.com/2017_05...   car   \n",
       "16  bounding-box-170  https://sierra-videos.s3.amazonaws.com/2017_05...   car   \n",
       "17  bounding-box-180  https://sierra-videos.s3.amazonaws.com/2017_05...   car   \n",
       "18  bounding-box-190  https://sierra-videos.s3.amazonaws.com/2017_05...   car   \n",
       "19  bounding-box-200  https://sierra-videos.s3.amazonaws.com/2017_05...   car   \n",
       "20  bounding-box-210  https://sierra-videos.s3.amazonaws.com/2017_05...   car   \n",
       "21  bounding-box-220  https://sierra-videos.s3.amazonaws.com/2017_05...   car   \n",
       "22  bounding-box-230  https://sierra-videos.s3.amazonaws.com/2017_05...   car   \n",
       "23  bounding-box-240  https://sierra-videos.s3.amazonaws.com/2017_05...   car   \n",
       "24  bounding-box-250  https://sierra-videos.s3.amazonaws.com/2017_05...   car   \n",
       "25  bounding-box-260  https://sierra-videos.s3.amazonaws.com/2017_05...   car   \n",
       "26  bounding-box-270  https://sierra-videos.s3.amazonaws.com/2017_05...   car   \n",
       "27  bounding-box-280  https://sierra-videos.s3.amazonaws.com/2017_05...   car   \n",
       "28  bounding-box-290  https://sierra-videos.s3.amazonaws.com/2017_05...   car   \n",
       "29  bounding-box-300  https://sierra-videos.s3.amazonaws.com/2017_05...   car   \n",
       "..               ...                                                ...   ...   \n",
       "62  bounding-box-630  https://sierra-videos.s3.amazonaws.com/2017_05...   car   \n",
       "63  bounding-box-640  https://sierra-videos.s3.amazonaws.com/2017_05...   car   \n",
       "64  bounding-box-650  https://sierra-videos.s3.amazonaws.com/2017_05...   car   \n",
       "65  bounding-box-660  https://sierra-videos.s3.amazonaws.com/2017_05...   car   \n",
       "66  bounding-box-670  https://sierra-videos.s3.amazonaws.com/2017_05...   car   \n",
       "67  bounding-box-680  https://sierra-videos.s3.amazonaws.com/2017_05...   car   \n",
       "68  bounding-box-690  https://sierra-videos.s3.amazonaws.com/2017_05...   car   \n",
       "69  bounding-box-700  https://sierra-videos.s3.amazonaws.com/2017_05...   car   \n",
       "70  bounding-box-710  https://sierra-videos.s3.amazonaws.com/2017_05...   car   \n",
       "71  bounding-box-720  https://sierra-videos.s3.amazonaws.com/2017_05...   car   \n",
       "72  bounding-box-730  https://sierra-videos.s3.amazonaws.com/2017_05...   car   \n",
       "73  bounding-box-740  https://sierra-videos.s3.amazonaws.com/2017_05...   car   \n",
       "74  bounding-box-750  https://sierra-videos.s3.amazonaws.com/2017_05...   car   \n",
       "75  bounding-box-760  https://sierra-videos.s3.amazonaws.com/2017_05...   car   \n",
       "76  bounding-box-770  https://sierra-videos.s3.amazonaws.com/2017_05...   car   \n",
       "77  bounding-box-780  https://sierra-videos.s3.amazonaws.com/2017_05...   car   \n",
       "78  bounding-box-790  https://sierra-videos.s3.amazonaws.com/2017_05...   car   \n",
       "79  bounding-box-800  https://sierra-videos.s3.amazonaws.com/2017_05...   car   \n",
       "80  bounding-box-810  https://sierra-videos.s3.amazonaws.com/2017_05...   car   \n",
       "81  bounding-box-820  https://sierra-videos.s3.amazonaws.com/2017_05...   car   \n",
       "82  bounding-box-830  https://sierra-videos.s3.amazonaws.com/2017_05...   car   \n",
       "83  bounding-box-840  https://sierra-videos.s3.amazonaws.com/2017_05...   car   \n",
       "84  bounding-box-850  https://sierra-videos.s3.amazonaws.com/2017_05...   car   \n",
       "85  bounding-box-860  https://sierra-videos.s3.amazonaws.com/2017_05...   car   \n",
       "86  bounding-box-870  https://sierra-videos.s3.amazonaws.com/2017_05...   car   \n",
       "87  bounding-box-880  https://sierra-videos.s3.amazonaws.com/2017_05...   car   \n",
       "88  bounding-box-890  https://sierra-videos.s3.amazonaws.com/2017_05...   car   \n",
       "89  bounding-box-900  https://sierra-videos.s3.amazonaws.com/2017_05...   car   \n",
       "90  bounding-box-910  https://sierra-videos.s3.amazonaws.com/2017_05...   car   \n",
       "91  bounding-box-920  https://sierra-videos.s3.amazonaws.com/2017_05...   car   \n",
       "\n",
       "    status_codes  \n",
       "0            200  \n",
       "1            200  \n",
       "2            200  \n",
       "3            200  \n",
       "4            200  \n",
       "5            200  \n",
       "6            200  \n",
       "7            200  \n",
       "8            200  \n",
       "9            200  \n",
       "10           201  \n",
       "11           201  \n",
       "12           201  \n",
       "13           201  \n",
       "14           201  \n",
       "15           201  \n",
       "16           201  \n",
       "17           201  \n",
       "18           201  \n",
       "19           201  \n",
       "20           201  \n",
       "21           201  \n",
       "22           201  \n",
       "23           201  \n",
       "24           201  \n",
       "25           201  \n",
       "26           201  \n",
       "27           201  \n",
       "28           201  \n",
       "29           201  \n",
       "..           ...  \n",
       "62           201  \n",
       "63           201  \n",
       "64           201  \n",
       "65           201  \n",
       "66           201  \n",
       "67           201  \n",
       "68           201  \n",
       "69           201  \n",
       "70           201  \n",
       "71           201  \n",
       "72           201  \n",
       "73           201  \n",
       "74           201  \n",
       "75           201  \n",
       "76           201  \n",
       "77           201  \n",
       "78           201  \n",
       "79           201  \n",
       "80           201  \n",
       "81           201  \n",
       "82           201  \n",
       "83           201  \n",
       "84           201  \n",
       "85           201  \n",
       "86           201  \n",
       "87           201  \n",
       "88           201  \n",
       "89           201  \n",
       "90           201  \n",
       "91           201  \n",
       "\n",
       "[92 rows x 4 columns]"
      ]
     },
     "execution_count": 19,
     "metadata": {},
     "output_type": "execute_result"
    }
   ],
   "source": [
    "data"
   ]
  },
  {
   "cell_type": "markdown",
   "metadata": {},
   "source": [
    "We'll call get_task periodically until all of the Tasks reach the \"completed\" state."
   ]
  },
  {
   "cell_type": "code",
   "execution_count": 17,
   "metadata": {
    "collapsed": true
   },
   "outputs": [],
   "source": [
    "# loop through the rows and get results, store the state and results in new columns\n",
    "\n",
    "status_codes = []\n",
    "responses = []\n",
    "for index, row in data.iterrows():\n",
    "    get_result = crowd_client.get_task(function_name, row.task_id)\n",
    "    status_codes.append(get_result.status_code)\n",
    "    responses.append(get_result.json())"
   ]
  },
  {
   "cell_type": "code",
   "execution_count": 45,
   "metadata": {
    "collapsed": true,
    "scrolled": true
   },
   "outputs": [],
   "source": [
    "data['status_codes'] = status_codes\n",
    "data['state'] = [r['state'] for r in responses]\n",
    "data['problem_details'] = [r['problemDetails'] for r in responses]\n",
    "#need to handle the case when not all tasks are in completed state\n",
    "data['result'] = [r['result'] for r in responses]"
   ]
  },
  {
   "cell_type": "code",
   "execution_count": 46,
   "metadata": {},
   "outputs": [
    {
     "data": {
      "text/html": [
       "<div>\n",
       "<style>\n",
       "    .dataframe thead tr:only-child th {\n",
       "        text-align: right;\n",
       "    }\n",
       "\n",
       "    .dataframe thead th {\n",
       "        text-align: left;\n",
       "    }\n",
       "\n",
       "    .dataframe tbody tr th {\n",
       "        vertical-align: top;\n",
       "    }\n",
       "</style>\n",
       "<table border=\"1\" class=\"dataframe\">\n",
       "  <thead>\n",
       "    <tr style=\"text-align: right;\">\n",
       "      <th></th>\n",
       "      <th>task_id</th>\n",
       "      <th>image_url</th>\n",
       "      <th>label</th>\n",
       "      <th>status_codes</th>\n",
       "      <th>state</th>\n",
       "      <th>problem_details</th>\n",
       "      <th>result</th>\n",
       "    </tr>\n",
       "  </thead>\n",
       "  <tbody>\n",
       "    <tr>\n",
       "      <th>0</th>\n",
       "      <td>bounding-box-10</td>\n",
       "      <td>https://sierra-videos.s3.amazonaws.com/2017_05...</td>\n",
       "      <td>car</td>\n",
       "      <td>200</td>\n",
       "      <td>completed</td>\n",
       "      <td>None</td>\n",
       "      <td>{'annotations': [{'boundingBox': {'height': 64...</td>\n",
       "    </tr>\n",
       "    <tr>\n",
       "      <th>1</th>\n",
       "      <td>bounding-box-20</td>\n",
       "      <td>https://sierra-videos.s3.amazonaws.com/2017_05...</td>\n",
       "      <td>car</td>\n",
       "      <td>200</td>\n",
       "      <td>completed</td>\n",
       "      <td>None</td>\n",
       "      <td>{'annotations': [{'boundingBox': {'height': 48...</td>\n",
       "    </tr>\n",
       "    <tr>\n",
       "      <th>2</th>\n",
       "      <td>bounding-box-30</td>\n",
       "      <td>https://sierra-videos.s3.amazonaws.com/2017_05...</td>\n",
       "      <td>car</td>\n",
       "      <td>200</td>\n",
       "      <td>completed</td>\n",
       "      <td>None</td>\n",
       "      <td>{'annotations': [{'boundingBox': {'height': 53...</td>\n",
       "    </tr>\n",
       "    <tr>\n",
       "      <th>3</th>\n",
       "      <td>bounding-box-40</td>\n",
       "      <td>https://sierra-videos.s3.amazonaws.com/2017_05...</td>\n",
       "      <td>car</td>\n",
       "      <td>200</td>\n",
       "      <td>completed</td>\n",
       "      <td>None</td>\n",
       "      <td>{'annotations': [{'boundingBox': {'height': 48...</td>\n",
       "    </tr>\n",
       "    <tr>\n",
       "      <th>4</th>\n",
       "      <td>bounding-box-50</td>\n",
       "      <td>https://sierra-videos.s3.amazonaws.com/2017_05...</td>\n",
       "      <td>car</td>\n",
       "      <td>200</td>\n",
       "      <td>completed</td>\n",
       "      <td>None</td>\n",
       "      <td>{'annotations': [{'boundingBox': {'height': 50...</td>\n",
       "    </tr>\n",
       "    <tr>\n",
       "      <th>5</th>\n",
       "      <td>bounding-box-60</td>\n",
       "      <td>https://sierra-videos.s3.amazonaws.com/2017_05...</td>\n",
       "      <td>car</td>\n",
       "      <td>200</td>\n",
       "      <td>completed</td>\n",
       "      <td>None</td>\n",
       "      <td>{'annotations': [{'boundingBox': {'height': 31...</td>\n",
       "    </tr>\n",
       "    <tr>\n",
       "      <th>6</th>\n",
       "      <td>bounding-box-70</td>\n",
       "      <td>https://sierra-videos.s3.amazonaws.com/2017_05...</td>\n",
       "      <td>car</td>\n",
       "      <td>200</td>\n",
       "      <td>completed</td>\n",
       "      <td>None</td>\n",
       "      <td>{'annotations': [{'boundingBox': {'height': 60...</td>\n",
       "    </tr>\n",
       "    <tr>\n",
       "      <th>7</th>\n",
       "      <td>bounding-box-80</td>\n",
       "      <td>https://sierra-videos.s3.amazonaws.com/2017_05...</td>\n",
       "      <td>car</td>\n",
       "      <td>200</td>\n",
       "      <td>completed</td>\n",
       "      <td>None</td>\n",
       "      <td>{'annotations': [{'boundingBox': {'height': 51...</td>\n",
       "    </tr>\n",
       "    <tr>\n",
       "      <th>8</th>\n",
       "      <td>bounding-box-90</td>\n",
       "      <td>https://sierra-videos.s3.amazonaws.com/2017_05...</td>\n",
       "      <td>car</td>\n",
       "      <td>200</td>\n",
       "      <td>completed</td>\n",
       "      <td>None</td>\n",
       "      <td>{'annotations': [{'boundingBox': {'height': 50...</td>\n",
       "    </tr>\n",
       "    <tr>\n",
       "      <th>9</th>\n",
       "      <td>bounding-box-100</td>\n",
       "      <td>https://sierra-videos.s3.amazonaws.com/2017_05...</td>\n",
       "      <td>car</td>\n",
       "      <td>200</td>\n",
       "      <td>completed</td>\n",
       "      <td>None</td>\n",
       "      <td>{'annotations': [{'boundingBox': {'height': 54...</td>\n",
       "    </tr>\n",
       "    <tr>\n",
       "      <th>10</th>\n",
       "      <td>bounding-box-110</td>\n",
       "      <td>https://sierra-videos.s3.amazonaws.com/2017_05...</td>\n",
       "      <td>car</td>\n",
       "      <td>200</td>\n",
       "      <td>completed</td>\n",
       "      <td>None</td>\n",
       "      <td>{'annotations': [{'boundingBox': {'height': 47...</td>\n",
       "    </tr>\n",
       "    <tr>\n",
       "      <th>11</th>\n",
       "      <td>bounding-box-120</td>\n",
       "      <td>https://sierra-videos.s3.amazonaws.com/2017_05...</td>\n",
       "      <td>car</td>\n",
       "      <td>200</td>\n",
       "      <td>completed</td>\n",
       "      <td>None</td>\n",
       "      <td>{'annotations': [{'boundingBox': {'height': 55...</td>\n",
       "    </tr>\n",
       "    <tr>\n",
       "      <th>12</th>\n",
       "      <td>bounding-box-130</td>\n",
       "      <td>https://sierra-videos.s3.amazonaws.com/2017_05...</td>\n",
       "      <td>car</td>\n",
       "      <td>200</td>\n",
       "      <td>completed</td>\n",
       "      <td>None</td>\n",
       "      <td>{'annotations': [{'boundingBox': {'height': 56...</td>\n",
       "    </tr>\n",
       "    <tr>\n",
       "      <th>13</th>\n",
       "      <td>bounding-box-140</td>\n",
       "      <td>https://sierra-videos.s3.amazonaws.com/2017_05...</td>\n",
       "      <td>car</td>\n",
       "      <td>200</td>\n",
       "      <td>completed</td>\n",
       "      <td>None</td>\n",
       "      <td>{'annotations': [{'boundingBox': {'height': 41...</td>\n",
       "    </tr>\n",
       "    <tr>\n",
       "      <th>14</th>\n",
       "      <td>bounding-box-150</td>\n",
       "      <td>https://sierra-videos.s3.amazonaws.com/2017_05...</td>\n",
       "      <td>car</td>\n",
       "      <td>200</td>\n",
       "      <td>completed</td>\n",
       "      <td>None</td>\n",
       "      <td>{'annotations': [{'boundingBox': {'height': 45...</td>\n",
       "    </tr>\n",
       "    <tr>\n",
       "      <th>15</th>\n",
       "      <td>bounding-box-160</td>\n",
       "      <td>https://sierra-videos.s3.amazonaws.com/2017_05...</td>\n",
       "      <td>car</td>\n",
       "      <td>200</td>\n",
       "      <td>completed</td>\n",
       "      <td>None</td>\n",
       "      <td>{'annotations': [{'boundingBox': {'height': 47...</td>\n",
       "    </tr>\n",
       "    <tr>\n",
       "      <th>16</th>\n",
       "      <td>bounding-box-170</td>\n",
       "      <td>https://sierra-videos.s3.amazonaws.com/2017_05...</td>\n",
       "      <td>car</td>\n",
       "      <td>200</td>\n",
       "      <td>completed</td>\n",
       "      <td>None</td>\n",
       "      <td>{'annotations': [{'boundingBox': {'height': 58...</td>\n",
       "    </tr>\n",
       "    <tr>\n",
       "      <th>17</th>\n",
       "      <td>bounding-box-180</td>\n",
       "      <td>https://sierra-videos.s3.amazonaws.com/2017_05...</td>\n",
       "      <td>car</td>\n",
       "      <td>200</td>\n",
       "      <td>completed</td>\n",
       "      <td>None</td>\n",
       "      <td>{'annotations': [{'boundingBox': {'height': 41...</td>\n",
       "    </tr>\n",
       "    <tr>\n",
       "      <th>18</th>\n",
       "      <td>bounding-box-190</td>\n",
       "      <td>https://sierra-videos.s3.amazonaws.com/2017_05...</td>\n",
       "      <td>car</td>\n",
       "      <td>200</td>\n",
       "      <td>completed</td>\n",
       "      <td>None</td>\n",
       "      <td>{'annotations': [{'boundingBox': {'height': 48...</td>\n",
       "    </tr>\n",
       "    <tr>\n",
       "      <th>19</th>\n",
       "      <td>bounding-box-200</td>\n",
       "      <td>https://sierra-videos.s3.amazonaws.com/2017_05...</td>\n",
       "      <td>car</td>\n",
       "      <td>200</td>\n",
       "      <td>completed</td>\n",
       "      <td>None</td>\n",
       "      <td>{'annotations': [{'boundingBox': {'height': 49...</td>\n",
       "    </tr>\n",
       "    <tr>\n",
       "      <th>20</th>\n",
       "      <td>bounding-box-210</td>\n",
       "      <td>https://sierra-videos.s3.amazonaws.com/2017_05...</td>\n",
       "      <td>car</td>\n",
       "      <td>200</td>\n",
       "      <td>completed</td>\n",
       "      <td>None</td>\n",
       "      <td>{'annotations': [{'boundingBox': {'height': 49...</td>\n",
       "    </tr>\n",
       "    <tr>\n",
       "      <th>21</th>\n",
       "      <td>bounding-box-220</td>\n",
       "      <td>https://sierra-videos.s3.amazonaws.com/2017_05...</td>\n",
       "      <td>car</td>\n",
       "      <td>200</td>\n",
       "      <td>completed</td>\n",
       "      <td>None</td>\n",
       "      <td>{'annotations': [{'boundingBox': {'height': 56...</td>\n",
       "    </tr>\n",
       "    <tr>\n",
       "      <th>22</th>\n",
       "      <td>bounding-box-230</td>\n",
       "      <td>https://sierra-videos.s3.amazonaws.com/2017_05...</td>\n",
       "      <td>car</td>\n",
       "      <td>200</td>\n",
       "      <td>completed</td>\n",
       "      <td>None</td>\n",
       "      <td>{'annotations': [{'boundingBox': {'height': 41...</td>\n",
       "    </tr>\n",
       "    <tr>\n",
       "      <th>23</th>\n",
       "      <td>bounding-box-240</td>\n",
       "      <td>https://sierra-videos.s3.amazonaws.com/2017_05...</td>\n",
       "      <td>car</td>\n",
       "      <td>200</td>\n",
       "      <td>completed</td>\n",
       "      <td>None</td>\n",
       "      <td>{'annotations': [{'boundingBox': {'height': 54...</td>\n",
       "    </tr>\n",
       "    <tr>\n",
       "      <th>24</th>\n",
       "      <td>bounding-box-250</td>\n",
       "      <td>https://sierra-videos.s3.amazonaws.com/2017_05...</td>\n",
       "      <td>car</td>\n",
       "      <td>200</td>\n",
       "      <td>completed</td>\n",
       "      <td>None</td>\n",
       "      <td>{'annotations': [{'boundingBox': {'height': 42...</td>\n",
       "    </tr>\n",
       "    <tr>\n",
       "      <th>25</th>\n",
       "      <td>bounding-box-260</td>\n",
       "      <td>https://sierra-videos.s3.amazonaws.com/2017_05...</td>\n",
       "      <td>car</td>\n",
       "      <td>200</td>\n",
       "      <td>completed</td>\n",
       "      <td>None</td>\n",
       "      <td>{'annotations': [{'boundingBox': {'height': 60...</td>\n",
       "    </tr>\n",
       "    <tr>\n",
       "      <th>26</th>\n",
       "      <td>bounding-box-270</td>\n",
       "      <td>https://sierra-videos.s3.amazonaws.com/2017_05...</td>\n",
       "      <td>car</td>\n",
       "      <td>200</td>\n",
       "      <td>completed</td>\n",
       "      <td>None</td>\n",
       "      <td>{'annotations': [{'boundingBox': {'height': 50...</td>\n",
       "    </tr>\n",
       "    <tr>\n",
       "      <th>27</th>\n",
       "      <td>bounding-box-280</td>\n",
       "      <td>https://sierra-videos.s3.amazonaws.com/2017_05...</td>\n",
       "      <td>car</td>\n",
       "      <td>200</td>\n",
       "      <td>completed</td>\n",
       "      <td>None</td>\n",
       "      <td>{'annotations': [{'boundingBox': {'height': 49...</td>\n",
       "    </tr>\n",
       "    <tr>\n",
       "      <th>28</th>\n",
       "      <td>bounding-box-290</td>\n",
       "      <td>https://sierra-videos.s3.amazonaws.com/2017_05...</td>\n",
       "      <td>car</td>\n",
       "      <td>200</td>\n",
       "      <td>completed</td>\n",
       "      <td>None</td>\n",
       "      <td>{'annotations': [{'boundingBox': {'height': 50...</td>\n",
       "    </tr>\n",
       "    <tr>\n",
       "      <th>29</th>\n",
       "      <td>bounding-box-300</td>\n",
       "      <td>https://sierra-videos.s3.amazonaws.com/2017_05...</td>\n",
       "      <td>car</td>\n",
       "      <td>200</td>\n",
       "      <td>completed</td>\n",
       "      <td>None</td>\n",
       "      <td>{'annotations': [{'boundingBox': {'height': 52...</td>\n",
       "    </tr>\n",
       "    <tr>\n",
       "      <th>...</th>\n",
       "      <td>...</td>\n",
       "      <td>...</td>\n",
       "      <td>...</td>\n",
       "      <td>...</td>\n",
       "      <td>...</td>\n",
       "      <td>...</td>\n",
       "      <td>...</td>\n",
       "    </tr>\n",
       "    <tr>\n",
       "      <th>62</th>\n",
       "      <td>bounding-box-630</td>\n",
       "      <td>https://sierra-videos.s3.amazonaws.com/2017_05...</td>\n",
       "      <td>car</td>\n",
       "      <td>200</td>\n",
       "      <td>completed</td>\n",
       "      <td>None</td>\n",
       "      <td>{'annotations': [{'boundingBox': {'height': 46...</td>\n",
       "    </tr>\n",
       "    <tr>\n",
       "      <th>63</th>\n",
       "      <td>bounding-box-640</td>\n",
       "      <td>https://sierra-videos.s3.amazonaws.com/2017_05...</td>\n",
       "      <td>car</td>\n",
       "      <td>200</td>\n",
       "      <td>completed</td>\n",
       "      <td>None</td>\n",
       "      <td>{'annotations': [{'boundingBox': {'height': 42...</td>\n",
       "    </tr>\n",
       "    <tr>\n",
       "      <th>64</th>\n",
       "      <td>bounding-box-650</td>\n",
       "      <td>https://sierra-videos.s3.amazonaws.com/2017_05...</td>\n",
       "      <td>car</td>\n",
       "      <td>200</td>\n",
       "      <td>completed</td>\n",
       "      <td>None</td>\n",
       "      <td>{'annotations': [{'boundingBox': {'height': 41...</td>\n",
       "    </tr>\n",
       "    <tr>\n",
       "      <th>65</th>\n",
       "      <td>bounding-box-660</td>\n",
       "      <td>https://sierra-videos.s3.amazonaws.com/2017_05...</td>\n",
       "      <td>car</td>\n",
       "      <td>200</td>\n",
       "      <td>completed</td>\n",
       "      <td>None</td>\n",
       "      <td>{'annotations': [{'boundingBox': {'height': 39...</td>\n",
       "    </tr>\n",
       "    <tr>\n",
       "      <th>66</th>\n",
       "      <td>bounding-box-670</td>\n",
       "      <td>https://sierra-videos.s3.amazonaws.com/2017_05...</td>\n",
       "      <td>car</td>\n",
       "      <td>200</td>\n",
       "      <td>completed</td>\n",
       "      <td>None</td>\n",
       "      <td>{'annotations': [{'boundingBox': {'height': 54...</td>\n",
       "    </tr>\n",
       "    <tr>\n",
       "      <th>67</th>\n",
       "      <td>bounding-box-680</td>\n",
       "      <td>https://sierra-videos.s3.amazonaws.com/2017_05...</td>\n",
       "      <td>car</td>\n",
       "      <td>200</td>\n",
       "      <td>completed</td>\n",
       "      <td>None</td>\n",
       "      <td>{'annotations': [{'boundingBox': {'height': 53...</td>\n",
       "    </tr>\n",
       "    <tr>\n",
       "      <th>68</th>\n",
       "      <td>bounding-box-690</td>\n",
       "      <td>https://sierra-videos.s3.amazonaws.com/2017_05...</td>\n",
       "      <td>car</td>\n",
       "      <td>200</td>\n",
       "      <td>completed</td>\n",
       "      <td>None</td>\n",
       "      <td>{'annotations': [{'boundingBox': {'height': 45...</td>\n",
       "    </tr>\n",
       "    <tr>\n",
       "      <th>69</th>\n",
       "      <td>bounding-box-700</td>\n",
       "      <td>https://sierra-videos.s3.amazonaws.com/2017_05...</td>\n",
       "      <td>car</td>\n",
       "      <td>200</td>\n",
       "      <td>completed</td>\n",
       "      <td>None</td>\n",
       "      <td>{'annotations': [{'boundingBox': {'height': 60...</td>\n",
       "    </tr>\n",
       "    <tr>\n",
       "      <th>70</th>\n",
       "      <td>bounding-box-710</td>\n",
       "      <td>https://sierra-videos.s3.amazonaws.com/2017_05...</td>\n",
       "      <td>car</td>\n",
       "      <td>200</td>\n",
       "      <td>completed</td>\n",
       "      <td>None</td>\n",
       "      <td>{'annotations': [{'boundingBox': {'height': 61...</td>\n",
       "    </tr>\n",
       "    <tr>\n",
       "      <th>71</th>\n",
       "      <td>bounding-box-720</td>\n",
       "      <td>https://sierra-videos.s3.amazonaws.com/2017_05...</td>\n",
       "      <td>car</td>\n",
       "      <td>200</td>\n",
       "      <td>completed</td>\n",
       "      <td>None</td>\n",
       "      <td>{'annotations': [{'boundingBox': {'height': 51...</td>\n",
       "    </tr>\n",
       "    <tr>\n",
       "      <th>72</th>\n",
       "      <td>bounding-box-730</td>\n",
       "      <td>https://sierra-videos.s3.amazonaws.com/2017_05...</td>\n",
       "      <td>car</td>\n",
       "      <td>200</td>\n",
       "      <td>completed</td>\n",
       "      <td>None</td>\n",
       "      <td>{'annotations': [{'boundingBox': {'height': 63...</td>\n",
       "    </tr>\n",
       "    <tr>\n",
       "      <th>73</th>\n",
       "      <td>bounding-box-740</td>\n",
       "      <td>https://sierra-videos.s3.amazonaws.com/2017_05...</td>\n",
       "      <td>car</td>\n",
       "      <td>200</td>\n",
       "      <td>completed</td>\n",
       "      <td>None</td>\n",
       "      <td>{'annotations': [{'boundingBox': {'height': 55...</td>\n",
       "    </tr>\n",
       "    <tr>\n",
       "      <th>74</th>\n",
       "      <td>bounding-box-750</td>\n",
       "      <td>https://sierra-videos.s3.amazonaws.com/2017_05...</td>\n",
       "      <td>car</td>\n",
       "      <td>200</td>\n",
       "      <td>completed</td>\n",
       "      <td>None</td>\n",
       "      <td>{'annotations': [{'boundingBox': {'height': 48...</td>\n",
       "    </tr>\n",
       "    <tr>\n",
       "      <th>75</th>\n",
       "      <td>bounding-box-760</td>\n",
       "      <td>https://sierra-videos.s3.amazonaws.com/2017_05...</td>\n",
       "      <td>car</td>\n",
       "      <td>200</td>\n",
       "      <td>completed</td>\n",
       "      <td>None</td>\n",
       "      <td>{'annotations': [{'boundingBox': {'height': 38...</td>\n",
       "    </tr>\n",
       "    <tr>\n",
       "      <th>76</th>\n",
       "      <td>bounding-box-770</td>\n",
       "      <td>https://sierra-videos.s3.amazonaws.com/2017_05...</td>\n",
       "      <td>car</td>\n",
       "      <td>200</td>\n",
       "      <td>completed</td>\n",
       "      <td>None</td>\n",
       "      <td>{'annotations': [{'boundingBox': {'height': 52...</td>\n",
       "    </tr>\n",
       "    <tr>\n",
       "      <th>77</th>\n",
       "      <td>bounding-box-780</td>\n",
       "      <td>https://sierra-videos.s3.amazonaws.com/2017_05...</td>\n",
       "      <td>car</td>\n",
       "      <td>200</td>\n",
       "      <td>completed</td>\n",
       "      <td>None</td>\n",
       "      <td>{'annotations': [{'boundingBox': {'height': 38...</td>\n",
       "    </tr>\n",
       "    <tr>\n",
       "      <th>78</th>\n",
       "      <td>bounding-box-790</td>\n",
       "      <td>https://sierra-videos.s3.amazonaws.com/2017_05...</td>\n",
       "      <td>car</td>\n",
       "      <td>200</td>\n",
       "      <td>completed</td>\n",
       "      <td>None</td>\n",
       "      <td>{'annotations': [{'boundingBox': {'height': 61...</td>\n",
       "    </tr>\n",
       "    <tr>\n",
       "      <th>79</th>\n",
       "      <td>bounding-box-800</td>\n",
       "      <td>https://sierra-videos.s3.amazonaws.com/2017_05...</td>\n",
       "      <td>car</td>\n",
       "      <td>200</td>\n",
       "      <td>completed</td>\n",
       "      <td>None</td>\n",
       "      <td>{'annotations': [{'boundingBox': {'height': 60...</td>\n",
       "    </tr>\n",
       "    <tr>\n",
       "      <th>80</th>\n",
       "      <td>bounding-box-810</td>\n",
       "      <td>https://sierra-videos.s3.amazonaws.com/2017_05...</td>\n",
       "      <td>car</td>\n",
       "      <td>200</td>\n",
       "      <td>completed</td>\n",
       "      <td>None</td>\n",
       "      <td>{'annotations': [{'boundingBox': {'height': 63...</td>\n",
       "    </tr>\n",
       "    <tr>\n",
       "      <th>81</th>\n",
       "      <td>bounding-box-820</td>\n",
       "      <td>https://sierra-videos.s3.amazonaws.com/2017_05...</td>\n",
       "      <td>car</td>\n",
       "      <td>200</td>\n",
       "      <td>completed</td>\n",
       "      <td>None</td>\n",
       "      <td>{'annotations': [{'boundingBox': {'height': 59...</td>\n",
       "    </tr>\n",
       "    <tr>\n",
       "      <th>82</th>\n",
       "      <td>bounding-box-830</td>\n",
       "      <td>https://sierra-videos.s3.amazonaws.com/2017_05...</td>\n",
       "      <td>car</td>\n",
       "      <td>200</td>\n",
       "      <td>completed</td>\n",
       "      <td>None</td>\n",
       "      <td>{'annotations': [{'boundingBox': {'height': 45...</td>\n",
       "    </tr>\n",
       "    <tr>\n",
       "      <th>83</th>\n",
       "      <td>bounding-box-840</td>\n",
       "      <td>https://sierra-videos.s3.amazonaws.com/2017_05...</td>\n",
       "      <td>car</td>\n",
       "      <td>200</td>\n",
       "      <td>completed</td>\n",
       "      <td>None</td>\n",
       "      <td>{'annotations': [{'boundingBox': {'height': 34...</td>\n",
       "    </tr>\n",
       "    <tr>\n",
       "      <th>84</th>\n",
       "      <td>bounding-box-850</td>\n",
       "      <td>https://sierra-videos.s3.amazonaws.com/2017_05...</td>\n",
       "      <td>car</td>\n",
       "      <td>200</td>\n",
       "      <td>completed</td>\n",
       "      <td>None</td>\n",
       "      <td>{'annotations': [{'boundingBox': {'height': 59...</td>\n",
       "    </tr>\n",
       "    <tr>\n",
       "      <th>85</th>\n",
       "      <td>bounding-box-860</td>\n",
       "      <td>https://sierra-videos.s3.amazonaws.com/2017_05...</td>\n",
       "      <td>car</td>\n",
       "      <td>200</td>\n",
       "      <td>completed</td>\n",
       "      <td>None</td>\n",
       "      <td>{'annotations': [{'boundingBox': {'height': 52...</td>\n",
       "    </tr>\n",
       "    <tr>\n",
       "      <th>86</th>\n",
       "      <td>bounding-box-870</td>\n",
       "      <td>https://sierra-videos.s3.amazonaws.com/2017_05...</td>\n",
       "      <td>car</td>\n",
       "      <td>200</td>\n",
       "      <td>completed</td>\n",
       "      <td>None</td>\n",
       "      <td>{'annotations': [{'boundingBox': {'height': 38...</td>\n",
       "    </tr>\n",
       "    <tr>\n",
       "      <th>87</th>\n",
       "      <td>bounding-box-880</td>\n",
       "      <td>https://sierra-videos.s3.amazonaws.com/2017_05...</td>\n",
       "      <td>car</td>\n",
       "      <td>200</td>\n",
       "      <td>completed</td>\n",
       "      <td>None</td>\n",
       "      <td>{'annotations': [{'boundingBox': {'height': 54...</td>\n",
       "    </tr>\n",
       "    <tr>\n",
       "      <th>88</th>\n",
       "      <td>bounding-box-890</td>\n",
       "      <td>https://sierra-videos.s3.amazonaws.com/2017_05...</td>\n",
       "      <td>car</td>\n",
       "      <td>200</td>\n",
       "      <td>completed</td>\n",
       "      <td>None</td>\n",
       "      <td>{'annotations': [{'boundingBox': {'height': 44...</td>\n",
       "    </tr>\n",
       "    <tr>\n",
       "      <th>89</th>\n",
       "      <td>bounding-box-900</td>\n",
       "      <td>https://sierra-videos.s3.amazonaws.com/2017_05...</td>\n",
       "      <td>car</td>\n",
       "      <td>200</td>\n",
       "      <td>completed</td>\n",
       "      <td>None</td>\n",
       "      <td>{'annotations': [{'boundingBox': {'height': 61...</td>\n",
       "    </tr>\n",
       "    <tr>\n",
       "      <th>90</th>\n",
       "      <td>bounding-box-910</td>\n",
       "      <td>https://sierra-videos.s3.amazonaws.com/2017_05...</td>\n",
       "      <td>car</td>\n",
       "      <td>200</td>\n",
       "      <td>completed</td>\n",
       "      <td>None</td>\n",
       "      <td>{'annotations': [{'boundingBox': {'height': 52...</td>\n",
       "    </tr>\n",
       "    <tr>\n",
       "      <th>91</th>\n",
       "      <td>bounding-box-920</td>\n",
       "      <td>https://sierra-videos.s3.amazonaws.com/2017_05...</td>\n",
       "      <td>car</td>\n",
       "      <td>200</td>\n",
       "      <td>completed</td>\n",
       "      <td>None</td>\n",
       "      <td>{'annotations': [{'boundingBox': {'height': 51...</td>\n",
       "    </tr>\n",
       "  </tbody>\n",
       "</table>\n",
       "<p>92 rows × 7 columns</p>\n",
       "</div>"
      ],
      "text/plain": [
       "             task_id                                          image_url label  \\\n",
       "0    bounding-box-10  https://sierra-videos.s3.amazonaws.com/2017_05...   car   \n",
       "1    bounding-box-20  https://sierra-videos.s3.amazonaws.com/2017_05...   car   \n",
       "2    bounding-box-30  https://sierra-videos.s3.amazonaws.com/2017_05...   car   \n",
       "3    bounding-box-40  https://sierra-videos.s3.amazonaws.com/2017_05...   car   \n",
       "4    bounding-box-50  https://sierra-videos.s3.amazonaws.com/2017_05...   car   \n",
       "5    bounding-box-60  https://sierra-videos.s3.amazonaws.com/2017_05...   car   \n",
       "6    bounding-box-70  https://sierra-videos.s3.amazonaws.com/2017_05...   car   \n",
       "7    bounding-box-80  https://sierra-videos.s3.amazonaws.com/2017_05...   car   \n",
       "8    bounding-box-90  https://sierra-videos.s3.amazonaws.com/2017_05...   car   \n",
       "9   bounding-box-100  https://sierra-videos.s3.amazonaws.com/2017_05...   car   \n",
       "10  bounding-box-110  https://sierra-videos.s3.amazonaws.com/2017_05...   car   \n",
       "11  bounding-box-120  https://sierra-videos.s3.amazonaws.com/2017_05...   car   \n",
       "12  bounding-box-130  https://sierra-videos.s3.amazonaws.com/2017_05...   car   \n",
       "13  bounding-box-140  https://sierra-videos.s3.amazonaws.com/2017_05...   car   \n",
       "14  bounding-box-150  https://sierra-videos.s3.amazonaws.com/2017_05...   car   \n",
       "15  bounding-box-160  https://sierra-videos.s3.amazonaws.com/2017_05...   car   \n",
       "16  bounding-box-170  https://sierra-videos.s3.amazonaws.com/2017_05...   car   \n",
       "17  bounding-box-180  https://sierra-videos.s3.amazonaws.com/2017_05...   car   \n",
       "18  bounding-box-190  https://sierra-videos.s3.amazonaws.com/2017_05...   car   \n",
       "19  bounding-box-200  https://sierra-videos.s3.amazonaws.com/2017_05...   car   \n",
       "20  bounding-box-210  https://sierra-videos.s3.amazonaws.com/2017_05...   car   \n",
       "21  bounding-box-220  https://sierra-videos.s3.amazonaws.com/2017_05...   car   \n",
       "22  bounding-box-230  https://sierra-videos.s3.amazonaws.com/2017_05...   car   \n",
       "23  bounding-box-240  https://sierra-videos.s3.amazonaws.com/2017_05...   car   \n",
       "24  bounding-box-250  https://sierra-videos.s3.amazonaws.com/2017_05...   car   \n",
       "25  bounding-box-260  https://sierra-videos.s3.amazonaws.com/2017_05...   car   \n",
       "26  bounding-box-270  https://sierra-videos.s3.amazonaws.com/2017_05...   car   \n",
       "27  bounding-box-280  https://sierra-videos.s3.amazonaws.com/2017_05...   car   \n",
       "28  bounding-box-290  https://sierra-videos.s3.amazonaws.com/2017_05...   car   \n",
       "29  bounding-box-300  https://sierra-videos.s3.amazonaws.com/2017_05...   car   \n",
       "..               ...                                                ...   ...   \n",
       "62  bounding-box-630  https://sierra-videos.s3.amazonaws.com/2017_05...   car   \n",
       "63  bounding-box-640  https://sierra-videos.s3.amazonaws.com/2017_05...   car   \n",
       "64  bounding-box-650  https://sierra-videos.s3.amazonaws.com/2017_05...   car   \n",
       "65  bounding-box-660  https://sierra-videos.s3.amazonaws.com/2017_05...   car   \n",
       "66  bounding-box-670  https://sierra-videos.s3.amazonaws.com/2017_05...   car   \n",
       "67  bounding-box-680  https://sierra-videos.s3.amazonaws.com/2017_05...   car   \n",
       "68  bounding-box-690  https://sierra-videos.s3.amazonaws.com/2017_05...   car   \n",
       "69  bounding-box-700  https://sierra-videos.s3.amazonaws.com/2017_05...   car   \n",
       "70  bounding-box-710  https://sierra-videos.s3.amazonaws.com/2017_05...   car   \n",
       "71  bounding-box-720  https://sierra-videos.s3.amazonaws.com/2017_05...   car   \n",
       "72  bounding-box-730  https://sierra-videos.s3.amazonaws.com/2017_05...   car   \n",
       "73  bounding-box-740  https://sierra-videos.s3.amazonaws.com/2017_05...   car   \n",
       "74  bounding-box-750  https://sierra-videos.s3.amazonaws.com/2017_05...   car   \n",
       "75  bounding-box-760  https://sierra-videos.s3.amazonaws.com/2017_05...   car   \n",
       "76  bounding-box-770  https://sierra-videos.s3.amazonaws.com/2017_05...   car   \n",
       "77  bounding-box-780  https://sierra-videos.s3.amazonaws.com/2017_05...   car   \n",
       "78  bounding-box-790  https://sierra-videos.s3.amazonaws.com/2017_05...   car   \n",
       "79  bounding-box-800  https://sierra-videos.s3.amazonaws.com/2017_05...   car   \n",
       "80  bounding-box-810  https://sierra-videos.s3.amazonaws.com/2017_05...   car   \n",
       "81  bounding-box-820  https://sierra-videos.s3.amazonaws.com/2017_05...   car   \n",
       "82  bounding-box-830  https://sierra-videos.s3.amazonaws.com/2017_05...   car   \n",
       "83  bounding-box-840  https://sierra-videos.s3.amazonaws.com/2017_05...   car   \n",
       "84  bounding-box-850  https://sierra-videos.s3.amazonaws.com/2017_05...   car   \n",
       "85  bounding-box-860  https://sierra-videos.s3.amazonaws.com/2017_05...   car   \n",
       "86  bounding-box-870  https://sierra-videos.s3.amazonaws.com/2017_05...   car   \n",
       "87  bounding-box-880  https://sierra-videos.s3.amazonaws.com/2017_05...   car   \n",
       "88  bounding-box-890  https://sierra-videos.s3.amazonaws.com/2017_05...   car   \n",
       "89  bounding-box-900  https://sierra-videos.s3.amazonaws.com/2017_05...   car   \n",
       "90  bounding-box-910  https://sierra-videos.s3.amazonaws.com/2017_05...   car   \n",
       "91  bounding-box-920  https://sierra-videos.s3.amazonaws.com/2017_05...   car   \n",
       "\n",
       "    status_codes      state problem_details  \\\n",
       "0            200  completed            None   \n",
       "1            200  completed            None   \n",
       "2            200  completed            None   \n",
       "3            200  completed            None   \n",
       "4            200  completed            None   \n",
       "5            200  completed            None   \n",
       "6            200  completed            None   \n",
       "7            200  completed            None   \n",
       "8            200  completed            None   \n",
       "9            200  completed            None   \n",
       "10           200  completed            None   \n",
       "11           200  completed            None   \n",
       "12           200  completed            None   \n",
       "13           200  completed            None   \n",
       "14           200  completed            None   \n",
       "15           200  completed            None   \n",
       "16           200  completed            None   \n",
       "17           200  completed            None   \n",
       "18           200  completed            None   \n",
       "19           200  completed            None   \n",
       "20           200  completed            None   \n",
       "21           200  completed            None   \n",
       "22           200  completed            None   \n",
       "23           200  completed            None   \n",
       "24           200  completed            None   \n",
       "25           200  completed            None   \n",
       "26           200  completed            None   \n",
       "27           200  completed            None   \n",
       "28           200  completed            None   \n",
       "29           200  completed            None   \n",
       "..           ...        ...             ...   \n",
       "62           200  completed            None   \n",
       "63           200  completed            None   \n",
       "64           200  completed            None   \n",
       "65           200  completed            None   \n",
       "66           200  completed            None   \n",
       "67           200  completed            None   \n",
       "68           200  completed            None   \n",
       "69           200  completed            None   \n",
       "70           200  completed            None   \n",
       "71           200  completed            None   \n",
       "72           200  completed            None   \n",
       "73           200  completed            None   \n",
       "74           200  completed            None   \n",
       "75           200  completed            None   \n",
       "76           200  completed            None   \n",
       "77           200  completed            None   \n",
       "78           200  completed            None   \n",
       "79           200  completed            None   \n",
       "80           200  completed            None   \n",
       "81           200  completed            None   \n",
       "82           200  completed            None   \n",
       "83           200  completed            None   \n",
       "84           200  completed            None   \n",
       "85           200  completed            None   \n",
       "86           200  completed            None   \n",
       "87           200  completed            None   \n",
       "88           200  completed            None   \n",
       "89           200  completed            None   \n",
       "90           200  completed            None   \n",
       "91           200  completed            None   \n",
       "\n",
       "                                               result  \n",
       "0   {'annotations': [{'boundingBox': {'height': 64...  \n",
       "1   {'annotations': [{'boundingBox': {'height': 48...  \n",
       "2   {'annotations': [{'boundingBox': {'height': 53...  \n",
       "3   {'annotations': [{'boundingBox': {'height': 48...  \n",
       "4   {'annotations': [{'boundingBox': {'height': 50...  \n",
       "5   {'annotations': [{'boundingBox': {'height': 31...  \n",
       "6   {'annotations': [{'boundingBox': {'height': 60...  \n",
       "7   {'annotations': [{'boundingBox': {'height': 51...  \n",
       "8   {'annotations': [{'boundingBox': {'height': 50...  \n",
       "9   {'annotations': [{'boundingBox': {'height': 54...  \n",
       "10  {'annotations': [{'boundingBox': {'height': 47...  \n",
       "11  {'annotations': [{'boundingBox': {'height': 55...  \n",
       "12  {'annotations': [{'boundingBox': {'height': 56...  \n",
       "13  {'annotations': [{'boundingBox': {'height': 41...  \n",
       "14  {'annotations': [{'boundingBox': {'height': 45...  \n",
       "15  {'annotations': [{'boundingBox': {'height': 47...  \n",
       "16  {'annotations': [{'boundingBox': {'height': 58...  \n",
       "17  {'annotations': [{'boundingBox': {'height': 41...  \n",
       "18  {'annotations': [{'boundingBox': {'height': 48...  \n",
       "19  {'annotations': [{'boundingBox': {'height': 49...  \n",
       "20  {'annotations': [{'boundingBox': {'height': 49...  \n",
       "21  {'annotations': [{'boundingBox': {'height': 56...  \n",
       "22  {'annotations': [{'boundingBox': {'height': 41...  \n",
       "23  {'annotations': [{'boundingBox': {'height': 54...  \n",
       "24  {'annotations': [{'boundingBox': {'height': 42...  \n",
       "25  {'annotations': [{'boundingBox': {'height': 60...  \n",
       "26  {'annotations': [{'boundingBox': {'height': 50...  \n",
       "27  {'annotations': [{'boundingBox': {'height': 49...  \n",
       "28  {'annotations': [{'boundingBox': {'height': 50...  \n",
       "29  {'annotations': [{'boundingBox': {'height': 52...  \n",
       "..                                                ...  \n",
       "62  {'annotations': [{'boundingBox': {'height': 46...  \n",
       "63  {'annotations': [{'boundingBox': {'height': 42...  \n",
       "64  {'annotations': [{'boundingBox': {'height': 41...  \n",
       "65  {'annotations': [{'boundingBox': {'height': 39...  \n",
       "66  {'annotations': [{'boundingBox': {'height': 54...  \n",
       "67  {'annotations': [{'boundingBox': {'height': 53...  \n",
       "68  {'annotations': [{'boundingBox': {'height': 45...  \n",
       "69  {'annotations': [{'boundingBox': {'height': 60...  \n",
       "70  {'annotations': [{'boundingBox': {'height': 61...  \n",
       "71  {'annotations': [{'boundingBox': {'height': 51...  \n",
       "72  {'annotations': [{'boundingBox': {'height': 63...  \n",
       "73  {'annotations': [{'boundingBox': {'height': 55...  \n",
       "74  {'annotations': [{'boundingBox': {'height': 48...  \n",
       "75  {'annotations': [{'boundingBox': {'height': 38...  \n",
       "76  {'annotations': [{'boundingBox': {'height': 52...  \n",
       "77  {'annotations': [{'boundingBox': {'height': 38...  \n",
       "78  {'annotations': [{'boundingBox': {'height': 61...  \n",
       "79  {'annotations': [{'boundingBox': {'height': 60...  \n",
       "80  {'annotations': [{'boundingBox': {'height': 63...  \n",
       "81  {'annotations': [{'boundingBox': {'height': 59...  \n",
       "82  {'annotations': [{'boundingBox': {'height': 45...  \n",
       "83  {'annotations': [{'boundingBox': {'height': 34...  \n",
       "84  {'annotations': [{'boundingBox': {'height': 59...  \n",
       "85  {'annotations': [{'boundingBox': {'height': 52...  \n",
       "86  {'annotations': [{'boundingBox': {'height': 38...  \n",
       "87  {'annotations': [{'boundingBox': {'height': 54...  \n",
       "88  {'annotations': [{'boundingBox': {'height': 44...  \n",
       "89  {'annotations': [{'boundingBox': {'height': 61...  \n",
       "90  {'annotations': [{'boundingBox': {'height': 52...  \n",
       "91  {'annotations': [{'boundingBox': {'height': 51...  \n",
       "\n",
       "[92 rows x 7 columns]"
      ]
     },
     "execution_count": 46,
     "metadata": {},
     "output_type": "execute_result"
    }
   ],
   "source": [
    "data"
   ]
  },
  {
   "cell_type": "code",
   "execution_count": 47,
   "metadata": {
    "collapsed": true
   },
   "outputs": [],
   "source": [
    "#write results to csv\n",
    "data.to_csv('bounding-box-results-sample.csv')"
   ]
  },
  {
   "cell_type": "markdown",
   "metadata": {},
   "source": [
    "## <a id=image-similarity>image-similarity</a>\n",
    "This API takes in two images, specified by URL, and returns a score for how similar those two images are.  \n",
    "\n",
    "input: {'input': {'image1': {'url': 'https://s3-us-west-2.amazonaws.com/mturk-sample-media/images-to-compare/image-similarity-1a.png'}, 'image2': {'url': 'https://s3-us-west-2.amazonaws.com/mturk-sample-media/images-to-compare/image-similarity-1b.png'}}\n",
    "\n",
    "result: {'similarityScore': 0.75}"
   ]
  },
  {
   "cell_type": "markdown",
   "metadata": {},
   "source": [
    "Here's an example of a HIT that's shown to Workers:\n",
    "![image-similarity-HIT-example](https://s3-us-west-2.amazonaws.com/mturk-sample-tasks/image-similarity-HIT-example.png)"
   ]
  },
  {
   "cell_type": "code",
   "execution_count": 18,
   "metadata": {
    "collapsed": true
   },
   "outputs": [],
   "source": [
    "function_name = 'image-similarity'"
   ]
  },
  {
   "cell_type": "markdown",
   "metadata": {},
   "source": [
    "### Create a Task"
   ]
  },
  {
   "cell_type": "code",
   "execution_count": 19,
   "metadata": {},
   "outputs": [
    {
     "name": "stdout",
     "output_type": "stream",
     "text": [
      "my-test-task-847ac56e049249228283881984914ebb\n"
     ]
    }
   ],
   "source": [
    "# automatically generate a random task ID\n",
    "task_name = 'my-test-task-' + uuid.uuid4().hex\n",
    "print(task_name)"
   ]
  },
  {
   "cell_type": "code",
   "execution_count": 20,
   "metadata": {
    "collapsed": true
   },
   "outputs": [],
   "source": [
    "# the URLs of the images that you want to compare\n",
    "image_url_1 = 'https://s3-us-west-2.amazonaws.com/mturk-sample-media/images-to-compare/image-similarity-1a.png'\n",
    "image_url_2 = 'https://s3-us-west-2.amazonaws.com/mturk-sample-media/images-to-compare/image-similarity-1b.png'"
   ]
  },
  {
   "cell_type": "code",
   "execution_count": 21,
   "metadata": {},
   "outputs": [
    {
     "name": "stdout",
     "output_type": "stream",
     "text": [
      "PUT response: {'status_code': 201, 'task': {'input': {'image1': {'url': 'https://s3-us-west-2.amazonaws.com/mturk-sample-media/images-to-compare/image-similarity-1a.png'}, 'image2': {'url': 'https://s3-us-west-2.amazonaws.com/mturk-sample-media/images-to-compare/image-similarity-1b.png'}}, 'problemDetails': None, 'result': None, 'state': 'processing', 'taskName': 'my-test-task-847ac56e049249228283881984914ebb'}}\n"
     ]
    }
   ],
   "source": [
    "# create a single task with the input you specified above\n",
    "put_result = crowd_client.put_task(function_name,task_name,\n",
    "                                   {'image1': {'url': image_url_1},\n",
    "                                    'image2': {'url': image_url_2}})\n",
    "\n",
    "print('PUT response: {}'.format(\n",
    "    {'status_code': put_result.status_code, 'task': put_result.json()}))        "
   ]
  },
  {
   "cell_type": "markdown",
   "metadata": {},
   "source": [
    "### Get the result\n",
    "\n",
    "Wait a few minutes before calling get_task to give Workers a chance to submit answers"
   ]
  },
  {
   "cell_type": "code",
   "execution_count": 22,
   "metadata": {},
   "outputs": [
    {
     "name": "stdout",
     "output_type": "stream",
     "text": [
      "GET response: {'status_code': 200, 'task': {'input': {'image1': {'url': 'https://s3-us-west-2.amazonaws.com/mturk-sample-media/images-to-compare/image-similarity-1a.png'}, 'image2': {'url': 'https://s3-us-west-2.amazonaws.com/mturk-sample-media/images-to-compare/image-similarity-1b.png'}}, 'problemDetails': None, 'result': None, 'state': 'processing', 'taskName': 'my-test-task-847ac56e049249228283881984914ebb'}}\n"
     ]
    }
   ],
   "source": [
    "get_result = crowd_client.get_task(function_name, task_name)\n",
    "\n",
    "print('GET response: {}'.format(                     \n",
    "    {'status_code': get_result.status_code, 'task': get_result.json()}))"
   ]
  },
  {
   "cell_type": "markdown",
   "metadata": {},
   "source": [
    "## <a id=co-reference-resolution>co-reference-resolution</a>\n",
    "\n",
    "Co-reference resolution is the task of finding all expressions that refer to the same entity in a text. This API returns references and the position of the start and end of each reference.\n",
    "\n",
    "input: { \"text\": \"Megan said \"I voted for Hilary because she better aligns with my values\"\" }\n",
    "\n",
    "result:  {'references': {'ref-1': [{'end': 6, 'start': 0, 'text': 'Megan ', 'type': 'ref-1'}, {'end': 14, 'start': 12, 'text': 'I ', 'type': 'ref-1'}, {'end': 64, 'start': 62, 'text': 'my', 'type': 'ref-1'}], 'ref-2': [{'end': 30, 'start': 24, 'text': 'Hilary', 'type': 'ref-2'}, {'end': 42, 'start': 39, 'text': 'she', 'type': 'ref-2'}]}}\n",
    "\n",
    "Internal only: this API currently only asks one Worker to complete the HIT, excluding specific Workers who have been put on an exclusion list because of poor past performance on NLP related HITs."
   ]
  },
  {
   "cell_type": "markdown",
   "metadata": {},
   "source": [
    "Here's an example of a HIT that's shown to Workers:\n",
    "![co-reference-resolution-HIT-example](https://s3-us-west-2.amazonaws.com/mturk-sample-tasks/co-reference-resolution-HIT-example.png)"
   ]
  },
  {
   "cell_type": "markdown",
   "metadata": {},
   "source": [
    "### Create a Task"
   ]
  },
  {
   "cell_type": "code",
   "execution_count": null,
   "metadata": {
    "collapsed": true
   },
   "outputs": [],
   "source": [
    "#set the function_name to the name of the API\n",
    "function_name = 'co-reference-resolution'"
   ]
  },
  {
   "cell_type": "code",
   "execution_count": null,
   "metadata": {
    "collapsed": true
   },
   "outputs": [],
   "source": [
    "# automatically generate a random task ID\n",
    "#task_name = 'my-test-task-' + uuid.uuid4().hex\n",
    "task_name = 'my-test-task-656e8384878a40d59f55289a48085d0d'\n",
    "print(task_name)"
   ]
  },
  {
   "cell_type": "code",
   "execution_count": null,
   "metadata": {
    "collapsed": true
   },
   "outputs": [],
   "source": [
    "# define the text that you want analyzed, up to 16k\n",
    "text = 'Megan said \\\"I voted for Hilary because she better aligns with my values\\\"'"
   ]
  },
  {
   "cell_type": "code",
   "execution_count": null,
   "metadata": {
    "collapsed": true
   },
   "outputs": [],
   "source": [
    "# create a single task with the input you specified above\n",
    "put_result = crowd_client.put_task(function_name,\n",
    "                             task_name,\n",
    "                             {'text': text})\n",
    "print('PUT response: {}'.format(\n",
    "    {'status_code': put_result.status_code, 'task': put_result.json()}))"
   ]
  },
  {
   "cell_type": "markdown",
   "metadata": {},
   "source": [
    "### Get the result\n",
    "\n",
    "Wait a few minutes before calling get_task to give Workers a chance to submit answers"
   ]
  },
  {
   "cell_type": "code",
   "execution_count": null,
   "metadata": {
    "collapsed": true
   },
   "outputs": [],
   "source": [
    "get_result = crowd_client.get_task(function_name, task_name)\n",
    "\n",
    "print('GET response: {}'.format(                     \n",
    "    {'status_code': get_result.status_code, 'task': get_result.json()}))"
   ]
  },
  {
   "cell_type": "markdown",
   "metadata": {},
   "source": [
    "## <a id=keyphrase-extraction>key-phrase-extraction</a> \n",
    "\n",
    "Key phrases provide a concise description of a document’s content; they are useful for document categorization, clustering, indexing, search, and summarization; quantifying semantic similarity with other documents; as well as conceptualizing particular knowledge domains.  Key phrase extraction is the process of extracting the important and topic words in a document.\n",
    "\n",
    "input: { \"text\": \"This is the second Boots I brought from this brand, the material they are used to make these boots are quite decent, it’s not real leather though, but once you get it on hand you can tell that it is definitely high quality material, the last boots I brought cost me 45 bucks, it lasted about 1 year and half, very remarkable durability I got to say, beside this the interior is super soft and very comfortable to wear. If you are looking for mid-range priced boots with high quality this is the best shot for you.\" }\n",
    "\n",
    "result: {'keyPhrases': [{'end': 25, 'start': 19, 'text': 'Boots '}, {'end': 115, 'start': 103, 'text': 'quite decent'}, {'end': 138, 'start': 122, 'text': 'not real leather'}, {'end': 231, 'start': 210, 'text': 'high quality material'}, {'end': 307, 'start': 292, 'text': '1 year and half'}, {'end': 335, 'start': 309, 'text': 'very remarkable durability'}, {'end': 388, 'start': 378, 'text': 'super soft'}, {'end': 409, 'start': 393, 'text': 'very comfortable'}, {'end': 458, 'start': 442, 'text': 'mid-range priced'}, {'end': 482, 'start': 470, 'text': 'high quality'}]}\n",
    "\n",
    "Internal only: this API currently only asks one Worker to complete the HIT, excluding specific Workers who have been put on an exclusion list because of poor past performance on NLP related HITs."
   ]
  },
  {
   "cell_type": "markdown",
   "metadata": {},
   "source": [
    "Here's an example of a HIT that's shown to Workers: \n",
    "![key-phrase-extraction-HIT-example](https://s3-us-west-2.amazonaws.com/mturk-sample-tasks/key-phrase-extraction-HIT-example.png)"
   ]
  },
  {
   "cell_type": "markdown",
   "metadata": {},
   "source": [
    "### Create a Task"
   ]
  },
  {
   "cell_type": "code",
   "execution_count": null,
   "metadata": {
    "collapsed": true
   },
   "outputs": [],
   "source": [
    "#set the function_name to the name of the API\n",
    "function_name = 'key-phrase-extraction'"
   ]
  },
  {
   "cell_type": "code",
   "execution_count": null,
   "metadata": {
    "collapsed": true
   },
   "outputs": [],
   "source": [
    "# automatically generate a random task ID\n",
    "task_name = 'my-test-task-' + uuid.uuid4().hex\n",
    "print(task_name)"
   ]
  },
  {
   "cell_type": "code",
   "execution_count": null,
   "metadata": {
    "collapsed": true
   },
   "outputs": [],
   "source": [
    "# define the text that you want analyzed, up to 16k\n",
    "text = 'This is the second Boots I brought from this brand, the material they are used to make these boots are quite decent, it’s not real leather though, but once you get it on hand you can tell that it is definitely high quality material, the last boots I brought cost me 45 bucks, it lasted about 1 year and half, very remarkable durability I got to say, beside this the interior is super soft and very comfortable to wear. If you are looking for mid-range priced boots with high quality this is the best shot for you.'"
   ]
  },
  {
   "cell_type": "code",
   "execution_count": null,
   "metadata": {
    "collapsed": true
   },
   "outputs": [],
   "source": [
    "# create a single task with the input you specified above\n",
    "put_result = crowd_client.put_task(function_name,\n",
    "                             task_name,\n",
    "                             {'text': text})\n",
    "print('PUT response: {}'.format(\n",
    "    {'status_code': put_result.status_code, 'task': put_result.json()}))"
   ]
  },
  {
   "cell_type": "markdown",
   "metadata": {},
   "source": [
    "### Get the result\n",
    "\n",
    "Wait a few minutes before calling get_task to give Workers a chance to submit answers"
   ]
  },
  {
   "cell_type": "code",
   "execution_count": null,
   "metadata": {
    "collapsed": true
   },
   "outputs": [],
   "source": [
    "get_result = crowd_client.get_task(function_name, task_name)\n",
    "\n",
    "print('GET response: {}'.format(                     \n",
    "    {'status_code': get_result.status_code, 'task': get_result.json()}))"
   ]
  },
  {
   "cell_type": "markdown",
   "metadata": {},
   "source": [
    "## <a id=face-detection>face-detection</a>\n",
    "\n",
    "Given an image URL, return bounding boxes around faces in the image.\n",
    "\n",
    "input: {'image': {'url': 'https://images-na.ssl-images-amazon.com/images/I/71m-wVEQ9kL._SX522_.jpg'} }\n",
    "\n",
    "result: {\n",
    "    'labels': [\n",
    "      {\n",
    "        'boundingBox': {\n",
    "          'height': 115,\n",
    "          'left': 248,\n",
    "          'top': 19,\n",
    "          'width': 116\n",
    "        }\n",
    "      },\n",
    "      {\n",
    "        'boundingBox': {\n",
    "          'height': 89,\n",
    "          'left': 354,\n",
    "          'top': 45,\n",
    "          'width': 115\n",
    "        }\n",
    "      }\n",
    "    ]}"
   ]
  },
  {
   "cell_type": "markdown",
   "metadata": {},
   "source": [
    "TK: include a sample HIT"
   ]
  },
  {
   "cell_type": "code",
   "execution_count": 25,
   "metadata": {
    "collapsed": true
   },
   "outputs": [],
   "source": [
    "# TK: function name is probably changing\n",
    "function_name = 'facial-detection'"
   ]
  },
  {
   "cell_type": "markdown",
   "metadata": {},
   "source": [
    "### Create a Task"
   ]
  },
  {
   "cell_type": "code",
   "execution_count": 21,
   "metadata": {},
   "outputs": [
    {
     "name": "stdout",
     "output_type": "stream",
     "text": [
      "my-test-task-739ac9c6b864406095f6a35145ff0851\n"
     ]
    }
   ],
   "source": [
    "# automatically generate a random task ID\n",
    "task_name = 'my-test-task-' + uuid.uuid4().hex\n",
    "print(task_name)"
   ]
  },
  {
   "cell_type": "code",
   "execution_count": 22,
   "metadata": {
    "collapsed": true
   },
   "outputs": [],
   "source": [
    "# provide the context and the intent\n",
    "image_url = 'https://images-na.ssl-images-amazon.com/images/I/71m-wVEQ9kL._SX522_.jpg'"
   ]
  },
  {
   "cell_type": "code",
   "execution_count": 26,
   "metadata": {},
   "outputs": [
    {
     "name": "stdout",
     "output_type": "stream",
     "text": [
      "PUT response: {'status_code': 201, 'task': {'input': {'image': {'url': 'https://images-na.ssl-images-amazon.com/images/I/71m-wVEQ9kL._SX522_.jpg'}}, 'problemDetails': None, 'result': None, 'state': 'processing', 'taskName': 'my-test-task-739ac9c6b864406095f6a35145ff0851'}}\n"
     ]
    }
   ],
   "source": [
    "#create a single task with the input you specified above\n",
    "put_result = crowd_client.put_task(function_name,\n",
    "                             task_name,\n",
    "                            {'image': {'url': image_url}})\n",
    "\n",
    "print('PUT response: {}'.format(\n",
    "    {'status_code': put_result.status_code, 'task': put_result.json()}))"
   ]
  },
  {
   "cell_type": "markdown",
   "metadata": {},
   "source": [
    "### Get the result\n",
    "\n",
    "Wait a few minutes before calling get_task to give Workers a chance to submit answers"
   ]
  },
  {
   "cell_type": "code",
   "execution_count": null,
   "metadata": {
    "collapsed": true
   },
   "outputs": [],
   "source": [
    "get_result = crowd_client.get_task(function_name, task_name)\n",
    "\n",
    "print('GET response: {}'.format(                     \n",
    "    {'status_code': get_result.status_code, 'task': get_result.json()}))"
   ]
  },
  {
   "cell_type": "markdown",
   "metadata": {},
   "source": [
    "## <a id=logo-recognition>logo-recognition</a>\n",
    "\n",
    "Given an image URL, return bounding boxes around logos in the image along with the name of the brand it represents.\n",
    "\n",
    "input: {'image': {'url': 'https://images-na.ssl-images-amazon.com/images/I/61yI7vWa83L._SX522_.jpg'} }\n",
    "\n",
    "result: \n",
    " {\n",
    "    'labels': [\n",
    "      {\n",
    "        'boundingBox': {\n",
    "          'height': 35,\n",
    "          'left': 213,\n",
    "          'top': 408,\n",
    "          'width': 98\n",
    "        },\n",
    "        'organization': 'amazon.com, inc'\n",
    "      }\n",
    "    ]\n",
    "  }"
   ]
  },
  {
   "cell_type": "markdown",
   "metadata": {},
   "source": [
    "TK: include a sample HIT"
   ]
  },
  {
   "cell_type": "code",
   "execution_count": 31,
   "metadata": {
    "collapsed": true
   },
   "outputs": [],
   "source": [
    "# TK: function name is probably changing\n",
    "function_name = 'logo-detection'"
   ]
  },
  {
   "cell_type": "markdown",
   "metadata": {},
   "source": [
    "### Create a Task"
   ]
  },
  {
   "cell_type": "code",
   "execution_count": 28,
   "metadata": {},
   "outputs": [
    {
     "name": "stdout",
     "output_type": "stream",
     "text": [
      "my-test-task-f9a3ae43a0ce41ef9998d20f52f6ed6e\n"
     ]
    }
   ],
   "source": [
    "# automatically generate a random task ID\n",
    "task_name = 'my-test-task-' + uuid.uuid4().hex\n",
    "print(task_name)"
   ]
  },
  {
   "cell_type": "code",
   "execution_count": 29,
   "metadata": {
    "collapsed": true
   },
   "outputs": [],
   "source": [
    "# provide the context and the intent\n",
    "image_url = 'https://images-na.ssl-images-amazon.com/images/I/61yI7vWa83L._SX522_.jpg'"
   ]
  },
  {
   "cell_type": "code",
   "execution_count": 32,
   "metadata": {},
   "outputs": [
    {
     "name": "stdout",
     "output_type": "stream",
     "text": [
      "PUT response: {'status_code': 201, 'task': {'input': {'image': {'url': 'https://images-na.ssl-images-amazon.com/images/I/61yI7vWa83L._SX522_.jpg'}}, 'problemDetails': None, 'result': None, 'state': 'processing', 'taskName': 'my-test-task-f9a3ae43a0ce41ef9998d20f52f6ed6e'}}\n"
     ]
    }
   ],
   "source": [
    "#create a single task with the input you specified above\n",
    "put_result = crowd_client.put_task(function_name,\n",
    "                             task_name,\n",
    "                            {'image': {'url': image_url}})\n",
    "\n",
    "print('PUT response: {}'.format(\n",
    "    {'status_code': put_result.status_code, 'task': put_result.json()}))"
   ]
  },
  {
   "cell_type": "markdown",
   "metadata": {},
   "source": [
    "### Get the result\n",
    "\n",
    "Wait a few minutes before calling get_task to give Workers a chance to submit answers"
   ]
  },
  {
   "cell_type": "code",
   "execution_count": 33,
   "metadata": {},
   "outputs": [
    {
     "name": "stdout",
     "output_type": "stream",
     "text": [
      "GET response: {'status_code': 200, 'task': {'input': {'image': {'url': 'https://images-na.ssl-images-amazon.com/images/I/61yI7vWa83L._SX522_.jpg'}}, 'problemDetails': None, 'result': None, 'state': 'processing', 'taskName': 'my-test-task-f9a3ae43a0ce41ef9998d20f52f6ed6e'}}\n"
     ]
    }
   ],
   "source": [
    "get_result = crowd_client.get_task(function_name, task_name)\n",
    "\n",
    "print('GET response: {}'.format(                     \n",
    "    {'status_code': get_result.status_code, 'task': get_result.json()}))"
   ]
  },
  {
   "cell_type": "markdown",
   "metadata": {},
   "source": [
    "## <a id=text-recognition>text-recognition</a>\n",
    "\n",
    "Given an image URL, return the text in the image and the bounding boxes around each word.\n",
    "\n",
    "input: {'image': {'url': 'https://images-na.ssl-images-amazon.com/images/I/71m-wVEQ9kL._SX522_.jpg'} }\n",
    "\n",
    "result: \n",
    " {\n",
    "    'labels': [\n",
    "      {\n",
    "        'boundingBox': {\n",
    "          'height': 29,\n",
    "          'left': 71,\n",
    "          'top': 440,\n",
    "          'width': 67\n",
    "        },\n",
    "        'text': 'room'\n",
    "      },\n",
    "      {\n",
    "        'boundingBox': {\n",
    "          'height': 33,\n",
    "          'left': 141,\n",
    "          'top': 440,\n",
    "          'width': 65\n",
    "        },\n",
    "        'text': 'filling'\n",
    "      },\n",
    "      {\n",
    "        'boundingBox': {\n",
    "          'height': 28,\n",
    "          'left': 207,\n",
    "          'top': 443,\n",
    "          'width': 71\n",
    "        },\n",
    "        'text': 'sound'\n",
    "      },\n",
    "      {\n",
    "        'boundingBox': {\n",
    "          'height': 28,\n",
    "          'left': 280,\n",
    "          'top': 440,\n",
    "          'width': 46\n",
    "        },\n",
    "        'text': 'with'\n",
    "      },\n",
    "      {\n",
    "        'boundingBox': {\n",
    "          'height': 31,\n",
    "          'left': 329,\n",
    "          'top': 441,\n",
    "          'width': 60\n",
    "        },\n",
    "        'text': 'crisp'\n",
    "      },\n",
    "      {\n",
    "        'boundingBox': {\n",
    "          'height': 22,\n",
    "          'left': 389,\n",
    "          'top': 445,\n",
    "          'width': 69\n",
    "        },\n",
    "        'text': 'vocals'\n",
    "      },\n",
    "      {\n",
    "        'boundingBox': {\n",
    "          'height': 22,\n",
    "          'left': 117,\n",
    "          'top': 477,\n",
    "          'width': 44\n",
    "        },\n",
    "        'text': 'and'\n",
    "      },\n",
    "      {\n",
    "        'boundingBox': {\n",
    "          'height': 23,\n",
    "          'left': 313,\n",
    "          'top': 476,\n",
    "          'width': 99\n",
    "        },\n",
    "        'text': 'response'\n",
    "      },\n",
    "      {\n",
    "        'boundingBox': {\n",
    "          'height': 24,\n",
    "          'left': 165,\n",
    "          'top': 476,\n",
    "          'width': 90\n",
    "        },\n",
    "        'text': 'dynamic'\n",
    "      },\n",
    "      {\n",
    "        'boundingBox': {\n",
    "          'height': 24,\n",
    "          'left': 259,\n",
    "          'top': 476,\n",
    "          'width': 50\n",
    "        },\n",
    "        'text': 'bass'\n",
    "      }\n",
    "    ]\n",
    "  }"
   ]
  },
  {
   "cell_type": "markdown",
   "metadata": {},
   "source": [
    "TK: include a sample HIT"
   ]
  },
  {
   "cell_type": "code",
   "execution_count": 38,
   "metadata": {
    "collapsed": true
   },
   "outputs": [],
   "source": [
    "function_name = 'text-recognition'"
   ]
  },
  {
   "cell_type": "markdown",
   "metadata": {},
   "source": [
    "### Create a Task"
   ]
  },
  {
   "cell_type": "code",
   "execution_count": 35,
   "metadata": {},
   "outputs": [
    {
     "name": "stdout",
     "output_type": "stream",
     "text": [
      "my-test-task-6561701d2fa847278d0486a6fb2b370d\n"
     ]
    }
   ],
   "source": [
    "# automatically generate a random task ID\n",
    "task_name = 'my-test-task-' + uuid.uuid4().hex\n",
    "print(task_name)"
   ]
  },
  {
   "cell_type": "code",
   "execution_count": 36,
   "metadata": {
    "collapsed": true
   },
   "outputs": [],
   "source": [
    "# provide the context and the intent\n",
    "image_url = 'https://images-na.ssl-images-amazon.com/images/I/61yI7vWa83L._SX522_.jpg'"
   ]
  },
  {
   "cell_type": "code",
   "execution_count": 39,
   "metadata": {},
   "outputs": [
    {
     "name": "stdout",
     "output_type": "stream",
     "text": [
      "PUT response: {'status_code': 201, 'task': {'input': {'image': {'url': 'https://images-na.ssl-images-amazon.com/images/I/61yI7vWa83L._SX522_.jpg'}}, 'problemDetails': None, 'result': None, 'state': 'processing', 'taskName': 'my-test-task-6561701d2fa847278d0486a6fb2b370d'}}\n"
     ]
    }
   ],
   "source": [
    "#create a single task with the input you specified above\n",
    "put_result = crowd_client.put_task(function_name,\n",
    "                             task_name,\n",
    "                            {'image': {'url': image_url}})\n",
    "\n",
    "print('PUT response: {}'.format(\n",
    "    {'status_code': put_result.status_code, 'task': put_result.json()}))"
   ]
  },
  {
   "cell_type": "markdown",
   "metadata": {},
   "source": [
    "### Get the result\n",
    "\n",
    "Wait a few minutes before calling get_task to give Workers a chance to submit answers"
   ]
  },
  {
   "cell_type": "code",
   "execution_count": 33,
   "metadata": {},
   "outputs": [
    {
     "name": "stdout",
     "output_type": "stream",
     "text": [
      "GET response: {'status_code': 200, 'task': {'input': {'image': {'url': 'https://images-na.ssl-images-amazon.com/images/I/61yI7vWa83L._SX522_.jpg'}}, 'problemDetails': None, 'result': None, 'state': 'processing', 'taskName': 'my-test-task-f9a3ae43a0ce41ef9998d20f52f6ed6e'}}\n"
     ]
    }
   ],
   "source": [
    "get_result = crowd_client.get_task(function_name, task_name)\n",
    "\n",
    "print('GET response: {}'.format(                     \n",
    "    {'status_code': get_result.status_code, 'task': get_result.json()}))"
   ]
  }
 ],
 "metadata": {
  "kernelspec": {
   "display_name": "Python 3",
   "language": "python",
   "name": "python3"
  },
  "language_info": {
   "codemirror_mode": {
    "name": "ipython",
    "version": 3
   },
   "file_extension": ".py",
   "mimetype": "text/x-python",
   "name": "python",
   "nbconvert_exporter": "python",
   "pygments_lexer": "ipython3",
   "version": "3.6.3"
  }
 },
 "nbformat": 4,
 "nbformat_minor": 2
}
