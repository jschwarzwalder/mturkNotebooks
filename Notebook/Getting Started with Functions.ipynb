{
 "cells": [
  {
   "cell_type": "markdown",
   "metadata": {},
   "source": [
    "# This Notebook enables you to call every Function in the MTurk Functions catalog"
   ]
  },
  {
   "cell_type": "markdown",
   "metadata": {},
   "source": [
    "## First we will import the packages we need to use the API\n",
    "You'll need to do this before calling any Function API"
   ]
  },
  {
   "cell_type": "code",
   "execution_count": 3,
   "metadata": {},
   "outputs": [],
   "source": [
    "from mturk_crowd_beta_client import MTurkCrowdClient\n",
    "from boto3.session import Session\n",
    "import uuid"
   ]
  },
  {
   "cell_type": "markdown",
   "metadata": {},
   "source": [
    "## Next we set up a session\n",
    "\n",
    "This examples assume you have a local AWS profile called __'mturk-crowd-caller'__, but you can authenticate however you like, including by directly passing in your access key and secret key."
   ]
  },
  {
   "cell_type": "code",
   "execution_count": 5,
   "metadata": {},
   "outputs": [],
   "source": [
    "# my profile name happens to be mtf-caller\n",
    "session = Session(profile_name='mturk-crowd-caller')\n",
    "\n",
    "crowd_client = MTurkCrowdClient(session)"
   ]
  },
  {
   "cell_type": "markdown",
   "metadata": {},
   "source": [
    "## Available APIs:\n",
    "\n",
    "* [sentiment-analysis](#sentiment-analysis)\n",
    "* [image-contains](#image-contains)\n",
    "* [emotion-detection](#emotion-detection)\n",
    "* [semantic-similarity](#semantic-similarity)\n",
    "* [collect-utterance-text](#collect-utterance-text)\n",
    "* [image-categorization](#image-categorization)\n",
    "* [bounding-box](#bounding-box)"
   ]
  },
  {
   "cell_type": "markdown",
   "metadata": {},
   "source": [
    "## <a id='sentiment-analysis'>sentiment-analysis</a>"
   ]
  },
  {
   "cell_type": "markdown",
   "metadata": {},
   "source": [
    "Input:\n",
    "{\n",
    " \"text\": \"Everything is wonderful!\"\n",
    "}\n",
    "\n",
    "Result: {\n",
    "  \"taskName\": \"my-task-name\",\n",
    "  \"input\": {\n",
    "    \"text\": \"Everything is wonderful!\"\n",
    "  },\n",
    "  \"problemDetails\": null,\n",
    "  \"state\": \"processing\",\n",
    "  \"result\": null\n",
    "}"
   ]
  },
  {
   "cell_type": "markdown",
   "metadata": {},
   "source": [
    "When you create a Task using the sentiment-analysis API, you're automatically creating a Human Intelligence Task (HIT) on worker.mturk.com.  Here's an example of a sentiment analysis HIT."
   ]
  },
  {
   "cell_type": "markdown",
   "metadata": {},
   "source": [
    "![sentiment-analysis-HIT-example](sentiment-analysis-HIT-example.png)"
   ]
  },
  {
   "cell_type": "markdown",
   "metadata": {},
   "source": [
    "### Create a Task"
   ]
  },
  {
   "cell_type": "code",
   "execution_count": 4,
   "metadata": {
    "collapsed": true
   },
   "outputs": [],
   "source": [
    "#set the function_name to the name of the API\n",
    "function_name = 'sentiment-analysis'"
   ]
  },
  {
   "cell_type": "code",
   "execution_count": 5,
   "metadata": {},
   "outputs": [
    {
     "name": "stdout",
     "output_type": "stream",
     "text": [
      "my-test-task-b631d4359c8a45169746a4ffc3bfc45b\n"
     ]
    }
   ],
   "source": [
    "# automatically generate a random task ID\n",
    "task_name = 'my-test-task-' + uuid.uuid4().hex\n",
    "print(task_name)"
   ]
  },
  {
   "cell_type": "code",
   "execution_count": 6,
   "metadata": {
    "collapsed": true
   },
   "outputs": [],
   "source": [
    "# define the text that you want analyzed, up to 16k\n",
    "text = 'The trip by @VP Pence was long planned. He is receiving great praise for leaving game after the players showed such disrespect for country!'"
   ]
  },
  {
   "cell_type": "code",
   "execution_count": 7,
   "metadata": {},
   "outputs": [
    {
     "name": "stdout",
     "output_type": "stream",
     "text": [
      "PUT response: {'status_code': 201, 'task': {'input': {'text': 'The trip by @VP Pence was long planned. He is receiving great praise for leaving game after the players showed such disrespect for country!'}, 'problemDetails': None, 'result': None, 'state': 'processing', 'taskName': 'my-test-task-b631d4359c8a45169746a4ffc3bfc45b'}}\n"
     ]
    }
   ],
   "source": [
    "# create a single task with the input you specified above\n",
    "put_result = crowd_client.put_task(function_name,\n",
    "                             task_name,\n",
    "                             {'text': text})\n",
    "print('PUT response: {}'.format(\n",
    "    {'status_code': put_result.status_code, 'task': put_result.json()}))"
   ]
  },
  {
   "cell_type": "markdown",
   "metadata": {},
   "source": [
    "### Get the result\n",
    "\n",
    "Wait a few minutes before calling get_task to give Workers a chance to submit answers"
   ]
  },
  {
   "cell_type": "code",
   "execution_count": 8,
   "metadata": {},
   "outputs": [
    {
     "name": "stdout",
     "output_type": "stream",
     "text": [
      "GET response: {'status_code': 200, 'task': {'input': {'text': 'The trip by @VP Pence was long planned. He is receiving great praise for leaving game after the players showed such disrespect for country!'}, 'problemDetails': None, 'result': None, 'state': 'processing', 'taskName': 'my-test-task-b631d4359c8a45169746a4ffc3bfc45b'}}\n"
     ]
    }
   ],
   "source": [
    "get_result = crowd_client.get_task(function_name, task_name)\n",
    "\n",
    "print('GET response: {}'.format(                     \n",
    "    {'status_code': get_result.status_code, 'task': get_result.json()}))"
   ]
  },
  {
   "cell_type": "markdown",
   "metadata": {},
   "source": [
    "### Creating multiple Tasks and Processing Results \n",
    "\n",
    "Next, we'll read from a CSV file that has multiple rows of text that needs to be analyzed for sentiment using the pandas library.  As a prerequisite you need to have installed the pandas library."
   ]
  },
  {
   "cell_type": "code",
   "execution_count": 9,
   "metadata": {
    "collapsed": true
   },
   "outputs": [],
   "source": [
    "import pandas as pd"
   ]
  },
  {
   "cell_type": "code",
   "execution_count": 13,
   "metadata": {
    "collapsed": true
   },
   "outputs": [],
   "source": [
    "#read the input data from csv into a pandas DataFrame\n",
    "data = pd.read_csv('./sentiment-analysis-inputs.csv')"
   ]
  },
  {
   "cell_type": "code",
   "execution_count": 14,
   "metadata": {},
   "outputs": [
    {
     "data": {
      "text/html": [
       "<div>\n",
       "<style>\n",
       "    .dataframe thead tr:only-child th {\n",
       "        text-align: right;\n",
       "    }\n",
       "\n",
       "    .dataframe thead th {\n",
       "        text-align: left;\n",
       "    }\n",
       "\n",
       "    .dataframe tbody tr th {\n",
       "        vertical-align: top;\n",
       "    }\n",
       "</style>\n",
       "<table border=\"1\" class=\"dataframe\">\n",
       "  <thead>\n",
       "    <tr style=\"text-align: right;\">\n",
       "      <th></th>\n",
       "      <th>task_id</th>\n",
       "      <th>review_text</th>\n",
       "    </tr>\n",
       "  </thead>\n",
       "  <tbody>\n",
       "    <tr>\n",
       "      <th>0</th>\n",
       "      <td>customer_review_1</td>\n",
       "      <td>I'll give it 3 stars only because they were on...</td>\n",
       "    </tr>\n",
       "    <tr>\n",
       "      <th>1</th>\n",
       "      <td>customer_review_2</td>\n",
       "      <td>I love these boots and these are my 2nd pair. ...</td>\n",
       "    </tr>\n",
       "    <tr>\n",
       "      <th>2</th>\n",
       "      <td>customer_review_3</td>\n",
       "      <td>I read many reviews regarding the brown ones a...</td>\n",
       "    </tr>\n",
       "  </tbody>\n",
       "</table>\n",
       "</div>"
      ],
      "text/plain": [
       "             task_id                                        review_text\n",
       "0  customer_review_1  I'll give it 3 stars only because they were on...\n",
       "1  customer_review_2  I love these boots and these are my 2nd pair. ...\n",
       "2  customer_review_3  I read many reviews regarding the brown ones a..."
      ]
     },
     "execution_count": 14,
     "metadata": {},
     "output_type": "execute_result"
    }
   ],
   "source": [
    "# column 1 is the Task ID and column2 is the input data\n",
    "data"
   ]
  },
  {
   "cell_type": "code",
   "execution_count": 15,
   "metadata": {
    "collapsed": true
   },
   "outputs": [],
   "source": [
    "#loop through the rows and create a Task per row, write the put_task status in a new column\n",
    "status_codes = []\n",
    "states = []\n",
    "for index, row in data.iterrows():\n",
    "    put_result = crowd_client.put_task(function_name, row.task_id,{'text': row.review_text})\n",
    "    status_codes.append(put_result.status_code)\n",
    "data['status_codes'] = status_codes"
   ]
  },
  {
   "cell_type": "code",
   "execution_count": 16,
   "metadata": {},
   "outputs": [
    {
     "data": {
      "text/html": [
       "<div>\n",
       "<style>\n",
       "    .dataframe thead tr:only-child th {\n",
       "        text-align: right;\n",
       "    }\n",
       "\n",
       "    .dataframe thead th {\n",
       "        text-align: left;\n",
       "    }\n",
       "\n",
       "    .dataframe tbody tr th {\n",
       "        vertical-align: top;\n",
       "    }\n",
       "</style>\n",
       "<table border=\"1\" class=\"dataframe\">\n",
       "  <thead>\n",
       "    <tr style=\"text-align: right;\">\n",
       "      <th></th>\n",
       "      <th>task_id</th>\n",
       "      <th>review_text</th>\n",
       "      <th>status_codes</th>\n",
       "    </tr>\n",
       "  </thead>\n",
       "  <tbody>\n",
       "    <tr>\n",
       "      <th>0</th>\n",
       "      <td>customer_review_1</td>\n",
       "      <td>I'll give it 3 stars only because they were on...</td>\n",
       "      <td>201</td>\n",
       "    </tr>\n",
       "    <tr>\n",
       "      <th>1</th>\n",
       "      <td>customer_review_2</td>\n",
       "      <td>I love these boots and these are my 2nd pair. ...</td>\n",
       "      <td>201</td>\n",
       "    </tr>\n",
       "    <tr>\n",
       "      <th>2</th>\n",
       "      <td>customer_review_3</td>\n",
       "      <td>I read many reviews regarding the brown ones a...</td>\n",
       "      <td>201</td>\n",
       "    </tr>\n",
       "  </tbody>\n",
       "</table>\n",
       "</div>"
      ],
      "text/plain": [
       "             task_id                                        review_text  \\\n",
       "0  customer_review_1  I'll give it 3 stars only because they were on...   \n",
       "1  customer_review_2  I love these boots and these are my 2nd pair. ...   \n",
       "2  customer_review_3  I read many reviews regarding the brown ones a...   \n",
       "\n",
       "   status_codes  \n",
       "0           201  \n",
       "1           201  \n",
       "2           201  "
      ]
     },
     "execution_count": 16,
     "metadata": {},
     "output_type": "execute_result"
    }
   ],
   "source": [
    "data"
   ]
  },
  {
   "cell_type": "markdown",
   "metadata": {},
   "source": [
    "We'll call get_task periodically until all of the Tasks reach the \"completed\" state."
   ]
  },
  {
   "cell_type": "code",
   "execution_count": 18,
   "metadata": {},
   "outputs": [
    {
     "name": "stdout",
     "output_type": "stream",
     "text": [
      "GET response: {'status_code': 200, 'task': {'input': {'text': \"I'll give it 3 stars only because they were only worth the price I got them for $38 for the size 6. I'm glad I didn't pay more than that. I'm afraid these boots will probably not last more than 1 season. The boot/shaft part looks very nice and good quality but the foot part fits and looks so cheap. The leather seems like it's going to crack/peel very quickly. I will wear them until they give out.\"}, 'problemDetails': None, 'result': {'sentiment': 'neutral'}, 'state': 'completed', 'taskName': 'customer_review_1'}}\n",
      "GET response: {'status_code': 200, 'task': {'input': {'text': 'I love these boots and these are my 2nd pair. However, I doubt I will buy them again. They look AMAZING. They are absolutely COMFORTABLE. But after 1 season they are so worn down you would think i had it for years. They are very cheaply made and the material is awful. I wish I could find the same \"look\" made with quality materials for a similar price..wishful thinking!'}, 'problemDetails': None, 'result': {'sentiment': 'positive'}, 'state': 'completed', 'taskName': 'customer_review_2'}}\n",
      "GET response: {'status_code': 200, 'task': {'input': {'text': \"I read many reviews regarding the brown ones and their lack of quality, however, I have them in black and grey and LOVE them. Well, I should have heeded the advice given on the brown. I got them for Christmas 2016, so maybe 9 weeks ago and they are falling apart. I think I've worn them a total of 10 times.\"}, 'problemDetails': None, 'result': {'sentiment': 'positive'}, 'state': 'completed', 'taskName': 'customer_review_3'}}\n"
     ]
    }
   ],
   "source": [
    "# loop through the rows and get results, store the state and results in new columns\n",
    "\n",
    "status_codes = []\n",
    "responses = []\n",
    "for index, row in data.iterrows():\n",
    "    get_result = crowd_client.get_task(function_name, row.task_id)\n",
    "    status_codes.append(get_result.status_code)\n",
    "    responses.append(get_result.json())"
   ]
  },
  {
   "cell_type": "code",
   "execution_count": 19,
   "metadata": {
    "collapsed": true
   },
   "outputs": [],
   "source": [
    "data['status_codes'] = status_codes\n",
    "data['state'] = [r['state'] for r in responses]\n",
    "data['problem_details'] = [r['problemDetails'] for r in responses]\n",
    "data['sentiment'] = [r['result']['sentiment'] for r in responses]"
   ]
  },
  {
   "cell_type": "code",
   "execution_count": 20,
   "metadata": {},
   "outputs": [
    {
     "data": {
      "text/html": [
       "<div>\n",
       "<style>\n",
       "    .dataframe thead tr:only-child th {\n",
       "        text-align: right;\n",
       "    }\n",
       "\n",
       "    .dataframe thead th {\n",
       "        text-align: left;\n",
       "    }\n",
       "\n",
       "    .dataframe tbody tr th {\n",
       "        vertical-align: top;\n",
       "    }\n",
       "</style>\n",
       "<table border=\"1\" class=\"dataframe\">\n",
       "  <thead>\n",
       "    <tr style=\"text-align: right;\">\n",
       "      <th></th>\n",
       "      <th>task_id</th>\n",
       "      <th>review_text</th>\n",
       "      <th>status_codes</th>\n",
       "      <th>state</th>\n",
       "      <th>problem_details</th>\n",
       "      <th>sentiment</th>\n",
       "    </tr>\n",
       "  </thead>\n",
       "  <tbody>\n",
       "    <tr>\n",
       "      <th>0</th>\n",
       "      <td>customer_review_1</td>\n",
       "      <td>I'll give it 3 stars only because they were on...</td>\n",
       "      <td>200</td>\n",
       "      <td>completed</td>\n",
       "      <td>None</td>\n",
       "      <td>neutral</td>\n",
       "    </tr>\n",
       "    <tr>\n",
       "      <th>1</th>\n",
       "      <td>customer_review_2</td>\n",
       "      <td>I love these boots and these are my 2nd pair. ...</td>\n",
       "      <td>200</td>\n",
       "      <td>completed</td>\n",
       "      <td>None</td>\n",
       "      <td>positive</td>\n",
       "    </tr>\n",
       "    <tr>\n",
       "      <th>2</th>\n",
       "      <td>customer_review_3</td>\n",
       "      <td>I read many reviews regarding the brown ones a...</td>\n",
       "      <td>200</td>\n",
       "      <td>completed</td>\n",
       "      <td>None</td>\n",
       "      <td>positive</td>\n",
       "    </tr>\n",
       "  </tbody>\n",
       "</table>\n",
       "</div>"
      ],
      "text/plain": [
       "             task_id                                        review_text  \\\n",
       "0  customer_review_1  I'll give it 3 stars only because they were on...   \n",
       "1  customer_review_2  I love these boots and these are my 2nd pair. ...   \n",
       "2  customer_review_3  I read many reviews regarding the brown ones a...   \n",
       "\n",
       "   status_codes      state problem_details sentiment  \n",
       "0           200  completed            None   neutral  \n",
       "1           200  completed            None  positive  \n",
       "2           200  completed            None  positive  "
      ]
     },
     "execution_count": 20,
     "metadata": {},
     "output_type": "execute_result"
    }
   ],
   "source": [
    "data"
   ]
  },
  {
   "cell_type": "markdown",
   "metadata": {},
   "source": [
    "## <a id='image-contains'>image-contains</a>"
   ]
  },
  {
   "cell_type": "markdown",
   "metadata": {},
   "source": [
    "Input: `{\"image\": {\"url\": \"https://www.mturk.com/media/butterbean.jpg\"}, \"target\": {\"label\": \"dog\"} }`\n",
    "\n",
    "Result: `{\"containsTarget\": true}`"
   ]
  },
  {
   "cell_type": "markdown",
   "metadata": {},
   "source": [
    "Internal Only: we ask 2 - 5 Workers to get agreement."
   ]
  },
  {
   "cell_type": "code",
   "execution_count": null,
   "metadata": {
    "collapsed": true
   },
   "outputs": [],
   "source": [
    "function_name = 'image-contains'"
   ]
  },
  {
   "cell_type": "markdown",
   "metadata": {},
   "source": [
    "### Create a Task"
   ]
  },
  {
   "cell_type": "code",
   "execution_count": null,
   "metadata": {
    "collapsed": true
   },
   "outputs": [],
   "source": [
    "# automatically generate a random task ID\n",
    "task_name = 'my-test-task-' + uuid.uuid4().hex\n",
    "print(task_name)"
   ]
  },
  {
   "cell_type": "code",
   "execution_count": null,
   "metadata": {
    "collapsed": true
   },
   "outputs": [],
   "source": [
    "# the URL of the image that you want annotated\n",
    "image_url = 'https://urbanedge.blogs.rice.edu/files/2016/02/midtown-15wd4ck.jpg'"
   ]
  },
  {
   "cell_type": "markdown",
   "metadata": {},
   "source": [
    "### The type of thing we're looking for"
   ]
  },
  {
   "cell_type": "code",
   "execution_count": null,
   "metadata": {
    "collapsed": true
   },
   "outputs": [],
   "source": [
    "label = 'Pedestrians'"
   ]
  },
  {
   "cell_type": "code",
   "execution_count": null,
   "metadata": {
    "collapsed": true
   },
   "outputs": [],
   "source": [
    "# create a single task with the input you specified above\n",
    "put_result = crowd_client.put_task(function_name,task_name,{'image': {'url': image_url}, 'target': {'label': label} })\n",
    "\n",
    "print('PUT response: {}'.format(\n",
    "    {'status_code': put_result.status_code, 'task': put_result.json()}))        "
   ]
  },
  {
   "cell_type": "markdown",
   "metadata": {},
   "source": [
    "### Get the result\n",
    "\n",
    "Wait a few minutes before calling get_task to give Workers a chance to submit answers"
   ]
  },
  {
   "cell_type": "code",
   "execution_count": null,
   "metadata": {
    "collapsed": true
   },
   "outputs": [],
   "source": [
    "get_result = crowd_client.get_task(function_name, task_name)\n",
    "\n",
    "print('GET response: {}'.format(\n",
    "{'status_code': get_result.status_code, 'task': get_result.json()}))"
   ]
  },
  {
   "cell_type": "markdown",
   "metadata": {},
   "source": [
    "## <a id='emotion-detection'>emotion-detection</a>\n",
    "\n",
    "This API determines the emotion of text.\n",
    "\n",
    "Input:{\"text\": \"First time ever winning all three fantasy leagues AND @Seahawks win!\"}\n",
    "Result: {\"emotion\": \"joy\"}\n",
    "\n",
    "emotion is one of Joy, Anger, Fear, Sadness, Surprise, Disgust, or Neutral\n",
    "\n",
    "Internal only: we ask up to 9 Workers to get agreement."
   ]
  },
  {
   "cell_type": "code",
   "execution_count": null,
   "metadata": {
    "collapsed": true
   },
   "outputs": [],
   "source": [
    "function_name = 'emotion-detection'"
   ]
  },
  {
   "cell_type": "markdown",
   "metadata": {},
   "source": [
    "### Create a Task"
   ]
  },
  {
   "cell_type": "code",
   "execution_count": null,
   "metadata": {
    "collapsed": true
   },
   "outputs": [],
   "source": [
    "# automatically generate a random task ID\n",
    "task_name = 'my-test-task-' + uuid.uuid4().hex\n",
    "print(task_name)"
   ]
  },
  {
   "cell_type": "code",
   "execution_count": null,
   "metadata": {
    "collapsed": true
   },
   "outputs": [],
   "source": [
    "# define the text that you want analyzed, up to 16k\n",
    "text = 'Just realised that I have #280characters so now I can finally tweet this: \"Daenerys Stormborn of the House Targaryen, First of Her Name, the Unburnt, Queen of the Andals and the First Men, Khaleesi of the Great Grass Sea, Breaker of Chains, and Mother of Dragons'"
   ]
  },
  {
   "cell_type": "code",
   "execution_count": null,
   "metadata": {
    "collapsed": true
   },
   "outputs": [],
   "source": [
    "# create a single task with the input you specified above\n",
    "put_result = crowd_client.put_task(function_name,\n",
    "                             task_name,\n",
    "                             {'text': text})\n",
    "print('PUT response: {}'.format(\n",
    "    {'status_code': put_result.status_code, 'task': put_result.json()}))"
   ]
  },
  {
   "cell_type": "markdown",
   "metadata": {},
   "source": [
    "### Get the result\n",
    "\n",
    "Wait a few minutes before calling get_task to give Workers a chance to submit answers"
   ]
  },
  {
   "cell_type": "code",
   "execution_count": null,
   "metadata": {
    "collapsed": true
   },
   "outputs": [],
   "source": [
    "get_result = crowd_client.get_task(function_name, task_name)\n",
    "\n",
    "print('GET response: {}'.format(                     \n",
    "    {'status_code': get_result.status_code, 'task': get_result.json()}))"
   ]
  },
  {
   "cell_type": "markdown",
   "metadata": {},
   "source": [
    "## <a id=semantic-similarity>semantic-similarity</a>\n",
    "\n",
    "Compare two text documents and rate them on how similar they are, on a scale between 0 and 1 where 1 is very similar.\n",
    "\n",
    "Input: {\"text1\": \"The sky is blue.\", \"text2\": \"The sky was the color of blue.\"}\n",
    "Result: {\"similarityScore\": 0.75}"
   ]
  },
  {
   "cell_type": "code",
   "execution_count": null,
   "metadata": {
    "collapsed": true
   },
   "outputs": [],
   "source": [
    "function_name = 'semantic-similarity'"
   ]
  },
  {
   "cell_type": "markdown",
   "metadata": {},
   "source": [
    "### Create a Task"
   ]
  },
  {
   "cell_type": "code",
   "execution_count": null,
   "metadata": {
    "collapsed": true
   },
   "outputs": [],
   "source": [
    "# automatically generate a random task ID\n",
    "task_name = 'my-test-task-' + uuid.uuid4().hex\n",
    "print(task_name)"
   ]
  },
  {
   "cell_type": "code",
   "execution_count": null,
   "metadata": {
    "collapsed": true
   },
   "outputs": [],
   "source": [
    "# define the text that you want analyzed, up to 16k\n",
    "text1 = 'I\\'m so hungry I could eat a horse'\n",
    "text2 = 'I\\'m hangry'"
   ]
  },
  {
   "cell_type": "code",
   "execution_count": null,
   "metadata": {
    "collapsed": true
   },
   "outputs": [],
   "source": [
    "#create a single task with the input you specified above\n",
    "put_result = crowd_client.put_task(function_name,\n",
    "                             task_name,\n",
    "                             {'text1': text1, 'text2': text2})\n",
    "print('PUT response: {}'.format(\n",
    "    {'status_code': put_result.status_code, 'task': put_result.json()}))"
   ]
  },
  {
   "cell_type": "markdown",
   "metadata": {},
   "source": [
    "### Get the result\n",
    "\n",
    "Wait a few minutes before calling get_task to give Workers a chance to submit answers"
   ]
  },
  {
   "cell_type": "code",
   "execution_count": null,
   "metadata": {
    "collapsed": true
   },
   "outputs": [],
   "source": [
    "get_result = crowd_client.get_task(function_name, task_name)\n",
    "\n",
    "print('GET response: {}'.format(                     \n",
    "    {'status_code': get_result.status_code, 'task': get_result.json()}))"
   ]
  },
  {
   "cell_type": "markdown",
   "metadata": {},
   "source": [
    "## <a id='collect-utterance-text'>collect-utterance-text</a>\n",
    "\n",
    "Given a context and an intention, provide what you would say, in text, in that situation.\n",
    "\n",
    "input: {\"context\": \"Someone recently bought a phone and it doesn't work\", \"intent\": \"They want to return a phone\"}'\n",
    "result: {\"utterance\": \"The phone that I just bought stopped working.  I want to get a refund\"}\n",
    "\n",
    "Internal only: We ask only 1 Worker for each task.\n"
   ]
  },
  {
   "cell_type": "code",
   "execution_count": 6,
   "metadata": {},
   "outputs": [],
   "source": [
    "function_name = 'collect-utterance-text'"
   ]
  },
  {
   "cell_type": "markdown",
   "metadata": {},
   "source": [
    "### Create a Task"
   ]
  },
  {
   "cell_type": "code",
   "execution_count": 7,
   "metadata": {},
   "outputs": [
    {
     "name": "stdout",
     "output_type": "stream",
     "text": [
      "my-test-task-7d7d7ca4827d44b6ac6d8d3ae9bf089d\n"
     ]
    }
   ],
   "source": [
    "# automatically generate a random task ID\n",
    "task_name = 'my-test-task-' + uuid.uuid4().hex\n",
    "print(task_name)"
   ]
  },
  {
   "cell_type": "code",
   "execution_count": null,
   "metadata": {
    "collapsed": true
   },
   "outputs": [],
   "source": [
    "# provide the context and the intent\n",
    "context = 'Someone is calling their doctor\\'s office'\n",
    "intent = 'I want to change an existing appointment'"
   ]
  },
  {
   "cell_type": "code",
   "execution_count": null,
   "metadata": {
    "collapsed": true
   },
   "outputs": [],
   "source": [
    "#create a single task with the input you specified above\n",
    "put_result = crowd_client.put_task(function_name,\n",
    "                             task_name,\n",
    "                             {'context': context, 'intent': intent})\n",
    "print('PUT response: {}'.format(\n",
    "    {'status_code': put_result.status_code, 'task': put_result.json()}))"
   ]
  },
  {
   "cell_type": "markdown",
   "metadata": {},
   "source": [
    "### Get the result\n",
    "\n",
    "Wait a few minutes before calling get_task to give Workers a chance to submit answers"
   ]
  },
  {
   "cell_type": "code",
   "execution_count": 19,
   "metadata": {},
   "outputs": [
    {
     "name": "stdout",
     "output_type": "stream",
     "text": [
      "GET response: {'status_code': 200, 'task': {'input': {'context': 'They recieved a bill that is higher than expected', 'intent': 'They want to get bill reduced to expected amount'}, 'problemDetails': None, 'result': None, 'state': 'processing', 'taskName': 'my-test-task-d89398e187ad4847ab677855efa4fbaa'}}\n"
     ]
    }
   ],
   "source": [
    "get_result = crowd_client.get_task('collect-utterance-text', 'my-test-task-d89398e187ad4847ab677855efa4fbaa')\n",
    "\n",
    "print('GET response: {}'.format(                     \n",
    "    {'status_code': get_result.status_code, 'task': get_result.json()}))"
   ]
  },
  {
   "cell_type": "markdown",
   "metadata": {},
   "source": [
    "## <a id='image-categorization'>image-categorization</a>\n",
    "\n",
    "Given an image URL and a list of categories, determine which category the image best belongs to.\n",
    "\n",
    "Input: {\"image\":{\"url\": \"https://requester.mturk.com/assets/simon.jpg\"},\"categories\": “categories”: [{“label”: “Plant”}, {“label”:”Animal”}, {“label”:”Bacteria”}, {“label”:”Fungi”}, {“label”:”Protists”}]\n",
    "\n",
    "Result: {\"category\":\"Animal\"} "
   ]
  },
  {
   "cell_type": "code",
   "execution_count": null,
   "metadata": {
    "collapsed": true
   },
   "outputs": [],
   "source": [
    "function_name = 'image-categorization'"
   ]
  },
  {
   "cell_type": "markdown",
   "metadata": {},
   "source": [
    "### Create a Task"
   ]
  },
  {
   "cell_type": "code",
   "execution_count": null,
   "metadata": {
    "collapsed": true
   },
   "outputs": [],
   "source": [
    "# automatically generate a random task ID\n",
    "task_name = 'my-test-task-' + uuid.uuid4().hex\n",
    "print(task_name)"
   ]
  },
  {
   "cell_type": "code",
   "execution_count": null,
   "metadata": {
    "collapsed": true
   },
   "outputs": [],
   "source": [
    "# provide the context and the intent\n",
    "image_url = 'https://www.abebooks.com/images/books/harry-potter/sorcerers-stone.jpg'\n",
    "categories =  [{'label': 'Hardcover'}, {'label':'Paperback'}, {'label':'eBook'}, {'label':'Audio Book'}]"
   ]
  },
  {
   "cell_type": "code",
   "execution_count": null,
   "metadata": {
    "collapsed": true
   },
   "outputs": [],
   "source": [
    "#create a single task with the input you specified above\n",
    "put_result = crowd_client.put_task(function_name,\n",
    "                             task_name,\n",
    "                            {'image': {'url': image_url},\n",
    "                            'categories': categories})\n",
    "print('PUT response: {}'.format(\n",
    "    {'status_code': put_result.status_code, 'task': put_result.json()}))"
   ]
  },
  {
   "cell_type": "markdown",
   "metadata": {},
   "source": [
    "### Get the result\n",
    "\n",
    "Wait a few minutes before calling get_task to give Workers a chance to submit answers"
   ]
  },
  {
   "cell_type": "code",
   "execution_count": null,
   "metadata": {
    "collapsed": true
   },
   "outputs": [],
   "source": [
    "get_result = crowd_client.get_task(function_name, task_name)\n",
    "\n",
    "print('GET response: {}'.format(                     \n",
    "    {'status_code': get_result.status_code, 'task': get_result.json()}))"
   ]
  },
  {
   "cell_type": "markdown",
   "metadata": {},
   "source": [
    "## <a id='bounding-box'> bounding-box </a>"
   ]
  },
  {
   "cell_type": "markdown",
   "metadata": {},
   "source": [
    "Given an image, draw a box around particular objects, specified by labels.\n",
    "\n",
    "input: {\"image\": {\"url\": \"https://sierra-videos.s3.amazonaws.com/2017_0521/DJI_0001_frames_720h/1495411174030000000.jpg\"}, \"labels\": [{\"label\": \"car\"}, {\"label\": \"pedestrians\"}]}\n",
    "\n",
    "result: "
   ]
  },
  {
   "cell_type": "code",
   "execution_count": 13,
   "metadata": {},
   "outputs": [],
   "source": [
    "function_name = 'bounding-box'"
   ]
  },
  {
   "cell_type": "markdown",
   "metadata": {},
   "source": [
    "### Create a Task"
   ]
  },
  {
   "cell_type": "code",
   "execution_count": 14,
   "metadata": {},
   "outputs": [
    {
     "name": "stdout",
     "output_type": "stream",
     "text": [
      "my-test-task-b7e19cf572814b0fb8e447bd8ea1fe80\n"
     ]
    }
   ],
   "source": [
    "# automatically generate a random task ID\n",
    "task_name = 'my-test-task-' + uuid.uuid4().hex\n",
    "print(task_name)"
   ]
  },
  {
   "cell_type": "code",
   "execution_count": 15,
   "metadata": {},
   "outputs": [],
   "source": [
    "# provide the context and the intent\n",
    "image_url = 'https://sierra-videos.s3.amazonaws.com/2017_0521/DJI_0001_frames_720h/1495411174030000000.jpg'\n",
    "labels =  [{\"label\": \"car\"}, {\"label\": \"pedestrians\"}]"
   ]
  },
  {
   "cell_type": "code",
   "execution_count": 16,
   "metadata": {},
   "outputs": [
    {
     "name": "stdout",
     "output_type": "stream",
     "text": [
      "PUT response: {'status_code': 404, 'task': {'message': 'Not Found'}}\n"
     ]
    }
   ],
   "source": [
    "#create a single task with the input you specified above\n",
    "put_result = crowd_client.put_task(function_name,\n",
    "                             task_name,\n",
    "                            {'image': {'url': image_url},\n",
    "                            'labels': labels})\n",
    "print('PUT response: {}'.format(\n",
    "    {'status_code': put_result.status_code, 'task': put_result.json()}))"
   ]
  },
  {
   "cell_type": "markdown",
   "metadata": {},
   "source": [
    "### Get the result\n",
    "\n",
    "Wait a few minutes before calling get_task to give Workers a chance to submit answers"
   ]
  },
  {
   "cell_type": "code",
   "execution_count": null,
   "metadata": {
    "collapsed": true
   },
   "outputs": [],
   "source": [
    "get_result = crowd_client.get_task(function_name, task_name)\n",
    "\n",
    "print('GET response: {}'.format(                     \n",
    "    {'status_code': get_result.status_code, 'task': get_result.json()}))"
   ]
  }
 ],
 "metadata": {
  "kernelspec": {
   "display_name": "Python 3",
   "language": "python",
   "name": "python3"
  },
  "language_info": {
   "codemirror_mode": {
    "name": "ipython",
    "version": 3
   },
   "file_extension": ".py",
   "mimetype": "text/x-python",
   "name": "python",
   "nbconvert_exporter": "python",
   "pygments_lexer": "ipython3",
   "version": "3.6.3"
  }
 },
 "nbformat": 4,
 "nbformat_minor": 2
}
