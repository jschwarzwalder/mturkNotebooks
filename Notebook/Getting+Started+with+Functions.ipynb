{
 "cells": [
  {
   "cell_type": "markdown",
   "metadata": {},
   "source": [
    "# This Notebook enables you to call every Function in the MTurk Functions catalog"
   ]
  },
  {
   "cell_type": "markdown",
   "metadata": {},
   "source": [
    "### Prerequisites:\n",
    "1. You have [an MTurk Requester account and linked AWS account](https://medium.com/@mechanicalturk/setting-up-your-amazon-mechanical-turk-mturk-requester-account-and-aws-account-a316e2f6a156)\n",
    "2. You have [completed the account set up steps to call AmazonMechanicalTurk and AmazonMechanicalTurkCrowd](https://medium.com/@mechanicalturk/setting-up-your-amazon-mechanical-turk-and-aws-accounts-to-call-a-preview-api-59ade8beafd1)\n",
    "3. You have configured a local AWS profile to call MTurk with the user you set up in step 2\n",
    "4. You have [prepaid for HITs in your MTurk Requester account](https://requester.mturk.com/prepayments/new) to cover paying for Worker rewards (suggested amount to start is $5.00)\n",
    "\n",
    "\n"
   ]
  },
  {
   "cell_type": "markdown",
   "metadata": {},
   "source": [
    "### If you haven't done so, install the mturk-crowd-beta Python client"
   ]
  },
  {
   "cell_type": "code",
   "execution_count": null,
   "metadata": {
    "collapsed": true
   },
   "outputs": [],
   "source": [
    "!pip install --upgrade mturk-crowd-beta-client --ignore-installed six"
   ]
  },
  {
   "cell_type": "markdown",
   "metadata": {},
   "source": [
    "## Next we will import the packages we need to use the API\n",
    "You'll need to do this before calling any Function API"
   ]
  },
  {
   "cell_type": "code",
   "execution_count": null,
   "metadata": {
    "collapsed": true
   },
   "outputs": [],
   "source": [
    "from mturk_crowd_beta_client import MTurkCrowdClient\n",
    "from boto3.session import Session\n",
    "import uuid"
   ]
  },
  {
   "cell_type": "markdown",
   "metadata": {},
   "source": [
    "## Next we set up a session\n",
    "\n",
    "This examples assume you have a local AWS profile named __'mturk-crowd-caller'__, but you can authenticate however you like, including by directly passing in your access key and secret key.  The access key and secret key are for the User you created during setup with the policies AmazonMechanicalTurkFullAccess and AmazonMechanicalTurkCrowdFullAccess."
   ]
  },
  {
   "cell_type": "code",
   "execution_count": null,
   "metadata": {
    "collapsed": true
   },
   "outputs": [],
   "source": [
    "session = Session(profile_name='mturk-crowd-caller')\n",
    "\n",
    "crowd_client = MTurkCrowdClient(session)"
   ]
  },
  {
   "cell_type": "markdown",
   "metadata": {},
   "source": [
    "## Available APIs:\n",
    "\n",
    "* [sentiment-analysis](#sentiment-analysis)\n",
    "* [image-contains](#image-contains)\n",
    "* [emotion-detection](#emotion-detection)\n",
    "* [semantic-similarity](#semantic-similarity)\n",
    "* [collect-utterance-text](#collect-utterance-text)\n",
    "* [image-categorization](#image-categorization)\n",
    "* [text-categorization](#text-categorization)\n",
    "* [image-similarity](#image-similarity)"
   ]
  },
  {
   "cell_type": "markdown",
   "metadata": {},
   "source": [
    "## <a id='sentiment-analysis'>sentiment-analysis</a>"
   ]
  },
  {
   "cell_type": "markdown",
   "metadata": {},
   "source": [
    "Input:\n",
    "{\n",
    " \"text\": \"Everything is wonderful!\"\n",
    "}\n",
    "\n",
    "max length of the input text is 400 characters\n",
    "\n",
    "Result: {'sentiment': 'positive'}\n",
    "\n",
    "sentiment is one of positive, negative, neutral or cannot determine.  We ask up to 5 Workers until 2 of them agree on the answer.\n"
   ]
  },
  {
   "cell_type": "markdown",
   "metadata": {},
   "source": [
    "When you create a Task using the sentiment-analysis API, you're automatically creating a Human Intelligence Task (HIT) on worker.mturk.com.  Here's an example of a sentiment analysis HIT."
   ]
  },
  {
   "cell_type": "markdown",
   "metadata": {},
   "source": [
    "![sentiment-analysis-HIT-example](https://s3-us-west-2.amazonaws.com/mturk-sample-tasks/sentiment-analysis-HIT-example.png)"
   ]
  },
  {
   "cell_type": "markdown",
   "metadata": {},
   "source": [
    "### Create a Task"
   ]
  },
  {
   "cell_type": "code",
   "execution_count": null,
   "metadata": {
    "collapsed": true
   },
   "outputs": [],
   "source": [
    "#set the function_name to the name of the API\n",
    "function_name = 'sentiment-analysis'"
   ]
  },
  {
   "cell_type": "code",
   "execution_count": null,
   "metadata": {
    "collapsed": true
   },
   "outputs": [],
   "source": [
    "# automatically generate a random task ID\n",
    "task_name = 'my-test-task-' + uuid.uuid4().hex\n",
    "print(task_name)"
   ]
  },
  {
   "cell_type": "code",
   "execution_count": null,
   "metadata": {
    "collapsed": true
   },
   "outputs": [],
   "source": [
    "# define the text that you want analyzed, up to 16k\n",
    "text = 'The trip by @VP Pence was long planned. He is receiving great praise for leaving game after the players showed such disrespect for country!'"
   ]
  },
  {
   "cell_type": "code",
   "execution_count": null,
   "metadata": {
    "collapsed": true
   },
   "outputs": [],
   "source": [
    "# create a single task with the input you specified above\n",
    "put_result = crowd_client.put_task(function_name,\n",
    "                             task_name,\n",
    "                             {'text': text})\n",
    "print('PUT response: {}'.format(\n",
    "    {'status_code': put_result.status_code, 'task': put_result.json()}))"
   ]
  },
  {
   "cell_type": "markdown",
   "metadata": {},
   "source": [
    "### Get the result\n",
    "\n",
    "Wait a few minutes before calling get_task to give Workers a chance to submit answers"
   ]
  },
  {
   "cell_type": "code",
   "execution_count": null,
   "metadata": {
    "collapsed": true
   },
   "outputs": [],
   "source": [
    "get_result = crowd_client.get_task(function_name, task_name)\n",
    "\n",
    "print('GET response: {}'.format(                     \n",
    "    {'status_code': get_result.status_code, 'task': get_result.json()}))"
   ]
  },
  {
   "cell_type": "markdown",
   "metadata": {},
   "source": [
    "### Creating multiple Tasks and Processing Results \n",
    "\n",
    "Next, we'll read from a CSV file that has multiple rows of text that needs to be analyzed for sentiment using the pandas library.  As a prerequisite you need to have installed the pandas library."
   ]
  },
  {
   "cell_type": "code",
   "execution_count": null,
   "metadata": {
    "collapsed": true
   },
   "outputs": [],
   "source": [
    "import pandas as pd"
   ]
  },
  {
   "cell_type": "code",
   "execution_count": null,
   "metadata": {
    "collapsed": true
   },
   "outputs": [],
   "source": [
    "#read the input data from csv into a pandas DataFrame\n",
    "data = pd.read_csv('https://s3-us-west-2.amazonaws.com/mturk-sample-datasets/sentiment-analysis-example-inputs.csv')"
   ]
  },
  {
   "cell_type": "code",
   "execution_count": null,
   "metadata": {
    "collapsed": true
   },
   "outputs": [],
   "source": [
    "# column 1 is the Task ID and column2 is the input data\n",
    "data"
   ]
  },
  {
   "cell_type": "code",
   "execution_count": null,
   "metadata": {
    "collapsed": true
   },
   "outputs": [],
   "source": [
    "#loop through the rows and create a Task per row, write the put_task status in a new column\n",
    "status_codes = []\n",
    "for index, row in data.iterrows():\n",
    "    put_result = crowd_client.put_task(function_name, row.task_id,{'text': row.review_text})\n",
    "    status_codes.append(put_result.status_code)\n",
    "data['status_codes'] = status_codes"
   ]
  },
  {
   "cell_type": "code",
   "execution_count": null,
   "metadata": {
    "collapsed": true
   },
   "outputs": [],
   "source": [
    "data"
   ]
  },
  {
   "cell_type": "markdown",
   "metadata": {},
   "source": [
    "We'll call get_task periodically until all of the Tasks reach the \"completed\" state."
   ]
  },
  {
   "cell_type": "code",
   "execution_count": null,
   "metadata": {
    "collapsed": true
   },
   "outputs": [],
   "source": [
    "# loop through the rows and get results, store the state and results in new columns\n",
    "\n",
    "status_codes = []\n",
    "responses = []\n",
    "for index, row in data.iterrows():\n",
    "    get_result = crowd_client.get_task(function_name, row.task_id)\n",
    "    status_codes.append(get_result.status_code)\n",
    "    responses.append(get_result.json())"
   ]
  },
  {
   "cell_type": "code",
   "execution_count": null,
   "metadata": {
    "collapsed": true
   },
   "outputs": [],
   "source": [
    "data['status_codes'] = status_codes\n",
    "data['state'] = [r['state'] for r in responses]\n",
    "data['problem_details'] = [r['problemDetails'] for r in responses]\n",
    "data['sentiment'] = [r['result']['sentiment'] for r in responses]"
   ]
  },
  {
   "cell_type": "code",
   "execution_count": null,
   "metadata": {
    "collapsed": true
   },
   "outputs": [],
   "source": [
    "data"
   ]
  },
  {
   "cell_type": "markdown",
   "metadata": {},
   "source": [
    "## <a id='image-contains'>image-contains</a>"
   ]
  },
  {
   "cell_type": "markdown",
   "metadata": {},
   "source": [
    "Input: `{\"image\": {\"url\": \"https://www.mturk.com/media/butterbean.jpg\"}, \"target\": {\"label\": \"dog\"} }`\n",
    "\n",
    "Result: `{\"containsTarget\": true}`"
   ]
  },
  {
   "cell_type": "markdown",
   "metadata": {},
   "source": [
    "Internal Only: we ask 2 - 5 Workers to get agreement."
   ]
  },
  {
   "cell_type": "code",
   "execution_count": null,
   "metadata": {
    "collapsed": true
   },
   "outputs": [],
   "source": [
    "function_name = 'image-contains'"
   ]
  },
  {
   "cell_type": "markdown",
   "metadata": {},
   "source": [
    "### Create a Task"
   ]
  },
  {
   "cell_type": "code",
   "execution_count": null,
   "metadata": {
    "collapsed": true
   },
   "outputs": [],
   "source": [
    "# automatically generate a random task ID\n",
    "task_name = 'my-test-task-' + uuid.uuid4().hex\n",
    "print(task_name)"
   ]
  },
  {
   "cell_type": "code",
   "execution_count": null,
   "metadata": {
    "collapsed": true
   },
   "outputs": [],
   "source": [
    "# the URL of the image that you want annotated\n",
    "image_url = 'https://urbanedge.blogs.rice.edu/files/2016/02/midtown-15wd4ck.jpg'"
   ]
  },
  {
   "cell_type": "markdown",
   "metadata": {},
   "source": [
    "### The type of thing we're looking for"
   ]
  },
  {
   "cell_type": "code",
   "execution_count": null,
   "metadata": {
    "collapsed": true
   },
   "outputs": [],
   "source": [
    "label = 'Pedestrians'"
   ]
  },
  {
   "cell_type": "code",
   "execution_count": null,
   "metadata": {
    "collapsed": true
   },
   "outputs": [],
   "source": [
    "# create a single task with the input you specified above\n",
    "put_result = crowd_client.put_task(function_name,task_name,{'image': {'url': image_url}, 'target': {'label': label} })\n",
    "\n",
    "print('PUT response: {}'.format(\n",
    "    {'status_code': put_result.status_code, 'task': put_result.json()}))        "
   ]
  },
  {
   "cell_type": "markdown",
   "metadata": {},
   "source": [
    "### Get the result\n",
    "\n",
    "Wait a few minutes before calling get_task to give Workers a chance to submit answers"
   ]
  },
  {
   "cell_type": "code",
   "execution_count": null,
   "metadata": {
    "collapsed": true
   },
   "outputs": [],
   "source": [
    "get_result = crowd_client.get_task(function_name, task_name)\n",
    "\n",
    "print('GET response: {}'.format(\n",
    "{'status_code': get_result.status_code, 'task': get_result.json()}))"
   ]
  },
  {
   "cell_type": "markdown",
   "metadata": {},
   "source": [
    "## <a id='emotion-detection'>emotion-detection</a>\n",
    "\n",
    "This API determines the emotion of text.\n",
    "\n",
    "Input:{\"text\": \"First time ever winning all three fantasy leagues AND @Seahawks win!\"}\n",
    "Result: {\"emotion\": \"joy\"}\n",
    "\n",
    "emotion is one of Joy, Anger, Fear, Sadness, Surprise, Disgust, or Neutral\n",
    "\n",
    "Internal only: we ask up to 9 Workers to get agreement."
   ]
  },
  {
   "cell_type": "code",
   "execution_count": null,
   "metadata": {
    "collapsed": true
   },
   "outputs": [],
   "source": [
    "function_name = 'emotion-detection'"
   ]
  },
  {
   "cell_type": "markdown",
   "metadata": {},
   "source": [
    "### Create a Task"
   ]
  },
  {
   "cell_type": "code",
   "execution_count": null,
   "metadata": {
    "collapsed": true
   },
   "outputs": [],
   "source": [
    "# automatically generate a random task ID\n",
    "task_name = 'my-test-task-' + uuid.uuid4().hex\n",
    "print(task_name)"
   ]
  },
  {
   "cell_type": "code",
   "execution_count": null,
   "metadata": {
    "collapsed": true
   },
   "outputs": [],
   "source": [
    "# define the text that you want analyzed, up to 16k\n",
    "text = 'Just realised that I have #280characters so now I can finally tweet this: \"Daenerys Stormborn of the House Targaryen, First of Her Name, the Unburnt, Queen of the Andals and the First Men, Khaleesi of the Great Grass Sea, Breaker of Chains, and Mother of Dragons'"
   ]
  },
  {
   "cell_type": "code",
   "execution_count": null,
   "metadata": {
    "collapsed": true
   },
   "outputs": [],
   "source": [
    "# create a single task with the input you specified above\n",
    "put_result = crowd_client.put_task(function_name,\n",
    "                             task_name,\n",
    "                             {'text': text})\n",
    "print('PUT response: {}'.format(\n",
    "    {'status_code': put_result.status_code, 'task': put_result.json()}))"
   ]
  },
  {
   "cell_type": "markdown",
   "metadata": {},
   "source": [
    "### Get the result\n",
    "\n",
    "Wait a few minutes before calling get_task to give Workers a chance to submit answers"
   ]
  },
  {
   "cell_type": "code",
   "execution_count": null,
   "metadata": {
    "collapsed": true
   },
   "outputs": [],
   "source": [
    "get_result = crowd_client.get_task(function_name, task_name)\n",
    "\n",
    "print('GET response: {}'.format(                     \n",
    "    {'status_code': get_result.status_code, 'task': get_result.json()}))"
   ]
  },
  {
   "cell_type": "markdown",
   "metadata": {},
   "source": [
    "## <a id=semantic-similarity>semantic-similarity</a>\n",
    "\n",
    "Compare two text documents and rate them on how similar they are, on a scale between 0 and 1 where 1 is very similar.\n",
    "\n",
    "Input: {\"text1\": \"The sky is blue.\", \"text2\": \"The sky was the color of blue.\"}\n",
    "Result: {\"similarityScore\": 0.75}"
   ]
  },
  {
   "cell_type": "code",
   "execution_count": null,
   "metadata": {
    "collapsed": true
   },
   "outputs": [],
   "source": [
    "function_name = 'semantic-similarity'"
   ]
  },
  {
   "cell_type": "markdown",
   "metadata": {},
   "source": [
    "### Create a Task"
   ]
  },
  {
   "cell_type": "code",
   "execution_count": null,
   "metadata": {
    "collapsed": true
   },
   "outputs": [],
   "source": [
    "# automatically generate a random task ID\n",
    "task_name = 'my-test-task-' + uuid.uuid4().hex\n",
    "print(task_name)"
   ]
  },
  {
   "cell_type": "code",
   "execution_count": null,
   "metadata": {
    "collapsed": true
   },
   "outputs": [],
   "source": [
    "# define the text that you want analyzed, up to 16k\n",
    "text1 = 'I\\'m so hungry I could eat a horse'\n",
    "text2 = 'I\\'m hangry'"
   ]
  },
  {
   "cell_type": "code",
   "execution_count": null,
   "metadata": {
    "collapsed": true
   },
   "outputs": [],
   "source": [
    "#create a single task with the input you specified above\n",
    "put_result = crowd_client.put_task(function_name,\n",
    "                             task_name,\n",
    "                             {'text1': text1, 'text2': text2})\n",
    "print('PUT response: {}'.format(\n",
    "    {'status_code': put_result.status_code, 'task': put_result.json()}))"
   ]
  },
  {
   "cell_type": "markdown",
   "metadata": {},
   "source": [
    "### Get the result\n",
    "\n",
    "Wait a few minutes before calling get_task to give Workers a chance to submit answers"
   ]
  },
  {
   "cell_type": "code",
   "execution_count": null,
   "metadata": {
    "collapsed": true
   },
   "outputs": [],
   "source": [
    "get_result = crowd_client.get_task(function_name, task_name)\n",
    "\n",
    "print('GET response: {}'.format(                     \n",
    "    {'status_code': get_result.status_code, 'task': get_result.json()}))"
   ]
  },
  {
   "cell_type": "markdown",
   "metadata": {},
   "source": [
    "### Creating multiple Tasks and Processing Results \n",
    "\n",
    "Next, we'll read from a CSV file that has multiple rows of text that needs to be analyzed for sentiment using the pandas library.  As a prerequisite you need to have installed the pandas library."
   ]
  },
  {
   "cell_type": "code",
   "execution_count": null,
   "metadata": {
    "collapsed": true
   },
   "outputs": [],
   "source": [
    "import pandas as pd"
   ]
  },
  {
   "cell_type": "code",
   "execution_count": null,
   "metadata": {
    "collapsed": true
   },
   "outputs": [],
   "source": [
    "#read the input data from csv into a pandas DataFrame\n",
    "data = pd.read_csv('https://s3-us-west-2.amazonaws.com/mturk-sample-datasets/semantic-similarity-example-inputs.csv')"
   ]
  },
  {
   "cell_type": "code",
   "execution_count": null,
   "metadata": {
    "collapsed": true
   },
   "outputs": [],
   "source": [
    "# column 1 is the Task ID and column2 is the input data\n",
    "data"
   ]
  },
  {
   "cell_type": "code",
   "execution_count": null,
   "metadata": {
    "collapsed": true
   },
   "outputs": [],
   "source": [
    "#loop through the rows and create a Task per row, write the put_task status in a new column\n",
    "status_codes = []\n",
    "for index, row in data.iterrows():\n",
    "    put_result = crowd_client.put_task(function_name, \n",
    "                                       row.task_id,\n",
    "                                        {'text1': row.review1, 'text2': row.review2})\n",
    "    # print('PUT response: {}'.format({'status_code': put_result.status_code, 'task': put_result.json()}))\n",
    "    status_codes.append(put_result.status_code)\n",
    "data['status_codes'] = status_codes"
   ]
  },
  {
   "cell_type": "code",
   "execution_count": null,
   "metadata": {
    "collapsed": true
   },
   "outputs": [],
   "source": [
    "data"
   ]
  },
  {
   "cell_type": "markdown",
   "metadata": {},
   "source": [
    "We'll call get_task periodically until all of the Tasks reach the \"completed\" state."
   ]
  },
  {
   "cell_type": "code",
   "execution_count": null,
   "metadata": {
    "collapsed": true
   },
   "outputs": [],
   "source": [
    "# loop through the rows and get results, store the state and results in new columns\n",
    "\n",
    "status_codes = []\n",
    "responses = []\n",
    "for index, row in data.iterrows():\n",
    "    get_result = crowd_client.get_task(function_name, row.task_id)\n",
    "   # print('GET response: {}'.format(                     \n",
    "   # {'status_code': get_result.status_code, 'task': get_result.json()}))\n",
    "    status_codes.append(get_result.status_code)\n",
    "    responses.append(get_result.json())"
   ]
  },
  {
   "cell_type": "code",
   "execution_count": null,
   "metadata": {
    "collapsed": true
   },
   "outputs": [],
   "source": [
    "data['status_codes'] = status_codes\n",
    "data['state'] = [r['state'] for r in responses]\n",
    "data['problem_details'] = [r['problemDetails'] for r in responses]\n",
    "data['similarityScore'] = [r['result']['similarityScore'] for r in responses]"
   ]
  },
  {
   "cell_type": "code",
   "execution_count": null,
   "metadata": {
    "collapsed": true
   },
   "outputs": [],
   "source": [
    "data"
   ]
  },
  {
   "cell_type": "markdown",
   "metadata": {},
   "source": [
    "## <a id='collect-utterance-text'>collect-utterance-text</a>\n",
    "\n",
    "Given a context and an intention, provide what you would say, in text, in that situation.\n",
    "\n",
    "input: {\"context\": \"Someone recently bought a phone and it doesn't work\", \"intent\": \"They want to return a phone\"}'\n",
    "result: {\"utterance\": \"The phone that I just bought stopped working.  I want to get a refund\"}\n",
    "\n",
    "Internal only: We ask only 1 Worker for each task.\n"
   ]
  },
  {
   "cell_type": "code",
   "execution_count": null,
   "metadata": {
    "collapsed": true
   },
   "outputs": [],
   "source": [
    "function_name = 'collect-utterance-text'"
   ]
  },
  {
   "cell_type": "markdown",
   "metadata": {},
   "source": [
    "### Create a Task"
   ]
  },
  {
   "cell_type": "code",
   "execution_count": null,
   "metadata": {
    "collapsed": true
   },
   "outputs": [],
   "source": [
    "# automatically generate a random task ID\n",
    "task_name = 'my-test-task-' + uuid.uuid4().hex\n",
    "print(task_name)"
   ]
  },
  {
   "cell_type": "code",
   "execution_count": null,
   "metadata": {
    "collapsed": true
   },
   "outputs": [],
   "source": [
    "# provide the context and the intent\n",
    "context = 'Someone is calling their doctor\\'s office'\n",
    "intent = 'I want to change an existing appointment'"
   ]
  },
  {
   "cell_type": "code",
   "execution_count": null,
   "metadata": {
    "collapsed": true
   },
   "outputs": [],
   "source": [
    "#create a single task with the input you specified above\n",
    "put_result = crowd_client.put_task(function_name,\n",
    "                             task_name,\n",
    "                             {'context': context, 'intent': intent})\n",
    "print('PUT response: {}'.format(\n",
    "    {'status_code': put_result.status_code, 'task': put_result.json()}))"
   ]
  },
  {
   "cell_type": "markdown",
   "metadata": {},
   "source": [
    "### Get the result\n",
    "\n",
    "Wait a few minutes before calling get_task to give Workers a chance to submit answers"
   ]
  },
  {
   "cell_type": "code",
   "execution_count": null,
   "metadata": {
    "collapsed": true
   },
   "outputs": [],
   "source": [
    "get_result = crowd_client.get_task(function_name, task_name)\n",
    "\n",
    "print('GET response: {}'.format(                     \n",
    "    {'status_code': get_result.status_code, 'task': get_result.json()}))"
   ]
  },
  {
   "cell_type": "markdown",
   "metadata": {},
   "source": [
    "## <a id='image-categorization'>image-categorization</a>\n",
    "\n",
    "Given an image URL and a list of categories, determine which category the image best belongs to.  You can provide a description for each category to futher explain what belongs in the category and what doesn't.\n",
    "\n",
    "Input: {\"image\":{\"url\": \"https://requester.mturk.com/assets/simon.jpg\"},\"categories\": “categories”: [{“label”: “Plant”}, {“label”:”Animal”}, {“label”:”Bacteria”}, {“label”:”Fungi”}, {“label”:”Protists”}]\n",
    "\n",
    "Result: {\"category\":\"Animal\"} "
   ]
  },
  {
   "cell_type": "markdown",
   "metadata": {},
   "source": [
    "![image-categorization-HIT-example](https://s3-us-west-2.amazonaws.com/mturk-sample-tasks/image-categorization-HIT-example.png)"
   ]
  },
  {
   "cell_type": "code",
   "execution_count": null,
   "metadata": {
    "collapsed": true
   },
   "outputs": [],
   "source": [
    "function_name = 'image-categorization'"
   ]
  },
  {
   "cell_type": "markdown",
   "metadata": {},
   "source": [
    "### Create a Task"
   ]
  },
  {
   "cell_type": "code",
   "execution_count": null,
   "metadata": {
    "collapsed": true
   },
   "outputs": [],
   "source": [
    "# automatically generate a random task ID\n",
    "task_name = 'my-test-task-' + uuid.uuid4().hex\n",
    "print(task_name)"
   ]
  },
  {
   "cell_type": "code",
   "execution_count": null,
   "metadata": {
    "collapsed": true
   },
   "outputs": [],
   "source": [
    "# provide the context and the intent\n",
    "image_url = 'https://www.abebooks.com/images/books/harry-potter/sorcerers-stone.jpg'\n",
    "categories =  [{'label': 'Hardcover', 'description': 'hardcover version'}, {'label':'Paperback', 'description': 'paperback version'}, {'label':'eBook', 'description': 'digital text version, including PDF, Kindle'}, {'label':'Audio Book', 'description': 'any audio version, including CD, mp3, streaming'}]"
   ]
  },
  {
   "cell_type": "code",
   "execution_count": null,
   "metadata": {
    "collapsed": true
   },
   "outputs": [],
   "source": [
    "#create a single task with the input you specified above\n",
    "put_result = crowd_client.put_task(function_name,\n",
    "                             task_name,\n",
    "                            {'image': {'url': image_url},\n",
    "                            'categories': categories})\n",
    "print('PUT response: {}'.format(\n",
    "    {'status_code': put_result.status_code, 'task': put_result.json()}))"
   ]
  },
  {
   "cell_type": "markdown",
   "metadata": {},
   "source": [
    "### Get the result\n",
    "\n",
    "Wait a few minutes before calling get_task to give Workers a chance to submit answers"
   ]
  },
  {
   "cell_type": "code",
   "execution_count": null,
   "metadata": {
    "collapsed": true
   },
   "outputs": [],
   "source": [
    "get_result = crowd_client.get_task(function_name, task_name)\n",
    "\n",
    "print('GET response: {}'.format(                     \n",
    "    {'status_code': get_result.status_code, 'task': get_result.json()}))"
   ]
  },
  {
   "cell_type": "markdown",
   "metadata": {},
   "source": [
    "## <a id=text-categorization>text-categorization</a>\n",
    "\n",
    "Given a piece of text and a list of categories, choose the best cateogry that fits the text.\n",
    "\n",
    "input: {\"text\": \"The Baltimore Ravens beat the Seattle Seahawks 24-7\", \"categories\": [{\"label\": \"sports\", \"description\": \"talks about sports\"}, {\"label\": \"food\", \"description\": \"talks about food\"}]}\n",
    "\n",
    "result: {'applicableCategories': [{'label': 'sports'}]}"
   ]
  },
  {
   "cell_type": "markdown",
   "metadata": {},
   "source": [
    "Here's an example of a HIT to MTurk Workers generated by calling this API\n",
    "![text-categorization-HIT-example](https://s3-us-west-2.amazonaws.com/mturk-sample-tasks/text-categorization-HIT-example.png)"
   ]
  },
  {
   "cell_type": "code",
   "execution_count": null,
   "metadata": {
    "collapsed": true
   },
   "outputs": [],
   "source": [
    "function_name = 'text-categorization'"
   ]
  },
  {
   "cell_type": "markdown",
   "metadata": {},
   "source": [
    "### Create a Task"
   ]
  },
  {
   "cell_type": "code",
   "execution_count": null,
   "metadata": {
    "collapsed": true
   },
   "outputs": [],
   "source": [
    "# automatically generate a random task ID\n",
    "task_name = 'my-test-task-' + uuid.uuid4().hex\n",
    "print(task_name)"
   ]
  },
  {
   "cell_type": "code",
   "execution_count": null,
   "metadata": {
    "collapsed": true
   },
   "outputs": [],
   "source": [
    "# define the text to be analysed and a list of categories to assess for\n",
    "text = 'These are great. They do run a touch small. I almost could go a half size up from my normal size.'\n",
    "categories =  [{'label': 'style', 'description': 'related to the look of the product'}, {'label': 'fit', 'description': 'related to the sizing or how it fits'}, {'label': 'quality', 'description': 'related to how well made the product is'}, {'label': 'price', 'description': 'related to cost or value of the product'}]"
   ]
  },
  {
   "cell_type": "code",
   "execution_count": null,
   "metadata": {
    "collapsed": true
   },
   "outputs": [],
   "source": [
    "# create a single task with the input you specified above\n",
    "put_result = crowd_client.put_task(function_name,\n",
    "                                   task_name,\n",
    "                                  {'text': text,\n",
    "                                  'categories': categories})\n",
    "print('PUT response: {}'.format(\n",
    "    {'status_code': put_result.status_code, 'task': put_result.json()}))"
   ]
  },
  {
   "cell_type": "markdown",
   "metadata": {},
   "source": [
    "### Get the result\n",
    "\n",
    "Wait a few minutes before calling get_task to give Workers a chance to submit answers"
   ]
  },
  {
   "cell_type": "code",
   "execution_count": null,
   "metadata": {
    "collapsed": true
   },
   "outputs": [],
   "source": [
    "get_result = crowd_client.get_task(function_name, task_name)\n",
    "\n",
    "print('GET response: {}'.format(                     \n",
    "    {'status_code': get_result.status_code, 'task': get_result.json()}))"
   ]
  },
  {
   "cell_type": "markdown",
   "metadata": {},
   "source": [
    "## <a id=image-similarity>image-similarity</a>\n",
    "This API takes in two images, specified by URL, and returns a score for how similar those two images are.  \n",
    "\n",
    "input: {'input': {'image1': {'url': 'https://s3-us-west-2.amazonaws.com/mturk-sample-media/images-to-compare/image-similarity-1a.png'}, 'image2': {'url': 'https://s3-us-west-2.amazonaws.com/mturk-sample-media/images-to-compare/image-similarity-1b.png'}}\n",
    "\n",
    "result: {'similarityScore': 0.75}\n",
    "\n",
    "Internal only:"
   ]
  },
  {
   "cell_type": "markdown",
   "metadata": {},
   "source": [
    "Here's an example of a HIT that's shown to Workers:\n",
    "![image-similarity-HIT-example](https://s3-us-west-2.amazonaws.com/mturk-sample-tasks/image-similarity-HIT-example.png)"
   ]
  },
  {
   "cell_type": "code",
   "execution_count": null,
   "metadata": {
    "collapsed": true
   },
   "outputs": [],
   "source": [
    "function_name = 'image-similarity'"
   ]
  },
  {
   "cell_type": "markdown",
   "metadata": {},
   "source": [
    "### Create a Task"
   ]
  },
  {
   "cell_type": "code",
   "execution_count": null,
   "metadata": {
    "collapsed": true
   },
   "outputs": [],
   "source": [
    "# automatically generate a random task ID\n",
    "task_name = 'my-test-task-' + uuid.uuid4().hex\n",
    "print(task_name)"
   ]
  },
  {
   "cell_type": "code",
   "execution_count": null,
   "metadata": {
    "collapsed": true
   },
   "outputs": [],
   "source": [
    "# the URLs of the images that you want to compare\n",
    "image_url_1 = 'https://s3-us-west-2.amazonaws.com/mturk-sample-media/images-to-compare/image-similarity-1a.png'\n",
    "image_url_2 = 'https://s3-us-west-2.amazonaws.com/mturk-sample-media/images-to-compare/image-similarity-1b.png'"
   ]
  },
  {
   "cell_type": "code",
   "execution_count": null,
   "metadata": {
    "collapsed": true
   },
   "outputs": [],
   "source": [
    "# create a single task with the input you specified above\n",
    "put_result = crowd_client.put_task(function_name,task_name,\n",
    "                                   {'image1': {'url': image_url_1},\n",
    "                                    'image2': {'url': image_url_2}})\n",
    "\n",
    "print('PUT response: {}'.format(\n",
    "    {'status_code': put_result.status_code, 'task': put_result.json()}))        "
   ]
  },
  {
   "cell_type": "markdown",
   "metadata": {},
   "source": [
    "### Get the result\n",
    "\n",
    "Wait a few minutes before calling get_task to give Workers a chance to submit answers"
   ]
  },
  {
   "cell_type": "code",
   "execution_count": null,
   "metadata": {
    "collapsed": true
   },
   "outputs": [],
   "source": [
    "get_result = crowd_client.get_task(function_name, task_name)\n",
    "\n",
    "print('GET response: {}'.format(                     \n",
    "    {'status_code': get_result.status_code, 'task': get_result.json()}))"
   ]
  }
 ],
 "metadata": {
  "kernelspec": {
   "display_name": "Python 3",
   "language": "python",
   "name": "python3"
  },
  "language_info": {
   "codemirror_mode": {
    "name": "ipython",
    "version": 3
   },
   "file_extension": ".py",
   "mimetype": "text/x-python",
   "name": "python",
   "nbconvert_exporter": "python",
   "pygments_lexer": "ipython3",
   "version": "3.6.3"
  }
 },
 "nbformat": 4,
 "nbformat_minor": 2
}
