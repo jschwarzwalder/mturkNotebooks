{
 "cells": [
  {
   "cell_type": "markdown",
   "metadata": {},
   "source": [
    "# This Notebook enables you to call every Function in the MTurk Functions catalog"
   ]
  },
  {
   "cell_type": "markdown",
   "metadata": {},
   "source": [
    "### Prerequisites:\n",
    "1. You have [an MTurk Requester account and linked AWS account](https://medium.com/@mechanicalturk/setting-up-your-amazon-mechanical-turk-mturk-requester-account-and-aws-account-a316e2f6a156)\n",
    "2. You have [completed the account set up steps to call AmazonMechanicalTurk and AmazonMechanicalTurkCrowd](https://medium.com/@mechanicalturk/setting-up-your-amazon-mechanical-turk-and-aws-accounts-to-call-a-preview-api-59ade8beafd1)\n",
    "3. You have configured a local AWS profile to call MTurk with the user you set up in step 2\n",
    "4. You have [prepaid for HITs in your MTurk Requester account](https://requester.mturk.com/prepayments/new) to cover paying for Worker rewards (suggested amount to start is $5.00)"
   ]
  },
  {
   "cell_type": "markdown",
   "metadata": {},
   "source": [
    "### If you haven't done so, install the mturk-crowd-beta Python client"
   ]
  },
  {
   "cell_type": "code",
   "execution_count": null,
   "metadata": {
    "collapsed": true
   },
   "outputs": [],
   "source": [
    "!pip install --upgrade mturk-crowd-beta-client --ignore-installed six"
   ]
  },
  {
   "cell_type": "markdown",
   "metadata": {},
   "source": [
    "## Next we will import the packages we need to use the API\n",
    "You'll need to do this before calling any API"
   ]
  },
  {
   "cell_type": "code",
   "execution_count": null,
   "metadata": {
    "collapsed": true
   },
   "outputs": [],
   "source": [
    "from mturk_crowd_beta_client import MTurkCrowdClient\n",
    "from boto3.session import Session\n",
    "import uuid"
   ]
  },
  {
   "cell_type": "markdown",
   "metadata": {},
   "source": [
    "## Next we set up a session\n",
    "\n",
    "This examples assume you have a local AWS profile named __'mturk-crowd-caller'__, but you can authenticate however you like, including by directly passing in your access key and secret key.  The access key and secret key are for the User you created during setup with the policies AmazonMechanicalTurkFullAccess and AmazonMechanicalTurkCrowdFullAccess."
   ]
  },
  {
   "cell_type": "code",
   "execution_count": null,
   "metadata": {
    "collapsed": true
   },
   "outputs": [],
   "source": [
    "session = Session(profile_name='mturk-crowd-caller')\n",
    "\n",
    "crowd_client = MTurkCrowdClient(session)"
   ]
  },
  {
   "cell_type": "markdown",
   "metadata": {},
   "source": [
    "## Available APIs:\n",
    "\n",
    "* [sentiment-analysis](#sentiment-analysis)\n",
    "* [image-contains](#image-contains)\n",
    "* [emotion-detection](#emotion-detection)\n",
    "* [semantic-similarity](#semantic-similarity)\n",
    "* [collect-utterance-text](#collect-utterance-text)\n",
    "* [image-categorization](#image-categorization)\n",
    "* [text-intent-detection](#text-intent-detection)\n",
    "* [text-categorization](#text-categorization)\n",
    "* [named-entity-recognition](#named-entity-recognition)\n",
    "* [bounding-box](#bounding-box)\n",
    "* [image-similarity](#image-similarity)\n",
    "* [co-reference-resolution](#co-reference-resolution)\n",
    "* [key-phrase-extraction](#key-phrase-extraction)"
   ]
  },
  {
   "cell_type": "markdown",
   "metadata": {},
   "source": [
    "## <a id='sentiment-analysis'>sentiment-analysis</a>"
   ]
  },
  {
   "cell_type": "markdown",
   "metadata": {},
   "source": [
    "Input:\n",
    "{\n",
    " \"text\": \"Everything is wonderful!\"\n",
    "}\n",
    "\n",
    "Result: {'sentiment': 'positive'}\n",
    "\n",
    "Max length of the input text is 400 characters.  Sentiment is one of positive, negative, neutral or cannot determine.  We ask up to 5 Workers until 2 of them agree on the answer.\n"
   ]
  },
  {
   "cell_type": "markdown",
   "metadata": {},
   "source": [
    "When you create a Task using the sentiment-analysis API, you're automatically creating a Human Intelligence Task (HIT) on worker.mturk.com.  Here's an example of a sentiment analysis HIT."
   ]
  },
  {
   "cell_type": "markdown",
   "metadata": {},
   "source": [
    "![sentiment-analysis-HIT-example](https://s3-us-west-2.amazonaws.com/mturk-sample-tasks/sentiment-analysis-HIT-example.png)"
   ]
  },
  {
   "cell_type": "markdown",
   "metadata": {},
   "source": [
    "### Create a Task"
   ]
  },
  {
   "cell_type": "code",
   "execution_count": null,
   "metadata": {
    "collapsed": true
   },
   "outputs": [],
   "source": [
    "#set the function_name to the name of the API\n",
    "function_name = 'sentiment-analysis'"
   ]
  },
  {
   "cell_type": "code",
   "execution_count": null,
   "metadata": {},
   "outputs": [],
   "source": [
    "# automatically generate a random task ID\n",
    "task_name = 'my-test-task-' + uuid.uuid4().hex\n",
    "print(task_name)"
   ]
  },
  {
   "cell_type": "code",
   "execution_count": null,
   "metadata": {
    "collapsed": true
   },
   "outputs": [],
   "source": [
    "# define the text that you want analyzed, up to 16k\n",
    "text = 'The trip by @VP Pence was long planned. He is receiving great praise for leaving game after the players showed such disrespect for country!'"
   ]
  },
  {
   "cell_type": "code",
   "execution_count": null,
   "metadata": {},
   "outputs": [],
   "source": [
    "# create a single task with the input you specified above\n",
    "put_result = crowd_client.put_task(function_name,\n",
    "                             task_name,\n",
    "                             {'text': text})\n",
    "print('PUT response: {}'.format(\n",
    "    {'status_code': put_result.status_code, 'task': put_result.json()}))"
   ]
  },
  {
   "cell_type": "markdown",
   "metadata": {},
   "source": [
    "### Get the result\n",
    "\n",
    "Wait a few minutes before calling get_task to give Workers a chance to submit answers"
   ]
  },
  {
   "cell_type": "code",
   "execution_count": null,
   "metadata": {},
   "outputs": [],
   "source": [
    "get_result = crowd_client.get_task(function_name, task_name)\n",
    "\n",
    "print('GET response: {}'.format(                     \n",
    "    {'status_code': get_result.status_code, 'task': get_result.json()}))"
   ]
  },
  {
   "cell_type": "markdown",
   "metadata": {},
   "source": [
    "### Creating multiple Tasks and Processing Results \n",
    "\n",
    "Next, we'll read from a CSV file that has multiple rows of text that needs to be analyzed for sentiment using the pandas library.  As a prerequisite you need to have installed the pandas library."
   ]
  },
  {
   "cell_type": "code",
   "execution_count": null,
   "metadata": {
    "collapsed": true
   },
   "outputs": [],
   "source": [
    "import pandas as pd"
   ]
  },
  {
   "cell_type": "code",
   "execution_count": null,
   "metadata": {
    "collapsed": true
   },
   "outputs": [],
   "source": [
    "#read the input data from csv into a pandas DataFrame\n",
    "data = pd.read_csv('https://s3-us-west-2.amazonaws.com/mturk-sample-datasets/sentiment-analysis-example-inputs.csv')"
   ]
  },
  {
   "cell_type": "code",
   "execution_count": null,
   "metadata": {},
   "outputs": [],
   "source": [
    "# column 1 is the Task ID and column2 is the input data\n",
    "data"
   ]
  },
  {
   "cell_type": "code",
   "execution_count": null,
   "metadata": {
    "collapsed": true
   },
   "outputs": [],
   "source": [
    "#loop through the rows and create a Task per row, write the put_task status in a new column\n",
    "status_codes = []\n",
    "for index, row in data.iterrows():\n",
    "    put_result = crowd_client.put_task(function_name, row.task_id,{'text': row.review_text})\n",
    "    status_codes.append(put_result.status_code)\n",
    "data['status_codes'] = status_codes"
   ]
  },
  {
   "cell_type": "code",
   "execution_count": null,
   "metadata": {
    "collapsed": true
   },
   "outputs": [],
   "source": [
    "data"
   ]
  },
  {
   "cell_type": "markdown",
   "metadata": {},
   "source": [
    "We'll call get_task periodically until all of the Tasks reach the \"completed\" state."
   ]
  },
  {
   "cell_type": "code",
   "execution_count": null,
   "metadata": {
    "collapsed": true
   },
   "outputs": [],
   "source": [
    "# loop through the rows and get results, store the state and results in new columns\n",
    "\n",
    "status_codes = []\n",
    "responses = []\n",
    "for index, row in data.iterrows():\n",
    "    get_result = crowd_client.get_task(function_name, row.task_id)\n",
    "    status_codes.append(get_result.status_code)\n",
    "    responses.append(get_result.json())"
   ]
  },
  {
   "cell_type": "code",
   "execution_count": null,
   "metadata": {
    "collapsed": true
   },
   "outputs": [],
   "source": [
    "data['status_codes'] = status_codes\n",
    "data['state'] = [r['state'] for r in responses]\n",
    "data['problem_details'] = [r['problemDetails'] for r in responses]\n",
    "#need to handle the case when not all tasks are in completed state\n",
    "data['sentiment'] = [r['result']['sentiment'] for r in responses]"
   ]
  },
  {
   "cell_type": "code",
   "execution_count": null,
   "metadata": {
    "collapsed": true
   },
   "outputs": [],
   "source": [
    "data"
   ]
  },
  {
   "cell_type": "markdown",
   "metadata": {},
   "source": [
    "## <a id='image-contains'>image-contains</a>"
   ]
  },
  {
   "cell_type": "markdown",
   "metadata": {},
   "source": [
    "Given an image and a type of object to look for, this API returns true or false.\n",
    "\n",
    "Input: `{\"image\": {\"url\": \"https://www.mturk.com/media/butterbean.jpg\"}, \"target\": {\"label\": \"dog\"} }`\n",
    "\n",
    "Result: `{\"containsTarget\": true}`"
   ]
  },
  {
   "cell_type": "markdown",
   "metadata": {},
   "source": [
    "Internal Only: we ask 2 - 5 Workers to get agreement."
   ]
  },
  {
   "cell_type": "code",
   "execution_count": null,
   "metadata": {
    "collapsed": true
   },
   "outputs": [],
   "source": [
    "function_name = 'image-contains'"
   ]
  },
  {
   "cell_type": "markdown",
   "metadata": {},
   "source": [
    "### Create a Task"
   ]
  },
  {
   "cell_type": "code",
   "execution_count": null,
   "metadata": {
    "collapsed": true
   },
   "outputs": [],
   "source": [
    "# automatically generate a random task ID\n",
    "task_name = 'my-test-task-' + uuid.uuid4().hex\n",
    "print(task_name)"
   ]
  },
  {
   "cell_type": "code",
   "execution_count": null,
   "metadata": {
    "collapsed": true
   },
   "outputs": [],
   "source": [
    "# the URL of the image that you want annotated\n",
    "image_url = 'https://urbanedge.blogs.rice.edu/files/2016/02/midtown-15wd4ck.jpg'"
   ]
  },
  {
   "cell_type": "markdown",
   "metadata": {},
   "source": [
    "### The type of thing we're looking for"
   ]
  },
  {
   "cell_type": "code",
   "execution_count": null,
   "metadata": {
    "collapsed": true
   },
   "outputs": [],
   "source": [
    "label = 'Pedestrians'"
   ]
  },
  {
   "cell_type": "code",
   "execution_count": null,
   "metadata": {
    "collapsed": true
   },
   "outputs": [],
   "source": [
    "# create a single task with the input you specified above\n",
    "put_result = crowd_client.put_task(function_name,\n",
    "                                   task_name,\n",
    "                                   {'image': {'url': image_url}, 'target': {'label': label}})\n",
    "\n",
    "print('PUT response: {}'.format(\n",
    "    {'status_code': put_result.status_code, 'task': put_result.json()}))        "
   ]
  },
  {
   "cell_type": "markdown",
   "metadata": {},
   "source": [
    "### Get the result\n",
    "\n",
    "Wait a few minutes before calling get_task to give Workers a chance to submit answers"
   ]
  },
  {
   "cell_type": "code",
   "execution_count": null,
   "metadata": {
    "collapsed": true
   },
   "outputs": [],
   "source": [
    "get_result = crowd_client.get_task(function_name, task_name)\n",
    "\n",
    "print('GET response: {}'.format(\n",
    "{'status_code': get_result.status_code, 'task': get_result.json()}))"
   ]
  },
  {
   "cell_type": "markdown",
   "metadata": {},
   "source": [
    "### Creating multiple Tasks and Processing Results \n",
    "\n",
    "Next, we'll read from a CSV file that has multiple rows of text that needs to be analyzed for sentiment using the pandas library.  As a prerequisite you need to have installed the pandas library."
   ]
  },
  {
   "cell_type": "code",
   "execution_count": null,
   "metadata": {
    "collapsed": true
   },
   "outputs": [],
   "source": [
    "import pandas as pd"
   ]
  },
  {
   "cell_type": "code",
   "execution_count": null,
   "metadata": {
    "collapsed": true
   },
   "outputs": [],
   "source": [
    "#read the input data from csv into a pandas DataFrame\n",
    "data = pd.read_csv('https://s3-us-west-2.amazonaws.com/mturk-sample-datasets/image-contains-example-inputs.csv')"
   ]
  },
  {
   "cell_type": "code",
   "execution_count": null,
   "metadata": {},
   "outputs": [],
   "source": [
    "# column 1 is the Task ID and column2 amd 3 are the input data\n",
    "data"
   ]
  },
  {
   "cell_type": "code",
   "execution_count": null,
   "metadata": {
    "collapsed": true
   },
   "outputs": [],
   "source": [
    "#loop through the rows and create a Task per row, write the put_task status in a new column\n",
    "status_codes = []\n",
    "for index, row in data.iterrows():\n",
    "    put_result = crowd_client.put_task(function_name, \n",
    "                                       row.task_id,\n",
    "                                       {'image': {'url': row.image_url},\n",
    "                                        'target': {'label': row.Label} })\n",
    "    status_codes.append(put_result.status_code)\n",
    "data['status_codes'] = status_codes"
   ]
  },
  {
   "cell_type": "code",
   "execution_count": null,
   "metadata": {},
   "outputs": [],
   "source": [
    "data"
   ]
  },
  {
   "cell_type": "markdown",
   "metadata": {},
   "source": [
    "We'll call get_task periodically until all of the Tasks reach the \"completed\" state."
   ]
  },
  {
   "cell_type": "code",
   "execution_count": null,
   "metadata": {},
   "outputs": [],
   "source": [
    "# loop through the rows and get results, store the state and results in new columns\n",
    "\n",
    "status_codes = []\n",
    "responses = []\n",
    "for index, row in data.iterrows():\n",
    "    get_result = crowd_client.get_task(function_name, row.task_id)\n",
    "    status_codes.append(get_result.status_code)\n",
    "    responses.append(get_result.json())"
   ]
  },
  {
   "cell_type": "code",
   "execution_count": null,
   "metadata": {},
   "outputs": [],
   "source": [
    "data['status_codes'] = status_codes\n",
    "data['state'] = [r['state'] for r in responses]\n",
    "data['problem_details'] = [r['problemDetails'] for r in responses]\n",
    "#need to handle the case when not all tasks are in completed state\n",
    "data['containsTarget'] = [r['result']['containsTarget'] for r in responses]"
   ]
  },
  {
   "cell_type": "code",
   "execution_count": null,
   "metadata": {},
   "outputs": [],
   "source": [
    "data"
   ]
  },
  {
   "cell_type": "markdown",
   "metadata": {},
   "source": [
    "## <a id='emotion-detection'>emotion-detection</a>\n",
    "\n",
    "This API determines the emotion of text.\n",
    "\n",
    "Input:{\"text\": \"First time ever winning all three fantasy leagues AND @Seahawks win!\"}\n",
    "Result: {\"emotion\": \"joy\"}\n",
    "\n",
    "Emotion is one of Joy, Anger, Fear, Sadness, Surprise, Disgust, or Neutral.  Internal only: we ask up to 9 Workers to get agreement.\n",
    "\n",
    "![emotion-detection-HIT-example](https://s3-us-west-2.amazonaws.com/mturk-sample-tasks/emotion-detection-HIT-example.png)"
   ]
  },
  {
   "cell_type": "code",
   "execution_count": null,
   "metadata": {
    "collapsed": true
   },
   "outputs": [],
   "source": [
    "function_name = 'emotion-detection'"
   ]
  },
  {
   "cell_type": "markdown",
   "metadata": {},
   "source": [
    "### Create a Task"
   ]
  },
  {
   "cell_type": "code",
   "execution_count": null,
   "metadata": {},
   "outputs": [],
   "source": [
    "# automatically generate a random task ID\n",
    "task_name = 'my-test-task-' + uuid.uuid4().hex\n",
    "print(task_name)"
   ]
  },
  {
   "cell_type": "code",
   "execution_count": null,
   "metadata": {
    "collapsed": true
   },
   "outputs": [],
   "source": [
    "# define the text that you want analyzed, up to 16k\n",
    "text = 'Just realised that I have #280characters so now I can finally tweet this: \"Daenerys Stormborn of the House Targaryen, First of Her Name, the Unburnt, Queen of the Andals and the First Men, Khaleesi of the Great Grass Sea, Breaker of Chains, and Mother of Dragons'"
   ]
  },
  {
   "cell_type": "code",
   "execution_count": null,
   "metadata": {},
   "outputs": [],
   "source": [
    "# create a single task with the input you specified above\n",
    "put_result = crowd_client.put_task(function_name,\n",
    "                             task_name,\n",
    "                             {'text': text})\n",
    "print('PUT response: {}'.format(\n",
    "    {'status_code': put_result.status_code, 'task': put_result.json()}))"
   ]
  },
  {
   "cell_type": "markdown",
   "metadata": {},
   "source": [
    "### Get the result\n",
    "\n",
    "Wait a few minutes before calling get_task to give Workers a chance to submit answers"
   ]
  },
  {
   "cell_type": "code",
   "execution_count": null,
   "metadata": {},
   "outputs": [],
   "source": [
    "get_result = crowd_client.get_task(function_name, task_name)\n",
    "\n",
    "print('GET response: {}'.format(                     \n",
    "    {'status_code': get_result.status_code, 'task': get_result.json()}))"
   ]
  },
  {
   "cell_type": "markdown",
   "metadata": {},
   "source": [
    "## <a id=semantic-similarity>semantic-similarity</a>\n",
    "\n",
    "Compare two text documents and rate them on how similar they are, on a scale between 0 and 1 where 1 is very similar.\n",
    "\n",
    "Input: {\"text1\": \"The sky is blue.\", \"text2\": \"The sky was the color of blue.\"}\n",
    "\n",
    "Result: {\"similarityScore\": 0.75}"
   ]
  },
  {
   "cell_type": "code",
   "execution_count": null,
   "metadata": {
    "collapsed": true
   },
   "outputs": [],
   "source": [
    "function_name = 'semantic-similarity'"
   ]
  },
  {
   "cell_type": "markdown",
   "metadata": {},
   "source": [
    "### Create a Task"
   ]
  },
  {
   "cell_type": "code",
   "execution_count": null,
   "metadata": {
    "collapsed": true
   },
   "outputs": [],
   "source": [
    "# automatically generate a random task ID\n",
    "task_name = 'my-test-task-' + uuid.uuid4().hex\n",
    "print(task_name)"
   ]
  },
  {
   "cell_type": "code",
   "execution_count": null,
   "metadata": {
    "collapsed": true
   },
   "outputs": [],
   "source": [
    "# define the text that you want analyzed, up to 16k\n",
    "text1 = 'I\\'m so hungry I could eat a horse'\n",
    "text2 = 'I\\'m hangry'"
   ]
  },
  {
   "cell_type": "code",
   "execution_count": null,
   "metadata": {
    "collapsed": true
   },
   "outputs": [],
   "source": [
    "#create a single task with the input you specified above\n",
    "put_result = crowd_client.put_task(function_name,\n",
    "                             task_name,\n",
    "                             {'text1': text1, 'text2': text2})\n",
    "print('PUT response: {}'.format(\n",
    "    {'status_code': put_result.status_code, 'task': put_result.json()}))"
   ]
  },
  {
   "cell_type": "markdown",
   "metadata": {},
   "source": [
    "### Get the result\n",
    "\n",
    "Wait a few minutes before calling get_task to give Workers a chance to submit answers"
   ]
  },
  {
   "cell_type": "code",
   "execution_count": null,
   "metadata": {
    "collapsed": true
   },
   "outputs": [],
   "source": [
    "get_result = crowd_client.get_task(function_name, task_name)\n",
    "\n",
    "print('GET response: {}'.format(                     \n",
    "    {'status_code': get_result.status_code, 'task': get_result.json()}))"
   ]
  },
  {
   "cell_type": "markdown",
   "metadata": {},
   "source": [
    "### Creating multiple Tasks and Processing Results \n",
    "\n",
    "Next, we'll read from a CSV file that has multiple rows of text that needs to be analyzed for sentiment using the pandas library.  As a prerequisite you need to have installed the pandas library."
   ]
  },
  {
   "cell_type": "code",
   "execution_count": null,
   "metadata": {
    "collapsed": true
   },
   "outputs": [],
   "source": [
    "import pandas as pd"
   ]
  },
  {
   "cell_type": "code",
   "execution_count": null,
   "metadata": {
    "collapsed": true
   },
   "outputs": [],
   "source": [
    "#read the input data from csv into a pandas DataFrame\n",
    "data = pd.read_csv('https://s3-us-west-2.amazonaws.com/mturk-sample-datasets/semantic-similarity-example-inputs.csv')"
   ]
  },
  {
   "cell_type": "code",
   "execution_count": null,
   "metadata": {},
   "outputs": [],
   "source": [
    "# column 1 is the Task ID and column2 is the input data\n",
    "data"
   ]
  },
  {
   "cell_type": "code",
   "execution_count": null,
   "metadata": {
    "collapsed": true
   },
   "outputs": [],
   "source": [
    "#loop through the rows and create a Task per row, write the put_task status in a new column\n",
    "status_codes = []\n",
    "for index, row in data.iterrows():\n",
    "    put_result = crowd_client.put_task(function_name, \n",
    "                                       row.task_id,\n",
    "                                        {'text1': row.review1, 'text2': row.review2})\n",
    "    status_codes.append(put_result.status_code)\n",
    "data['status_codes'] = status_codes"
   ]
  },
  {
   "cell_type": "code",
   "execution_count": null,
   "metadata": {},
   "outputs": [],
   "source": [
    "data"
   ]
  },
  {
   "cell_type": "markdown",
   "metadata": {},
   "source": [
    "We'll call get_task periodically until all of the Tasks reach the \"completed\" state."
   ]
  },
  {
   "cell_type": "code",
   "execution_count": null,
   "metadata": {
    "collapsed": true
   },
   "outputs": [],
   "source": [
    "# loop through the rows and get results, store the state and results in new columns\n",
    "\n",
    "status_codes = []\n",
    "responses = []\n",
    "for index, row in data.iterrows():\n",
    "    get_result = crowd_client.get_task(function_name, row.task_id)\n",
    "    status_codes.append(get_result.status_code)\n",
    "    responses.append(get_result.json())"
   ]
  },
  {
   "cell_type": "code",
   "execution_count": null,
   "metadata": {
    "collapsed": true
   },
   "outputs": [],
   "source": [
    "data['status_codes'] = status_codes\n",
    "data['state'] = [r['state'] for r in responses]\n",
    "data['problem_details'] = [r['problemDetails'] for r in responses]\n",
    "#need to handle the case when not all tasks are in completed state\n",
    "data['similarityScore'] = [r['result']['similarityScore'] for r in responses]"
   ]
  },
  {
   "cell_type": "code",
   "execution_count": null,
   "metadata": {},
   "outputs": [],
   "source": [
    "data"
   ]
  },
  {
   "cell_type": "markdown",
   "metadata": {},
   "source": [
    "## <a id='collect-utterance-text'>collect-utterance-text</a>\n",
    "\n",
    "Given a context and an intention, provide what you would say, in text, in that situation.\n",
    "\n",
    "input: {\"context\": \"Someone recently bought a phone and it doesn't work\", \"intent\": \"They want to return a phone\"}'\n",
    "\n",
    "result: {'utterances': [{'text': \"result: {\"utterance\": \"The phone that I just bought stopped working.  I want to get a refund\"}\n",
    "\"}]}\n",
    "\n",
    "Internal only: We ask only 1 Worker for each task."
   ]
  },
  {
   "cell_type": "markdown",
   "metadata": {},
   "source": [
    "Here's an example of what the HIT might look like to Workers:\n",
    "![collect-utterance-text-HIT-example](https://s3-us-west-2.amazonaws.com/mturk-sample-tasks/collect-utterance-text-HIT-example.png)"
   ]
  },
  {
   "cell_type": "code",
   "execution_count": null,
   "metadata": {
    "collapsed": true
   },
   "outputs": [],
   "source": [
    "function_name = 'collect-utterance-text'"
   ]
  },
  {
   "cell_type": "markdown",
   "metadata": {},
   "source": [
    "### Create a Task"
   ]
  },
  {
   "cell_type": "code",
   "execution_count": null,
   "metadata": {},
   "outputs": [],
   "source": [
    "# automatically generate a random task ID\n",
    "task_name = 'my-test-task-' + uuid.uuid4().hex\n",
    "print(task_name)"
   ]
  },
  {
   "cell_type": "code",
   "execution_count": null,
   "metadata": {
    "collapsed": true
   },
   "outputs": [],
   "source": [
    "# provide the context and the intent\n",
    "context = 'Someone is calling their doctor\\'s office'\n",
    "intent = 'I want to change an existing appointment'"
   ]
  },
  {
   "cell_type": "code",
   "execution_count": null,
   "metadata": {},
   "outputs": [],
   "source": [
    "#create a single task with the input you specified above\n",
    "put_result = crowd_client.put_task(function_name,\n",
    "                             task_name,\n",
    "                             {'context': context, 'intent': intent})\n",
    "print('PUT response: {}'.format(\n",
    "    {'status_code': put_result.status_code, 'task': put_result.json()}))"
   ]
  },
  {
   "cell_type": "markdown",
   "metadata": {},
   "source": [
    "### Get the result\n",
    "\n",
    "Wait a few minutes before calling get_task to give Workers a chance to submit answers"
   ]
  },
  {
   "cell_type": "code",
   "execution_count": null,
   "metadata": {},
   "outputs": [],
   "source": [
    "get_result = crowd_client.get_task(function_name, task_name)\n",
    "\n",
    "print('GET response: {}'.format(                     \n",
    "    {'status_code': get_result.status_code, 'task': get_result.json()}))"
   ]
  },
  {
   "cell_type": "markdown",
   "metadata": {},
   "source": [
    "## <a id='image-categorization'>image-categorization</a>\n",
    "\n",
    "Given an image URL and a list of categories, determine which category the image best belongs to.  You can optionally provide a description for each category to provide more guidance on what each category includes.\n",
    "\n",
    "Input: {\"image\":{\"url\": \"https://requester.mturk.com/assets/simon.jpg\"},\"categories\": “categories”: [{“label”: “Plant”}, {“label”:”Animal”}, {“label”:”Bacteria”}, {“label”:”Fungi”}, {“label”:”Protists”}]\n",
    "\n",
    "Result: {\"category\":\"Animal\"} "
   ]
  },
  {
   "cell_type": "markdown",
   "metadata": {},
   "source": [
    "![image-categorization-HIT-example](https://s3-us-west-2.amazonaws.com/mturk-sample-tasks/image-categorization-HIT-example.png)"
   ]
  },
  {
   "cell_type": "code",
   "execution_count": null,
   "metadata": {
    "collapsed": true
   },
   "outputs": [],
   "source": [
    "function_name = 'image-categorization'"
   ]
  },
  {
   "cell_type": "markdown",
   "metadata": {},
   "source": [
    "### Create a Task"
   ]
  },
  {
   "cell_type": "code",
   "execution_count": null,
   "metadata": {},
   "outputs": [],
   "source": [
    "# automatically generate a random task ID\n",
    "task_name = 'my-test-task-' + uuid.uuid4().hex\n",
    "print(task_name)"
   ]
  },
  {
   "cell_type": "code",
   "execution_count": null,
   "metadata": {
    "collapsed": true
   },
   "outputs": [],
   "source": [
    "# provide the context and the intent\n",
    "image_url = 'https://www.abebooks.com/images/books/harry-potter/sorcerers-stone.jpg'\n",
    "categories =  [{'label': 'Hardcover', 'description': 'hardcover version'}, {'label':'Paperback', 'description': 'paperback version'}, {'label':'eBook', 'description': 'digital text version, including PDF, Kindle'}, {'label':'Audio Book', 'description': 'any audio version, including CD, mp3, streaming'}]"
   ]
  },
  {
   "cell_type": "code",
   "execution_count": null,
   "metadata": {},
   "outputs": [],
   "source": [
    "#create a single task with the input you specified above\n",
    "put_result = crowd_client.put_task(function_name,\n",
    "                             task_name,\n",
    "                            {'image': {'url': image_url},\n",
    "                            'categories': categories})\n",
    "print('PUT response: {}'.format(\n",
    "    {'status_code': put_result.status_code, 'task': put_result.json()}))"
   ]
  },
  {
   "cell_type": "markdown",
   "metadata": {},
   "source": [
    "### Get the result\n",
    "\n",
    "Wait a few minutes before calling get_task to give Workers a chance to submit answers"
   ]
  },
  {
   "cell_type": "code",
   "execution_count": null,
   "metadata": {},
   "outputs": [],
   "source": [
    "get_result = crowd_client.get_task(function_name, task_name)\n",
    "\n",
    "print('GET response: {}'.format(                     \n",
    "    {'status_code': get_result.status_code, 'task': get_result.json()}))"
   ]
  },
  {
   "cell_type": "markdown",
   "metadata": {},
   "source": [
    "## <a id='text-intent-detection'>text-intent-detection</a>"
   ]
  },
  {
   "cell_type": "markdown",
   "metadata": {},
   "source": [
    "Given a list of intentions, categorize the best intention that matches the text given.\n",
    "\n",
    "input: {\"text\": \"foo\", \"intents\": [{\"label\": \"Schedule an appointment\", \"description\": \"example: I need to make an appointment with Dr. Smith\"}, {\"label\": \"Medical Record Request\", \"description\": \"I need a copy of my kids&#39; immunication records\"}]}\n",
    "\n",
    "resut:{'applicableIntents': [{'label': 'Schedule an appointment'}]}"
   ]
  },
  {
   "cell_type": "markdown",
   "metadata": {},
   "source": [
    "Here's an example of what the task might look like for Workers.\n",
    "![text-intent-detection-HIT-example](https://s3-us-west-2.amazonaws.com/mturk-sample-tasks/text-intent-detection-HIT-example.png)"
   ]
  },
  {
   "cell_type": "code",
   "execution_count": null,
   "metadata": {
    "collapsed": true
   },
   "outputs": [],
   "source": [
    "function_name = 'text-intent-detection'"
   ]
  },
  {
   "cell_type": "markdown",
   "metadata": {},
   "source": [
    "### Create a Task"
   ]
  },
  {
   "cell_type": "code",
   "execution_count": null,
   "metadata": {},
   "outputs": [],
   "source": [
    "# automatically generate a random task ID\n",
    "task_name = 'my-test-task-' + uuid.uuid4().hex\n",
    "print(task_name)"
   ]
  },
  {
   "cell_type": "code",
   "execution_count": null,
   "metadata": {
    "collapsed": true
   },
   "outputs": [],
   "source": [
    "# define the text to be analysed and a list of intentions to categorize the text for\n",
    "text = 'my son was stung by bees and I need to know if I need to go to the ER'\n",
    "intents =  [{'label': 'Schedule an appointment', 'description': 'e.g. I need to make an appointment with Dr. Smith'}, {'label': 'Medical Record Request', 'description': 'e.g. I need a copy of my kids immunization records'}]"
   ]
  },
  {
   "cell_type": "code",
   "execution_count": null,
   "metadata": {},
   "outputs": [],
   "source": [
    "# create a single task with the input you specified above\n",
    "put_result = crowd_client.put_task(function_name,\n",
    "                                   task_name,\n",
    "                                  {'text': text,\n",
    "                                  'intents': intents})\n",
    "print('PUT response: {}'.format(\n",
    "    {'status_code': put_result.status_code, 'task': put_result.json()}))"
   ]
  },
  {
   "cell_type": "markdown",
   "metadata": {},
   "source": [
    "### Get the result\n",
    "\n",
    "Wait a few minutes before calling get_task to give Workers a chance to submit answers"
   ]
  },
  {
   "cell_type": "code",
   "execution_count": null,
   "metadata": {},
   "outputs": [],
   "source": [
    "get_result = crowd_client.get_task(function_name, task_name)\n",
    "\n",
    "print('GET response: {}'.format(                     \n",
    "    {'status_code': get_result.status_code, 'task': get_result.json()}))"
   ]
  },
  {
   "cell_type": "markdown",
   "metadata": {},
   "source": [
    "## <a id=text-categorization>text-categorization</a>\n",
    "\n",
    "Given a piece of text and a list of categories, choose the best cateogry that fits the text.\n",
    "\n",
    "input: {\"text\": \"The Baltimore Ravens beat the Seattle Seahawks 24-7\", \"categories\": [{\"label\": \"sports\", \"description\": \"talks about sports\"}, {\"label\": \"food\", \"description\": \"talks about food\"}]}\n",
    "\n",
    "result: {'applicableCategories': [{'label': 'sports'}]}"
   ]
  },
  {
   "cell_type": "markdown",
   "metadata": {},
   "source": [
    "Here's an example of a HIT to MTurk Workers generated by calling this API\n",
    "![text-categorization-HIT-example](https://s3-us-west-2.amazonaws.com/mturk-sample-tasks/text-categorization-HIT-example.png)"
   ]
  },
  {
   "cell_type": "code",
   "execution_count": null,
   "metadata": {
    "collapsed": true
   },
   "outputs": [],
   "source": [
    "function_name = 'text-categorization'"
   ]
  },
  {
   "cell_type": "markdown",
   "metadata": {},
   "source": [
    "### Create a Task"
   ]
  },
  {
   "cell_type": "code",
   "execution_count": null,
   "metadata": {},
   "outputs": [],
   "source": [
    "# automatically generate a random task ID\n",
    "task_name = 'my-test-task-' + uuid.uuid4().hex\n",
    "print(task_name)"
   ]
  },
  {
   "cell_type": "code",
   "execution_count": null,
   "metadata": {
    "collapsed": true
   },
   "outputs": [],
   "source": [
    "# define the text to be analysed and a list of categories to assess for\n",
    "text = 'These are great. They do run a touch small. I almost could go a half size up from my normal size.'\n",
    "categories =  [{'label': 'style', 'description': 'related to the look of the product'}, {'label': 'fit', 'description': 'related to the sizing or how it fits'}, {'label': 'quality', 'description': 'related to how well made the product is'}, {'label': 'price', 'description': 'related to cost or value of the product'}]"
   ]
  },
  {
   "cell_type": "code",
   "execution_count": null,
   "metadata": {},
   "outputs": [],
   "source": [
    "# create a single task with the input you specified above\n",
    "put_result = crowd_client.put_task(function_name,\n",
    "                                   task_name,\n",
    "                                  {'text': text,\n",
    "                                  'categories': categories})\n",
    "print('PUT response: {}'.format(\n",
    "    {'status_code': put_result.status_code, 'task': put_result.json()}))"
   ]
  },
  {
   "cell_type": "markdown",
   "metadata": {},
   "source": [
    "### Get the result\n",
    "\n",
    "Wait a few minutes before calling get_task to give Workers a chance to submit answers"
   ]
  },
  {
   "cell_type": "code",
   "execution_count": null,
   "metadata": {},
   "outputs": [],
   "source": [
    "get_result = crowd_client.get_task(function_name, task_name)\n",
    "\n",
    "print('GET response: {}'.format(                     \n",
    "    {'status_code': get_result.status_code, 'task': get_result.json()}))"
   ]
  },
  {
   "cell_type": "markdown",
   "metadata": {},
   "source": [
    "## <a id=named-entity-recognition>named-entity-recognition</a>\n",
    "\n",
    "Given a paragraph of text, label the span of text that represent entities of various categories, such as person and location.\n",
    "\n",
    "input: {'text': 'Harry Potter is midway through his training as a wizard and his coming of age. Harry wants to get away from the pernicious Dursleys and go to the International Quidditch Cup. He wants to find out about the mysterious event that's supposed to take place at Hogwarts this year, an event involving two other rival schools of magic, and a competition that hasn't happened for a hundred years. He wants to be a normal, fourteen-year-old wizard. But unfortunately for Harry Potter, he's not normal - even by wizarding standards. And in his case, different can be deadly.'}\n",
    "\n",
    "result: {'entities': [{'end': 12, 'start': 0, 'text': 'Harry Potter', 'type': 'person'}, {'end': 84, 'start': 79, 'text': 'Harry', 'type': 'person'}, {'end': 131, 'start': 123, 'text': 'Dursleys', 'type': 'person'}, {'end': 77, 'start': 60, 'text': 'his coming of age', 'type': 'date'}, {'end': 173, 'start': 146, 'text': 'International Quidditch Cup', 'type': 'event'}, {'end': 222, 'start': 217, 'text': 'event', 'type': 'event'}, {'end': 284, 'start': 279, 'text': 'event', 'type': 'event'}, {'end': 346, 'start': 335, 'text': 'competition', 'type': 'event'}, {'end': 264, 'start': 256, 'text': 'Hogwarts', 'type': 'organization'}, {'end': 318, 'start': 311, 'text': 'schools', 'type': 'organization'}, {'end': 264, 'start': 256, 'text': 'Hogwarts', 'type': 'organization'}]}"
   ]
  },
  {
   "cell_type": "markdown",
   "metadata": {},
   "source": [
    "![NER-HIT-example](https://s3-us-west-2.amazonaws.com/mturk-sample-tasks/ner-HIT-example.png)"
   ]
  },
  {
   "cell_type": "markdown",
   "metadata": {},
   "source": [
    "### Create a Task"
   ]
  },
  {
   "cell_type": "code",
   "execution_count": null,
   "metadata": {
    "collapsed": true
   },
   "outputs": [],
   "source": [
    "#set the function_name to the name of the API\n",
    "function_name = 'named-entity-recognition'"
   ]
  },
  {
   "cell_type": "code",
   "execution_count": null,
   "metadata": {},
   "outputs": [],
   "source": [
    "# automatically generate a random task ID\n",
    "# task_name = 'my-test-task-' + uuid.uuid4().hex\n",
    "task_name='my-test-task-ff7d0b50791a43cc819b60b7b568c422'\n",
    "print(task_name)"
   ]
  },
  {
   "cell_type": "code",
   "execution_count": null,
   "metadata": {
    "collapsed": true
   },
   "outputs": [],
   "source": [
    "# define the text that you want analyzed, up to 16k\n",
    "text = 'Harry Potter is midway through his training as a wizard and his coming of age. Harry wants to get away from the pernicious Dursleys and go to the International Quidditch Cup. He wants to find out about the mysterious event that\\'s supposed to take place at Hogwarts this year, an event involving two other rival schools of magic, and a competition that hasn\\'t happened for a hundred years.'"
   ]
  },
  {
   "cell_type": "code",
   "execution_count": null,
   "metadata": {},
   "outputs": [],
   "source": [
    "# create a single task with the input you specified above\n",
    "put_result = crowd_client.put_task(function_name,\n",
    "                             task_name,\n",
    "                             {'text': text})\n",
    "print('PUT response: {}'.format(\n",
    "    {'status_code': put_result.status_code, 'task': put_result.json()}))"
   ]
  },
  {
   "cell_type": "markdown",
   "metadata": {},
   "source": [
    "### Get the result\n",
    "\n",
    "Wait a few minutes before calling get_task to give Workers a chance to submit answers"
   ]
  },
  {
   "cell_type": "code",
   "execution_count": null,
   "metadata": {},
   "outputs": [],
   "source": [
    "get_result = crowd_client.get_task(function_name, task_name)\n",
    "\n",
    "print('GET response: {}'.format(                     \n",
    "    {'status_code': get_result.status_code, 'task': get_result.json()}))"
   ]
  },
  {
   "cell_type": "markdown",
   "metadata": {},
   "source": [
    "## <a id='bounding-box'> bounding-box </a>"
   ]
  },
  {
   "cell_type": "markdown",
   "metadata": {},
   "source": [
    "Given an image, draw a box around particular objects, specified by labels.  This API returns the coordinates of labeled objects in the image.\n",
    "\n",
    "input: {\"image\": {\"url\": \"https://sierra-videos.s3.amazonaws.com/2017_0521/DJI_0001_frames_720h/1495411174030000000.jpg\"}, \"labels\": [{\"label\": \"car\"}, {\"label\": \"pedestrians\"}]}\n",
    "\n",
    "result: {'labels': [{'boundingBox': {'height': 55, 'left': 896, 'top': 665, 'width': 51}, 'label': 'car'}, {'boundingBox': {'height': 50, 'left': 555, 'top': 515, 'width': 63}, 'label': 'car'}, {'boundingBox': {'height': 51, 'left': 539, 'top': 590, 'width': 58}, 'label': 'car'}, {'boundingBox': {'height': 44, 'left': 216, 'top': 512, 'width': 55}, 'label': 'car'}, {'boundingBox': {'height': 54, 'left': 873, 'top': 475, 'width': 53}, 'label': 'car'}, {'boundingBox': {'height': 56, 'left': 1083, 'top': 490, 'width': 47}, 'label': 'car'}, {'boundingBox': {'height': 42, 'left': 164, 'top': 659, 'width': 66}, 'label': 'car'}, {'boundingBox': {'height': 46, 'left': 524, 'top': 213, 'width': 50}, 'label': 'car'}, {'boundingBox': {'height': 48, 'left': 814, 'top': 311, 'width': 53}, 'label': 'car'}]}\n",
    "\n",
    "This API currently only supports upright bounding boxes.  "
   ]
  },
  {
   "cell_type": "markdown",
   "metadata": {},
   "source": [
    "Here's an example of what the Worker sees:\n",
    "![bound-box-HIT-example](https://s3-us-west-2.amazonaws.com/mturk-sample-tasks/bound-box-HIT-example.png)"
   ]
  },
  {
   "cell_type": "code",
   "execution_count": null,
   "metadata": {
    "collapsed": true
   },
   "outputs": [],
   "source": [
    "function_name = 'bounding-box'"
   ]
  },
  {
   "cell_type": "markdown",
   "metadata": {},
   "source": [
    "### Create a Task"
   ]
  },
  {
   "cell_type": "code",
   "execution_count": null,
   "metadata": {},
   "outputs": [],
   "source": [
    "# automatically generate a random task ID\n",
    "task_name = 'my-test-task-' + uuid.uuid4().hex\n",
    "print(task_name)"
   ]
  },
  {
   "cell_type": "code",
   "execution_count": null,
   "metadata": {
    "collapsed": true
   },
   "outputs": [],
   "source": [
    "# provide the context and the intent\n",
    "image_url = 'https://sierra-videos.s3.amazonaws.com/2017_0521/DJI_0001_frames_720h/1495411174030000000.jpg'\n",
    "labels =  [{\"label\": \"car\"}, {\"label\": \"pedestrians\"}]"
   ]
  },
  {
   "cell_type": "code",
   "execution_count": null,
   "metadata": {},
   "outputs": [],
   "source": [
    "#create a single task with the input you specified above\n",
    "put_result = crowd_client.put_task(function_name,\n",
    "                             task_name,\n",
    "                            {'image': {'url': image_url},\n",
    "                            'labels': labels})\n",
    "\n",
    "print('PUT response: {}'.format(\n",
    "    {'status_code': put_result.status_code, 'task': put_result.json()}))"
   ]
  },
  {
   "cell_type": "markdown",
   "metadata": {},
   "source": [
    "### Get the result\n",
    "\n",
    "Wait a few minutes before calling get_task to give Workers a chance to submit answers"
   ]
  },
  {
   "cell_type": "code",
   "execution_count": null,
   "metadata": {},
   "outputs": [],
   "source": [
    "get_result = crowd_client.get_task(function_name, task_name)\n",
    "\n",
    "print('GET response: {}'.format(                     \n",
    "    {'status_code': get_result.status_code, 'task': get_result.json()}))"
   ]
  },
  {
   "cell_type": "markdown",
   "metadata": {},
   "source": [
    "## <a id=image-similarity>image-similarity</a>\n",
    "This API takes in two images, specified by URL, and returns a score for how similar those two images are.  \n",
    "\n",
    "input: {'input': {'image1': {'url': 'https://s3-us-west-2.amazonaws.com/mturk-sample-media/images-to-compare/image-similarity-1a.png'}, 'image2': {'url': 'https://s3-us-west-2.amazonaws.com/mturk-sample-media/images-to-compare/image-similarity-1b.png'}}\n",
    "\n",
    "result: {'similarityScore': 0.75}"
   ]
  },
  {
   "cell_type": "markdown",
   "metadata": {},
   "source": [
    "Here's an example of a HIT that's shown to Workers:\n",
    "![image-similarity-HIT-example](https://s3-us-west-2.amazonaws.com/mturk-sample-tasks/image-similarity-HIT-example.png)"
   ]
  },
  {
   "cell_type": "code",
   "execution_count": null,
   "metadata": {
    "collapsed": true
   },
   "outputs": [],
   "source": [
    "function_name = 'image-similarity'"
   ]
  },
  {
   "cell_type": "markdown",
   "metadata": {},
   "source": [
    "### Create a Task"
   ]
  },
  {
   "cell_type": "code",
   "execution_count": null,
   "metadata": {},
   "outputs": [],
   "source": [
    "# automatically generate a random task ID\n",
    "task_name = 'my-test-task-' + uuid.uuid4().hex\n",
    "print(task_name)"
   ]
  },
  {
   "cell_type": "code",
   "execution_count": null,
   "metadata": {
    "collapsed": true
   },
   "outputs": [],
   "source": [
    "# the URLs of the images that you want to compare\n",
    "image_url_1 = 'https://s3-us-west-2.amazonaws.com/mturk-sample-media/images-to-compare/image-similarity-1a.png'\n",
    "image_url_2 = 'https://s3-us-west-2.amazonaws.com/mturk-sample-media/images-to-compare/image-similarity-1b.png'"
   ]
  },
  {
   "cell_type": "code",
   "execution_count": null,
   "metadata": {},
   "outputs": [],
   "source": [
    "# create a single task with the input you specified above\n",
    "put_result = crowd_client.put_task(function_name,task_name,\n",
    "                                   {'image1': {'url': image_url_1},\n",
    "                                    'image2': {'url': image_url_2}})\n",
    "\n",
    "print('PUT response: {}'.format(\n",
    "    {'status_code': put_result.status_code, 'task': put_result.json()}))        "
   ]
  },
  {
   "cell_type": "markdown",
   "metadata": {},
   "source": [
    "### Get the result\n",
    "\n",
    "Wait a few minutes before calling get_task to give Workers a chance to submit answers"
   ]
  },
  {
   "cell_type": "code",
   "execution_count": null,
   "metadata": {},
   "outputs": [],
   "source": [
    "get_result = crowd_client.get_task(function_name, task_name)\n",
    "\n",
    "print('GET response: {}'.format(                     \n",
    "    {'status_code': get_result.status_code, 'task': get_result.json()}))"
   ]
  },
  {
   "cell_type": "markdown",
   "metadata": {},
   "source": [
    "## <a id=co-reference-resolution>co-reference-resolution</a>\n",
    "\n",
    "Co-reference resolution is the task of finding all expressions that refer to the same entity in a text. This API returns references and the position of the start and end of each reference.\n",
    "\n",
    "input: { \"text\": \"Megan said \"I voted for Hilary because she better aligns with my values\"\" }\n",
    "\n",
    "result:  {'references': {'ref-1': [{'end': 6, 'start': 0, 'text': 'Megan ', 'type': 'ref-1'}, {'end': 14, 'start': 12, 'text': 'I ', 'type': 'ref-1'}, {'end': 64, 'start': 62, 'text': 'my', 'type': 'ref-1'}], 'ref-2': [{'end': 30, 'start': 24, 'text': 'Hilary', 'type': 'ref-2'}, {'end': 42, 'start': 39, 'text': 'she', 'type': 'ref-2'}]}}\n",
    "\n",
    "Internal only: this API currently only asks one Worker to complete the HIT, excluding specific Workers who have been put on an exclusion list because of poor past performance on NLP related HITs."
   ]
  },
  {
   "cell_type": "markdown",
   "metadata": {},
   "source": [
    "Here's an example of a HIT that's shown to Workers:\n",
    "![co-reference-resolution-HIT-example](https://s3-us-west-2.amazonaws.com/mturk-sample-tasks/co-reference-resolution-HIT-example.png)"
   ]
  },
  {
   "cell_type": "markdown",
   "metadata": {},
   "source": [
    "### Create a Task"
   ]
  },
  {
   "cell_type": "code",
   "execution_count": null,
   "metadata": {
    "collapsed": true
   },
   "outputs": [],
   "source": [
    "#set the function_name to the name of the API\n",
    "function_name = 'co-reference-resolution'"
   ]
  },
  {
   "cell_type": "code",
   "execution_count": null,
   "metadata": {},
   "outputs": [],
   "source": [
    "# automatically generate a random task ID\n",
    "#task_name = 'my-test-task-' + uuid.uuid4().hex\n",
    "task_name = 'my-test-task-656e8384878a40d59f55289a48085d0d'\n",
    "print(task_name)"
   ]
  },
  {
   "cell_type": "code",
   "execution_count": null,
   "metadata": {
    "collapsed": true
   },
   "outputs": [],
   "source": [
    "# define the text that you want analyzed, up to 16k\n",
    "text = 'Megan said \\\"I voted for Hilary because she better aligns with my values\\\"'"
   ]
  },
  {
   "cell_type": "code",
   "execution_count": null,
   "metadata": {},
   "outputs": [],
   "source": [
    "# create a single task with the input you specified above\n",
    "put_result = crowd_client.put_task(function_name,\n",
    "                             task_name,\n",
    "                             {'text': text})\n",
    "print('PUT response: {}'.format(\n",
    "    {'status_code': put_result.status_code, 'task': put_result.json()}))"
   ]
  },
  {
   "cell_type": "markdown",
   "metadata": {},
   "source": [
    "### Get the result\n",
    "\n",
    "Wait a few minutes before calling get_task to give Workers a chance to submit answers"
   ]
  },
  {
   "cell_type": "code",
   "execution_count": null,
   "metadata": {},
   "outputs": [],
   "source": [
    "get_result = crowd_client.get_task(function_name, task_name)\n",
    "\n",
    "print('GET response: {}'.format(                     \n",
    "    {'status_code': get_result.status_code, 'task': get_result.json()}))"
   ]
  },
  {
   "cell_type": "markdown",
   "metadata": {},
   "source": [
    "## <a id=keyphrase-extraction>key-phrase-extraction</a> \n",
    "\n",
    "Key phrases provide a concise description of a document’s content; they are useful for document categorization, clustering, indexing, search, and summarization; quantifying semantic similarity with other documents; as well as conceptualizing particular knowledge domains.  Key phrase extraction is the process of extracting the important and topic words in a document.\n",
    "\n",
    "input: { \"text\": \"This is the second Boots I brought from this brand, the material they are used to make these boots are quite decent, it’s not real leather though, but once you get it on hand you can tell that it is definitely high quality material, the last boots I brought cost me 45 bucks, it lasted about 1 year and half, very remarkable durability I got to say, beside this the interior is super soft and very comfortable to wear. If you are looking for mid-range priced boots with high quality this is the best shot for you.\" }\n",
    "\n",
    "result: {'keyPhrases': [{'end': 25, 'start': 19, 'text': 'Boots '}, {'end': 115, 'start': 103, 'text': 'quite decent'}, {'end': 138, 'start': 122, 'text': 'not real leather'}, {'end': 231, 'start': 210, 'text': 'high quality material'}, {'end': 307, 'start': 292, 'text': '1 year and half'}, {'end': 335, 'start': 309, 'text': 'very remarkable durability'}, {'end': 388, 'start': 378, 'text': 'super soft'}, {'end': 409, 'start': 393, 'text': 'very comfortable'}, {'end': 458, 'start': 442, 'text': 'mid-range priced'}, {'end': 482, 'start': 470, 'text': 'high quality'}]}\n",
    "\n",
    "Internal only: this API currently only asks one Worker to complete the HIT, excluding specific Workers who have been put on an exclusion list because of poor past performance on NLP related HITs."
   ]
  },
  {
   "cell_type": "markdown",
   "metadata": {},
   "source": [
    "Here's an example of a HIT that's shown to Workers: \n",
    "![key-phrase-extraction-HIT-example](https://s3-us-west-2.amazonaws.com/mturk-sample-tasks/key-phrase-extraction-HIT-example.png)"
   ]
  },
  {
   "cell_type": "markdown",
   "metadata": {},
   "source": [
    "### Create a Task"
   ]
  },
  {
   "cell_type": "code",
   "execution_count": null,
   "metadata": {
    "collapsed": true
   },
   "outputs": [],
   "source": [
    "#set the function_name to the name of the API\n",
    "function_name = 'key-phrase-extraction'"
   ]
  },
  {
   "cell_type": "code",
   "execution_count": null,
   "metadata": {},
   "outputs": [],
   "source": [
    "# automatically generate a random task ID\n",
    "task_name = 'my-test-task-' + uuid.uuid4().hex\n",
    "print(task_name)"
   ]
  },
  {
   "cell_type": "code",
   "execution_count": null,
   "metadata": {
    "collapsed": true
   },
   "outputs": [],
   "source": [
    "# define the text that you want analyzed, up to 16k\n",
    "text = 'This is the second Boots I brought from this brand, the material they are used to make these boots are quite decent, it’s not real leather though, but once you get it on hand you can tell that it is definitely high quality material, the last boots I brought cost me 45 bucks, it lasted about 1 year and half, very remarkable durability I got to say, beside this the interior is super soft and very comfortable to wear. If you are looking for mid-range priced boots with high quality this is the best shot for you.'"
   ]
  },
  {
   "cell_type": "code",
   "execution_count": null,
   "metadata": {},
   "outputs": [],
   "source": [
    "# create a single task with the input you specified above\n",
    "put_result = crowd_client.put_task(function_name,\n",
    "                             task_name,\n",
    "                             {'text': text})\n",
    "print('PUT response: {}'.format(\n",
    "    {'status_code': put_result.status_code, 'task': put_result.json()}))"
   ]
  },
  {
   "cell_type": "markdown",
   "metadata": {},
   "source": [
    "### Get the result\n",
    "\n",
    "Wait a few minutes before calling get_task to give Workers a chance to submit answers"
   ]
  },
  {
   "cell_type": "code",
   "execution_count": null,
   "metadata": {},
   "outputs": [],
   "source": [
    "get_result = crowd_client.get_task(function_name, task_name)\n",
    "\n",
    "print('GET response: {}'.format(                     \n",
    "    {'status_code': get_result.status_code, 'task': get_result.json()}))"
   ]
  }
 ],
 "metadata": {
  "kernelspec": {
   "display_name": "Python 3",
   "language": "python",
   "name": "python3"
  },
  "language_info": {
   "codemirror_mode": {
    "name": "ipython",
    "version": 3
   },
   "file_extension": ".py",
   "mimetype": "text/x-python",
   "name": "python",
   "nbconvert_exporter": "python",
   "pygments_lexer": "ipython3",
   "version": "3.6.3"
  }
 },
 "nbformat": 4,
 "nbformat_minor": 2
}
