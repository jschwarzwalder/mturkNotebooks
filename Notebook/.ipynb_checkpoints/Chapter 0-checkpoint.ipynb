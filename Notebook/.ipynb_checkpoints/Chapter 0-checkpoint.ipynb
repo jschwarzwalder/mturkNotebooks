{
 "cells": [
  {
   "cell_type": "markdown",
   "metadata": {},
   "source": [
    "# Pre requisites\n",
    "\n",
    "## First, [Set up your Amazon Mechanical Turk and AWS account](https://medium.com/@mechanicalturk/setting-up-your-amazon-mechanical-turk-and-aws-accounts-to-call-a-preview-api-59ade8beafd1)\n",
    "### Ensuring your MTurk Requester account and AWS account are set up correctly\n",
    "First, If you haven’t already, please register for an MTurk Requester account at [requester.mturk.com](https://requester.mturk.com).\n",
    "\n",
    "![Requester Website](https://cdn-images-1.medium.com/max/800/1*sYyOYi6RQrOgNHb3VsEnLw.png)\n",
    "\n",
    "Next, If you haven’t already, please register for an AWS account at [portal.aws.amazon.com](https://portal.aws.amazon.com/gp/aws/developer/registration/index.htm).\n",
    "\n",
    "\n",
    "At the end of registration, it will ask you for a credit card. Know that MTurk usage will not appear in your AWS bill since you will pay for your HITs on MTurk’s website. However, if you use other services with this AWS account, you may accrue AWS charges.\n",
    "\n",
    "![AWS Website](https://cdn-images-1.medium.com/max/800/1*8Y0RSnfSkVEiM_RcvqyQHg.png)\n",
    "\n",
    "\n",
    "Once you have an MTurk Requester account and an AWS account, link them following the instructions at [requester.mturk.com/developer](https://requester.mturk.com/developer).\n",
    "\n",
    "This will allow MTurk to use the AWS account to identify and allow access for you to use the MTurk API.\n",
    "\n",
    "1.Log in to your Requester account on [requester.mturk.com/developer](https://requester.mturk.com/developer). The first step is to create an AWS account which you’ve done.\n",
    "\n",
    "1. Go down to Step 2, and select Link your AWS Account \n",
    "![Link AWS Account with MTurk Requester](https://cdn-images-1.medium.com/max/800/1*C7irRzBlG9EeYNIqBZRK2g.png)\n",
    "\n",
    "1. Log into your AWS account if prompted, and confirm the Account ID. You can log in to a different AWS account from this screen if your AWS account uses a different email than your Requester account.\n",
    "\n",
    "1. Select __Link this Account__ to continue\n",
    "\n",
    "![Getting started as an Amazon Mechanical Turk Developer](https://cdn-images-1.medium.com/max/800/1*tH197drbZKbMTCENz5Cn7w.png)\n",
    "\n",
    "When your accounts are correctly linked, you should see this:\n",
    "\n",
    "![Accounts Successfully Linked](https://cdn-images-1.medium.com/max/800/1*TTXhNYOeuQnQsvEiWD2QVw.png)\n",
    "\n",
    "If you scroll down to Step 2, you’ll see your AWS number and account details.\n",
    "\n",
    "![Linked account preview](https://cdn-images-1.medium.com/max/800/1*Nt0MAd8bqsr8Eo-3uhU1pQ.png)\n",
    "\n",
    "You can complete the rest of the steps on [requester.mturk.com/developer](https://requester.mturk.com/developer) at your convenience. For now will will proceed to setting up permissions to call a preview API through your AWS account.\n"
   ]
  },
  {
   "cell_type": "markdown",
   "metadata": {},
   "source": [
    "## Setting up permissions to call a preview API"
   ]
  },
  {
   "cell_type": "markdown",
   "metadata": {},
   "source": [
    "\n",
    "## Verify which Python version is installed\n",
    "\n",
    "Once you have your Requester account and AWS account linked, then you should check that you have the correct version of python installed.\n",
    "\n",
    "You should use Python 2.7+ or 3.6+ with our APIs. \n",
    "\n",
    "*Check which version of python and pip you have installed.*\n",
    "\n",
    "Install [Python 2.7 or 3.6](https://www.python.org/downloads/) and [pip](https://pip.pypa.io/en/stable/installing/) as needed.\n",
    "\n"
   ]
  },
  {
   "cell_type": "code",
   "execution_count": null,
   "metadata": {},
   "outputs": [],
   "source": [
    "!python --version"
   ]
  },
  {
   "cell_type": "code",
   "execution_count": null,
   "metadata": {},
   "outputs": [],
   "source": [
    "!pip --version"
   ]
  },
  {
   "cell_type": "markdown",
   "metadata": {},
   "source": [
    "## AWS Creditials \n",
    "Next you can Install [AWS Command Line Interface](https://aws.amazon.com/cli/) which will store your AWS creditials in a local file on your machine. \n",
    "\n",
    "You will use your AWS credentials to make MTurk API calls. __If you do not install AWS CLI, you'll need to enter them each time you you want to use a MTurk API.__ Use the [Boto 3 Documentation](http://boto3.readthedocs.io/en/latest/guide/configuration.html) guide to learn how to add aws creditials directly to your Python file or Notebook.\n"
   ]
  },
  {
   "cell_type": "markdown",
   "metadata": {},
   "source": [
    "### Configure AWS (optional)\n",
    "If you want to use the [AWS Command Line Interface](https://aws.amazon.com/cli/), first verify if it is already installed by entering:\n"
   ]
  },
  {
   "cell_type": "code",
   "execution_count": null,
   "metadata": {},
   "outputs": [],
   "source": [
    "!aws --version"
   ]
  },
  {
   "cell_type": "markdown",
   "metadata": {},
   "source": [
    "*To install AWS run:*"
   ]
  },
  {
   "cell_type": "raw",
   "metadata": {},
   "source": [
    "!pip install awscli --upgrade --user"
   ]
  },
  {
   "cell_type": "markdown",
   "metadata": {},
   "source": [
    "### Next set up your creditials (optional)\n",
    "\n",
    "Next we will create a new profile for these credentials. Enter the following:"
   ]
  },
  {
   "cell_type": "code",
   "execution_count": null,
   "metadata": {},
   "outputs": [],
   "source": [
    "!aws configure --profile mturk-crowd-caller"
   ]
  },
  {
   "cell_type": "markdown",
   "metadata": {},
   "source": [
    "When prompted enter you AWS Access Key ID and AWS Secret Access Key.\n",
    "\n",
    "In the previous guide we had you store these on your machine at `~/.aws/credential` or `C:\\Users\\USERNAME\\.aws\\credentials`\n",
    "\n",
    "If you do not have your Secret Access Key, generate new keys [for user mturk-crowd-caller](https://console.aws.amazon.com/iam/home?region=us-east-1#/users/mturk-crowd-caller?section=security_credentials) with the [following instructions](http://docs.aws.amazon.com/IAM/latest/UserGuide/id_credentials_access-keys.html#Using_CreateAccessKey).\n",
    "\n",
    "Default region name should be `“us-east-1”`\n",
    "\n",
    "Default output format should be `“json”`"
   ]
  },
  {
   "cell_type": "markdown",
   "metadata": {},
   "source": [
    "## Lastly Install [MTurk's Python client](https://medium.com/@mechanicalturk/instructions-for-calling-a-preview-api-620f572bedc4)\n",
    "\n",
    "After you set up your Amazon Mechanical Turk and AWS account and meet all the prerequisites, you are ready to call a Preview API using our thin Python client.\n",
    "\n",
    "First we will install the client which will install all dependencies like boto."
   ]
  },
  {
   "cell_type": "code",
   "execution_count": null,
   "metadata": {},
   "outputs": [],
   "source": [
    "!pip install --upgrade mturk-crowd-beta-client --ignore-installed six"
   ]
  },
  {
   "cell_type": "markdown",
   "metadata": {},
   "source": [
    "# Create your first task\n",
    "\n",
    "There are two versions of each preview API: prod and test.\n",
    "\n",
    "The prod version asks actual Amazon Mechanical Turk (MTurk) Workers to perform HITs and requires payment for Worker reward and MTurk fees (see our pricing information here).\n",
    "\n",
    "The test API doesn’t actually publish HITs to MTurk Workers. Thus, it does not require payment for Worker reward and MTurk fees. The test APIs are useful for validating that your accounts are set up correctly and for testing programmatic integration with the API. You can pass it any input and it will return a random result."
   ]
  },
  {
   "cell_type": "markdown",
   "metadata": {},
   "source": [
    "## Step 1: Build a test\n",
    "\n",
    "We’ll begin by calling the test version of a preview API to ensure your accounts and tools are all set up correctly.\n",
    "\n",
    "### Imports\n",
    "\n",
    "First we need to import the MTurkCrowdClient which we just installed, and Session from boto3 which allows us to make the API call. \n",
    "\n",
    "For this demo we also import uuid to allow us to create a unique task_name below."
   ]
  },
  {
   "cell_type": "code",
   "execution_count": 1,
   "metadata": {},
   "outputs": [],
   "source": [
    "from mturk_crowd_beta_client import MTurkCrowdClient\n",
    "import boto3\n",
    "from boto3.session import Session\n",
    "import uuid"
   ]
  },
  {
   "cell_type": "markdown",
   "metadata": {},
   "source": [
    "### Session\n",
    "Next we set up our session\n",
    "\n",
    "#### With AWS CLI: "
   ]
  },
  {
   "cell_type": "code",
   "execution_count": null,
   "metadata": {},
   "outputs": [],
   "source": [
    "session = Session(profile_name='mturk-crowd-caller')\n",
    "crowd_client = MTurkCrowdClient(session)"
   ]
  },
  {
   "cell_type": "markdown",
   "metadata": {},
   "source": [
    "#### Without AWS CLI installed:"
   ]
  },
  {
   "cell_type": "raw",
   "metadata": {},
   "source": [
    "session = boto3.Session(\n",
    "    # Hard coded strings as credentials, not recommended.\n",
    "    aws_access_key_id='EXAMPLE',\n",
    "    aws_secret_access_key='EXAMPLE'\n",
    ")\n",
    "crowd_client = MTurkCrowdClient(session)"
   ]
  },
  {
   "cell_type": "markdown",
   "metadata": {},
   "source": [
    "### Create your Task\n",
    "Now that we are set up, we will create a Task, which represents a single input and a corresponding result.\n",
    "\n",
    "__api_name__ is set to the API name. Here we added a `-test` which will not list the task on MTurk but will let us know if everything is formatted correctly and connects to the server. \n",
    "\n",
    "Remove the `-test` from the name when you are ready to use to call your api."
   ]
  },
  {
   "cell_type": "code",
   "execution_count": 3,
   "metadata": {},
   "outputs": [
    {
     "name": "stdout",
     "output_type": "stream",
     "text": [
      "PUT response: {'status_code': 201, 'task': {'input': {'text': 'Everything is wonderful.'}, 'problemDetails': None, 'result': None, 'state': 'processing', 'taskName': 'my-test-task-259b490a4fb047f9ba8a1552c70d8360'}}\n"
     ]
    }
   ],
   "source": [
    "api_name = 'sentiment-analysis-test'\n",
    "text = 'Everything is wonderful.'\n",
    "task_name = 'my-test-task-' + uuid.uuid4().hex\n",
    "put_result = crowd_client.put_task(function_name,\n",
    "                                   task_name,\n",
    "                                   {'text': text})\n",
    "print('PUT response: {}'.format(\n",
    "    {'status_code': put_result.status_code, 'task': put_result.json()}))\n"
   ]
  },
  {
   "cell_type": "code",
   "execution_count": null,
   "metadata": {},
   "outputs": [],
   "source": []
  },
  {
   "cell_type": "code",
   "execution_count": null,
   "metadata": {},
   "outputs": [],
   "source": []
  },
  {
   "cell_type": "code",
   "execution_count": 4,
   "metadata": {
    "scrolled": true
   },
   "outputs": [
    {
     "name": "stdout",
     "output_type": "stream",
     "text": [
      "GET response: {'status_code': 200, 'task': {'input': {'text': 'Everything is wonderful.'}, 'problemDetails': None, 'result': None, 'state': 'processing', 'taskName': 'my-test-task-259b490a4fb047f9ba8a1552c70d8360'}}\n"
     ]
    }
   ],
   "source": [
    "get_result = crowd_client.get_task(function_name, task_name)\n",
    "\n",
    "print('GET response: {}'.format(                     \n",
    "    {'status_code': get_result.status_code, 'task': get_result.json()}))"
   ]
  },
  {
   "cell_type": "code",
   "execution_count": null,
   "metadata": {},
   "outputs": [],
   "source": []
  }
 ],
 "metadata": {
  "kernelspec": {
   "display_name": "Python 3",
   "language": "python",
   "name": "python3"
  },
  "language_info": {
   "codemirror_mode": {
    "name": "ipython",
    "version": 3
   },
   "file_extension": ".py",
   "mimetype": "text/x-python",
   "name": "python",
   "nbconvert_exporter": "python",
   "pygments_lexer": "ipython3",
   "version": "3.6.3"
  }
 },
 "nbformat": 4,
 "nbformat_minor": 2
}
