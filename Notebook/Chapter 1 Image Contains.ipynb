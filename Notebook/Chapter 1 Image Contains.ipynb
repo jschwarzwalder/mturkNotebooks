{
 "cells": [
  {
   "cell_type": "markdown",
   "metadata": {},
   "source": [
    "# Image Contains API\n",
    "Training a computer vision model to detect people in images? Have petabytes of surveillance footage and want to know which frames  need to be inspected? These are just some of the common use cases for detecting whether images contain something.\n",
    "\n",
    "To build an effective machine learning model to recognize things in images requires a large amount of high quality training data. Customers have expressed they want to get training data using Amazon Mechanical Turk (MTurk) quickly and easily without having to be familiar with crowdsourcing, coding, or spending hours on experimentation. \n",
    "\n",
    "With this preview Image Contains API, we have greatly simplified the steps needed to get results from MTurk. The API takes as input an image URL and a type of thing, then returns true or false if that thing is in the image."
   ]
  },
  {
   "cell_type": "markdown",
   "metadata": {},
   "source": [
    "Input: `{\"image\": {\"url\": \"https://www.mturk.com/media/butterbean.jpg\"}, \"target\": {\"label\": \"dog\"} }`\n",
    "\n",
    "Result: `{\"containsTarget\": true}`"
   ]
  },
  {
   "cell_type": "markdown",
   "metadata": {},
   "source": [
    "The API implements an adjudication strategy based on Worker agreement and returns results only when it reaches confidence. MTurk has provided a Python client along with sample code so that customers can quickly get started, including examples on how to call the API for many inputs.\n",
    "\n",
    "Check out [Chapter 0 Getting Started](Chapter 0.ipynb) to configure your notebook. "
   ]
  },
  {
   "cell_type": "markdown",
   "metadata": {},
   "source": [
    "## First we will import the packages we need to use the API"
   ]
  },
  {
   "cell_type": "code",
   "execution_count": 2,
   "metadata": {},
   "outputs": [],
   "source": [
    "from mturk_crowd_beta_client import MTurkCrowdClient\n",
    "from boto3.session import Session\n",
    "import uuid"
   ]
  },
  {
   "cell_type": "markdown",
   "metadata": {},
   "source": [
    "## Next we set up a session\n",
    "\n",
    "This examples assume you have a local AWS profile called\n",
    " \n",
    "__'mturk-crowd-caller'__, but you can authenticate however you like,\n",
    " \n",
    "including by directly passing in your access key and secret key."
   ]
  },
  {
   "cell_type": "code",
   "execution_count": null,
   "metadata": {},
   "outputs": [],
   "source": [
    "session = Session(profile_name='mturk-crowd-caller')"
   ]
  },
  {
   "cell_type": "markdown",
   "metadata": {},
   "source": [
    "### Create the client Session\n"
   ]
  },
  {
   "cell_type": "code",
   "execution_count": 4,
   "metadata": {},
   "outputs": [
    {
     "ename": "NameError",
     "evalue": "name 'session' is not defined",
     "output_type": "error",
     "traceback": [
      "\u001b[1;31m---------------------------------------------------------------------------\u001b[0m",
      "\u001b[1;31mNameError\u001b[0m                                 Traceback (most recent call last)",
      "\u001b[1;32m<ipython-input-4-55521eaff899>\u001b[0m in \u001b[0;36m<module>\u001b[1;34m()\u001b[0m\n\u001b[1;32m----> 1\u001b[1;33m \u001b[0mcrowd_client\u001b[0m \u001b[1;33m=\u001b[0m \u001b[0mMTurkCrowdClient\u001b[0m\u001b[1;33m(\u001b[0m\u001b[0msession\u001b[0m\u001b[1;33m)\u001b[0m\u001b[1;33m\u001b[0m\u001b[0m\n\u001b[0m",
      "\u001b[1;31mNameError\u001b[0m: name 'session' is not defined"
     ]
    }
   ],
   "source": [
    "crowd_client = MTurkCrowdClient(session)"
   ]
  },
  {
   "cell_type": "markdown",
   "metadata": {},
   "source": [
    "## Create a task_name\n",
    "\n",
    "For this example, we'll give our task a random, unique name. \n",
    "\n",
    "However you probably want to pick a name based on your input source when you use in production"
   ]
  },
  {
   "cell_type": "code",
   "execution_count": 5,
   "metadata": {},
   "outputs": [],
   "source": [
    "task_name = 'my-test-task-' + uuid.uuid4().hex"
   ]
  },
  {
   "cell_type": "markdown",
   "metadata": {},
   "source": [
    "## Identify the api you will use\n",
    "\n",
    "\n",
    "Next, we specify the name of the api to call"
   ]
  },
  {
   "cell_type": "code",
   "execution_count": 6,
   "metadata": {},
   "outputs": [],
   "source": [
    "function_name = 'image-contains'"
   ]
  },
  {
   "cell_type": "markdown",
   "metadata": {},
   "source": [
    "## Speficy Input\n",
    "\n",
    "The Image Contains API takes as input an image url and a text label. Here we will assign them to a variable to make it eaiser to see how to call the api.\n",
    "\n",
    "```\n",
    "\"input\": {\n",
    "    \"image\": {\"url\": \"<image you want analyzed>\"},\n",
    "    \"target\": {\"label\": \"<the type of thing you're looking for>\"}\n",
    "  }\n",
    "  ```\n",
    "\n",
    "### The image we want labeled"
   ]
  },
  {
   "cell_type": "code",
   "execution_count": 7,
   "metadata": {},
   "outputs": [],
   "source": [
    "image_url = 'https://www.mturk.com/media/butterbean.jpg'"
   ]
  },
  {
   "cell_type": "markdown",
   "metadata": {},
   "source": [
    "### The type of thing we're looking for"
   ]
  },
  {
   "cell_type": "code",
   "execution_count": 8,
   "metadata": {},
   "outputs": [],
   "source": [
    "label = 'dog'"
   ]
  },
  {
   "cell_type": "markdown",
   "metadata": {},
   "source": [
    "## Create the task and print it out so you can see it.\n",
    "\n",
    "Tasks are created by calling PUT. You will need to pass in the api name as function_name, unique task name, and input. \n",
    "\n",
    "Below we've assembled the put_task for you and printed out the response. \n",
    "\n",
    "__status code__ should be 200 if successful. \n",
    "\n",
    "__task__ will display your input, taskName, problemDetails, state, and result.   "
   ]
  },
  {
   "cell_type": "markdown",
   "metadata": {},
   "source": [
    "*__Note:__ Runing this will send your task to actual MTurk Workers, so If you didn’t prepay for HITs in your MTurk Requester account during account setup, you’ll get an InsufficientFunds error from the prod API.*\n",
    "\n",
    "Please visit [this page](https://requester.mturk.com/prepayments/new) to prepay in your MTurk account. There’s a $1 minimum. \n",
    "\n",
    "For more details on pricing, go to [Paying for Work from a Preview API](https://medium.com/@mechanicalturk/paying-for-work-from-preview-api-481ab24da26d)"
   ]
  },
  {
   "cell_type": "code",
   "execution_count": null,
   "metadata": {},
   "outputs": [],
   "source": [
    "put_result = crowd_client.put_task(function_name,task_name,{'image': {'url': image_url}, 'target': {'label': label} })\n",
    "\n",
    "print('PUT response: {}'.format(\n",
    "    {'status_code': put_result.status_code, 'task': put_result.json()}))\n",
    "        \n"
   ]
  },
  {
   "cell_type": "markdown",
   "metadata": {},
   "source": [
    "*Alternativly if you want to call it all in one line you can write your api call like this:*"
   ]
  },
  {
   "cell_type": "code",
   "execution_count": null,
   "metadata": {},
   "outputs": [],
   "source": [
    "client.put_task('image-contains', 'my-task-name', {'image': {'url': 'https://www.mturk.com/media/butterbean.jpg'}, 'target': {'label': 'dog'})"
   ]
  },
  {
   "cell_type": "markdown",
   "metadata": {},
   "source": [
    "## Retrive Results\n",
    "\n",
    "After creating a task, users can call the GET operation to poll its current state. For more details about PUT or GET, check out [Instructions for calling a Preview API](https://medium.com/@mechanicalturk/instructions-for-calling-a-preview-api-620f572bedc4#3753) \n",
    "\n",
    "Get the task we just created. Note that since this is a prod (i.e., non-test) task, we'll have to poll periodically until the task completed.\n",
    "\n",
    "When the task is still in progress, we'll see 'state': 'processing' in the response.\n",
    "\n",
    "If successfull __status_code__ will return as 201.\n",
    "\n",
    "Once Workers have completed the task, you will see a result like ` \"containsTarget\": true`"
   ]
  },
  {
   "cell_type": "code",
   "execution_count": null,
   "metadata": {},
   "outputs": [],
   "source": [
    "get_result = crowd_client.get_task(function_name, task_name)\n",
    "\n",
    "print('GET response: {}'.format(\n",
    "{'status_code': get_result.status_code, 'task': get_result.json()}))"
   ]
  },
  {
   "cell_type": "markdown",
   "metadata": {},
   "source": [
    "## Delete a Task\n",
    "\n",
    "A user can optionally delete a finished task (one whose state is either “completed” or “failed”). Note: Deleting a task that is still being processed (i.e., whose state is “processing”) is not allowed."
   ]
  },
  {
   "cell_type": "code",
   "execution_count": null,
   "metadata": {},
   "outputs": [],
   "source": [
    "client.delete_task('image-contains', 'my-task-name')"
   ]
  },
  {
   "cell_type": "markdown",
   "metadata": {},
   "source": [
    "## Additional Support\n",
    "If you have any questions or feedback, such as methods you wish our client supported, [please contact our product team](mailto:mturk-requester-preview@amazon.com), chat with us in our [Slack channel](https://amzn-mturk.slack.com/) by joining via [this link](https://amzn-mturk.slack.com/join/shared_invite/MjM4MzczOTI5MDQ3LTE1MDQ3MzU0MTItMzhlMTg2OWRhNA), or submit a pull request [on GitHub](https://github.com/awslabs/mturk-crowd-beta-client-python) adding additional functionality to our client."
   ]
  }
 ],
 "metadata": {
  "kernelspec": {
   "display_name": "Python 2",
   "language": "python",
   "name": "python2"
  },
  "language_info": {
   "codemirror_mode": {
    "name": "ipython",
    "version": 2
   },
   "file_extension": ".py",
   "mimetype": "text/x-python",
   "name": "python",
   "nbconvert_exporter": "python",
   "pygments_lexer": "ipython2",
   "version": "2.7.14"
  }
 },
 "nbformat": 4,
 "nbformat_minor": 2
}
